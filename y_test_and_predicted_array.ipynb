{
 "cells": [
  {
   "cell_type": "code",
   "execution_count": 21,
   "metadata": {},
   "outputs": [],
   "source": [
    "import numpy as np\n",
    "import pandas as pd\n",
    "from matplotlib import pyplot as plt\n",
    "import os.path as op\n",
    "import pickle"
   ]
  },
  {
   "cell_type": "code",
   "execution_count": 28,
   "metadata": {},
   "outputs": [
    {
     "name": "stdout",
     "output_type": "stream",
     "text": [
      "[[1.50000e+02 1.90401e+05 7.25000e+02 2.75500e+01 8.03900e+01]\n",
      " [1.50000e+02 1.90401e+05 8.25000e+02 2.75600e+01 8.03300e+01]\n",
      " [1.50000e+02 1.90401e+05 9.25000e+02 2.75800e+01 8.02400e+01]\n",
      " ...\n",
      " [6.10000e+01 1.91020e+05 1.94532e+05 2.93700e+01 7.52100e+01]\n",
      " [6.10000e+01 1.91020e+05 1.94632e+05 2.93500e+01 7.52700e+01]\n",
      " [6.10000e+01 1.91020e+05 1.94732e+05 2.93400e+01 7.53000e+01]]\n",
      "[[ 28.     3.   -52.   ...  16.97  19.63  20.06]\n",
      " [ 28.    15.   -53.   ...  16.63  19.57  23.06]\n",
      " [ 31.    16.   -55.   ...  17.24  19.98  20.24]\n",
      " ...\n",
      " [ 76.    12.   -76.   ...   3.47   3.95   4.35]\n",
      " [ 75.    13.   -76.   ...   3.88   4.33   4.42]\n",
      " [ 76.    12.   -75.   ...   3.46   4.07   4.28]]\n"
     ]
    }
   ],
   "source": [
    "A1=np.empty((0,5),dtype='float32')\n",
    "U1=np.empty((0,7),dtype='float32')\n",
    "node=['150','149','147','144','142','140','136','61']\n",
    "mon=['Apr','Mar','Aug','Jun','Jul','Sep','May','Oct']\n",
    "for j in node:\n",
    "  for i in mon:\n",
    "    inp= pd.read_csv('data_gkv/AT510_Node_'+str(j)+'_'+str(i)+'19_OutputFile.csv',usecols=[1,2,3,15,16],low_memory=False)\n",
    "    out= pd.read_csv('data_gkv/AT510_Node_'+str(j)+'_'+str(i)+'19_OutputFile.csv',usecols=[5,6,7,8,17,18,19],low_memory=False)\n",
    "    \n",
    "    inp=np.array(inp,dtype='float32')\n",
    "    out=np.array(out,dtype='float32')\n",
    "    \n",
    "    A1=np.append(A1, inp, axis=0)\n",
    "    U1=np.append(U1, out, axis=0)\n",
    "\n",
    "print(A1)\n",
    "print(U1)\n"
   ]
  },
  {
   "cell_type": "code",
   "execution_count": 23,
   "metadata": {},
   "outputs": [],
   "source": [
    "from sklearn.preprocessing import MinMaxScaler\n",
    "import warnings\n",
    "scaler_obj=MinMaxScaler()\n",
    "X1=scaler_obj.fit_transform(A1)\n",
    "Y1=scaler_obj.fit_transform(U1)\n",
    "\n",
    "warnings.filterwarnings(action='ignore', category=UserWarning)"
   ]
  },
  {
   "cell_type": "code",
   "execution_count": 24,
   "metadata": {},
   "outputs": [],
   "source": [
    "from sklearn.model_selection import train_test_split\n",
    "x_train,x_test,y_train,y_test=train_test_split(X1,Y1,test_size=0.25,random_state=0)"
   ]
  },
  {
   "cell_type": "code",
   "execution_count": 14,
   "metadata": {},
   "outputs": [
    {
     "data": {
      "text/plain": [
       "array([[0.00011353, 0.0655373 , 0.00011727, ..., 0.01924863, 0.01232052,\n",
       "        0.00434154],\n",
       "       [0.00011353, 0.0655373 , 0.00011727, ..., 0.01924863, 0.01232052,\n",
       "        0.00434154],\n",
       "       [0.00011353, 0.0655373 , 0.00011727, ..., 0.01924863, 0.01232052,\n",
       "        0.00434154],\n",
       "       ...,\n",
       "       [0.00011353, 0.0655373 , 0.00011727, ..., 0.01924863, 0.01232052,\n",
       "        0.00434154],\n",
       "       [0.00011353, 0.0655373 , 0.00011727, ..., 0.01924863, 0.01232052,\n",
       "        0.00434154],\n",
       "       [0.00011353, 0.0655373 , 0.00011727, ..., 0.01924863, 0.01232052,\n",
       "        0.00434154]], dtype=float32)"
      ]
     },
     "execution_count": 14,
     "metadata": {},
     "output_type": "execute_result"
    }
   ],
   "source": [
    "import pickle\n",
    "loaded_model_fit7 = pickle.load(open(\"Models_File/lasso.sav\", 'rb'))\n",
    "y_test_pred=loaded_model_fit7.predict(x_test)\n",
    "y_test_pred"
   ]
  },
  {
   "cell_type": "code",
   "execution_count": 16,
   "metadata": {},
   "outputs": [],
   "source": [
    "from numpy import savetxt\n",
    "savetxt('ARRAY_DATA/lasso_y_test_pred.csv', y_test_pred[:1001], delimiter=',')"
   ]
  },
  {
   "cell_type": "code",
   "execution_count": 7,
   "metadata": {},
   "outputs": [
    {
     "data": {
      "text/plain": [
       "array([[0.00010812, 0.06553657, 0.0001368 , ..., 0.00465421, 0.0032433 ,\n",
       "        0.00139601],\n",
       "       [0.00011141, 0.06553698, 0.0001189 , ..., 0.00947999, 0.00574444,\n",
       "        0.00183423],\n",
       "       [0.00011193, 0.0655366 , 0.0001198 , ..., 0.03056333, 0.01916761,\n",
       "        0.00634215],\n",
       "       ...,\n",
       "       [0.00011604, 0.06553669, 0.00010876, ..., 0.00435393, 0.00298617,\n",
       "        0.00102436],\n",
       "       [0.0001126 , 0.06553665, 0.00011905, ..., 0.01626827, 0.01013897,\n",
       "        0.00530485],\n",
       "       [0.00010864, 0.06553695, 0.00012487, ..., 0.00378556, 0.00242517,\n",
       "        0.00079138]])"
      ]
     },
     "execution_count": 7,
     "metadata": {},
     "output_type": "execute_result"
    }
   ],
   "source": [
    "from numpy import loadtxt\n",
    "data = loadtxt('ARRAY_DATA/linearregression_y_test.csv', delimiter=',')\n",
    "data"
   ]
  },
  {
   "cell_type": "code",
   "execution_count": 17,
   "metadata": {},
   "outputs": [],
   "source": [
    "import tensorflow as tf\n",
    "from tensorflow import keras\n",
    "from keras.models import Model,Sequential,load_model\n",
    "from keras.layers import Input, Embedding\n",
    "from keras.layers import Dense, Bidirectional\n",
    "from keras.layers.recurrent import LSTM\n",
    "import keras.metrics as metrics\n",
    "import itertools\n",
    "from tensorflow.python.keras.utils.data_utils import Sequence\n",
    "from decimal import Decimal\n",
    "from keras import backend as K\n",
    "from keras.layers import Conv1D,MaxPooling1D,Flatten,Dense"
   ]
  },
  {
   "cell_type": "code",
   "execution_count": 19,
   "metadata": {},
   "outputs": [],
   "source": [
    "def rmse(y_true, y_pred):\n",
    "    return K.sqrt(K.mean(K.square(y_pred - y_true), axis=-1))\n",
    "\n",
    "def coeff_determination(y_true, y_pred):\n",
    "    SS_res =  K.sum(K.square( y_true-y_pred )) \n",
    "    SS_tot = K.sum(K.square( y_true - K.mean(y_true) ) ) \n",
    "    return ( 1 - SS_res/(SS_tot + K.epsilon()) )"
   ]
  },
  {
   "cell_type": "code",
   "execution_count": 29,
   "metadata": {},
   "outputs": [],
   "source": [
    "from sklearn.preprocessing import MinMaxScaler\n",
    "import warnings\n",
    "scaler_obj=MinMaxScaler()\n",
    "X1=scaler_obj.fit_transform(A1)\n",
    "Y1=scaler_obj.fit_transform(U1)\n",
    "\n",
    "warnings.filterwarnings(action='ignore', category=UserWarning)\n",
    "\n",
    "X1=X1[:,np.newaxis,:]\n",
    "Y1=Y1[:,np.newaxis,:]"
   ]
  },
  {
   "cell_type": "code",
   "execution_count": 30,
   "metadata": {},
   "outputs": [],
   "source": [
    "from sklearn.model_selection import train_test_split\n",
    "x_train,x_test,y_train,y_test=train_test_split(X1,Y1,test_size=0.25,random_state=0)"
   ]
  },
  {
   "cell_type": "code",
   "execution_count": 31,
   "metadata": {},
   "outputs": [
    {
     "name": "stdout",
     "output_type": "stream",
     "text": [
      "Loaded model from disk\n",
      "[0.05459873378276825, 0.021211879327893257, 0.05459883436560631, 0.05130419135093689, 0.12297993898391724, -2921.440185546875]\n"
     ]
    }
   ],
   "source": [
    "from keras.models import model_from_json\n",
    "json_file = open('lstm.json', 'r')\n",
    "loaded_model_json = json_file.read()\n",
    "json_file.close()\n",
    "loaded_model = model_from_json(loaded_model_json)\n",
    "# load weights into new model\n",
    "loaded_model.load_weights(\"lstm.h5\")\n",
    "print(\"Loaded model from disk\")\n",
    "loaded_model.compile(optimizer=keras.optimizers.Adam(learning_rate=0.001), loss='mse',metrics=['accuracy','mse','mae',rmse,coeff_determination])\n",
    "print(loaded_model.evaluate(x_train, y_train, verbose=0))"
   ]
  },
  {
   "cell_type": "code",
   "execution_count": 32,
   "metadata": {},
   "outputs": [
    {
     "data": {
      "text/plain": [
       "array([[0.        , 0.        , 0.        , ..., 0.0356515 , 0.0092808 ,\n",
       "        0.        ],\n",
       "       [0.        , 0.        , 0.        , ..., 0.0199545 , 0.02016377,\n",
       "        0.        ],\n",
       "       [0.        , 0.        , 0.        , ..., 0.02104074, 0.02649951,\n",
       "        0.        ],\n",
       "       ...,\n",
       "       [0.        , 0.        , 0.        , ..., 0.01814228, 0.02314901,\n",
       "        0.        ],\n",
       "       [0.        , 0.        , 0.        , ..., 0.01899886, 0.01032138,\n",
       "        0.        ],\n",
       "       [0.        , 0.        , 0.        , ..., 0.01395327, 0.02754343,\n",
       "        0.        ]], dtype=float32)"
      ]
     },
     "execution_count": 32,
     "metadata": {},
     "output_type": "execute_result"
    }
   ],
   "source": [
    "y_test_pred=loaded_model.predict(x_test)\n",
    "y_test_pred"
   ]
  },
  {
   "cell_type": "code",
   "execution_count": 48,
   "metadata": {},
   "outputs": [
    {
     "data": {
      "text/plain": [
       "array([[[0.00010812, 0.06553657, 0.0001368 , ..., 0.00465421,\n",
       "         0.0032433 , 0.00139601]],\n",
       "\n",
       "       [[0.00011141, 0.06553698, 0.0001189 , ..., 0.00947999,\n",
       "         0.00574444, 0.00183423]],\n",
       "\n",
       "       [[0.00011193, 0.0655366 , 0.0001198 , ..., 0.03056333,\n",
       "         0.01916761, 0.00634215]],\n",
       "\n",
       "       ...,\n",
       "\n",
       "       [[0.0001126 , 0.06553672, 0.00011279, ..., 0.01996804,\n",
       "         0.01252907, 0.00401423]],\n",
       "\n",
       "       [[0.00011253, 0.06553655, 0.00012397, ..., 0.03575373,\n",
       "         0.02222976, 0.00729255]],\n",
       "\n",
       "       [[0.000112  , 0.06553673, 0.00011786, ..., 0.00466493,\n",
       "         0.00372249, 0.0052013 ]]], dtype=float32)"
      ]
     },
     "execution_count": 48,
     "metadata": {},
     "output_type": "execute_result"
    }
   ],
   "source": [
    "y_test"
   ]
  },
  {
   "cell_type": "code",
   "execution_count": 51,
   "metadata": {},
   "outputs": [],
   "source": [
    "y_test=y_test[:,0]"
   ]
  },
  {
   "cell_type": "code",
   "execution_count": 52,
   "metadata": {},
   "outputs": [],
   "source": [
    "from numpy import savetxt\n",
    "savetxt('ARRAY_DATA/lstm_y_test.csv', y_test[:1001], delimiter=',')"
   ]
  },
  {
   "cell_type": "code",
   "execution_count": 15,
   "metadata": {},
   "outputs": [
    {
     "data": {
      "text/plain": [
       "['Y_Actual',\n",
       " 'Y_Actual',\n",
       " 'Y_Actual',\n",
       " 'Y_Actual',\n",
       " 'Y_Actual',\n",
       " 'Y_Actual',\n",
       " 'Y_Actual',\n",
       " 'Y_Actual',\n",
       " 'Y_Actual',\n",
       " 'Y_Actual']"
      ]
     },
     "execution_count": 15,
     "metadata": {},
     "output_type": "execute_result"
    }
   ],
   "source": [
    "t=['Y_Actual']*10\n",
    "t"
   ]
  },
  {
   "cell_type": "code",
   "execution_count": 76,
   "metadata": {},
   "outputs": [
    {
     "data": {
      "text/html": [
       "<div>\n",
       "<style scoped>\n",
       "    .dataframe tbody tr th:only-of-type {\n",
       "        vertical-align: middle;\n",
       "    }\n",
       "\n",
       "    .dataframe tbody tr th {\n",
       "        vertical-align: top;\n",
       "    }\n",
       "\n",
       "    .dataframe thead th {\n",
       "        text-align: right;\n",
       "    }\n",
       "</style>\n",
       "<table border=\"1\" class=\"dataframe\">\n",
       "  <thead>\n",
       "    <tr style=\"text-align: right;\">\n",
       "      <th></th>\n",
       "      <th>Data</th>\n",
       "      <th>y</th>\n",
       "      <th>x</th>\n",
       "    </tr>\n",
       "  </thead>\n",
       "  <tbody>\n",
       "    <tr>\n",
       "      <th>1</th>\n",
       "      <td>Y_Actual</td>\n",
       "      <td>0.000108116</td>\n",
       "      <td>1</td>\n",
       "    </tr>\n",
       "    <tr>\n",
       "      <th>2</th>\n",
       "      <td>Y_Actual</td>\n",
       "      <td>0.000111406</td>\n",
       "      <td>2</td>\n",
       "    </tr>\n",
       "    <tr>\n",
       "      <th>3</th>\n",
       "      <td>Y_Actual</td>\n",
       "      <td>0.000111929</td>\n",
       "      <td>3</td>\n",
       "    </tr>\n",
       "    <tr>\n",
       "      <th>4</th>\n",
       "      <td>Y_Actual</td>\n",
       "      <td>0.000116041</td>\n",
       "      <td>4</td>\n",
       "    </tr>\n",
       "    <tr>\n",
       "      <th>5</th>\n",
       "      <td>Y_Actual</td>\n",
       "      <td>0.000111181</td>\n",
       "      <td>5</td>\n",
       "    </tr>\n",
       "    <tr>\n",
       "      <th>6</th>\n",
       "      <td>Y_Actual</td>\n",
       "      <td>0.000109536</td>\n",
       "      <td>6</td>\n",
       "    </tr>\n",
       "    <tr>\n",
       "      <th>7</th>\n",
       "      <td>Y_Actual</td>\n",
       "      <td>0.000112378</td>\n",
       "      <td>7</td>\n",
       "    </tr>\n",
       "    <tr>\n",
       "      <th>8</th>\n",
       "      <td>Y_Actual</td>\n",
       "      <td>0.000108938</td>\n",
       "      <td>8</td>\n",
       "    </tr>\n",
       "    <tr>\n",
       "      <th>9</th>\n",
       "      <td>Y_Actual</td>\n",
       "      <td>0.000112751</td>\n",
       "      <td>9</td>\n",
       "    </tr>\n",
       "    <tr>\n",
       "      <th>10</th>\n",
       "      <td>Y_Actual</td>\n",
       "      <td>0.000112751</td>\n",
       "      <td>10</td>\n",
       "    </tr>\n",
       "    <tr>\n",
       "      <th>11</th>\n",
       "      <td>Y_Predicted</td>\n",
       "      <td>0.000109476</td>\n",
       "      <td>1</td>\n",
       "    </tr>\n",
       "    <tr>\n",
       "      <th>12</th>\n",
       "      <td>Y_Predicted</td>\n",
       "      <td>0.000110387</td>\n",
       "      <td>2</td>\n",
       "    </tr>\n",
       "    <tr>\n",
       "      <th>13</th>\n",
       "      <td>Y_Predicted</td>\n",
       "      <td>0.000111731</td>\n",
       "      <td>3</td>\n",
       "    </tr>\n",
       "    <tr>\n",
       "      <th>14</th>\n",
       "      <td>Y_Predicted</td>\n",
       "      <td>0.000116118</td>\n",
       "      <td>4</td>\n",
       "    </tr>\n",
       "    <tr>\n",
       "      <th>15</th>\n",
       "      <td>Y_Predicted</td>\n",
       "      <td>0.000110644</td>\n",
       "      <td>5</td>\n",
       "    </tr>\n",
       "    <tr>\n",
       "      <th>16</th>\n",
       "      <td>Y_Predicted</td>\n",
       "      <td>0.000110465</td>\n",
       "      <td>6</td>\n",
       "    </tr>\n",
       "    <tr>\n",
       "      <th>17</th>\n",
       "      <td>Y_Predicted</td>\n",
       "      <td>0.000113744</td>\n",
       "      <td>7</td>\n",
       "    </tr>\n",
       "    <tr>\n",
       "      <th>18</th>\n",
       "      <td>Y_Predicted</td>\n",
       "      <td>0.000110292</td>\n",
       "      <td>8</td>\n",
       "    </tr>\n",
       "    <tr>\n",
       "      <th>19</th>\n",
       "      <td>Y_Predicted</td>\n",
       "      <td>0.000113353</td>\n",
       "      <td>9</td>\n",
       "    </tr>\n",
       "    <tr>\n",
       "      <th>20</th>\n",
       "      <td>Y_Predicted</td>\n",
       "      <td>0.000113415</td>\n",
       "      <td>10</td>\n",
       "    </tr>\n",
       "  </tbody>\n",
       "</table>\n",
       "</div>"
      ],
      "text/plain": [
       "           Data            y   x\n",
       "1      Y_Actual  0.000108116   1\n",
       "2      Y_Actual  0.000111406   2\n",
       "3      Y_Actual  0.000111929   3\n",
       "4      Y_Actual  0.000116041   4\n",
       "5      Y_Actual  0.000111181   5\n",
       "6      Y_Actual  0.000109536   6\n",
       "7      Y_Actual  0.000112378   7\n",
       "8      Y_Actual  0.000108938   8\n",
       "9      Y_Actual  0.000112751   9\n",
       "10     Y_Actual  0.000112751  10\n",
       "11  Y_Predicted  0.000109476   1\n",
       "12  Y_Predicted  0.000110387   2\n",
       "13  Y_Predicted  0.000111731   3\n",
       "14  Y_Predicted  0.000116118   4\n",
       "15  Y_Predicted  0.000110644   5\n",
       "16  Y_Predicted  0.000110465   6\n",
       "17  Y_Predicted  0.000113744   7\n",
       "18  Y_Predicted  0.000110292   8\n",
       "19  Y_Predicted  0.000113353   9\n",
       "20  Y_Predicted  0.000113415  10"
      ]
     },
     "execution_count": 76,
     "metadata": {},
     "output_type": "execute_result"
    }
   ],
   "source": [
    "l1=list()\n",
    "l1.append(['Y_Actual']*10)\n",
    "l1.append(np.round(y_test[:10,0],9))\n",
    "temp1=np.array(l1).transpose()\n",
    "x1=list(range(1,11))\n",
    "\n",
    "chart_data1 = pd.DataFrame(temp1, x1,columns=['Data','y'])\n",
    "\n",
    "l2=list()\n",
    "l2.append(['Y_Predicted']*10)\n",
    "l2.append(np.round(y_test_pred[:10,0],9))\n",
    "temp2=np.array(l2).transpose()\n",
    "x2=list(range(11,21))\n",
    "\n",
    "chart_data2 = pd.DataFrame(temp2, x2,columns=['Data','y'])\n",
    "\n",
    "frames=[chart_data1,chart_data2]\n",
    "\n",
    "results=pd.concat(frames)\n",
    "results['x']=np.tile(np.arange(1,11,1),2)\n",
    "results"
   ]
  },
  {
   "cell_type": "code",
   "execution_count": 77,
   "metadata": {},
   "outputs": [
    {
     "name": "stderr",
     "output_type": "stream",
     "text": [
      "C:\\Users\\ritik\\AppData\\Local\\Temp/ipykernel_9580/3459456130.py:1: FutureWarning: This dataframe has a column name that matches the 'value_name' column name of the resulting Dataframe. In the future this will raise an error, please set the 'value_name' parameter of DataFrame.melt to a unique name.\n",
      "  source = results.reset_index().melt('x', var_name='category', value_name='y')\n"
     ]
    },
    {
     "data": {
      "text/html": [
       "\n",
       "<div id=\"altair-viz-425061830d774f7eaf2d79d2417e3808\"></div>\n",
       "<script type=\"text/javascript\">\n",
       "  (function(spec, embedOpt){\n",
       "    let outputDiv = document.currentScript.previousElementSibling;\n",
       "    if (outputDiv.id !== \"altair-viz-425061830d774f7eaf2d79d2417e3808\") {\n",
       "      outputDiv = document.getElementById(\"altair-viz-425061830d774f7eaf2d79d2417e3808\");\n",
       "    }\n",
       "    const paths = {\n",
       "      \"vega\": \"https://cdn.jsdelivr.net/npm//vega@5?noext\",\n",
       "      \"vega-lib\": \"https://cdn.jsdelivr.net/npm//vega-lib?noext\",\n",
       "      \"vega-lite\": \"https://cdn.jsdelivr.net/npm//vega-lite@4.8.1?noext\",\n",
       "      \"vega-embed\": \"https://cdn.jsdelivr.net/npm//vega-embed@6?noext\",\n",
       "    };\n",
       "\n",
       "    function loadScript(lib) {\n",
       "      return new Promise(function(resolve, reject) {\n",
       "        var s = document.createElement('script');\n",
       "        s.src = paths[lib];\n",
       "        s.async = true;\n",
       "        s.onload = () => resolve(paths[lib]);\n",
       "        s.onerror = () => reject(`Error loading script: ${paths[lib]}`);\n",
       "        document.getElementsByTagName(\"head\")[0].appendChild(s);\n",
       "      });\n",
       "    }\n",
       "\n",
       "    function showError(err) {\n",
       "      outputDiv.innerHTML = `<div class=\"error\" style=\"color:red;\">${err}</div>`;\n",
       "      throw err;\n",
       "    }\n",
       "\n",
       "    function displayChart(vegaEmbed) {\n",
       "      vegaEmbed(outputDiv, spec, embedOpt)\n",
       "        .catch(err => showError(`Javascript Error: ${err.message}<br>This usually means there's a typo in your chart specification. See the javascript console for the full traceback.`));\n",
       "    }\n",
       "\n",
       "    if(typeof define === \"function\" && define.amd) {\n",
       "      requirejs.config({paths});\n",
       "      require([\"vega-embed\"], displayChart, err => showError(`Error loading script: ${err.message}`));\n",
       "    } else if (typeof vegaEmbed === \"function\") {\n",
       "      displayChart(vegaEmbed);\n",
       "    } else {\n",
       "      loadScript(\"vega\")\n",
       "        .then(() => loadScript(\"vega-lite\"))\n",
       "        .then(() => loadScript(\"vega-embed\"))\n",
       "        .catch(showError)\n",
       "        .then(() => displayChart(vegaEmbed));\n",
       "    }\n",
       "  })({\"config\": {\"view\": {\"continuousWidth\": 400, \"continuousHeight\": 300}}, \"layer\": [{\"mark\": {\"type\": \"line\", \"interpolate\": \"basis\"}, \"encoding\": {\"color\": {\"type\": \"nominal\", \"field\": \"category\"}, \"x\": {\"type\": \"quantitative\", \"field\": \"x\"}, \"y\": {\"type\": \"quantitative\", \"field\": \"y\"}}}, {\"mark\": \"point\", \"encoding\": {\"opacity\": {\"value\": 0}, \"x\": {\"type\": \"quantitative\", \"field\": \"x\"}}, \"selection\": {\"selector013\": {\"type\": \"single\", \"nearest\": true, \"on\": \"mouseover\", \"fields\": [\"x\"], \"empty\": \"none\"}}}, {\"mark\": \"point\", \"encoding\": {\"color\": {\"type\": \"nominal\", \"field\": \"category\"}, \"opacity\": {\"condition\": {\"value\": 1, \"selection\": \"selector013\"}, \"value\": 0}, \"x\": {\"type\": \"quantitative\", \"field\": \"x\"}, \"y\": {\"type\": \"quantitative\", \"field\": \"y\"}}}, {\"mark\": {\"type\": \"rule\", \"color\": \"gray\"}, \"encoding\": {\"x\": {\"type\": \"quantitative\", \"field\": \"x\"}}, \"transform\": [{\"filter\": {\"selection\": \"selector013\"}}]}, {\"mark\": {\"type\": \"text\", \"align\": \"left\", \"dx\": 5, \"dy\": -5}, \"encoding\": {\"color\": {\"type\": \"nominal\", \"field\": \"category\"}, \"text\": {\"condition\": {\"type\": \"quantitative\", \"field\": \"y\", \"selection\": \"selector013\"}, \"value\": \" \"}, \"x\": {\"type\": \"quantitative\", \"field\": \"x\"}, \"y\": {\"type\": \"quantitative\", \"field\": \"y\"}}}], \"data\": {\"name\": \"data-a66459fc76ac74cfc0e141e5072759e9\"}, \"height\": 300, \"width\": 600, \"$schema\": \"https://vega.github.io/schema/vega-lite/v4.8.1.json\", \"datasets\": {\"data-a66459fc76ac74cfc0e141e5072759e9\": [{\"x\": 1, \"category\": \"index\", \"y\": 1}, {\"x\": 2, \"category\": \"index\", \"y\": 2}, {\"x\": 3, \"category\": \"index\", \"y\": 3}, {\"x\": 4, \"category\": \"index\", \"y\": 4}, {\"x\": 5, \"category\": \"index\", \"y\": 5}, {\"x\": 6, \"category\": \"index\", \"y\": 6}, {\"x\": 7, \"category\": \"index\", \"y\": 7}, {\"x\": 8, \"category\": \"index\", \"y\": 8}, {\"x\": 9, \"category\": \"index\", \"y\": 9}, {\"x\": 10, \"category\": \"index\", \"y\": 10}, {\"x\": 1, \"category\": \"index\", \"y\": 11}, {\"x\": 2, \"category\": \"index\", \"y\": 12}, {\"x\": 3, \"category\": \"index\", \"y\": 13}, {\"x\": 4, \"category\": \"index\", \"y\": 14}, {\"x\": 5, \"category\": \"index\", \"y\": 15}, {\"x\": 6, \"category\": \"index\", \"y\": 16}, {\"x\": 7, \"category\": \"index\", \"y\": 17}, {\"x\": 8, \"category\": \"index\", \"y\": 18}, {\"x\": 9, \"category\": \"index\", \"y\": 19}, {\"x\": 10, \"category\": \"index\", \"y\": 20}, {\"x\": 1, \"category\": \"Data\", \"y\": \"Y_Actual\"}, {\"x\": 2, \"category\": \"Data\", \"y\": \"Y_Actual\"}, {\"x\": 3, \"category\": \"Data\", \"y\": \"Y_Actual\"}, {\"x\": 4, \"category\": \"Data\", \"y\": \"Y_Actual\"}, {\"x\": 5, \"category\": \"Data\", \"y\": \"Y_Actual\"}, {\"x\": 6, \"category\": \"Data\", \"y\": \"Y_Actual\"}, {\"x\": 7, \"category\": \"Data\", \"y\": \"Y_Actual\"}, {\"x\": 8, \"category\": \"Data\", \"y\": \"Y_Actual\"}, {\"x\": 9, \"category\": \"Data\", \"y\": \"Y_Actual\"}, {\"x\": 10, \"category\": \"Data\", \"y\": \"Y_Actual\"}, {\"x\": 1, \"category\": \"Data\", \"y\": \"Y_Predicted\"}, {\"x\": 2, \"category\": \"Data\", \"y\": \"Y_Predicted\"}, {\"x\": 3, \"category\": \"Data\", \"y\": \"Y_Predicted\"}, {\"x\": 4, \"category\": \"Data\", \"y\": \"Y_Predicted\"}, {\"x\": 5, \"category\": \"Data\", \"y\": \"Y_Predicted\"}, {\"x\": 6, \"category\": \"Data\", \"y\": \"Y_Predicted\"}, {\"x\": 7, \"category\": \"Data\", \"y\": \"Y_Predicted\"}, {\"x\": 8, \"category\": \"Data\", \"y\": \"Y_Predicted\"}, {\"x\": 9, \"category\": \"Data\", \"y\": \"Y_Predicted\"}, {\"x\": 10, \"category\": \"Data\", \"y\": \"Y_Predicted\"}, {\"x\": 1, \"category\": \"y\", \"y\": \"0.000108116\"}, {\"x\": 2, \"category\": \"y\", \"y\": \"0.000111406\"}, {\"x\": 3, \"category\": \"y\", \"y\": \"0.000111929\"}, {\"x\": 4, \"category\": \"y\", \"y\": \"0.000116041\"}, {\"x\": 5, \"category\": \"y\", \"y\": \"0.000111181\"}, {\"x\": 6, \"category\": \"y\", \"y\": \"0.000109536\"}, {\"x\": 7, \"category\": \"y\", \"y\": \"0.000112378\"}, {\"x\": 8, \"category\": \"y\", \"y\": \"0.000108938\"}, {\"x\": 9, \"category\": \"y\", \"y\": \"0.000112751\"}, {\"x\": 10, \"category\": \"y\", \"y\": \"0.000112751\"}, {\"x\": 1, \"category\": \"y\", \"y\": \"0.000109476\"}, {\"x\": 2, \"category\": \"y\", \"y\": \"0.000110387\"}, {\"x\": 3, \"category\": \"y\", \"y\": \"0.000111731\"}, {\"x\": 4, \"category\": \"y\", \"y\": \"0.000116118\"}, {\"x\": 5, \"category\": \"y\", \"y\": \"0.000110644\"}, {\"x\": 6, \"category\": \"y\", \"y\": \"0.000110465\"}, {\"x\": 7, \"category\": \"y\", \"y\": \"0.000113744\"}, {\"x\": 8, \"category\": \"y\", \"y\": \"0.000110292\"}, {\"x\": 9, \"category\": \"y\", \"y\": \"0.000113353\"}, {\"x\": 10, \"category\": \"y\", \"y\": \"0.000113415\"}]}}, {\"mode\": \"vega-lite\"});\n",
       "</script>"
      ],
      "text/plain": [
       "alt.LayerChart(...)"
      ]
     },
     "execution_count": 77,
     "metadata": {},
     "output_type": "execute_result"
    }
   ],
   "source": [
    "source = results.reset_index().melt('x', var_name='category', value_name='y')\n",
    "\n",
    "# Create a selection that chooses the nearest point & selects based on x-value\n",
    "nearest = alt.selection(type='single', nearest=True, on='mouseover',\n",
    "                        fields=['x'], empty='none')\n",
    "\n",
    "# The basic line\n",
    "line = alt.Chart(source).mark_line(interpolate='basis').encode(\n",
    "    x='x',\n",
    "    y='y',\n",
    "    color='category:N'\n",
    ")\n",
    "\n",
    "# Transparent selectors across the chart. This is what tells us\n",
    "# the x-value of the cursor\n",
    "selectors = alt.Chart(source).mark_point().encode(\n",
    "    x='x',\n",
    "    opacity=alt.value(0),\n",
    ").add_selection(\n",
    "    nearest\n",
    ")\n",
    "\n",
    "# Draw points on the line, and highlight based on selection\n",
    "points = line.mark_point().encode(\n",
    "    opacity=alt.condition(nearest, alt.value(1), alt.value(0))\n",
    ")\n",
    "\n",
    "# Draw text labels near the points, and highlight based on selection\n",
    "text = line.mark_text(align='left', dx=5, dy=-5).encode(\n",
    "    text=alt.condition(nearest, 'y', alt.value(' '))\n",
    ")\n",
    "\n",
    "# Draw a rule at the location of the selection\n",
    "rules = alt.Chart(source).mark_rule(color='gray').encode(\n",
    "    x='x',\n",
    ").transform_filter(\n",
    "    nearest\n",
    ")\n",
    "\n",
    "# Put the five layers into a chart and bind the data\n",
    "alt.layer(\n",
    "    line, selectors, points, rules, text\n",
    ").properties(\n",
    "    width=600, height=300\n",
    ")"
   ]
  },
  {
   "cell_type": "code",
   "execution_count": 51,
   "metadata": {},
   "outputs": [
    {
     "data": {
      "text/plain": [
       "array([11, 12, 13, 14, 15, 16, 17, 18, 19, 20])"
      ]
     },
     "execution_count": 51,
     "metadata": {},
     "output_type": "execute_result"
    }
   ],
   "source": [
    "np.arange(11,21,1)"
   ]
  },
  {
   "cell_type": "code",
   "execution_count": 81,
   "metadata": {},
   "outputs": [
    {
     "data": {
      "text/html": [
       "\n",
       "<div id=\"altair-viz-4f506ba460bd4fe193e4d92d968b7b51\"></div>\n",
       "<script type=\"text/javascript\">\n",
       "  (function(spec, embedOpt){\n",
       "    let outputDiv = document.currentScript.previousElementSibling;\n",
       "    if (outputDiv.id !== \"altair-viz-4f506ba460bd4fe193e4d92d968b7b51\") {\n",
       "      outputDiv = document.getElementById(\"altair-viz-4f506ba460bd4fe193e4d92d968b7b51\");\n",
       "    }\n",
       "    const paths = {\n",
       "      \"vega\": \"https://cdn.jsdelivr.net/npm//vega@5?noext\",\n",
       "      \"vega-lib\": \"https://cdn.jsdelivr.net/npm//vega-lib?noext\",\n",
       "      \"vega-lite\": \"https://cdn.jsdelivr.net/npm//vega-lite@4.8.1?noext\",\n",
       "      \"vega-embed\": \"https://cdn.jsdelivr.net/npm//vega-embed@6?noext\",\n",
       "    };\n",
       "\n",
       "    function loadScript(lib) {\n",
       "      return new Promise(function(resolve, reject) {\n",
       "        var s = document.createElement('script');\n",
       "        s.src = paths[lib];\n",
       "        s.async = true;\n",
       "        s.onload = () => resolve(paths[lib]);\n",
       "        s.onerror = () => reject(`Error loading script: ${paths[lib]}`);\n",
       "        document.getElementsByTagName(\"head\")[0].appendChild(s);\n",
       "      });\n",
       "    }\n",
       "\n",
       "    function showError(err) {\n",
       "      outputDiv.innerHTML = `<div class=\"error\" style=\"color:red;\">${err}</div>`;\n",
       "      throw err;\n",
       "    }\n",
       "\n",
       "    function displayChart(vegaEmbed) {\n",
       "      vegaEmbed(outputDiv, spec, embedOpt)\n",
       "        .catch(err => showError(`Javascript Error: ${err.message}<br>This usually means there's a typo in your chart specification. See the javascript console for the full traceback.`));\n",
       "    }\n",
       "\n",
       "    if(typeof define === \"function\" && define.amd) {\n",
       "      requirejs.config({paths});\n",
       "      require([\"vega-embed\"], displayChart, err => showError(`Error loading script: ${err.message}`));\n",
       "    } else if (typeof vegaEmbed === \"function\") {\n",
       "      displayChart(vegaEmbed);\n",
       "    } else {\n",
       "      loadScript(\"vega\")\n",
       "        .then(() => loadScript(\"vega-lite\"))\n",
       "        .then(() => loadScript(\"vega-embed\"))\n",
       "        .catch(showError)\n",
       "        .then(() => displayChart(vegaEmbed));\n",
       "    }\n",
       "  })({\"config\": {\"view\": {\"continuousWidth\": 400, \"continuousHeight\": 300}}, \"data\": {\"name\": \"data-88fdb64ca8ba6c98dc0e3b48b8cf9884\"}, \"mark\": \"line\", \"encoding\": {\"color\": {\"type\": \"nominal\", \"field\": \"Data\"}, \"strokeDash\": {\"type\": \"nominal\", \"field\": \"Data\"}, \"x\": {\"type\": \"nominal\", \"field\": \"y\"}, \"y\": {\"type\": \"quantitative\", \"field\": \"x\"}}, \"selection\": {\"selector017\": {\"type\": \"single\", \"nearest\": true, \"on\": \"mouseover\", \"fields\": [\"\"], \"empty\": \"none\"}}, \"$schema\": \"https://vega.github.io/schema/vega-lite/v4.8.1.json\", \"datasets\": {\"data-88fdb64ca8ba6c98dc0e3b48b8cf9884\": [{\"Data\": \"Y_Actual\", \"y\": \"0.000108116\", \"x\": 1}, {\"Data\": \"Y_Actual\", \"y\": \"0.000111406\", \"x\": 2}, {\"Data\": \"Y_Actual\", \"y\": \"0.000111929\", \"x\": 3}, {\"Data\": \"Y_Actual\", \"y\": \"0.000116041\", \"x\": 4}, {\"Data\": \"Y_Actual\", \"y\": \"0.000111181\", \"x\": 5}, {\"Data\": \"Y_Actual\", \"y\": \"0.000109536\", \"x\": 6}, {\"Data\": \"Y_Actual\", \"y\": \"0.000112378\", \"x\": 7}, {\"Data\": \"Y_Actual\", \"y\": \"0.000108938\", \"x\": 8}, {\"Data\": \"Y_Actual\", \"y\": \"0.000112751\", \"x\": 9}, {\"Data\": \"Y_Actual\", \"y\": \"0.000112751\", \"x\": 10}, {\"Data\": \"Y_Predicted\", \"y\": \"0.000109476\", \"x\": 1}, {\"Data\": \"Y_Predicted\", \"y\": \"0.000110387\", \"x\": 2}, {\"Data\": \"Y_Predicted\", \"y\": \"0.000111731\", \"x\": 3}, {\"Data\": \"Y_Predicted\", \"y\": \"0.000116118\", \"x\": 4}, {\"Data\": \"Y_Predicted\", \"y\": \"0.000110644\", \"x\": 5}, {\"Data\": \"Y_Predicted\", \"y\": \"0.000110465\", \"x\": 6}, {\"Data\": \"Y_Predicted\", \"y\": \"0.000113744\", \"x\": 7}, {\"Data\": \"Y_Predicted\", \"y\": \"0.000110292\", \"x\": 8}, {\"Data\": \"Y_Predicted\", \"y\": \"0.000113353\", \"x\": 9}, {\"Data\": \"Y_Predicted\", \"y\": \"0.000113415\", \"x\": 10}]}}, {\"mode\": \"vega-lite\"});\n",
       "</script>"
      ],
      "text/plain": [
       "alt.Chart(...)"
      ]
     },
     "execution_count": 81,
     "metadata": {},
     "output_type": "execute_result"
    }
   ],
   "source": [
    "import altair as alt\n",
    "from vega_datasets import data\n",
    "\n",
    "nearest = alt.selection(type='single', nearest=True, on='mouseover',fields=[''], empty='none')\n",
    "chart=alt.Chart(results).mark_line().encode(\n",
    "    x='y',\n",
    "    y='x',\n",
    "    color='Data',\n",
    "    strokeDash='Data',\n",
    ").add_selection(\n",
    "    nearest\n",
    ")\n",
    "chart"
   ]
  },
  {
   "cell_type": "code",
   "execution_count": 48,
   "metadata": {},
   "outputs": [
    {
     "data": {
      "text/html": [
       "<div>\n",
       "<style scoped>\n",
       "    .dataframe tbody tr th:only-of-type {\n",
       "        vertical-align: middle;\n",
       "    }\n",
       "\n",
       "    .dataframe tbody tr th {\n",
       "        vertical-align: top;\n",
       "    }\n",
       "\n",
       "    .dataframe thead th {\n",
       "        text-align: right;\n",
       "    }\n",
       "</style>\n",
       "<table border=\"1\" class=\"dataframe\">\n",
       "  <thead>\n",
       "    <tr style=\"text-align: right;\">\n",
       "      <th></th>\n",
       "      <th>symbol</th>\n",
       "      <th>date</th>\n",
       "      <th>price</th>\n",
       "    </tr>\n",
       "  </thead>\n",
       "  <tbody>\n",
       "    <tr>\n",
       "      <th>0</th>\n",
       "      <td>MSFT</td>\n",
       "      <td>2000-01-01</td>\n",
       "      <td>39.81</td>\n",
       "    </tr>\n",
       "    <tr>\n",
       "      <th>1</th>\n",
       "      <td>MSFT</td>\n",
       "      <td>2000-02-01</td>\n",
       "      <td>36.35</td>\n",
       "    </tr>\n",
       "    <tr>\n",
       "      <th>2</th>\n",
       "      <td>MSFT</td>\n",
       "      <td>2000-03-01</td>\n",
       "      <td>43.22</td>\n",
       "    </tr>\n",
       "    <tr>\n",
       "      <th>3</th>\n",
       "      <td>MSFT</td>\n",
       "      <td>2000-04-01</td>\n",
       "      <td>28.37</td>\n",
       "    </tr>\n",
       "    <tr>\n",
       "      <th>4</th>\n",
       "      <td>MSFT</td>\n",
       "      <td>2000-05-01</td>\n",
       "      <td>25.45</td>\n",
       "    </tr>\n",
       "    <tr>\n",
       "      <th>...</th>\n",
       "      <td>...</td>\n",
       "      <td>...</td>\n",
       "      <td>...</td>\n",
       "    </tr>\n",
       "    <tr>\n",
       "      <th>95</th>\n",
       "      <td>MSFT</td>\n",
       "      <td>2007-12-01</td>\n",
       "      <td>34.00</td>\n",
       "    </tr>\n",
       "    <tr>\n",
       "      <th>96</th>\n",
       "      <td>MSFT</td>\n",
       "      <td>2008-01-01</td>\n",
       "      <td>31.13</td>\n",
       "    </tr>\n",
       "    <tr>\n",
       "      <th>97</th>\n",
       "      <td>MSFT</td>\n",
       "      <td>2008-02-01</td>\n",
       "      <td>26.07</td>\n",
       "    </tr>\n",
       "    <tr>\n",
       "      <th>98</th>\n",
       "      <td>MSFT</td>\n",
       "      <td>2008-03-01</td>\n",
       "      <td>27.21</td>\n",
       "    </tr>\n",
       "    <tr>\n",
       "      <th>99</th>\n",
       "      <td>MSFT</td>\n",
       "      <td>2008-04-01</td>\n",
       "      <td>27.34</td>\n",
       "    </tr>\n",
       "  </tbody>\n",
       "</table>\n",
       "<p>100 rows × 3 columns</p>\n",
       "</div>"
      ],
      "text/plain": [
       "   symbol       date  price\n",
       "0    MSFT 2000-01-01  39.81\n",
       "1    MSFT 2000-02-01  36.35\n",
       "2    MSFT 2000-03-01  43.22\n",
       "3    MSFT 2000-04-01  28.37\n",
       "4    MSFT 2000-05-01  25.45\n",
       "..    ...        ...    ...\n",
       "95   MSFT 2007-12-01  34.00\n",
       "96   MSFT 2008-01-01  31.13\n",
       "97   MSFT 2008-02-01  26.07\n",
       "98   MSFT 2008-03-01  27.21\n",
       "99   MSFT 2008-04-01  27.34\n",
       "\n",
       "[100 rows x 3 columns]"
      ]
     },
     "execution_count": 48,
     "metadata": {},
     "output_type": "execute_result"
    }
   ],
   "source": [
    "from vega_datasets import data\n",
    "\n",
    "data.stocks().head(100)"
   ]
  }
 ],
 "metadata": {
  "interpreter": {
   "hash": "63fd5069d213b44bf678585dea6b12cceca9941eaf7f819626cde1f2670de90d"
  },
  "kernelspec": {
   "display_name": "Python 3.9.5 64-bit",
   "language": "python",
   "name": "python3"
  },
  "language_info": {
   "codemirror_mode": {
    "name": "ipython",
    "version": 3
   },
   "file_extension": ".py",
   "mimetype": "text/x-python",
   "name": "python",
   "nbconvert_exporter": "python",
   "pygments_lexer": "ipython3",
   "version": "3.9.5"
  },
  "orig_nbformat": 4
 },
 "nbformat": 4,
 "nbformat_minor": 2
}
