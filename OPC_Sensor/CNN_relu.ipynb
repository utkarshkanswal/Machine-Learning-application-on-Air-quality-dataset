{
 "cells": [
  {
   "cell_type": "code",
   "execution_count": 1,
   "id": "877c2677",
   "metadata": {},
   "outputs": [
    {
     "data": {
      "text/plain": [
       "[PhysicalDevice(name='/physical_device:CPU:0', device_type='CPU'),\n",
       " PhysicalDevice(name='/physical_device:GPU:0', device_type='GPU')]"
      ]
     },
     "execution_count": 1,
     "metadata": {},
     "output_type": "execute_result"
    }
   ],
   "source": [
    "import tensorflow as tf\n",
    "tf.config.experimental.list_physical_devices()"
   ]
  },
  {
   "cell_type": "code",
   "execution_count": 2,
   "id": "1c059e76",
   "metadata": {},
   "outputs": [
    {
     "data": {
      "text/plain": [
       "True"
      ]
     },
     "execution_count": 2,
     "metadata": {},
     "output_type": "execute_result"
    }
   ],
   "source": [
    "tf.test.is_built_with_cuda()"
   ]
  },
  {
   "cell_type": "markdown",
   "id": "96739d01",
   "metadata": {},
   "source": [
    "# Importing Libraries"
   ]
  },
  {
   "cell_type": "code",
   "execution_count": 10,
   "id": "a0397420",
   "metadata": {},
   "outputs": [],
   "source": [
    "import numpy as np\n",
    "import pandas as pd\n",
    "from matplotlib import pyplot as plt\n",
    "import os.path as op\n",
    "import pickle"
   ]
  },
  {
   "cell_type": "code",
   "execution_count": 11,
   "id": "e8cc09ab",
   "metadata": {},
   "outputs": [],
   "source": [
    "import tensorflow as tf\n",
    "from tensorflow import keras\n",
    "from keras.models import Model,Sequential,load_model\n",
    "from keras.layers import Input, Embedding\n",
    "from keras.layers import Dense, Bidirectional\n",
    "from keras.layers.recurrent import LSTM\n",
    "import keras.metrics as metrics\n",
    "import itertools\n",
    "from tensorflow.python.keras.utils.data_utils import Sequence\n",
    "from decimal import Decimal\n",
    "from keras import backend as K\n",
    "from keras.layers import Conv1D,MaxPooling1D,Flatten,Dense"
   ]
  },
  {
   "cell_type": "markdown",
   "id": "b7f9474e",
   "metadata": {},
   "source": [
    "# Data Fetching"
   ]
  },
  {
   "cell_type": "code",
   "execution_count": 12,
   "id": "7450b0aa",
   "metadata": {},
   "outputs": [
    {
     "name": "stdout",
     "output_type": "stream",
     "text": [
      "[[1.50000e+02 1.90401e+05 7.25000e+02 2.75500e+01 8.03900e+01]\n",
      " [1.50000e+02 1.90401e+05 8.25000e+02 2.75600e+01 8.03300e+01]\n",
      " [1.50000e+02 1.90401e+05 9.25000e+02 2.75800e+01 8.02400e+01]\n",
      " ...\n",
      " [6.10000e+01 1.91020e+05 1.94532e+05 2.93700e+01 7.52100e+01]\n",
      " [6.10000e+01 1.91020e+05 1.94632e+05 2.93500e+01 7.52700e+01]\n",
      " [6.10000e+01 1.91020e+05 1.94732e+05 2.93400e+01 7.53000e+01]]\n",
      "[[ 28.     3.   -52.   ...  16.97  19.63  20.06]\n",
      " [ 28.    15.   -53.   ...  16.63  19.57  23.06]\n",
      " [ 31.    16.   -55.   ...  17.24  19.98  20.24]\n",
      " ...\n",
      " [ 76.    12.   -76.   ...   3.47   3.95   4.35]\n",
      " [ 75.    13.   -76.   ...   3.88   4.33   4.42]\n",
      " [ 76.    12.   -75.   ...   3.46   4.07   4.28]]\n"
     ]
    }
   ],
   "source": [
    "A1=np.empty((0,5),dtype='float32')\n",
    "U1=np.empty((0,7),dtype='float32')\n",
    "node=['150','149','147','144','142','140','136','61']\n",
    "mon=['Apr','Mar','Aug','Jun','Jul','Sep','May','Oct']\n",
    "for j in node:\n",
    "  for i in mon:\n",
    "    inp= pd.read_csv('data_gkv/AT510_Node_'+str(j)+'_'+str(i)+'19_OutputFile.csv',usecols=[1,2,3,15,16])\n",
    "    out= pd.read_csv('data_gkv/AT510_Node_'+str(j)+'_'+str(i)+'19_OutputFile.csv',usecols=[5,6,7,8,17,18,19])\n",
    "    \n",
    "    inp=np.array(inp,dtype='float32')\n",
    "    out=np.array(out,dtype='float32')\n",
    "    \n",
    "    A1=np.append(A1, inp, axis=0)\n",
    "    U1=np.append(U1, out, axis=0)\n",
    "\n",
    "print(A1)\n",
    "print(U1)\n"
   ]
  },
  {
   "cell_type": "markdown",
   "id": "78ca5e86",
   "metadata": {},
   "source": [
    "# Min Max Scaler"
   ]
  },
  {
   "cell_type": "code",
   "execution_count": 13,
   "id": "41ae9a8a",
   "metadata": {},
   "outputs": [],
   "source": [
    "from sklearn.preprocessing import MinMaxScaler\n",
    "import warnings\n",
    "scaler_obj=MinMaxScaler()\n",
    "X1=scaler_obj.fit_transform(A1)\n",
    "Y1=scaler_obj.fit_transform(U1)\n",
    "\n",
    "warnings.filterwarnings(action='ignore', category=UserWarning)\n",
    "\n",
    "X1=X1[:,np.newaxis,:]\n",
    "Y1=Y1[:,np.newaxis,:]"
   ]
  },
  {
   "cell_type": "code",
   "execution_count": 14,
   "id": "da37491b",
   "metadata": {},
   "outputs": [],
   "source": [
    "def rmse(y_true, y_pred):\n",
    "    return K.sqrt(K.mean(K.square(y_pred - y_true), axis=-1))\n",
    "\n",
    "def coeff_determination(y_true, y_pred):\n",
    "    SS_res =  K.sum(K.square( y_true-y_pred )) \n",
    "    SS_tot = K.sum(K.square( y_true - K.mean(y_true) ) ) \n",
    "    return ( 1 - SS_res/(SS_tot + K.epsilon()) )"
   ]
  },
  {
   "cell_type": "markdown",
   "id": "b1edf627",
   "metadata": {},
   "source": [
    "# Model"
   ]
  },
  {
   "cell_type": "code",
   "execution_count": 6,
   "id": "d05d8053",
   "metadata": {},
   "outputs": [
    {
     "name": "stdout",
     "output_type": "stream",
     "text": [
      "Model: \"model\"\n",
      "_________________________________________________________________\n",
      "Layer (type)                 Output Shape              Param #   \n",
      "=================================================================\n",
      "input_1 (InputLayer)         [(None, 1, 5)]            0         \n",
      "_________________________________________________________________\n",
      "conv1d (Conv1D)              (None, 1, 16)             96        \n",
      "_________________________________________________________________\n",
      "conv1d_1 (Conv1D)            (None, 1, 7)              455       \n",
      "=================================================================\n",
      "Total params: 551\n",
      "Trainable params: 551\n",
      "Non-trainable params: 0\n",
      "_________________________________________________________________\n"
     ]
    }
   ],
   "source": [
    "inp=keras.Input(shape=(1,5))\n",
    "\n",
    "l=keras.layers.Conv1D(16,1,padding=\"same\",activation=\"relu\",kernel_initializer=\"glorot_uniform\")(inp)\n",
    " \n",
    "output = keras.layers.Conv1D(7,4,padding=\"same\",activation='sigmoid')(l)\n",
    "\n",
    "model1=keras.Model(inputs=inp,outputs=output)\n",
    "model1.compile(optimizer=keras.optimizers.Adam(learning_rate=1e-5), loss='mse',metrics=['accuracy','mse','mae',rmse])\n",
    "model1.summary()"
   ]
  },
  {
   "cell_type": "code",
   "execution_count": 7,
   "id": "fb37916d",
   "metadata": {},
   "outputs": [
    {
     "name": "stdout",
     "output_type": "stream",
     "text": [
      "Epoch 1/250\n",
      "634/634 - 3s - loss: 0.2479 - accuracy: 0.0358 - mse: 0.2479 - mae: 0.4967 - rmse: 0.4978 - val_loss: 0.2454 - val_accuracy: 2.0806e-05 - val_mse: 0.2454 - val_mae: 0.4942 - val_rmse: 0.4953\n",
      "Epoch 2/250\n",
      "634/634 - 2s - loss: 0.2429 - accuracy: 3.4676e-05 - mse: 0.2429 - mae: 0.4917 - rmse: 0.4928 - val_loss: 0.2404 - val_accuracy: 2.0806e-05 - val_mse: 0.2404 - val_mae: 0.4891 - val_rmse: 0.4903\n",
      "Epoch 3/250\n",
      "634/634 - 3s - loss: 0.2380 - accuracy: 3.4676e-05 - mse: 0.2380 - mae: 0.4866 - rmse: 0.4878 - val_loss: 0.2354 - val_accuracy: 2.0806e-05 - val_mse: 0.2354 - val_mae: 0.4839 - val_rmse: 0.4852\n",
      "Epoch 4/250\n",
      "634/634 - 3s - loss: 0.2330 - accuracy: 3.4676e-05 - mse: 0.2330 - mae: 0.4814 - rmse: 0.4826 - val_loss: 0.2305 - val_accuracy: 2.0806e-05 - val_mse: 0.2305 - val_mae: 0.4787 - val_rmse: 0.4800\n",
      "Epoch 5/250\n",
      "634/634 - 3s - loss: 0.2280 - accuracy: 3.3906e-05 - mse: 0.2280 - mae: 0.4761 - rmse: 0.4774 - val_loss: 0.2254 - val_accuracy: 2.0806e-05 - val_mse: 0.2254 - val_mae: 0.4734 - val_rmse: 0.4748\n",
      "Epoch 6/250\n",
      "634/634 - 3s - loss: 0.2229 - accuracy: 3.3135e-05 - mse: 0.2229 - mae: 0.4707 - rmse: 0.4721 - val_loss: 0.2204 - val_accuracy: 2.0806e-05 - val_mse: 0.2204 - val_mae: 0.4679 - val_rmse: 0.4694\n",
      "Epoch 7/250\n",
      "634/634 - 2s - loss: 0.2178 - accuracy: 3.3135e-05 - mse: 0.2178 - mae: 0.4651 - rmse: 0.4666 - val_loss: 0.2152 - val_accuracy: 2.0806e-05 - val_mse: 0.2152 - val_mae: 0.4623 - val_rmse: 0.4639\n",
      "Epoch 8/250\n",
      "634/634 - 2s - loss: 0.2127 - accuracy: 3.3135e-05 - mse: 0.2127 - mae: 0.4595 - rmse: 0.4611 - val_loss: 0.2101 - val_accuracy: 2.0806e-05 - val_mse: 0.2101 - val_mae: 0.4566 - val_rmse: 0.4583\n",
      "Epoch 9/250\n",
      "634/634 - 2s - loss: 0.2075 - accuracy: 3.3906e-05 - mse: 0.2075 - mae: 0.4537 - rmse: 0.4555 - val_loss: 0.2049 - val_accuracy: 2.0806e-05 - val_mse: 0.2049 - val_mae: 0.4508 - val_rmse: 0.4526\n",
      "Epoch 10/250\n",
      "634/634 - 2s - loss: 0.2023 - accuracy: 3.3906e-05 - mse: 0.2023 - mae: 0.4479 - rmse: 0.4497 - val_loss: 0.1997 - val_accuracy: 2.0806e-05 - val_mse: 0.1997 - val_mae: 0.4449 - val_rmse: 0.4468\n",
      "Epoch 11/250\n",
      "634/634 - 2s - loss: 0.1971 - accuracy: 3.3906e-05 - mse: 0.1971 - mae: 0.4419 - rmse: 0.4438 - val_loss: 0.1945 - val_accuracy: 2.0806e-05 - val_mse: 0.1945 - val_mae: 0.4389 - val_rmse: 0.4409\n",
      "Epoch 12/250\n",
      "634/634 - 2s - loss: 0.1918 - accuracy: 3.3906e-05 - mse: 0.1918 - mae: 0.4358 - rmse: 0.4379 - val_loss: 0.1892 - val_accuracy: 2.0806e-05 - val_mse: 0.1892 - val_mae: 0.4327 - val_rmse: 0.4348\n",
      "Epoch 13/250\n",
      "634/634 - 2s - loss: 0.1865 - accuracy: 3.3906e-05 - mse: 0.1865 - mae: 0.4295 - rmse: 0.4317 - val_loss: 0.1838 - val_accuracy: 2.0806e-05 - val_mse: 0.1838 - val_mae: 0.4263 - val_rmse: 0.4286\n",
      "Epoch 14/250\n",
      "634/634 - 2s - loss: 0.1811 - accuracy: 3.3906e-05 - mse: 0.1811 - mae: 0.4230 - rmse: 0.4253 - val_loss: 0.1783 - val_accuracy: 2.0806e-05 - val_mse: 0.1783 - val_mae: 0.4197 - val_rmse: 0.4221\n",
      "Epoch 15/250\n",
      "634/634 - 2s - loss: 0.1755 - accuracy: 3.3906e-05 - mse: 0.1755 - mae: 0.4163 - rmse: 0.4188 - val_loss: 0.1727 - val_accuracy: 2.0806e-05 - val_mse: 0.1727 - val_mae: 0.4129 - val_rmse: 0.4154\n",
      "Epoch 16/250\n",
      "634/634 - 2s - loss: 0.1699 - accuracy: 3.3906e-05 - mse: 0.1699 - mae: 0.4094 - rmse: 0.4120 - val_loss: 0.1671 - val_accuracy: 2.0806e-05 - val_mse: 0.1671 - val_mae: 0.4059 - val_rmse: 0.4085\n",
      "Epoch 17/250\n",
      "634/634 - 2s - loss: 0.1642 - accuracy: 3.3906e-05 - mse: 0.1642 - mae: 0.4023 - rmse: 0.4050 - val_loss: 0.1614 - val_accuracy: 2.0806e-05 - val_mse: 0.1614 - val_mae: 0.3987 - val_rmse: 0.4014\n",
      "Epoch 18/250\n",
      "634/634 - 3s - loss: 0.1585 - accuracy: 3.3906e-05 - mse: 0.1585 - mae: 0.3950 - rmse: 0.3978 - val_loss: 0.1557 - val_accuracy: 2.0806e-05 - val_mse: 0.1557 - val_mae: 0.3913 - val_rmse: 0.3942\n",
      "Epoch 19/250\n",
      "634/634 - 2s - loss: 0.1528 - accuracy: 3.3906e-05 - mse: 0.1528 - mae: 0.3875 - rmse: 0.3905 - val_loss: 0.1499 - val_accuracy: 2.0806e-05 - val_mse: 0.1499 - val_mae: 0.3837 - val_rmse: 0.3867\n",
      "Epoch 20/250\n",
      "634/634 - 2s - loss: 0.1470 - accuracy: 3.3906e-05 - mse: 0.1470 - mae: 0.3798 - rmse: 0.3829 - val_loss: 0.1441 - val_accuracy: 2.0806e-05 - val_mse: 0.1441 - val_mae: 0.3759 - val_rmse: 0.3791\n",
      "Epoch 21/250\n",
      "634/634 - 2s - loss: 0.1412 - accuracy: 3.3906e-05 - mse: 0.1412 - mae: 0.3720 - rmse: 0.3753 - val_loss: 0.1383 - val_accuracy: 2.0806e-05 - val_mse: 0.1383 - val_mae: 0.3680 - val_rmse: 0.3714\n",
      "Epoch 22/250\n",
      "634/634 - 2s - loss: 0.1354 - accuracy: 3.3906e-05 - mse: 0.1354 - mae: 0.3640 - rmse: 0.3674 - val_loss: 0.1326 - val_accuracy: 2.0806e-05 - val_mse: 0.1326 - val_mae: 0.3599 - val_rmse: 0.3635\n",
      "Epoch 23/250\n",
      "634/634 - 2s - loss: 0.1297 - accuracy: 3.3906e-05 - mse: 0.1297 - mae: 0.3558 - rmse: 0.3594 - val_loss: 0.1268 - val_accuracy: 2.0806e-05 - val_mse: 0.1268 - val_mae: 0.3516 - val_rmse: 0.3553\n",
      "Epoch 24/250\n",
      "634/634 - 2s - loss: 0.1239 - accuracy: 3.3906e-05 - mse: 0.1239 - mae: 0.3474 - rmse: 0.3512 - val_loss: 0.1210 - val_accuracy: 2.0806e-05 - val_mse: 0.1210 - val_mae: 0.3432 - val_rmse: 0.3471\n",
      "Epoch 25/250\n",
      "634/634 - 3s - loss: 0.1182 - accuracy: 3.3906e-05 - mse: 0.1182 - mae: 0.3389 - rmse: 0.3429 - val_loss: 0.1153 - val_accuracy: 2.0806e-05 - val_mse: 0.1153 - val_mae: 0.3346 - val_rmse: 0.3387\n",
      "Epoch 26/250\n",
      "634/634 - 2s - loss: 0.1125 - accuracy: 3.3906e-05 - mse: 0.1125 - mae: 0.3303 - rmse: 0.3344 - val_loss: 0.1097 - val_accuracy: 2.0806e-05 - val_mse: 0.1097 - val_mae: 0.3260 - val_rmse: 0.3302\n",
      "Epoch 27/250\n",
      "634/634 - 2s - loss: 0.1069 - accuracy: 3.3906e-05 - mse: 0.1069 - mae: 0.3216 - rmse: 0.3259 - val_loss: 0.1042 - val_accuracy: 2.0806e-05 - val_mse: 0.1042 - val_mae: 0.3172 - val_rmse: 0.3216\n",
      "Epoch 28/250\n",
      "634/634 - 2s - loss: 0.1014 - accuracy: 3.3906e-05 - mse: 0.1014 - mae: 0.3128 - rmse: 0.3173 - val_loss: 0.0987 - val_accuracy: 2.0806e-05 - val_mse: 0.0987 - val_mae: 0.3083 - val_rmse: 0.3129\n",
      "Epoch 29/250\n",
      "634/634 - 2s - loss: 0.0959 - accuracy: 3.3906e-05 - mse: 0.0959 - mae: 0.3036 - rmse: 0.3083 - val_loss: 0.0931 - val_accuracy: 2.0806e-05 - val_mse: 0.0931 - val_mae: 0.2989 - val_rmse: 0.3037\n",
      "Epoch 30/250\n",
      "634/634 - 2s - loss: 0.0902 - accuracy: 3.3906e-05 - mse: 0.0902 - mae: 0.2939 - rmse: 0.2988 - val_loss: 0.0874 - val_accuracy: 2.0806e-05 - val_mse: 0.0874 - val_mae: 0.2890 - val_rmse: 0.2940\n",
      "Epoch 31/250\n",
      "634/634 - 2s - loss: 0.0847 - accuracy: 3.3906e-05 - mse: 0.0847 - mae: 0.2842 - rmse: 0.2893 - val_loss: 0.0820 - val_accuracy: 2.0806e-05 - val_mse: 0.0820 - val_mae: 0.2794 - val_rmse: 0.2846\n",
      "Epoch 32/250\n",
      "634/634 - 2s - loss: 0.0794 - accuracy: 3.3906e-05 - mse: 0.0794 - mae: 0.2746 - rmse: 0.2799 - val_loss: 0.0769 - val_accuracy: 2.0806e-05 - val_mse: 0.0769 - val_mae: 0.2699 - val_rmse: 0.2753\n",
      "Epoch 33/250\n",
      "634/634 - 3s - loss: 0.0744 - accuracy: 3.3906e-05 - mse: 0.0744 - mae: 0.2651 - rmse: 0.2706 - val_loss: 0.0719 - val_accuracy: 2.0806e-05 - val_mse: 0.0719 - val_mae: 0.2604 - val_rmse: 0.2660\n",
      "Epoch 34/250\n",
      "634/634 - 2s - loss: 0.0694 - accuracy: 3.3906e-05 - mse: 0.0694 - mae: 0.2555 - rmse: 0.2611 - val_loss: 0.0670 - val_accuracy: 2.0806e-05 - val_mse: 0.0670 - val_mae: 0.2506 - val_rmse: 0.2563\n",
      "Epoch 35/250\n",
      "634/634 - 2s - loss: 0.0645 - accuracy: 3.3906e-05 - mse: 0.0645 - mae: 0.2454 - rmse: 0.2513 - val_loss: 0.0621 - val_accuracy: 2.0806e-05 - val_mse: 0.0621 - val_mae: 0.2404 - val_rmse: 0.2463\n",
      "Epoch 36/250\n",
      "634/634 - 2s - loss: 0.0597 - accuracy: 3.3906e-05 - mse: 0.0597 - mae: 0.2354 - rmse: 0.2414 - val_loss: 0.0574 - val_accuracy: 2.0806e-05 - val_mse: 0.0574 - val_mae: 0.2305 - val_rmse: 0.2366\n",
      "Epoch 37/250\n",
      "634/634 - 2s - loss: 0.0552 - accuracy: 3.3906e-05 - mse: 0.0552 - mae: 0.2256 - rmse: 0.2317 - val_loss: 0.0531 - val_accuracy: 2.0806e-05 - val_mse: 0.0531 - val_mae: 0.2208 - val_rmse: 0.2270\n",
      "Epoch 38/250\n",
      "634/634 - 2s - loss: 0.0510 - accuracy: 3.3906e-05 - mse: 0.0510 - mae: 0.2160 - rmse: 0.2223 - val_loss: 0.0490 - val_accuracy: 2.0806e-05 - val_mse: 0.0490 - val_mae: 0.2113 - val_rmse: 0.2177\n",
      "Epoch 39/250\n",
      "634/634 - 2s - loss: 0.0471 - accuracy: 3.3906e-05 - mse: 0.0471 - mae: 0.2066 - rmse: 0.2130 - val_loss: 0.0452 - val_accuracy: 2.0806e-05 - val_mse: 0.0452 - val_mae: 0.2020 - val_rmse: 0.2085\n",
      "Epoch 40/250\n",
      "634/634 - 2s - loss: 0.0434 - accuracy: 3.3906e-05 - mse: 0.0434 - mae: 0.1973 - rmse: 0.2039 - val_loss: 0.0416 - val_accuracy: 2.0806e-05 - val_mse: 0.0416 - val_mae: 0.1928 - val_rmse: 0.1995\n"
     ]
    },
    {
     "name": "stdout",
     "output_type": "stream",
     "text": [
      "Epoch 41/250\n",
      "634/634 - 2s - loss: 0.0399 - accuracy: 3.3906e-05 - mse: 0.0399 - mae: 0.1883 - rmse: 0.1950 - val_loss: 0.0382 - val_accuracy: 2.0806e-05 - val_mse: 0.0382 - val_mae: 0.1839 - val_rmse: 0.1907\n",
      "Epoch 42/250\n",
      "634/634 - 2s - loss: 0.0366 - accuracy: 3.3906e-05 - mse: 0.0366 - mae: 0.1795 - rmse: 0.1863 - val_loss: 0.0351 - val_accuracy: 2.0806e-05 - val_mse: 0.0351 - val_mae: 0.1752 - val_rmse: 0.1821\n",
      "Epoch 43/250\n",
      "634/634 - 2s - loss: 0.0336 - accuracy: 3.3906e-05 - mse: 0.0336 - mae: 0.1708 - rmse: 0.1778 - val_loss: 0.0322 - val_accuracy: 2.0806e-05 - val_mse: 0.0322 - val_mae: 0.1667 - val_rmse: 0.1737\n",
      "Epoch 44/250\n",
      "634/634 - 2s - loss: 0.0307 - accuracy: 3.3906e-05 - mse: 0.0307 - mae: 0.1625 - rmse: 0.1695 - val_loss: 0.0294 - val_accuracy: 2.0806e-05 - val_mse: 0.0294 - val_mae: 0.1584 - val_rmse: 0.1655\n",
      "Epoch 45/250\n",
      "634/634 - 2s - loss: 0.0281 - accuracy: 3.3906e-05 - mse: 0.0281 - mae: 0.1543 - rmse: 0.1614 - val_loss: 0.0269 - val_accuracy: 2.0806e-05 - val_mse: 0.0269 - val_mae: 0.1504 - val_rmse: 0.1575\n",
      "Epoch 46/250\n",
      "634/634 - 2s - loss: 0.0257 - accuracy: 3.3906e-05 - mse: 0.0257 - mae: 0.1464 - rmse: 0.1536 - val_loss: 0.0246 - val_accuracy: 2.0806e-05 - val_mse: 0.0246 - val_mae: 0.1426 - val_rmse: 0.1498\n",
      "Epoch 47/250\n",
      "634/634 - 2s - loss: 0.0234 - accuracy: 3.3906e-05 - mse: 0.0234 - mae: 0.1387 - rmse: 0.1460 - val_loss: 0.0224 - val_accuracy: 2.0806e-05 - val_mse: 0.0224 - val_mae: 0.1350 - val_rmse: 0.1424\n",
      "Epoch 48/250\n",
      "634/634 - 2s - loss: 0.0214 - accuracy: 3.3906e-05 - mse: 0.0214 - mae: 0.1313 - rmse: 0.1387 - val_loss: 0.0204 - val_accuracy: 2.0806e-05 - val_mse: 0.0204 - val_mae: 0.1277 - val_rmse: 0.1351\n",
      "Epoch 49/250\n",
      "634/634 - 2s - loss: 0.0195 - accuracy: 3.3906e-05 - mse: 0.0195 - mae: 0.1241 - rmse: 0.1316 - val_loss: 0.0186 - val_accuracy: 2.0806e-05 - val_mse: 0.0186 - val_mae: 0.1207 - val_rmse: 0.1282\n",
      "Epoch 50/250\n",
      "634/634 - 2s - loss: 0.0177 - accuracy: 3.3906e-05 - mse: 0.0177 - mae: 0.1172 - rmse: 0.1247 - val_loss: 0.0169 - val_accuracy: 2.0806e-05 - val_mse: 0.0169 - val_mae: 0.1139 - val_rmse: 0.1215\n",
      "Epoch 51/250\n",
      "634/634 - 2s - loss: 0.0161 - accuracy: 3.3906e-05 - mse: 0.0161 - mae: 0.1106 - rmse: 0.1182 - val_loss: 0.0154 - val_accuracy: 2.0806e-05 - val_mse: 0.0154 - val_mae: 0.1074 - val_rmse: 0.1151\n",
      "Epoch 52/250\n",
      "634/634 - 2s - loss: 0.0146 - accuracy: 3.3906e-05 - mse: 0.0146 - mae: 0.1042 - rmse: 0.1119 - val_loss: 0.0140 - val_accuracy: 2.0806e-05 - val_mse: 0.0140 - val_mae: 0.1012 - val_rmse: 0.1089\n",
      "Epoch 53/250\n",
      "634/634 - 2s - loss: 0.0133 - accuracy: 3.3906e-05 - mse: 0.0133 - mae: 0.0981 - rmse: 0.1058 - val_loss: 0.0127 - val_accuracy: 2.0806e-05 - val_mse: 0.0127 - val_mae: 0.0952 - val_rmse: 0.1030\n",
      "Epoch 54/250\n",
      "634/634 - 3s - loss: 0.0120 - accuracy: 3.3906e-05 - mse: 0.0120 - mae: 0.0922 - rmse: 0.1000 - val_loss: 0.0115 - val_accuracy: 2.0806e-05 - val_mse: 0.0115 - val_mae: 0.0894 - val_rmse: 0.0972\n",
      "Epoch 55/250\n",
      "634/634 - 3s - loss: 0.0109 - accuracy: 3.3906e-05 - mse: 0.0109 - mae: 0.0865 - rmse: 0.0944 - val_loss: 0.0104 - val_accuracy: 2.0806e-05 - val_mse: 0.0104 - val_mae: 0.0838 - val_rmse: 0.0917\n",
      "Epoch 56/250\n",
      "634/634 - 3s - loss: 0.0099 - accuracy: 3.3906e-05 - mse: 0.0099 - mae: 0.0811 - rmse: 0.0890 - val_loss: 0.0094 - val_accuracy: 2.0806e-05 - val_mse: 0.0094 - val_mae: 0.0787 - val_rmse: 0.0865\n",
      "Epoch 57/250\n",
      "634/634 - 3s - loss: 0.0089 - accuracy: 3.3906e-05 - mse: 0.0089 - mae: 0.0763 - rmse: 0.0840 - val_loss: 0.0085 - val_accuracy: 2.0806e-05 - val_mse: 0.0085 - val_mae: 0.0741 - val_rmse: 0.0816\n",
      "Epoch 58/250\n",
      "634/634 - 3s - loss: 0.0081 - accuracy: 3.3906e-05 - mse: 0.0081 - mae: 0.0720 - rmse: 0.0792 - val_loss: 0.0077 - val_accuracy: 2.0806e-05 - val_mse: 0.0077 - val_mae: 0.0701 - val_rmse: 0.0770\n",
      "Epoch 59/250\n",
      "634/634 - 2s - loss: 0.0073 - accuracy: 3.3906e-05 - mse: 0.0073 - mae: 0.0681 - rmse: 0.0747 - val_loss: 0.0070 - val_accuracy: 2.0806e-05 - val_mse: 0.0070 - val_mae: 0.0664 - val_rmse: 0.0726\n",
      "Epoch 60/250\n",
      "634/634 - 2s - loss: 0.0066 - accuracy: 3.3906e-05 - mse: 0.0066 - mae: 0.0645 - rmse: 0.0704 - val_loss: 0.0063 - val_accuracy: 2.0806e-05 - val_mse: 0.0063 - val_mae: 0.0629 - val_rmse: 0.0684\n",
      "Epoch 61/250\n",
      "634/634 - 2s - loss: 0.0060 - accuracy: 3.3906e-05 - mse: 0.0060 - mae: 0.0611 - rmse: 0.0664 - val_loss: 0.0057 - val_accuracy: 2.0806e-05 - val_mse: 0.0057 - val_mae: 0.0596 - val_rmse: 0.0646\n",
      "Epoch 62/250\n",
      "634/634 - 2s - loss: 0.0055 - accuracy: 3.3906e-05 - mse: 0.0055 - mae: 0.0579 - rmse: 0.0626 - val_loss: 0.0052 - val_accuracy: 2.0806e-05 - val_mse: 0.0052 - val_mae: 0.0564 - val_rmse: 0.0609\n",
      "Epoch 63/250\n",
      "634/634 - 3s - loss: 0.0050 - accuracy: 3.3906e-05 - mse: 0.0050 - mae: 0.0548 - rmse: 0.0591 - val_loss: 0.0047 - val_accuracy: 2.0806e-05 - val_mse: 0.0047 - val_mae: 0.0534 - val_rmse: 0.0575\n",
      "Epoch 64/250\n",
      "634/634 - 3s - loss: 0.0045 - accuracy: 3.3906e-05 - mse: 0.0045 - mae: 0.0519 - rmse: 0.0558 - val_loss: 0.0043 - val_accuracy: 2.0806e-05 - val_mse: 0.0043 - val_mae: 0.0505 - val_rmse: 0.0543\n",
      "Epoch 65/250\n",
      "634/634 - 3s - loss: 0.0041 - accuracy: 3.3906e-05 - mse: 0.0041 - mae: 0.0491 - rmse: 0.0527 - val_loss: 0.0039 - val_accuracy: 2.0806e-05 - val_mse: 0.0039 - val_mae: 0.0478 - val_rmse: 0.0513\n",
      "Epoch 66/250\n",
      "634/634 - 3s - loss: 0.0037 - accuracy: 3.3906e-05 - mse: 0.0037 - mae: 0.0464 - rmse: 0.0498 - val_loss: 0.0035 - val_accuracy: 2.0806e-05 - val_mse: 0.0035 - val_mae: 0.0452 - val_rmse: 0.0485\n",
      "Epoch 67/250\n",
      "634/634 - 3s - loss: 0.0034 - accuracy: 3.3906e-05 - mse: 0.0034 - mae: 0.0439 - rmse: 0.0471 - val_loss: 0.0032 - val_accuracy: 2.0806e-05 - val_mse: 0.0032 - val_mae: 0.0428 - val_rmse: 0.0459\n",
      "Epoch 68/250\n",
      "634/634 - 3s - loss: 0.0031 - accuracy: 3.3906e-05 - mse: 0.0031 - mae: 0.0415 - rmse: 0.0446 - val_loss: 0.0029 - val_accuracy: 2.3118e-05 - val_mse: 0.0029 - val_mae: 0.0404 - val_rmse: 0.0434\n",
      "Epoch 69/250\n",
      "634/634 - 2s - loss: 0.0028 - accuracy: 3.3906e-05 - mse: 0.0028 - mae: 0.0393 - rmse: 0.0422 - val_loss: 0.0027 - val_accuracy: 2.3118e-05 - val_mse: 0.0027 - val_mae: 0.0382 - val_rmse: 0.0411\n",
      "Epoch 70/250\n",
      "634/634 - 2s - loss: 0.0025 - accuracy: 3.6988e-05 - mse: 0.0025 - mae: 0.0371 - rmse: 0.0400 - val_loss: 0.0024 - val_accuracy: 2.3118e-05 - val_mse: 0.0024 - val_mae: 0.0362 - val_rmse: 0.0390\n",
      "Epoch 71/250\n",
      "634/634 - 2s - loss: 0.0023 - accuracy: 0.4936 - mse: 0.0023 - mae: 0.0351 - rmse: 0.0379 - val_loss: 0.0022 - val_accuracy: 0.9435 - val_mse: 0.0022 - val_mae: 0.0343 - val_rmse: 0.0370\n",
      "Epoch 72/250\n",
      "634/634 - 2s - loss: 0.0021 - accuracy: 0.9438 - mse: 0.0021 - mae: 0.0333 - rmse: 0.0359 - val_loss: 0.0020 - val_accuracy: 0.9435 - val_mse: 0.0020 - val_mae: 0.0324 - val_rmse: 0.0351\n",
      "Epoch 73/250\n",
      "634/634 - 3s - loss: 0.0019 - accuracy: 0.9438 - mse: 0.0019 - mae: 0.0315 - rmse: 0.0342 - val_loss: 0.0018 - val_accuracy: 0.9435 - val_mse: 0.0018 - val_mae: 0.0308 - val_rmse: 0.0334\n",
      "Epoch 74/250\n",
      "634/634 - 2s - loss: 0.0018 - accuracy: 0.9438 - mse: 0.0018 - mae: 0.0299 - rmse: 0.0325 - val_loss: 0.0017 - val_accuracy: 0.9435 - val_mse: 0.0017 - val_mae: 0.0292 - val_rmse: 0.0317\n",
      "Epoch 75/250\n",
      "634/634 - 2s - loss: 0.0016 - accuracy: 0.9438 - mse: 0.0016 - mae: 0.0284 - rmse: 0.0309 - val_loss: 0.0015 - val_accuracy: 0.9435 - val_mse: 0.0015 - val_mae: 0.0277 - val_rmse: 0.0302\n",
      "Epoch 76/250\n",
      "634/634 - 2s - loss: 0.0015 - accuracy: 0.9438 - mse: 0.0015 - mae: 0.0269 - rmse: 0.0295 - val_loss: 0.0014 - val_accuracy: 0.9435 - val_mse: 0.0014 - val_mae: 0.0263 - val_rmse: 0.0288\n",
      "Epoch 77/250\n",
      "634/634 - 2s - loss: 0.0013 - accuracy: 0.9438 - mse: 0.0013 - mae: 0.0256 - rmse: 0.0281 - val_loss: 0.0013 - val_accuracy: 0.9435 - val_mse: 0.0013 - val_mae: 0.0250 - val_rmse: 0.0275\n",
      "Epoch 78/250\n",
      "634/634 - 2s - loss: 0.0012 - accuracy: 0.9438 - mse: 0.0012 - mae: 0.0243 - rmse: 0.0268 - val_loss: 0.0012 - val_accuracy: 0.9435 - val_mse: 0.0012 - val_mae: 0.0238 - val_rmse: 0.0262\n",
      "Epoch 79/250\n",
      "634/634 - 2s - loss: 0.0011 - accuracy: 0.9438 - mse: 0.0011 - mae: 0.0231 - rmse: 0.0256 - val_loss: 0.0011 - val_accuracy: 0.9435 - val_mse: 0.0011 - val_mae: 0.0226 - val_rmse: 0.0250\n",
      "Epoch 80/250\n",
      "634/634 - 2s - loss: 0.0010 - accuracy: 0.9438 - mse: 0.0010 - mae: 0.0220 - rmse: 0.0244 - val_loss: 9.8257e-04 - val_accuracy: 0.9435 - val_mse: 9.8257e-04 - val_mae: 0.0215 - val_rmse: 0.0239\n"
     ]
    },
    {
     "name": "stdout",
     "output_type": "stream",
     "text": [
      "Epoch 81/250\n",
      "634/634 - 2s - loss: 9.3802e-04 - accuracy: 0.9438 - mse: 9.3802e-04 - mae: 0.0209 - rmse: 0.0233 - val_loss: 9.0042e-04 - val_accuracy: 0.9435 - val_mse: 9.0042e-04 - val_mae: 0.0205 - val_rmse: 0.0228\n",
      "Epoch 82/250\n",
      "634/634 - 2s - loss: 8.6001e-04 - accuracy: 0.9438 - mse: 8.6001e-04 - mae: 0.0199 - rmse: 0.0223 - val_loss: 8.2596e-04 - val_accuracy: 0.9435 - val_mse: 8.2596e-04 - val_mae: 0.0195 - val_rmse: 0.0218\n",
      "Epoch 83/250\n",
      "634/634 - 2s - loss: 7.8935e-04 - accuracy: 0.9438 - mse: 7.8935e-04 - mae: 0.0190 - rmse: 0.0213 - val_loss: 7.5855e-04 - val_accuracy: 0.9435 - val_mse: 7.5855e-04 - val_mae: 0.0186 - val_rmse: 0.0209\n",
      "Epoch 84/250\n",
      "634/634 - 2s - loss: 7.2541e-04 - accuracy: 0.9438 - mse: 7.2541e-04 - mae: 0.0181 - rmse: 0.0204 - val_loss: 6.9758e-04 - val_accuracy: 0.9435 - val_mse: 6.9758e-04 - val_mae: 0.0177 - val_rmse: 0.0200\n",
      "Epoch 85/250\n",
      "634/634 - 2s - loss: 6.6762e-04 - accuracy: 0.9438 - mse: 6.6762e-04 - mae: 0.0172 - rmse: 0.0195 - val_loss: 6.4250e-04 - val_accuracy: 0.9435 - val_mse: 6.4250e-04 - val_mae: 0.0169 - val_rmse: 0.0192\n",
      "Epoch 86/250\n",
      "634/634 - 2s - loss: 6.1545e-04 - accuracy: 0.9438 - mse: 6.1545e-04 - mae: 0.0165 - rmse: 0.0187 - val_loss: 5.9281e-04 - val_accuracy: 0.9435 - val_mse: 5.9281e-04 - val_mae: 0.0161 - val_rmse: 0.0184\n",
      "Epoch 87/250\n",
      "634/634 - 3s - loss: 5.6842e-04 - accuracy: 0.9438 - mse: 5.6842e-04 - mae: 0.0157 - rmse: 0.0180 - val_loss: 5.4805e-04 - val_accuracy: 0.9435 - val_mse: 5.4805e-04 - val_mae: 0.0154 - val_rmse: 0.0177\n",
      "Epoch 88/250\n",
      "634/634 - 2s - loss: 5.2607e-04 - accuracy: 0.9438 - mse: 5.2607e-04 - mae: 0.0150 - rmse: 0.0173 - val_loss: 5.0777e-04 - val_accuracy: 0.9435 - val_mse: 5.0777e-04 - val_mae: 0.0147 - val_rmse: 0.0170\n",
      "Epoch 89/250\n",
      "634/634 - 2s - loss: 4.8798e-04 - accuracy: 0.9438 - mse: 4.8798e-04 - mae: 0.0143 - rmse: 0.0166 - val_loss: 4.7156e-04 - val_accuracy: 0.9435 - val_mse: 4.7156e-04 - val_mae: 0.0140 - val_rmse: 0.0163\n",
      "Epoch 90/250\n",
      "634/634 - 2s - loss: 4.5377e-04 - accuracy: 0.9438 - mse: 4.5377e-04 - mae: 0.0137 - rmse: 0.0160 - val_loss: 4.3905e-04 - val_accuracy: 0.9435 - val_mse: 4.3905e-04 - val_mae: 0.0134 - val_rmse: 0.0157\n",
      "Epoch 91/250\n",
      "634/634 - 2s - loss: 4.2306e-04 - accuracy: 0.9438 - mse: 4.2306e-04 - mae: 0.0131 - rmse: 0.0154 - val_loss: 4.0989e-04 - val_accuracy: 0.9435 - val_mse: 4.0989e-04 - val_mae: 0.0129 - val_rmse: 0.0152\n",
      "Epoch 92/250\n",
      "634/634 - 3s - loss: 3.9553e-04 - accuracy: 0.9438 - mse: 3.9553e-04 - mae: 0.0125 - rmse: 0.0148 - val_loss: 3.8374e-04 - val_accuracy: 0.9435 - val_mse: 3.8374e-04 - val_mae: 0.0123 - val_rmse: 0.0146\n",
      "Epoch 93/250\n",
      "634/634 - 3s - loss: 3.7084e-04 - accuracy: 0.9438 - mse: 3.7084e-04 - mae: 0.0120 - rmse: 0.0143 - val_loss: 3.6029e-04 - val_accuracy: 0.9435 - val_mse: 3.6029e-04 - val_mae: 0.0118 - val_rmse: 0.0141\n",
      "Epoch 94/250\n",
      "634/634 - 2s - loss: 3.4868e-04 - accuracy: 0.9438 - mse: 3.4868e-04 - mae: 0.0115 - rmse: 0.0138 - val_loss: 3.3924e-04 - val_accuracy: 0.9435 - val_mse: 3.3924e-04 - val_mae: 0.0113 - val_rmse: 0.0136\n",
      "Epoch 95/250\n",
      "634/634 - 2s - loss: 3.2880e-04 - accuracy: 0.9438 - mse: 3.2880e-04 - mae: 0.0110 - rmse: 0.0133 - val_loss: 3.2034e-04 - val_accuracy: 0.9435 - val_mse: 3.2034e-04 - val_mae: 0.0108 - val_rmse: 0.0131\n",
      "Epoch 96/250\n",
      "634/634 - 3s - loss: 3.1094e-04 - accuracy: 0.9438 - mse: 3.1094e-04 - mae: 0.0106 - rmse: 0.0129 - val_loss: 3.0337e-04 - val_accuracy: 0.9435 - val_mse: 3.0337e-04 - val_mae: 0.0104 - val_rmse: 0.0127\n",
      "Epoch 97/250\n",
      "634/634 - 2s - loss: 2.9490e-04 - accuracy: 0.9438 - mse: 2.9490e-04 - mae: 0.0101 - rmse: 0.0125 - val_loss: 2.8813e-04 - val_accuracy: 0.9435 - val_mse: 2.8813e-04 - val_mae: 0.0100 - val_rmse: 0.0123\n",
      "Epoch 98/250\n",
      "634/634 - 2s - loss: 2.8051e-04 - accuracy: 0.9438 - mse: 2.8051e-04 - mae: 0.0097 - rmse: 0.0120 - val_loss: 2.7444e-04 - val_accuracy: 0.9435 - val_mse: 2.7444e-04 - val_mae: 0.0096 - val_rmse: 0.0119\n",
      "Epoch 99/250\n",
      "634/634 - 2s - loss: 2.6758e-04 - accuracy: 0.9438 - mse: 2.6758e-04 - mae: 0.0093 - rmse: 0.0117 - val_loss: 2.6216e-04 - val_accuracy: 0.9435 - val_mse: 2.6216e-04 - val_mae: 0.0092 - val_rmse: 0.0115\n",
      "Epoch 100/250\n",
      "634/634 - 2s - loss: 2.5597e-04 - accuracy: 0.9438 - mse: 2.5597e-04 - mae: 0.0090 - rmse: 0.0113 - val_loss: 2.5112e-04 - val_accuracy: 0.9435 - val_mse: 2.5112e-04 - val_mae: 0.0088 - val_rmse: 0.0112\n",
      "Epoch 101/250\n",
      "634/634 - 2s - loss: 2.4554e-04 - accuracy: 0.9438 - mse: 2.4554e-04 - mae: 0.0086 - rmse: 0.0110 - val_loss: 2.4120e-04 - val_accuracy: 0.9435 - val_mse: 2.4120e-04 - val_mae: 0.0085 - val_rmse: 0.0108\n",
      "Epoch 102/250\n",
      "634/634 - 2s - loss: 2.3615e-04 - accuracy: 0.9438 - mse: 2.3615e-04 - mae: 0.0083 - rmse: 0.0106 - val_loss: 2.3225e-04 - val_accuracy: 0.9435 - val_mse: 2.3225e-04 - val_mae: 0.0082 - val_rmse: 0.0105\n",
      "Epoch 103/250\n",
      "634/634 - 2s - loss: 2.2766e-04 - accuracy: 0.9438 - mse: 2.2766e-04 - mae: 0.0080 - rmse: 0.0103 - val_loss: 2.2415e-04 - val_accuracy: 0.9435 - val_mse: 2.2415e-04 - val_mae: 0.0079 - val_rmse: 0.0102\n",
      "Epoch 104/250\n",
      "634/634 - 2s - loss: 2.1999e-04 - accuracy: 0.9438 - mse: 2.1999e-04 - mae: 0.0077 - rmse: 0.0100 - val_loss: 2.1682e-04 - val_accuracy: 0.9435 - val_mse: 2.1682e-04 - val_mae: 0.0076 - val_rmse: 0.0099\n",
      "Epoch 105/250\n",
      "634/634 - 2s - loss: 2.1302e-04 - accuracy: 0.9438 - mse: 2.1302e-04 - mae: 0.0074 - rmse: 0.0098 - val_loss: 2.1016e-04 - val_accuracy: 0.9435 - val_mse: 2.1016e-04 - val_mae: 0.0073 - val_rmse: 0.0097\n",
      "Epoch 106/250\n",
      "634/634 - 2s - loss: 2.0670e-04 - accuracy: 0.9438 - mse: 2.0670e-04 - mae: 0.0072 - rmse: 0.0095 - val_loss: 2.0410e-04 - val_accuracy: 0.9435 - val_mse: 2.0410e-04 - val_mae: 0.0071 - val_rmse: 0.0094\n",
      "Epoch 107/250\n",
      "634/634 - 2s - loss: 2.0094e-04 - accuracy: 0.9438 - mse: 2.0094e-04 - mae: 0.0069 - rmse: 0.0093 - val_loss: 1.9859e-04 - val_accuracy: 0.9435 - val_mse: 1.9859e-04 - val_mae: 0.0069 - val_rmse: 0.0092\n",
      "Epoch 108/250\n",
      "634/634 - 2s - loss: 1.9570e-04 - accuracy: 0.9438 - mse: 1.9570e-04 - mae: 0.0067 - rmse: 0.0091 - val_loss: 1.9356e-04 - val_accuracy: 0.9435 - val_mse: 1.9356e-04 - val_mae: 0.0066 - val_rmse: 0.0090\n",
      "Epoch 109/250\n",
      "634/634 - 2s - loss: 1.9091e-04 - accuracy: 0.9438 - mse: 1.9091e-04 - mae: 0.0065 - rmse: 0.0089 - val_loss: 1.8896e-04 - val_accuracy: 0.9435 - val_mse: 1.8896e-04 - val_mae: 0.0064 - val_rmse: 0.0088\n",
      "Epoch 110/250\n",
      "634/634 - 2s - loss: 1.8653e-04 - accuracy: 0.9438 - mse: 1.8653e-04 - mae: 0.0063 - rmse: 0.0087 - val_loss: 1.8476e-04 - val_accuracy: 0.9435 - val_mse: 1.8476e-04 - val_mae: 0.0063 - val_rmse: 0.0087\n",
      "Epoch 111/250\n",
      "634/634 - 2s - loss: 1.8253e-04 - accuracy: 0.9438 - mse: 1.8253e-04 - mae: 0.0062 - rmse: 0.0086 - val_loss: 1.8090e-04 - val_accuracy: 0.9435 - val_mse: 1.8090e-04 - val_mae: 0.0061 - val_rmse: 0.0086\n",
      "Epoch 112/250\n",
      "634/634 - 3s - loss: 1.7885e-04 - accuracy: 0.9438 - mse: 1.7885e-04 - mae: 0.0060 - rmse: 0.0085 - val_loss: 1.7735e-04 - val_accuracy: 0.9435 - val_mse: 1.7735e-04 - val_mae: 0.0060 - val_rmse: 0.0084\n",
      "Epoch 113/250\n",
      "634/634 - 3s - loss: 1.7545e-04 - accuracy: 0.9438 - mse: 1.7545e-04 - mae: 0.0059 - rmse: 0.0084 - val_loss: 1.7406e-04 - val_accuracy: 0.9435 - val_mse: 1.7406e-04 - val_mae: 0.0059 - val_rmse: 0.0083\n",
      "Epoch 114/250\n",
      "634/634 - 3s - loss: 1.7229e-04 - accuracy: 0.9438 - mse: 1.7229e-04 - mae: 0.0058 - rmse: 0.0083 - val_loss: 1.7099e-04 - val_accuracy: 0.9435 - val_mse: 1.7099e-04 - val_mae: 0.0058 - val_rmse: 0.0083\n",
      "Epoch 115/250\n",
      "634/634 - 2s - loss: 1.6932e-04 - accuracy: 0.9438 - mse: 1.6932e-04 - mae: 0.0057 - rmse: 0.0082 - val_loss: 1.6809e-04 - val_accuracy: 0.9435 - val_mse: 1.6809e-04 - val_mae: 0.0057 - val_rmse: 0.0082\n",
      "Epoch 116/250\n",
      "634/634 - 2s - loss: 1.6652e-04 - accuracy: 0.9438 - mse: 1.6652e-04 - mae: 0.0057 - rmse: 0.0081 - val_loss: 1.6535e-04 - val_accuracy: 0.9435 - val_mse: 1.6535e-04 - val_mae: 0.0056 - val_rmse: 0.0081\n",
      "Epoch 117/250\n",
      "634/634 - 3s - loss: 1.6388e-04 - accuracy: 0.9438 - mse: 1.6388e-04 - mae: 0.0056 - rmse: 0.0081 - val_loss: 1.6276e-04 - val_accuracy: 0.9435 - val_mse: 1.6276e-04 - val_mae: 0.0056 - val_rmse: 0.0081\n",
      "Epoch 118/250\n",
      "634/634 - 2s - loss: 1.6138e-04 - accuracy: 0.9438 - mse: 1.6138e-04 - mae: 0.0055 - rmse: 0.0080 - val_loss: 1.6033e-04 - val_accuracy: 0.9435 - val_mse: 1.6033e-04 - val_mae: 0.0055 - val_rmse: 0.0080\n"
     ]
    },
    {
     "name": "stdout",
     "output_type": "stream",
     "text": [
      "Epoch 119/250\n",
      "634/634 - 2s - loss: 1.5904e-04 - accuracy: 0.9438 - mse: 1.5904e-04 - mae: 0.0055 - rmse: 0.0080 - val_loss: 1.5804e-04 - val_accuracy: 0.9435 - val_mse: 1.5804e-04 - val_mae: 0.0054 - val_rmse: 0.0080\n",
      "Epoch 120/250\n",
      "634/634 - 2s - loss: 1.5685e-04 - accuracy: 0.9438 - mse: 1.5685e-04 - mae: 0.0054 - rmse: 0.0079 - val_loss: 1.5590e-04 - val_accuracy: 0.9435 - val_mse: 1.5590e-04 - val_mae: 0.0054 - val_rmse: 0.0079\n",
      "Epoch 121/250\n",
      "634/634 - 3s - loss: 1.5480e-04 - accuracy: 0.9438 - mse: 1.5480e-04 - mae: 0.0053 - rmse: 0.0079 - val_loss: 1.5390e-04 - val_accuracy: 0.9435 - val_mse: 1.5390e-04 - val_mae: 0.0053 - val_rmse: 0.0079\n",
      "Epoch 122/250\n",
      "634/634 - 3s - loss: 1.5288e-04 - accuracy: 0.9438 - mse: 1.5288e-04 - mae: 0.0053 - rmse: 0.0079 - val_loss: 1.5203e-04 - val_accuracy: 0.9435 - val_mse: 1.5203e-04 - val_mae: 0.0053 - val_rmse: 0.0079\n",
      "Epoch 123/250\n",
      "634/634 - 3s - loss: 1.5108e-04 - accuracy: 0.9438 - mse: 1.5108e-04 - mae: 0.0053 - rmse: 0.0079 - val_loss: 1.5028e-04 - val_accuracy: 0.9435 - val_mse: 1.5028e-04 - val_mae: 0.0052 - val_rmse: 0.0079\n",
      "Epoch 124/250\n",
      "634/634 - 3s - loss: 1.4941e-04 - accuracy: 0.9438 - mse: 1.4941e-04 - mae: 0.0052 - rmse: 0.0078 - val_loss: 1.4865e-04 - val_accuracy: 0.9435 - val_mse: 1.4865e-04 - val_mae: 0.0052 - val_rmse: 0.0078\n",
      "Epoch 125/250\n",
      "634/634 - 3s - loss: 1.4784e-04 - accuracy: 0.9438 - mse: 1.4784e-04 - mae: 0.0052 - rmse: 0.0078 - val_loss: 1.4712e-04 - val_accuracy: 0.9435 - val_mse: 1.4712e-04 - val_mae: 0.0052 - val_rmse: 0.0078\n",
      "Epoch 126/250\n",
      "634/634 - 3s - loss: 1.4637e-04 - accuracy: 0.9438 - mse: 1.4637e-04 - mae: 0.0051 - rmse: 0.0078 - val_loss: 1.4569e-04 - val_accuracy: 0.9435 - val_mse: 1.4569e-04 - val_mae: 0.0051 - val_rmse: 0.0078\n",
      "Epoch 127/250\n",
      "634/634 - 3s - loss: 1.4500e-04 - accuracy: 0.9438 - mse: 1.4500e-04 - mae: 0.0051 - rmse: 0.0078 - val_loss: 1.4435e-04 - val_accuracy: 0.9435 - val_mse: 1.4435e-04 - val_mae: 0.0051 - val_rmse: 0.0078\n",
      "Epoch 128/250\n",
      "634/634 - 2s - loss: 1.4372e-04 - accuracy: 0.9438 - mse: 1.4372e-04 - mae: 0.0051 - rmse: 0.0077 - val_loss: 1.4310e-04 - val_accuracy: 0.9435 - val_mse: 1.4310e-04 - val_mae: 0.0051 - val_rmse: 0.0077\n",
      "Epoch 129/250\n",
      "634/634 - 2s - loss: 1.4252e-04 - accuracy: 0.9438 - mse: 1.4252e-04 - mae: 0.0050 - rmse: 0.0077 - val_loss: 1.4193e-04 - val_accuracy: 0.9435 - val_mse: 1.4193e-04 - val_mae: 0.0050 - val_rmse: 0.0077\n",
      "Epoch 130/250\n",
      "634/634 - 3s - loss: 1.4141e-04 - accuracy: 0.9438 - mse: 1.4141e-04 - mae: 0.0050 - rmse: 0.0077 - val_loss: 1.4085e-04 - val_accuracy: 0.9435 - val_mse: 1.4085e-04 - val_mae: 0.0050 - val_rmse: 0.0077\n",
      "Epoch 131/250\n",
      "634/634 - 3s - loss: 1.4037e-04 - accuracy: 0.9438 - mse: 1.4037e-04 - mae: 0.0050 - rmse: 0.0077 - val_loss: 1.3983e-04 - val_accuracy: 0.9435 - val_mse: 1.3983e-04 - val_mae: 0.0050 - val_rmse: 0.0077\n",
      "Epoch 132/250\n",
      "634/634 - 3s - loss: 1.3940e-04 - accuracy: 0.9438 - mse: 1.3940e-04 - mae: 0.0049 - rmse: 0.0076 - val_loss: 1.3889e-04 - val_accuracy: 0.9435 - val_mse: 1.3889e-04 - val_mae: 0.0049 - val_rmse: 0.0076\n",
      "Epoch 133/250\n",
      "634/634 - 3s - loss: 1.3849e-04 - accuracy: 0.9438 - mse: 1.3849e-04 - mae: 0.0049 - rmse: 0.0076 - val_loss: 1.3801e-04 - val_accuracy: 0.9435 - val_mse: 1.3801e-04 - val_mae: 0.0049 - val_rmse: 0.0076\n",
      "Epoch 134/250\n",
      "634/634 - 3s - loss: 1.3765e-04 - accuracy: 0.9438 - mse: 1.3765e-04 - mae: 0.0049 - rmse: 0.0076 - val_loss: 1.3718e-04 - val_accuracy: 0.9435 - val_mse: 1.3718e-04 - val_mae: 0.0049 - val_rmse: 0.0076\n",
      "Epoch 135/250\n",
      "634/634 - 3s - loss: 1.3686e-04 - accuracy: 0.9438 - mse: 1.3686e-04 - mae: 0.0049 - rmse: 0.0076 - val_loss: 1.3642e-04 - val_accuracy: 0.9435 - val_mse: 1.3642e-04 - val_mae: 0.0049 - val_rmse: 0.0076\n",
      "Epoch 136/250\n",
      "634/634 - 3s - loss: 1.3613e-04 - accuracy: 0.9438 - mse: 1.3613e-04 - mae: 0.0048 - rmse: 0.0075 - val_loss: 1.3570e-04 - val_accuracy: 0.9435 - val_mse: 1.3570e-04 - val_mae: 0.0048 - val_rmse: 0.0075\n",
      "Epoch 137/250\n",
      "634/634 - 2s - loss: 1.3544e-04 - accuracy: 0.9438 - mse: 1.3544e-04 - mae: 0.0048 - rmse: 0.0075 - val_loss: 1.3504e-04 - val_accuracy: 0.9435 - val_mse: 1.3504e-04 - val_mae: 0.0048 - val_rmse: 0.0075\n",
      "Epoch 138/250\n",
      "634/634 - 2s - loss: 1.3481e-04 - accuracy: 0.9438 - mse: 1.3481e-04 - mae: 0.0048 - rmse: 0.0075 - val_loss: 1.3441e-04 - val_accuracy: 0.9435 - val_mse: 1.3441e-04 - val_mae: 0.0048 - val_rmse: 0.0075\n",
      "Epoch 139/250\n",
      "634/634 - 2s - loss: 1.3421e-04 - accuracy: 0.9438 - mse: 1.3421e-04 - mae: 0.0048 - rmse: 0.0075 - val_loss: 1.3383e-04 - val_accuracy: 0.9435 - val_mse: 1.3383e-04 - val_mae: 0.0048 - val_rmse: 0.0075\n",
      "Epoch 140/250\n",
      "634/634 - 3s - loss: 1.3365e-04 - accuracy: 0.9438 - mse: 1.3365e-04 - mae: 0.0047 - rmse: 0.0074 - val_loss: 1.3329e-04 - val_accuracy: 0.9435 - val_mse: 1.3329e-04 - val_mae: 0.0047 - val_rmse: 0.0075\n",
      "Epoch 141/250\n",
      "634/634 - 3s - loss: 1.3313e-04 - accuracy: 0.9438 - mse: 1.3313e-04 - mae: 0.0047 - rmse: 0.0074 - val_loss: 1.3278e-04 - val_accuracy: 0.9435 - val_mse: 1.3278e-04 - val_mae: 0.0047 - val_rmse: 0.0074\n",
      "Epoch 142/250\n",
      "634/634 - 2s - loss: 1.3264e-04 - accuracy: 0.9438 - mse: 1.3264e-04 - mae: 0.0047 - rmse: 0.0074 - val_loss: 1.3230e-04 - val_accuracy: 0.9435 - val_mse: 1.3230e-04 - val_mae: 0.0047 - val_rmse: 0.0074\n",
      "Epoch 143/250\n",
      "634/634 - 3s - loss: 1.3219e-04 - accuracy: 0.9438 - mse: 1.3219e-04 - mae: 0.0047 - rmse: 0.0074 - val_loss: 1.3186e-04 - val_accuracy: 0.9435 - val_mse: 1.3186e-04 - val_mae: 0.0047 - val_rmse: 0.0074\n",
      "Epoch 144/250\n",
      "634/634 - 2s - loss: 1.3176e-04 - accuracy: 0.9438 - mse: 1.3176e-04 - mae: 0.0046 - rmse: 0.0074 - val_loss: 1.3144e-04 - val_accuracy: 0.9435 - val_mse: 1.3144e-04 - val_mae: 0.0046 - val_rmse: 0.0074\n",
      "Epoch 145/250\n",
      "634/634 - 2s - loss: 1.3136e-04 - accuracy: 0.9438 - mse: 1.3136e-04 - mae: 0.0046 - rmse: 0.0073 - val_loss: 1.3105e-04 - val_accuracy: 0.9435 - val_mse: 1.3105e-04 - val_mae: 0.0046 - val_rmse: 0.0073\n",
      "Epoch 146/250\n",
      "634/634 - 3s - loss: 1.3098e-04 - accuracy: 0.9438 - mse: 1.3098e-04 - mae: 0.0046 - rmse: 0.0073 - val_loss: 1.3068e-04 - val_accuracy: 0.9435 - val_mse: 1.3068e-04 - val_mae: 0.0046 - val_rmse: 0.0073\n",
      "Epoch 147/250\n",
      "634/634 - 3s - loss: 1.3063e-04 - accuracy: 0.9438 - mse: 1.3063e-04 - mae: 0.0046 - rmse: 0.0073 - val_loss: 1.3034e-04 - val_accuracy: 0.9435 - val_mse: 1.3034e-04 - val_mae: 0.0046 - val_rmse: 0.0073\n",
      "Epoch 148/250\n",
      "634/634 - 3s - loss: 1.3030e-04 - accuracy: 0.9438 - mse: 1.3030e-04 - mae: 0.0045 - rmse: 0.0073 - val_loss: 1.3002e-04 - val_accuracy: 0.9435 - val_mse: 1.3002e-04 - val_mae: 0.0045 - val_rmse: 0.0073\n",
      "Epoch 149/250\n",
      "634/634 - 3s - loss: 1.2999e-04 - accuracy: 0.9438 - mse: 1.2999e-04 - mae: 0.0045 - rmse: 0.0073 - val_loss: 1.2972e-04 - val_accuracy: 0.9435 - val_mse: 1.2972e-04 - val_mae: 0.0045 - val_rmse: 0.0073\n",
      "Epoch 150/250\n",
      "634/634 - 3s - loss: 1.2971e-04 - accuracy: 0.9438 - mse: 1.2971e-04 - mae: 0.0045 - rmse: 0.0072 - val_loss: 1.2943e-04 - val_accuracy: 0.9435 - val_mse: 1.2943e-04 - val_mae: 0.0045 - val_rmse: 0.0072\n",
      "Epoch 151/250\n",
      "634/634 - 3s - loss: 1.2944e-04 - accuracy: 0.9438 - mse: 1.2944e-04 - mae: 0.0045 - rmse: 0.0072 - val_loss: 1.2917e-04 - val_accuracy: 0.9435 - val_mse: 1.2917e-04 - val_mae: 0.0045 - val_rmse: 0.0072\n",
      "Epoch 152/250\n",
      "634/634 - 3s - loss: 1.2918e-04 - accuracy: 0.9438 - mse: 1.2918e-04 - mae: 0.0045 - rmse: 0.0072 - val_loss: 1.2892e-04 - val_accuracy: 0.9435 - val_mse: 1.2892e-04 - val_mae: 0.0045 - val_rmse: 0.0072\n",
      "Epoch 153/250\n",
      "634/634 - 3s - loss: 1.2895e-04 - accuracy: 0.9438 - mse: 1.2895e-04 - mae: 0.0044 - rmse: 0.0072 - val_loss: 1.2869e-04 - val_accuracy: 0.9435 - val_mse: 1.2869e-04 - val_mae: 0.0044 - val_rmse: 0.0072\n",
      "Epoch 154/250\n",
      "634/634 - 3s - loss: 1.2872e-04 - accuracy: 0.9438 - mse: 1.2872e-04 - mae: 0.0044 - rmse: 0.0072 - val_loss: 1.2848e-04 - val_accuracy: 0.9435 - val_mse: 1.2848e-04 - val_mae: 0.0044 - val_rmse: 0.0072\n",
      "Epoch 155/250\n",
      "634/634 - 3s - loss: 1.2852e-04 - accuracy: 0.9438 - mse: 1.2852e-04 - mae: 0.0044 - rmse: 0.0071 - val_loss: 1.2827e-04 - val_accuracy: 0.9435 - val_mse: 1.2827e-04 - val_mae: 0.0044 - val_rmse: 0.0072\n",
      "Epoch 156/250\n",
      "634/634 - 3s - loss: 1.2832e-04 - accuracy: 0.9438 - mse: 1.2832e-04 - mae: 0.0044 - rmse: 0.0071 - val_loss: 1.2808e-04 - val_accuracy: 0.9435 - val_mse: 1.2808e-04 - val_mae: 0.0044 - val_rmse: 0.0071\n"
     ]
    },
    {
     "name": "stdout",
     "output_type": "stream",
     "text": [
      "Epoch 157/250\n",
      "634/634 - 3s - loss: 1.2814e-04 - accuracy: 0.9438 - mse: 1.2814e-04 - mae: 0.0044 - rmse: 0.0071 - val_loss: 1.2791e-04 - val_accuracy: 0.9435 - val_mse: 1.2791e-04 - val_mae: 0.0044 - val_rmse: 0.0071\n",
      "Epoch 158/250\n",
      "634/634 - 3s - loss: 1.2797e-04 - accuracy: 0.9438 - mse: 1.2797e-04 - mae: 0.0044 - rmse: 0.0071 - val_loss: 1.2774e-04 - val_accuracy: 0.9435 - val_mse: 1.2774e-04 - val_mae: 0.0044 - val_rmse: 0.0071\n",
      "Epoch 159/250\n",
      "634/634 - 3s - loss: 1.2781e-04 - accuracy: 0.9438 - mse: 1.2781e-04 - mae: 0.0044 - rmse: 0.0071 - val_loss: 1.2759e-04 - val_accuracy: 0.9435 - val_mse: 1.2759e-04 - val_mae: 0.0044 - val_rmse: 0.0071\n",
      "Epoch 160/250\n",
      "634/634 - 3s - loss: 1.2767e-04 - accuracy: 0.9438 - mse: 1.2767e-04 - mae: 0.0043 - rmse: 0.0071 - val_loss: 1.2744e-04 - val_accuracy: 0.9435 - val_mse: 1.2744e-04 - val_mae: 0.0043 - val_rmse: 0.0071\n",
      "Epoch 161/250\n",
      "634/634 - 3s - loss: 1.2753e-04 - accuracy: 0.9438 - mse: 1.2753e-04 - mae: 0.0043 - rmse: 0.0071 - val_loss: 1.2731e-04 - val_accuracy: 0.9435 - val_mse: 1.2731e-04 - val_mae: 0.0043 - val_rmse: 0.0071\n",
      "Epoch 162/250\n",
      "634/634 - 3s - loss: 1.2740e-04 - accuracy: 0.9438 - mse: 1.2740e-04 - mae: 0.0043 - rmse: 0.0070 - val_loss: 1.2718e-04 - val_accuracy: 0.9435 - val_mse: 1.2718e-04 - val_mae: 0.0043 - val_rmse: 0.0071\n",
      "Epoch 163/250\n",
      "634/634 - 3s - loss: 1.2728e-04 - accuracy: 0.9438 - mse: 1.2728e-04 - mae: 0.0043 - rmse: 0.0070 - val_loss: 1.2706e-04 - val_accuracy: 0.9435 - val_mse: 1.2706e-04 - val_mae: 0.0043 - val_rmse: 0.0070\n",
      "Epoch 164/250\n",
      "634/634 - 3s - loss: 1.2716e-04 - accuracy: 0.9438 - mse: 1.2716e-04 - mae: 0.0043 - rmse: 0.0070 - val_loss: 1.2695e-04 - val_accuracy: 0.9435 - val_mse: 1.2695e-04 - val_mae: 0.0043 - val_rmse: 0.0070\n",
      "Epoch 165/250\n",
      "634/634 - 3s - loss: 1.2705e-04 - accuracy: 0.9438 - mse: 1.2705e-04 - mae: 0.0043 - rmse: 0.0070 - val_loss: 1.2684e-04 - val_accuracy: 0.9435 - val_mse: 1.2684e-04 - val_mae: 0.0043 - val_rmse: 0.0070\n",
      "Epoch 166/250\n",
      "634/634 - 3s - loss: 1.2695e-04 - accuracy: 0.9438 - mse: 1.2695e-04 - mae: 0.0043 - rmse: 0.0070 - val_loss: 1.2674e-04 - val_accuracy: 0.9435 - val_mse: 1.2674e-04 - val_mae: 0.0043 - val_rmse: 0.0070\n",
      "Epoch 167/250\n",
      "634/634 - 3s - loss: 1.2686e-04 - accuracy: 0.9438 - mse: 1.2686e-04 - mae: 0.0043 - rmse: 0.0070 - val_loss: 1.2665e-04 - val_accuracy: 0.9435 - val_mse: 1.2665e-04 - val_mae: 0.0043 - val_rmse: 0.0070\n",
      "Epoch 168/250\n",
      "634/634 - 3s - loss: 1.2677e-04 - accuracy: 0.9438 - mse: 1.2677e-04 - mae: 0.0043 - rmse: 0.0070 - val_loss: 1.2656e-04 - val_accuracy: 0.9435 - val_mse: 1.2656e-04 - val_mae: 0.0043 - val_rmse: 0.0070\n",
      "Epoch 169/250\n",
      "634/634 - 3s - loss: 1.2668e-04 - accuracy: 0.9438 - mse: 1.2668e-04 - mae: 0.0043 - rmse: 0.0070 - val_loss: 1.2648e-04 - val_accuracy: 0.9435 - val_mse: 1.2648e-04 - val_mae: 0.0043 - val_rmse: 0.0070\n",
      "Epoch 170/250\n",
      "634/634 - 3s - loss: 1.2660e-04 - accuracy: 0.9438 - mse: 1.2660e-04 - mae: 0.0043 - rmse: 0.0070 - val_loss: 1.2640e-04 - val_accuracy: 0.9435 - val_mse: 1.2640e-04 - val_mae: 0.0043 - val_rmse: 0.0070\n",
      "Epoch 171/250\n",
      "634/634 - 3s - loss: 1.2653e-04 - accuracy: 0.9438 - mse: 1.2653e-04 - mae: 0.0042 - rmse: 0.0070 - val_loss: 1.2633e-04 - val_accuracy: 0.9435 - val_mse: 1.2633e-04 - val_mae: 0.0043 - val_rmse: 0.0070\n",
      "Epoch 172/250\n",
      "634/634 - 3s - loss: 1.2646e-04 - accuracy: 0.9438 - mse: 1.2646e-04 - mae: 0.0042 - rmse: 0.0069 - val_loss: 1.2626e-04 - val_accuracy: 0.9435 - val_mse: 1.2626e-04 - val_mae: 0.0042 - val_rmse: 0.0070\n",
      "Epoch 173/250\n",
      "634/634 - 3s - loss: 1.2639e-04 - accuracy: 0.9438 - mse: 1.2639e-04 - mae: 0.0042 - rmse: 0.0069 - val_loss: 1.2619e-04 - val_accuracy: 0.9435 - val_mse: 1.2619e-04 - val_mae: 0.0042 - val_rmse: 0.0069\n",
      "Epoch 174/250\n",
      "634/634 - 3s - loss: 1.2632e-04 - accuracy: 0.9438 - mse: 1.2632e-04 - mae: 0.0042 - rmse: 0.0069 - val_loss: 1.2613e-04 - val_accuracy: 0.9435 - val_mse: 1.2613e-04 - val_mae: 0.0042 - val_rmse: 0.0069\n",
      "Epoch 175/250\n",
      "634/634 - 3s - loss: 1.2626e-04 - accuracy: 0.9438 - mse: 1.2626e-04 - mae: 0.0042 - rmse: 0.0069 - val_loss: 1.2607e-04 - val_accuracy: 0.9435 - val_mse: 1.2607e-04 - val_mae: 0.0042 - val_rmse: 0.0069\n",
      "Epoch 176/250\n",
      "634/634 - 2s - loss: 1.2620e-04 - accuracy: 0.9438 - mse: 1.2620e-04 - mae: 0.0042 - rmse: 0.0069 - val_loss: 1.2601e-04 - val_accuracy: 0.9435 - val_mse: 1.2601e-04 - val_mae: 0.0042 - val_rmse: 0.0069\n",
      "Epoch 177/250\n",
      "634/634 - 3s - loss: 1.2615e-04 - accuracy: 0.9438 - mse: 1.2615e-04 - mae: 0.0042 - rmse: 0.0069 - val_loss: 1.2595e-04 - val_accuracy: 0.9435 - val_mse: 1.2595e-04 - val_mae: 0.0042 - val_rmse: 0.0069\n",
      "Epoch 178/250\n",
      "634/634 - 3s - loss: 1.2609e-04 - accuracy: 0.9438 - mse: 1.2609e-04 - mae: 0.0042 - rmse: 0.0069 - val_loss: 1.2590e-04 - val_accuracy: 0.9435 - val_mse: 1.2590e-04 - val_mae: 0.0042 - val_rmse: 0.0069\n",
      "Epoch 179/250\n",
      "634/634 - 3s - loss: 1.2604e-04 - accuracy: 0.9438 - mse: 1.2604e-04 - mae: 0.0042 - rmse: 0.0069 - val_loss: 1.2585e-04 - val_accuracy: 0.9435 - val_mse: 1.2585e-04 - val_mae: 0.0042 - val_rmse: 0.0069\n",
      "Epoch 180/250\n",
      "634/634 - 3s - loss: 1.2599e-04 - accuracy: 0.9438 - mse: 1.2599e-04 - mae: 0.0042 - rmse: 0.0069 - val_loss: 1.2580e-04 - val_accuracy: 0.9435 - val_mse: 1.2580e-04 - val_mae: 0.0042 - val_rmse: 0.0069\n",
      "Epoch 181/250\n",
      "634/634 - 3s - loss: 1.2595e-04 - accuracy: 0.9438 - mse: 1.2595e-04 - mae: 0.0042 - rmse: 0.0069 - val_loss: 1.2575e-04 - val_accuracy: 0.9435 - val_mse: 1.2575e-04 - val_mae: 0.0042 - val_rmse: 0.0069\n",
      "Epoch 182/250\n",
      "634/634 - 2s - loss: 1.2590e-04 - accuracy: 0.9438 - mse: 1.2590e-04 - mae: 0.0042 - rmse: 0.0069 - val_loss: 1.2571e-04 - val_accuracy: 0.9435 - val_mse: 1.2571e-04 - val_mae: 0.0042 - val_rmse: 0.0069\n",
      "Epoch 183/250\n",
      "634/634 - 3s - loss: 1.2586e-04 - accuracy: 0.9438 - mse: 1.2586e-04 - mae: 0.0042 - rmse: 0.0069 - val_loss: 1.2566e-04 - val_accuracy: 0.9435 - val_mse: 1.2566e-04 - val_mae: 0.0042 - val_rmse: 0.0069\n",
      "Epoch 184/250\n",
      "634/634 - 3s - loss: 1.2581e-04 - accuracy: 0.9438 - mse: 1.2581e-04 - mae: 0.0042 - rmse: 0.0069 - val_loss: 1.2562e-04 - val_accuracy: 0.9435 - val_mse: 1.2562e-04 - val_mae: 0.0042 - val_rmse: 0.0069\n",
      "Epoch 185/250\n",
      "634/634 - 3s - loss: 1.2577e-04 - accuracy: 0.9438 - mse: 1.2577e-04 - mae: 0.0042 - rmse: 0.0069 - val_loss: 1.2558e-04 - val_accuracy: 0.9435 - val_mse: 1.2558e-04 - val_mae: 0.0042 - val_rmse: 0.0069\n",
      "Epoch 186/250\n",
      "634/634 - 3s - loss: 1.2573e-04 - accuracy: 0.9438 - mse: 1.2573e-04 - mae: 0.0042 - rmse: 0.0069 - val_loss: 1.2554e-04 - val_accuracy: 0.9435 - val_mse: 1.2554e-04 - val_mae: 0.0042 - val_rmse: 0.0069\n",
      "Epoch 187/250\n",
      "634/634 - 3s - loss: 1.2569e-04 - accuracy: 0.9438 - mse: 1.2569e-04 - mae: 0.0042 - rmse: 0.0068 - val_loss: 1.2550e-04 - val_accuracy: 0.9435 - val_mse: 1.2550e-04 - val_mae: 0.0042 - val_rmse: 0.0069\n",
      "Epoch 188/250\n",
      "634/634 - 3s - loss: 1.2566e-04 - accuracy: 0.9438 - mse: 1.2566e-04 - mae: 0.0042 - rmse: 0.0068 - val_loss: 1.2546e-04 - val_accuracy: 0.9435 - val_mse: 1.2546e-04 - val_mae: 0.0042 - val_rmse: 0.0069\n",
      "Epoch 189/250\n",
      "634/634 - 2s - loss: 1.2562e-04 - accuracy: 0.9438 - mse: 1.2562e-04 - mae: 0.0042 - rmse: 0.0068 - val_loss: 1.2543e-04 - val_accuracy: 0.9435 - val_mse: 1.2543e-04 - val_mae: 0.0042 - val_rmse: 0.0069\n",
      "Epoch 190/250\n",
      "634/634 - 3s - loss: 1.2558e-04 - accuracy: 0.9438 - mse: 1.2558e-04 - mae: 0.0042 - rmse: 0.0068 - val_loss: 1.2539e-04 - val_accuracy: 0.9435 - val_mse: 1.2539e-04 - val_mae: 0.0042 - val_rmse: 0.0068\n",
      "Epoch 191/250\n",
      "634/634 - 2s - loss: 1.2555e-04 - accuracy: 0.9438 - mse: 1.2555e-04 - mae: 0.0041 - rmse: 0.0068 - val_loss: 1.2536e-04 - val_accuracy: 0.9435 - val_mse: 1.2536e-04 - val_mae: 0.0042 - val_rmse: 0.0068\n",
      "Epoch 192/250\n",
      "634/634 - 2s - loss: 1.2551e-04 - accuracy: 0.9438 - mse: 1.2551e-04 - mae: 0.0041 - rmse: 0.0068 - val_loss: 1.2532e-04 - val_accuracy: 0.9435 - val_mse: 1.2532e-04 - val_mae: 0.0042 - val_rmse: 0.0068\n",
      "Epoch 193/250\n",
      "634/634 - 3s - loss: 1.2548e-04 - accuracy: 0.9438 - mse: 1.2548e-04 - mae: 0.0041 - rmse: 0.0068 - val_loss: 1.2529e-04 - val_accuracy: 0.9435 - val_mse: 1.2529e-04 - val_mae: 0.0041 - val_rmse: 0.0068\n",
      "Epoch 194/250\n",
      "634/634 - 2s - loss: 1.2545e-04 - accuracy: 0.9438 - mse: 1.2545e-04 - mae: 0.0041 - rmse: 0.0068 - val_loss: 1.2525e-04 - val_accuracy: 0.9435 - val_mse: 1.2525e-04 - val_mae: 0.0041 - val_rmse: 0.0068\n"
     ]
    },
    {
     "name": "stdout",
     "output_type": "stream",
     "text": [
      "Epoch 195/250\n",
      "634/634 - 3s - loss: 1.2542e-04 - accuracy: 0.9438 - mse: 1.2542e-04 - mae: 0.0041 - rmse: 0.0068 - val_loss: 1.2522e-04 - val_accuracy: 0.9435 - val_mse: 1.2522e-04 - val_mae: 0.0041 - val_rmse: 0.0068\n",
      "Epoch 196/250\n",
      "634/634 - 2s - loss: 1.2538e-04 - accuracy: 0.9438 - mse: 1.2538e-04 - mae: 0.0041 - rmse: 0.0068 - val_loss: 1.2519e-04 - val_accuracy: 0.9435 - val_mse: 1.2519e-04 - val_mae: 0.0041 - val_rmse: 0.0068\n",
      "Epoch 197/250\n",
      "634/634 - 2s - loss: 1.2535e-04 - accuracy: 0.9438 - mse: 1.2535e-04 - mae: 0.0041 - rmse: 0.0068 - val_loss: 1.2516e-04 - val_accuracy: 0.9435 - val_mse: 1.2516e-04 - val_mae: 0.0041 - val_rmse: 0.0068\n",
      "Epoch 198/250\n",
      "634/634 - 3s - loss: 1.2532e-04 - accuracy: 0.9438 - mse: 1.2532e-04 - mae: 0.0041 - rmse: 0.0068 - val_loss: 1.2513e-04 - val_accuracy: 0.9435 - val_mse: 1.2513e-04 - val_mae: 0.0041 - val_rmse: 0.0068\n",
      "Epoch 199/250\n",
      "634/634 - 3s - loss: 1.2529e-04 - accuracy: 0.9438 - mse: 1.2529e-04 - mae: 0.0041 - rmse: 0.0068 - val_loss: 1.2510e-04 - val_accuracy: 0.9435 - val_mse: 1.2510e-04 - val_mae: 0.0041 - val_rmse: 0.0068\n",
      "Epoch 200/250\n",
      "634/634 - 3s - loss: 1.2526e-04 - accuracy: 0.9438 - mse: 1.2526e-04 - mae: 0.0041 - rmse: 0.0068 - val_loss: 1.2507e-04 - val_accuracy: 0.9435 - val_mse: 1.2507e-04 - val_mae: 0.0041 - val_rmse: 0.0068\n",
      "Epoch 201/250\n",
      "634/634 - 3s - loss: 1.2523e-04 - accuracy: 0.9438 - mse: 1.2523e-04 - mae: 0.0041 - rmse: 0.0068 - val_loss: 1.2504e-04 - val_accuracy: 0.9435 - val_mse: 1.2504e-04 - val_mae: 0.0041 - val_rmse: 0.0068\n",
      "Epoch 202/250\n",
      "634/634 - 3s - loss: 1.2521e-04 - accuracy: 0.9438 - mse: 1.2521e-04 - mae: 0.0041 - rmse: 0.0068 - val_loss: 1.2501e-04 - val_accuracy: 0.9435 - val_mse: 1.2501e-04 - val_mae: 0.0041 - val_rmse: 0.0068\n",
      "Epoch 203/250\n",
      "634/634 - 3s - loss: 1.2518e-04 - accuracy: 0.9438 - mse: 1.2518e-04 - mae: 0.0041 - rmse: 0.0068 - val_loss: 1.2498e-04 - val_accuracy: 0.9435 - val_mse: 1.2498e-04 - val_mae: 0.0041 - val_rmse: 0.0068\n",
      "Epoch 204/250\n",
      "634/634 - 3s - loss: 1.2515e-04 - accuracy: 0.9438 - mse: 1.2515e-04 - mae: 0.0041 - rmse: 0.0068 - val_loss: 1.2496e-04 - val_accuracy: 0.9435 - val_mse: 1.2496e-04 - val_mae: 0.0041 - val_rmse: 0.0068\n",
      "Epoch 205/250\n",
      "634/634 - 3s - loss: 1.2512e-04 - accuracy: 0.9438 - mse: 1.2512e-04 - mae: 0.0041 - rmse: 0.0068 - val_loss: 1.2493e-04 - val_accuracy: 0.9435 - val_mse: 1.2493e-04 - val_mae: 0.0041 - val_rmse: 0.0068\n",
      "Epoch 206/250\n",
      "634/634 - 2s - loss: 1.2510e-04 - accuracy: 0.9438 - mse: 1.2510e-04 - mae: 0.0041 - rmse: 0.0068 - val_loss: 1.2490e-04 - val_accuracy: 0.9435 - val_mse: 1.2490e-04 - val_mae: 0.0041 - val_rmse: 0.0068\n",
      "Epoch 207/250\n",
      "634/634 - 2s - loss: 1.2507e-04 - accuracy: 0.9438 - mse: 1.2507e-04 - mae: 0.0041 - rmse: 0.0068 - val_loss: 1.2487e-04 - val_accuracy: 0.9435 - val_mse: 1.2487e-04 - val_mae: 0.0041 - val_rmse: 0.0068\n",
      "Epoch 208/250\n",
      "634/634 - 3s - loss: 1.2504e-04 - accuracy: 0.9438 - mse: 1.2504e-04 - mae: 0.0041 - rmse: 0.0068 - val_loss: 1.2485e-04 - val_accuracy: 0.9435 - val_mse: 1.2485e-04 - val_mae: 0.0041 - val_rmse: 0.0068\n",
      "Epoch 209/250\n",
      "634/634 - 3s - loss: 1.2502e-04 - accuracy: 0.9438 - mse: 1.2502e-04 - mae: 0.0041 - rmse: 0.0068 - val_loss: 1.2482e-04 - val_accuracy: 0.9435 - val_mse: 1.2482e-04 - val_mae: 0.0041 - val_rmse: 0.0068\n",
      "Epoch 210/250\n",
      "634/634 - 3s - loss: 1.2499e-04 - accuracy: 0.9438 - mse: 1.2499e-04 - mae: 0.0041 - rmse: 0.0068 - val_loss: 1.2479e-04 - val_accuracy: 0.9435 - val_mse: 1.2479e-04 - val_mae: 0.0041 - val_rmse: 0.0068\n",
      "Epoch 211/250\n",
      "634/634 - 3s - loss: 1.2496e-04 - accuracy: 0.9438 - mse: 1.2496e-04 - mae: 0.0041 - rmse: 0.0068 - val_loss: 1.2477e-04 - val_accuracy: 0.9435 - val_mse: 1.2477e-04 - val_mae: 0.0041 - val_rmse: 0.0068\n",
      "Epoch 212/250\n",
      "634/634 - 3s - loss: 1.2494e-04 - accuracy: 0.9438 - mse: 1.2494e-04 - mae: 0.0041 - rmse: 0.0068 - val_loss: 1.2474e-04 - val_accuracy: 0.9435 - val_mse: 1.2474e-04 - val_mae: 0.0041 - val_rmse: 0.0068\n",
      "Epoch 213/250\n",
      "634/634 - 3s - loss: 1.2491e-04 - accuracy: 0.9438 - mse: 1.2491e-04 - mae: 0.0041 - rmse: 0.0068 - val_loss: 1.2472e-04 - val_accuracy: 0.9435 - val_mse: 1.2472e-04 - val_mae: 0.0041 - val_rmse: 0.0068\n",
      "Epoch 214/250\n",
      "634/634 - 3s - loss: 1.2489e-04 - accuracy: 0.9438 - mse: 1.2489e-04 - mae: 0.0041 - rmse: 0.0068 - val_loss: 1.2469e-04 - val_accuracy: 0.9435 - val_mse: 1.2469e-04 - val_mae: 0.0041 - val_rmse: 0.0068\n",
      "Epoch 215/250\n",
      "634/634 - 2s - loss: 1.2486e-04 - accuracy: 0.9438 - mse: 1.2486e-04 - mae: 0.0041 - rmse: 0.0068 - val_loss: 1.2467e-04 - val_accuracy: 0.9435 - val_mse: 1.2467e-04 - val_mae: 0.0041 - val_rmse: 0.0068\n",
      "Epoch 216/250\n",
      "634/634 - 2s - loss: 1.2484e-04 - accuracy: 0.9438 - mse: 1.2484e-04 - mae: 0.0041 - rmse: 0.0068 - val_loss: 1.2464e-04 - val_accuracy: 0.9435 - val_mse: 1.2464e-04 - val_mae: 0.0041 - val_rmse: 0.0068\n",
      "Epoch 217/250\n",
      "634/634 - 2s - loss: 1.2481e-04 - accuracy: 0.9438 - mse: 1.2481e-04 - mae: 0.0041 - rmse: 0.0068 - val_loss: 1.2462e-04 - val_accuracy: 0.9435 - val_mse: 1.2462e-04 - val_mae: 0.0041 - val_rmse: 0.0068\n",
      "Epoch 218/250\n",
      "634/634 - 2s - loss: 1.2479e-04 - accuracy: 0.9438 - mse: 1.2479e-04 - mae: 0.0041 - rmse: 0.0068 - val_loss: 1.2459e-04 - val_accuracy: 0.9435 - val_mse: 1.2459e-04 - val_mae: 0.0041 - val_rmse: 0.0068\n",
      "Epoch 219/250\n",
      "634/634 - 2s - loss: 1.2476e-04 - accuracy: 0.9438 - mse: 1.2476e-04 - mae: 0.0041 - rmse: 0.0068 - val_loss: 1.2457e-04 - val_accuracy: 0.9435 - val_mse: 1.2457e-04 - val_mae: 0.0041 - val_rmse: 0.0068\n",
      "Epoch 220/250\n",
      "634/634 - 2s - loss: 1.2474e-04 - accuracy: 0.9438 - mse: 1.2474e-04 - mae: 0.0041 - rmse: 0.0067 - val_loss: 1.2454e-04 - val_accuracy: 0.9435 - val_mse: 1.2454e-04 - val_mae: 0.0041 - val_rmse: 0.0068\n",
      "Epoch 221/250\n",
      "634/634 - 2s - loss: 1.2472e-04 - accuracy: 0.9438 - mse: 1.2472e-04 - mae: 0.0041 - rmse: 0.0067 - val_loss: 1.2452e-04 - val_accuracy: 0.9435 - val_mse: 1.2452e-04 - val_mae: 0.0041 - val_rmse: 0.0068\n",
      "Epoch 222/250\n",
      "634/634 - 2s - loss: 1.2469e-04 - accuracy: 0.9438 - mse: 1.2469e-04 - mae: 0.0041 - rmse: 0.0067 - val_loss: 1.2449e-04 - val_accuracy: 0.9435 - val_mse: 1.2449e-04 - val_mae: 0.0041 - val_rmse: 0.0068\n",
      "Epoch 223/250\n",
      "634/634 - 2s - loss: 1.2467e-04 - accuracy: 0.9438 - mse: 1.2467e-04 - mae: 0.0041 - rmse: 0.0067 - val_loss: 1.2447e-04 - val_accuracy: 0.9435 - val_mse: 1.2447e-04 - val_mae: 0.0041 - val_rmse: 0.0068\n",
      "Epoch 224/250\n",
      "634/634 - 2s - loss: 1.2464e-04 - accuracy: 0.9438 - mse: 1.2464e-04 - mae: 0.0041 - rmse: 0.0067 - val_loss: 1.2445e-04 - val_accuracy: 0.9435 - val_mse: 1.2445e-04 - val_mae: 0.0041 - val_rmse: 0.0068\n",
      "Epoch 225/250\n",
      "634/634 - 2s - loss: 1.2462e-04 - accuracy: 0.9438 - mse: 1.2462e-04 - mae: 0.0041 - rmse: 0.0067 - val_loss: 1.2442e-04 - val_accuracy: 0.9435 - val_mse: 1.2442e-04 - val_mae: 0.0041 - val_rmse: 0.0068\n",
      "Epoch 226/250\n",
      "634/634 - 2s - loss: 1.2460e-04 - accuracy: 0.9438 - mse: 1.2460e-04 - mae: 0.0041 - rmse: 0.0067 - val_loss: 1.2440e-04 - val_accuracy: 0.9435 - val_mse: 1.2440e-04 - val_mae: 0.0041 - val_rmse: 0.0068\n",
      "Epoch 227/250\n",
      "634/634 - 3s - loss: 1.2457e-04 - accuracy: 0.9438 - mse: 1.2457e-04 - mae: 0.0041 - rmse: 0.0067 - val_loss: 1.2438e-04 - val_accuracy: 0.9435 - val_mse: 1.2438e-04 - val_mae: 0.0041 - val_rmse: 0.0068\n",
      "Epoch 228/250\n",
      "634/634 - 3s - loss: 1.2455e-04 - accuracy: 0.9438 - mse: 1.2455e-04 - mae: 0.0041 - rmse: 0.0067 - val_loss: 1.2435e-04 - val_accuracy: 0.9435 - val_mse: 1.2435e-04 - val_mae: 0.0041 - val_rmse: 0.0067\n",
      "Epoch 229/250\n",
      "634/634 - 3s - loss: 1.2453e-04 - accuracy: 0.9438 - mse: 1.2453e-04 - mae: 0.0041 - rmse: 0.0067 - val_loss: 1.2433e-04 - val_accuracy: 0.9435 - val_mse: 1.2433e-04 - val_mae: 0.0041 - val_rmse: 0.0067\n",
      "Epoch 230/250\n",
      "634/634 - 2s - loss: 1.2450e-04 - accuracy: 0.9438 - mse: 1.2450e-04 - mae: 0.0041 - rmse: 0.0067 - val_loss: 1.2431e-04 - val_accuracy: 0.9435 - val_mse: 1.2431e-04 - val_mae: 0.0041 - val_rmse: 0.0067\n",
      "Epoch 231/250\n",
      "634/634 - 2s - loss: 1.2448e-04 - accuracy: 0.9438 - mse: 1.2448e-04 - mae: 0.0041 - rmse: 0.0067 - val_loss: 1.2428e-04 - val_accuracy: 0.9435 - val_mse: 1.2428e-04 - val_mae: 0.0041 - val_rmse: 0.0067\n",
      "Epoch 232/250\n",
      "634/634 - 2s - loss: 1.2446e-04 - accuracy: 0.9438 - mse: 1.2446e-04 - mae: 0.0041 - rmse: 0.0067 - val_loss: 1.2426e-04 - val_accuracy: 0.9435 - val_mse: 1.2426e-04 - val_mae: 0.0041 - val_rmse: 0.0067\n"
     ]
    },
    {
     "name": "stdout",
     "output_type": "stream",
     "text": [
      "Epoch 233/250\n",
      "634/634 - 2s - loss: 1.2444e-04 - accuracy: 0.9438 - mse: 1.2444e-04 - mae: 0.0041 - rmse: 0.0067 - val_loss: 1.2424e-04 - val_accuracy: 0.9435 - val_mse: 1.2424e-04 - val_mae: 0.0041 - val_rmse: 0.0067\n",
      "Epoch 234/250\n",
      "634/634 - 2s - loss: 1.2441e-04 - accuracy: 0.9438 - mse: 1.2441e-04 - mae: 0.0041 - rmse: 0.0067 - val_loss: 1.2421e-04 - val_accuracy: 0.9435 - val_mse: 1.2421e-04 - val_mae: 0.0041 - val_rmse: 0.0067\n",
      "Epoch 235/250\n",
      "634/634 - 2s - loss: 1.2439e-04 - accuracy: 0.9438 - mse: 1.2439e-04 - mae: 0.0041 - rmse: 0.0067 - val_loss: 1.2419e-04 - val_accuracy: 0.9435 - val_mse: 1.2419e-04 - val_mae: 0.0041 - val_rmse: 0.0067\n",
      "Epoch 236/250\n",
      "634/634 - 2s - loss: 1.2437e-04 - accuracy: 0.9438 - mse: 1.2437e-04 - mae: 0.0041 - rmse: 0.0067 - val_loss: 1.2417e-04 - val_accuracy: 0.9435 - val_mse: 1.2417e-04 - val_mae: 0.0041 - val_rmse: 0.0067\n",
      "Epoch 237/250\n",
      "634/634 - 2s - loss: 1.2434e-04 - accuracy: 0.9438 - mse: 1.2434e-04 - mae: 0.0041 - rmse: 0.0067 - val_loss: 1.2415e-04 - val_accuracy: 0.9435 - val_mse: 1.2415e-04 - val_mae: 0.0041 - val_rmse: 0.0067\n",
      "Epoch 238/250\n",
      "634/634 - 2s - loss: 1.2432e-04 - accuracy: 0.9438 - mse: 1.2432e-04 - mae: 0.0041 - rmse: 0.0067 - val_loss: 1.2412e-04 - val_accuracy: 0.9435 - val_mse: 1.2412e-04 - val_mae: 0.0041 - val_rmse: 0.0067\n",
      "Epoch 239/250\n",
      "634/634 - 2s - loss: 1.2430e-04 - accuracy: 0.9438 - mse: 1.2430e-04 - mae: 0.0041 - rmse: 0.0067 - val_loss: 1.2410e-04 - val_accuracy: 0.9435 - val_mse: 1.2410e-04 - val_mae: 0.0041 - val_rmse: 0.0067\n",
      "Epoch 240/250\n",
      "634/634 - 3s - loss: 1.2428e-04 - accuracy: 0.9438 - mse: 1.2428e-04 - mae: 0.0041 - rmse: 0.0067 - val_loss: 1.2408e-04 - val_accuracy: 0.9435 - val_mse: 1.2408e-04 - val_mae: 0.0041 - val_rmse: 0.0067\n",
      "Epoch 241/250\n",
      "634/634 - 3s - loss: 1.2426e-04 - accuracy: 0.9438 - mse: 1.2426e-04 - mae: 0.0041 - rmse: 0.0067 - val_loss: 1.2405e-04 - val_accuracy: 0.9435 - val_mse: 1.2405e-04 - val_mae: 0.0041 - val_rmse: 0.0067\n",
      "Epoch 242/250\n",
      "634/634 - 3s - loss: 1.2423e-04 - accuracy: 0.9438 - mse: 1.2423e-04 - mae: 0.0041 - rmse: 0.0067 - val_loss: 1.2403e-04 - val_accuracy: 0.9435 - val_mse: 1.2403e-04 - val_mae: 0.0041 - val_rmse: 0.0067\n",
      "Epoch 243/250\n",
      "634/634 - 2s - loss: 1.2421e-04 - accuracy: 0.9438 - mse: 1.2421e-04 - mae: 0.0041 - rmse: 0.0067 - val_loss: 1.2401e-04 - val_accuracy: 0.9435 - val_mse: 1.2401e-04 - val_mae: 0.0041 - val_rmse: 0.0067\n",
      "Epoch 244/250\n",
      "634/634 - 2s - loss: 1.2419e-04 - accuracy: 0.9438 - mse: 1.2419e-04 - mae: 0.0041 - rmse: 0.0067 - val_loss: 1.2399e-04 - val_accuracy: 0.9435 - val_mse: 1.2399e-04 - val_mae: 0.0041 - val_rmse: 0.0067\n",
      "Epoch 245/250\n",
      "634/634 - 2s - loss: 1.2417e-04 - accuracy: 0.9438 - mse: 1.2417e-04 - mae: 0.0041 - rmse: 0.0067 - val_loss: 1.2396e-04 - val_accuracy: 0.9435 - val_mse: 1.2396e-04 - val_mae: 0.0041 - val_rmse: 0.0067\n",
      "Epoch 246/250\n",
      "634/634 - 2s - loss: 1.2414e-04 - accuracy: 0.9438 - mse: 1.2414e-04 - mae: 0.0041 - rmse: 0.0067 - val_loss: 1.2394e-04 - val_accuracy: 0.9435 - val_mse: 1.2394e-04 - val_mae: 0.0041 - val_rmse: 0.0067\n",
      "Epoch 247/250\n",
      "634/634 - 2s - loss: 1.2412e-04 - accuracy: 0.9438 - mse: 1.2412e-04 - mae: 0.0041 - rmse: 0.0067 - val_loss: 1.2392e-04 - val_accuracy: 0.9435 - val_mse: 1.2392e-04 - val_mae: 0.0041 - val_rmse: 0.0067\n",
      "Epoch 248/250\n",
      "634/634 - 2s - loss: 1.2410e-04 - accuracy: 0.9438 - mse: 1.2410e-04 - mae: 0.0040 - rmse: 0.0067 - val_loss: 1.2390e-04 - val_accuracy: 0.9435 - val_mse: 1.2390e-04 - val_mae: 0.0041 - val_rmse: 0.0067\n",
      "Epoch 249/250\n",
      "634/634 - 2s - loss: 1.2408e-04 - accuracy: 0.9438 - mse: 1.2408e-04 - mae: 0.0040 - rmse: 0.0067 - val_loss: 1.2388e-04 - val_accuracy: 0.9435 - val_mse: 1.2388e-04 - val_mae: 0.0041 - val_rmse: 0.0067\n",
      "Epoch 250/250\n",
      "634/634 - 3s - loss: 1.2406e-04 - accuracy: 0.9438 - mse: 1.2406e-04 - mae: 0.0040 - rmse: 0.0067 - val_loss: 1.2385e-04 - val_accuracy: 0.9435 - val_mse: 1.2385e-04 - val_mae: 0.0041 - val_rmse: 0.0067\n"
     ]
    }
   ],
   "source": [
    "from sklearn.model_selection import train_test_split\n",
    "x_train, x_test, y_train, y_test = train_test_split(X1, Y1, test_size=0.25, random_state=42)\n",
    "\n",
    "history1 = model1.fit(x_train,y_train,batch_size=2048,epochs=250, validation_data=(x_test, y_test),verbose = 2, shuffle= False)"
   ]
  },
  {
   "cell_type": "markdown",
   "id": "05c03bc9",
   "metadata": {},
   "source": [
    "# Saving Model as File"
   ]
  },
  {
   "cell_type": "code",
   "execution_count": 8,
   "id": "feb6fe5c",
   "metadata": {},
   "outputs": [
    {
     "name": "stdout",
     "output_type": "stream",
     "text": [
      "Saved model to disk\n"
     ]
    }
   ],
   "source": [
    "model_json = model1.to_json()\n",
    "with open(\"Model_File/cnn_relu.json\", \"w\") as json_file:\n",
    "    json_file.write(model_json)\n",
    "# serialize weights to HDF5\n",
    "model1.save_weights(\"Model_File/cnn_relu.h5\")\n",
    "print(\"Saved model to disk\")"
   ]
  },
  {
   "cell_type": "code",
   "execution_count": 15,
   "id": "85c18be3",
   "metadata": {},
   "outputs": [
    {
     "name": "stdout",
     "output_type": "stream",
     "text": [
      "Loaded model from disk\n"
     ]
    }
   ],
   "source": [
    "from sklearn.model_selection import train_test_split\n",
    "x_train, x_test, y_train, y_test = train_test_split(X1, Y1, test_size=0.25, random_state=42)\n",
    "\n",
    "from keras.models import model_from_json\n",
    "json_file = open('Model_File/cnn_relu.json', 'r')\n",
    "loaded_model_json = json_file.read()\n",
    "json_file.close()\n",
    "loaded_model = model_from_json(loaded_model_json)\n",
    "# load weights into new model\n",
    "loaded_model.load_weights(\"Model_File/cnn_relu.h5\")\n",
    "print(\"Loaded model from disk\")\n",
    "loaded_model.compile(optimizer=keras.optimizers.Adam(learning_rate=1e-5), loss='mse',metrics=['accuracy','mse','mae',rmse])"
   ]
  },
  {
   "cell_type": "code",
   "execution_count": 16,
   "id": "e6a79772",
   "metadata": {},
   "outputs": [
    {
     "data": {
      "text/plain": [
       "[0.00012404395965859294,\n",
       " 0.9438334107398987,\n",
       " 0.00012404395965859294,\n",
       " 0.004049819894134998,\n",
       " 0.006706115324050188]"
      ]
     },
     "execution_count": 16,
     "metadata": {},
     "output_type": "execute_result"
    }
   ],
   "source": [
    "loaded_model.evaluate(x_train, y_train, verbose=0)"
   ]
  },
  {
   "cell_type": "code",
   "execution_count": 19,
   "id": "7e6cce1c",
   "metadata": {},
   "outputs": [
    {
     "data": {
      "text/plain": [
       "[0.00012385364971123636,\n",
       " 0.9434844255447388,\n",
       " 0.00012385364971123636,\n",
       " 0.004055249970406294,\n",
       " 0.006716000847518444]"
      ]
     },
     "execution_count": 19,
     "metadata": {},
     "output_type": "execute_result"
    }
   ],
   "source": [
    "loaded_model.evaluate(x_test, y_test, verbose=0)"
   ]
  },
  {
   "cell_type": "markdown",
   "id": "eb75d6b3",
   "metadata": {},
   "source": [
    "# Error Analysis"
   ]
  },
  {
   "cell_type": "code",
   "execution_count": 9,
   "id": "ff6190cf",
   "metadata": {},
   "outputs": [
    {
     "data": {
      "image/png": "[encoded data removed]",
      "text/plain": [
       "<Figure size 432x288 with 1 Axes>"
      ]
     },
     "metadata": {
      "needs_background": "light"
     },
     "output_type": "display_data"
    },
    {
     "data": {
      "image/png": "[encoded data removed]",
      "text/plain": [
       "<Figure size 432x288 with 1 Axes>"
      ]
     },
     "metadata": {
      "needs_background": "light"
     },
     "output_type": "display_data"
    }
   ],
   "source": [
    "# _, train_acc = model1.evaluate(x_train, y_train, verbose=0)\n",
    "# _, test_acc = model1.evaluate(x_test, y_test, verbose=0)\n",
    "# print('Train: %.3f, Test: %.3f' % (train_acc, test_acc))\n",
    "\n",
    "# summarize history for loss\n",
    "plt.plot(history1.history['loss'])\n",
    "plt.plot(history1.history['val_loss'])\n",
    "plt.title('Model Loss',fontweight ='bold',fontsize = 15)\n",
    "plt.ylabel('Loss',fontweight ='bold',fontsize = 15)\n",
    "plt.xlabel('Epoch',fontweight ='bold',fontsize = 15)\n",
    "plt.legend(['Train', 'Test'], loc='upper left')\n",
    "plt.show()\n",
    "\n",
    "# summarize history for accuracy\n",
    "plt.plot(history1.history['accuracy'])\n",
    "plt.plot(history1.history['val_accuracy'])\n",
    "plt.title('Model accuracy',fontweight ='bold',fontsize = 15)\n",
    "plt.ylabel('Accuracy',fontweight ='bold',fontsize = 15)\n",
    "plt.xlabel('Epoch',fontweight ='bold',fontsize = 15)\n",
    "plt.legend(['Train', 'Test'], loc='upper left')\n",
    "plt.show()"
   ]
  },
  {
   "cell_type": "code",
   "execution_count": 25,
   "id": "329c088e",
   "metadata": {},
   "outputs": [
    {
     "data": {
      "text/plain": [
       "array([[[0.00018728, 0.06549126, 0.00017226, ..., 0.00469372,\n",
       "         0.00323826, 0.00144804]],\n",
       "\n",
       "       [[0.00021988, 0.06355608, 0.00023842, ..., 0.02103931,\n",
       "         0.01342556, 0.00466657]],\n",
       "\n",
       "       [[0.00025117, 0.06567246, 0.00027096, ..., 0.02152359,\n",
       "         0.01385072, 0.00491521]],\n",
       "\n",
       "       ...,\n",
       "\n",
       "       [[0.00028068, 0.0672043 , 0.00030443, ..., 0.02398524,\n",
       "         0.01546434, 0.00549221]],\n",
       "\n",
       "       [[0.00017908, 0.06478921, 0.00016466, ..., 0.00454554,\n",
       "         0.00313008, 0.00139585]],\n",
       "\n",
       "       [[0.0002546 , 0.06571296, 0.00027749, ..., 0.02379107,\n",
       "         0.01525125, 0.00533122]]], dtype=float32)"
      ]
     },
     "execution_count": 25,
     "metadata": {},
     "output_type": "execute_result"
    }
   ],
   "source": [
    "from sklearn.model_selection import train_test_split\n",
    "x_train, x_test, y_train, y_test = train_test_split(X1, Y1, test_size=0.25, random_state=42)\n",
    "\n",
    "y_test_pred=loaded_model.predict(x_test)\n",
    "y_test_pred"
   ]
  },
  {
   "cell_type": "code",
   "execution_count": 26,
   "id": "fc5950f0",
   "metadata": {
    "scrolled": true
   },
   "outputs": [
    {
     "data": {
      "text/plain": [
       "array([[[0.00011559, 0.06553685, 0.00011085, ..., 0.0021448 ,\n",
       "         0.0014142 , 0.00052142]],\n",
       "\n",
       "       [[0.00011088, 0.06553695, 0.00012144, ..., 0.01090628,\n",
       "         0.00639894, 0.00234271]],\n",
       "\n",
       "       [[0.0001138 , 0.06553686, 0.00011756, ..., 0.02938369,\n",
       "         0.01855402, 0.00761428]],\n",
       "\n",
       "       ...,\n",
       "\n",
       "       [[0.00011103, 0.06553663, 0.00011547, ..., 0.05674056,\n",
       "         0.03595096, 0.01243099]],\n",
       "\n",
       "       [[0.00011477, 0.06553688, 0.00010965, ..., 0.00815022,\n",
       "         0.00468672, 0.00148292]],\n",
       "\n",
       "       [[0.00010879, 0.06553657, 0.00012025, ..., 0.00375339,\n",
       "         0.00246608, 0.00081172]]], dtype=float32)"
      ]
     },
     "execution_count": 26,
     "metadata": {},
     "output_type": "execute_result"
    }
   ],
   "source": [
    "y_test"
   ]
  },
  {
   "cell_type": "code",
   "execution_count": 27,
   "id": "f2fdd534",
   "metadata": {},
   "outputs": [],
   "source": [
    "y_test=y_test[:,0]\n",
    "y_test_pred=y_test_pred[:,0]"
   ]
  },
  {
   "cell_type": "code",
   "execution_count": 29,
   "id": "26a32b8c",
   "metadata": {},
   "outputs": [],
   "source": [
    "from numpy import savetxt\n",
    "savetxt('ARRAY_DATA/cnn_y_test_pred.csv', y_test_pred[:1001], delimiter=',')"
   ]
  },
  {
   "cell_type": "code",
   "execution_count": 30,
   "id": "d1785c55",
   "metadata": {},
   "outputs": [],
   "source": [
    "from numpy import savetxt\n",
    "savetxt('ARRAY_DATA/cnn_y_test.csv', y_test[:1001], delimiter=',')"
   ]
  },
  {
   "cell_type": "code",
   "execution_count": null,
   "id": "793f82e3",
   "metadata": {},
   "outputs": [],
   "source": [
    "#completed"
   ]
  }
 ],
 "metadata": {
  "kernelspec": {
   "display_name": "Python 3 (ipykernel)",
   "language": "python",
   "name": "python3"
  },
  "language_info": {
   "codemirror_mode": {
    "name": "ipython",
    "version": 3
   },
   "file_extension": ".py",
   "mimetype": "text/x-python",
   "name": "python",
   "nbconvert_exporter": "python",
   "pygments_lexer": "ipython3",
   "version": "3.9.5"
  }
 },
 "nbformat": 4,
 "nbformat_minor": 5
}
