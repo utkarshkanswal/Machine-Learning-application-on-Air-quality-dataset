{
 "cells": [
  {
   "cell_type": "code",
   "execution_count": 2,
   "id": "877c2677",
   "metadata": {},
   "outputs": [
    {
     "data": {
      "text/plain": [
       "[PhysicalDevice(name='/physical_device:CPU:0', device_type='CPU'),\n",
       " PhysicalDevice(name='/physical_device:GPU:0', device_type='GPU')]"
      ]
     },
     "execution_count": 2,
     "metadata": {},
     "output_type": "execute_result"
    }
   ],
   "source": [
    "import tensorflow as tf\n",
    "tf.config.experimental.list_physical_devices()"
   ]
  },
  {
   "cell_type": "code",
   "execution_count": 3,
   "id": "1c059e76",
   "metadata": {},
   "outputs": [
    {
     "data": {
      "text/plain": [
       "True"
      ]
     },
     "execution_count": 3,
     "metadata": {},
     "output_type": "execute_result"
    }
   ],
   "source": [
    "tf.test.is_built_with_cuda()"
   ]
  },
  {
   "cell_type": "markdown",
   "id": "96739d01",
   "metadata": {},
   "source": [
    "# Importing Libraries"
   ]
  },
  {
   "cell_type": "code",
   "execution_count": 4,
   "id": "a0397420",
   "metadata": {},
   "outputs": [],
   "source": [
    "import numpy as np\n",
    "import pandas as pd\n",
    "from matplotlib import pyplot as plt\n",
    "import os.path as op\n",
    "import pickle"
   ]
  },
  {
   "cell_type": "code",
   "execution_count": 5,
   "id": "e8cc09ab",
   "metadata": {},
   "outputs": [],
   "source": [
    "import tensorflow as tf\n",
    "from tensorflow import keras\n",
    "from keras.models import Model,Sequential,load_model\n",
    "from keras.layers import Input, Embedding\n",
    "from keras.layers import Dense, Bidirectional\n",
    "from keras.layers.recurrent import LSTM\n",
    "import keras.metrics as metrics\n",
    "import itertools\n",
    "from tensorflow.python.keras.utils.data_utils import Sequence\n",
    "from decimal import Decimal\n",
    "from keras import backend as K\n",
    "from keras.layers import Conv1D,MaxPooling1D,Flatten,Dense"
   ]
  },
  {
   "cell_type": "markdown",
   "id": "b7f9474e",
   "metadata": {},
   "source": [
    "# Data Fetching"
   ]
  },
  {
   "cell_type": "code",
   "execution_count": 6,
   "id": "7450b0aa",
   "metadata": {},
   "outputs": [
    {
     "name": "stdout",
     "output_type": "stream",
     "text": [
      "[[1.50000e+02 1.90401e+05 7.25000e+02 2.75500e+01 8.03900e+01]\n",
      " [1.50000e+02 1.90401e+05 8.25000e+02 2.75600e+01 8.03300e+01]\n",
      " [1.50000e+02 1.90401e+05 9.25000e+02 2.75800e+01 8.02400e+01]\n",
      " ...\n",
      " [6.10000e+01 1.91020e+05 1.94532e+05 2.93700e+01 7.52100e+01]\n",
      " [6.10000e+01 1.91020e+05 1.94632e+05 2.93500e+01 7.52700e+01]\n",
      " [6.10000e+01 1.91020e+05 1.94732e+05 2.93400e+01 7.53000e+01]]\n",
      "[[ 28.     3.   -52.   ...  16.97  19.63  20.06]\n",
      " [ 28.    15.   -53.   ...  16.63  19.57  23.06]\n",
      " [ 31.    16.   -55.   ...  17.24  19.98  20.24]\n",
      " ...\n",
      " [ 76.    12.   -76.   ...   3.47   3.95   4.35]\n",
      " [ 75.    13.   -76.   ...   3.88   4.33   4.42]\n",
      " [ 76.    12.   -75.   ...   3.46   4.07   4.28]]\n"
     ]
    }
   ],
   "source": [
    "A1=np.empty((0,5),dtype='float32')\n",
    "U1=np.empty((0,7),dtype='float32')\n",
    "node=['150','149','147','144','142','140','136','61']\n",
    "mon=['Apr','Mar','Aug','Jun','Jul','Sep','May','Oct']\n",
    "for j in node:\n",
    "  for i in mon:\n",
    "    inp= pd.read_csv('data_gkv/AT510_Node_'+str(j)+'_'+str(i)+'19_OutputFile.csv',usecols=[1,2,3,15,16])\n",
    "    out= pd.read_csv('data_gkv/AT510_Node_'+str(j)+'_'+str(i)+'19_OutputFile.csv',usecols=[5,6,7,8,17,18,19])\n",
    "    \n",
    "    inp=np.array(inp,dtype='float32')\n",
    "    out=np.array(out,dtype='float32')\n",
    "    \n",
    "    A1=np.append(A1, inp, axis=0)\n",
    "    U1=np.append(U1, out, axis=0)\n",
    "\n",
    "print(A1)\n",
    "print(U1)\n"
   ]
  },
  {
   "cell_type": "markdown",
   "id": "78ca5e86",
   "metadata": {},
   "source": [
    "# Min Max Scaler"
   ]
  },
  {
   "cell_type": "code",
   "execution_count": 7,
   "id": "41ae9a8a",
   "metadata": {},
   "outputs": [],
   "source": [
    "from sklearn.preprocessing import MinMaxScaler\n",
    "import warnings\n",
    "scaler_obj=MinMaxScaler()\n",
    "X1=scaler_obj.fit_transform(A1)\n",
    "Y1=scaler_obj.fit_transform(U1)\n",
    "\n",
    "warnings.filterwarnings(action='ignore', category=UserWarning)\n",
    "\n",
    "X1=X1[:,np.newaxis,:]\n",
    "Y1=Y1[:,np.newaxis,:]"
   ]
  },
  {
   "cell_type": "code",
   "execution_count": 8,
   "id": "da37491b",
   "metadata": {},
   "outputs": [],
   "source": [
    "def rmse(y_true, y_pred):\n",
    "    return K.sqrt(K.mean(K.square(y_pred - y_true), axis=-1))\n",
    "\n",
    "def coeff_determination(y_true, y_pred):\n",
    "    SS_res =  K.sum(K.square( y_true-y_pred )) \n",
    "    SS_tot = K.sum(K.square( y_true - K.mean(y_true) ) ) \n",
    "    return ( 1 - SS_res/(SS_tot + K.epsilon()) )"
   ]
  },
  {
   "cell_type": "markdown",
   "id": "b1edf627",
   "metadata": {},
   "source": [
    "# Model"
   ]
  },
  {
   "cell_type": "code",
   "execution_count": 9,
   "id": "d05d8053",
   "metadata": {},
   "outputs": [
    {
     "name": "stdout",
     "output_type": "stream",
     "text": [
      "Model: \"sequential\"\n",
      "_________________________________________________________________\n",
      " Layer (type)                Output Shape              Param #   \n",
      "=================================================================\n",
      " lstm (LSTM)                 (None, 7)                 364       \n",
      "                                                                 \n",
      " dense (Dense)               (None, 7)                 56        \n",
      "                                                                 \n",
      " batch_normalization (BatchN  (None, 7)                28        \n",
      " ormalization)                                                   \n",
      "                                                                 \n",
      " re_lu (ReLU)                (None, 7)                 0         \n",
      "                                                                 \n",
      "=================================================================\n",
      "Total params: 448\n",
      "Trainable params: 434\n",
      "Non-trainable params: 14\n",
      "_________________________________________________________________\n"
     ]
    }
   ],
   "source": [
    "model1 = Sequential()\n",
    "model1.add(keras.Input(shape=(1,5)))\n",
    "model1.add(tf.keras.layers.LSTM(7,activation=\"tanh\",use_bias=True,kernel_initializer=\"glorot_uniform\",bias_initializer=\"zeros\"))\n",
    "model1.add(Dense(7))\n",
    "model1.add(keras.layers.BatchNormalization(axis=-1,momentum=0.99,epsilon=0.001,center=True,scale=True,\n",
    "                                beta_initializer=\"zeros\",gamma_initializer=\"ones\",\n",
    "                                moving_mean_initializer=\"zeros\",moving_variance_initializer=\"ones\",trainable=True))\n",
    "model1.add(keras.layers.ReLU())\n",
    "model1.compile(optimizer=keras.optimizers.Adam(learning_rate=1e-5), loss='binary_crossentropy',metrics=['accuracy','mse','mae',rmse])\n",
    "model1.summary()"
   ]
  },
  {
   "cell_type": "code",
   "execution_count": 20,
   "id": "3393273e",
   "metadata": {},
   "outputs": [],
   "source": [
    "from sklearn.model_selection import train_test_split\n",
    "x_train, x_test, y_train, y_test = train_test_split(X1, Y1, test_size=0.25, random_state=42)"
   ]
  },
  {
   "cell_type": "code",
   "execution_count": 21,
   "id": "fb37916d",
   "metadata": {},
   "outputs": [
    {
     "name": "stdout",
     "output_type": "stream",
     "text": [
      "Epoch 1/50\n",
      "4563/4563 [==============================] - 55s 12ms/step - loss: 0.0859 - accuracy: 0.9438 - mse: 1.8211e-04 - mae: 0.0047 - rmse: 0.0087 - val_loss: 0.0860 - val_accuracy: 0.9440 - val_mse: 1.8125e-04 - val_mae: 0.0047 - val_rmse: 0.0087\n",
      "Epoch 2/50\n",
      "4563/4563 [==============================] - 59s 13ms/step - loss: 0.0859 - accuracy: 0.9438 - mse: 1.8206e-04 - mae: 0.0047 - rmse: 0.0087 - val_loss: 0.0860 - val_accuracy: 0.9440 - val_mse: 1.8125e-04 - val_mae: 0.0047 - val_rmse: 0.0087\n",
      "Epoch 3/50\n",
      "4563/4563 [==============================] - 96s 21ms/step - loss: 0.0859 - accuracy: 0.9438 - mse: 1.8205e-04 - mae: 0.0047 - rmse: 0.0087 - val_loss: 0.0860 - val_accuracy: 0.9440 - val_mse: 1.8125e-04 - val_mae: 0.0047 - val_rmse: 0.0087\n",
      "Epoch 4/50\n",
      "4563/4563 [==============================] - 58s 13ms/step - loss: 0.0859 - accuracy: 0.9438 - mse: 1.8203e-04 - mae: 0.0047 - rmse: 0.0087 - val_loss: 0.0860 - val_accuracy: 0.9440 - val_mse: 1.8124e-04 - val_mae: 0.0047 - val_rmse: 0.0087\n",
      "Epoch 5/50\n",
      "4563/4563 [==============================] - 56s 12ms/step - loss: 0.0859 - accuracy: 0.9438 - mse: 1.8201e-04 - mae: 0.0047 - rmse: 0.0087 - val_loss: 0.0860 - val_accuracy: 0.9440 - val_mse: 1.8124e-04 - val_mae: 0.0047 - val_rmse: 0.0087\n",
      "Epoch 6/50\n",
      "4563/4563 [==============================] - 54s 12ms/step - loss: 0.0859 - accuracy: 0.9438 - mse: 1.8200e-04 - mae: 0.0047 - rmse: 0.0087 - val_loss: 0.0860 - val_accuracy: 0.9440 - val_mse: 1.8123e-04 - val_mae: 0.0047 - val_rmse: 0.0087\n",
      "Epoch 7/50\n",
      "4563/4563 [==============================] - 56s 12ms/step - loss: 0.0859 - accuracy: 0.9438 - mse: 1.8198e-04 - mae: 0.0047 - rmse: 0.0087 - val_loss: 0.0860 - val_accuracy: 0.9440 - val_mse: 1.8124e-04 - val_mae: 0.0047 - val_rmse: 0.0087\n",
      "Epoch 8/50\n",
      "4563/4563 [==============================] - 56s 12ms/step - loss: 0.0859 - accuracy: 0.9438 - mse: 1.8197e-04 - mae: 0.0047 - rmse: 0.0087 - val_loss: 0.0860 - val_accuracy: 0.9440 - val_mse: 1.8124e-04 - val_mae: 0.0047 - val_rmse: 0.0087\n",
      "Epoch 9/50\n",
      "4563/4563 [==============================] - 56s 12ms/step - loss: 0.0859 - accuracy: 0.9438 - mse: 1.8195e-04 - mae: 0.0047 - rmse: 0.0087 - val_loss: 0.0860 - val_accuracy: 0.9440 - val_mse: 1.8124e-04 - val_mae: 0.0047 - val_rmse: 0.0087\n",
      "Epoch 10/50\n",
      "4563/4563 [==============================] - 57s 12ms/step - loss: 0.0859 - accuracy: 0.9438 - mse: 1.8194e-04 - mae: 0.0047 - rmse: 0.0087 - val_loss: 0.0860 - val_accuracy: 0.9440 - val_mse: 1.8125e-04 - val_mae: 0.0047 - val_rmse: 0.0087\n",
      "Epoch 11/50\n",
      "4563/4563 [==============================] - 55s 12ms/step - loss: 0.0859 - accuracy: 0.9438 - mse: 1.8192e-04 - mae: 0.0047 - rmse: 0.0087 - val_loss: 0.0860 - val_accuracy: 0.9440 - val_mse: 1.8123e-04 - val_mae: 0.0047 - val_rmse: 0.0087\n",
      "Epoch 12/50\n",
      "4563/4563 [==============================] - 56s 12ms/step - loss: 0.0859 - accuracy: 0.9438 - mse: 1.8190e-04 - mae: 0.0047 - rmse: 0.0087 - val_loss: 0.0860 - val_accuracy: 0.9440 - val_mse: 1.8124e-04 - val_mae: 0.0047 - val_rmse: 0.0087\n",
      "Epoch 13/50\n",
      "4563/4563 [==============================] - 57s 12ms/step - loss: 0.0859 - accuracy: 0.9438 - mse: 1.8189e-04 - mae: 0.0047 - rmse: 0.0087 - val_loss: 0.0860 - val_accuracy: 0.9440 - val_mse: 1.8124e-04 - val_mae: 0.0047 - val_rmse: 0.0087\n",
      "Epoch 14/50\n",
      "4563/4563 [==============================] - 56s 12ms/step - loss: 0.0859 - accuracy: 0.9438 - mse: 1.8187e-04 - mae: 0.0047 - rmse: 0.0087 - val_loss: 0.0860 - val_accuracy: 0.9440 - val_mse: 1.8124e-04 - val_mae: 0.0047 - val_rmse: 0.0087\n",
      "Epoch 15/50\n",
      "4563/4563 [==============================] - 57s 12ms/step - loss: 0.0859 - accuracy: 0.9438 - mse: 1.8186e-04 - mae: 0.0047 - rmse: 0.0087 - val_loss: 0.0860 - val_accuracy: 0.9440 - val_mse: 1.8123e-04 - val_mae: 0.0047 - val_rmse: 0.0087\n",
      "Epoch 16/50\n",
      "4563/4563 [==============================] - 57s 12ms/step - loss: 0.0859 - accuracy: 0.9438 - mse: 1.8185e-04 - mae: 0.0047 - rmse: 0.0087 - val_loss: 0.0860 - val_accuracy: 0.9440 - val_mse: 1.8124e-04 - val_mae: 0.0047 - val_rmse: 0.0087\n",
      "Epoch 17/50\n",
      "4563/4563 [==============================] - 55s 12ms/step - loss: 0.0859 - accuracy: 0.9438 - mse: 1.8184e-04 - mae: 0.0047 - rmse: 0.0087 - val_loss: 0.0860 - val_accuracy: 0.9440 - val_mse: 1.8124e-04 - val_mae: 0.0047 - val_rmse: 0.0086\n",
      "Epoch 18/50\n",
      "4563/4563 [==============================] - 57s 12ms/step - loss: 0.0859 - accuracy: 0.9438 - mse: 1.8181e-04 - mae: 0.0047 - rmse: 0.0087 - val_loss: 0.0860 - val_accuracy: 0.9440 - val_mse: 1.8124e-04 - val_mae: 0.0047 - val_rmse: 0.0087\n",
      "Epoch 19/50\n",
      "4563/4563 [==============================] - 56s 12ms/step - loss: 0.0859 - accuracy: 0.9438 - mse: 1.8181e-04 - mae: 0.0047 - rmse: 0.0087 - val_loss: 0.0860 - val_accuracy: 0.9440 - val_mse: 1.8124e-04 - val_mae: 0.0047 - val_rmse: 0.0087\n",
      "Epoch 20/50\n",
      "4563/4563 [==============================] - 55s 12ms/step - loss: 0.0859 - accuracy: 0.9438 - mse: 1.8177e-04 - mae: 0.0047 - rmse: 0.0087 - val_loss: 0.0860 - val_accuracy: 0.9440 - val_mse: 1.8124e-04 - val_mae: 0.0047 - val_rmse: 0.0087\n",
      "Epoch 21/50\n",
      "4563/4563 [==============================] - 56s 12ms/step - loss: 0.0859 - accuracy: 0.9438 - mse: 1.8177e-04 - mae: 0.0047 - rmse: 0.0087 - val_loss: 0.0860 - val_accuracy: 0.9440 - val_mse: 1.8124e-04 - val_mae: 0.0047 - val_rmse: 0.0087\n",
      "Epoch 22/50\n",
      "4563/4563 [==============================] - 93s 20ms/step - loss: 0.0859 - accuracy: 0.9438 - mse: 1.8175e-04 - mae: 0.0047 - rmse: 0.0087 - val_loss: 0.0860 - val_accuracy: 0.9440 - val_mse: 1.8124e-04 - val_mae: 0.0047 - val_rmse: 0.0087\n",
      "Epoch 23/50\n",
      "4563/4563 [==============================] - 64s 14ms/step - loss: 0.0859 - accuracy: 0.9438 - mse: 1.8174e-04 - mae: 0.0047 - rmse: 0.0087 - val_loss: 0.0860 - val_accuracy: 0.9440 - val_mse: 1.8123e-04 - val_mae: 0.0047 - val_rmse: 0.0087\n",
      "Epoch 24/50\n",
      "4563/4563 [==============================] - 58s 13ms/step - loss: 0.0859 - accuracy: 0.9438 - mse: 1.8171e-04 - mae: 0.0047 - rmse: 0.0087 - val_loss: 0.0860 - val_accuracy: 0.9440 - val_mse: 1.8127e-04 - val_mae: 0.0047 - val_rmse: 0.0087\n",
      "Epoch 25/50\n",
      "4563/4563 [==============================] - 57s 12ms/step - loss: 0.0859 - accuracy: 0.9438 - mse: 1.8169e-04 - mae: 0.0047 - rmse: 0.0087 - val_loss: 0.0860 - val_accuracy: 0.9440 - val_mse: 1.8124e-04 - val_mae: 0.0047 - val_rmse: 0.0087\n",
      "Epoch 26/50\n",
      "4563/4563 [==============================] - 54s 12ms/step - loss: 0.0859 - accuracy: 0.9438 - mse: 1.8167e-04 - mae: 0.0047 - rmse: 0.0087 - val_loss: 0.0860 - val_accuracy: 0.9440 - val_mse: 1.8123e-04 - val_mae: 0.0047 - val_rmse: 0.0087\n",
      "Epoch 27/50\n",
      "4563/4563 [==============================] - 56s 12ms/step - loss: 0.0859 - accuracy: 0.9438 - mse: 1.8164e-04 - mae: 0.0047 - rmse: 0.0087 - val_loss: 0.0860 - val_accuracy: 0.9440 - val_mse: 1.8123e-04 - val_mae: 0.0047 - val_rmse: 0.0087\n",
      "Epoch 28/50\n",
      "4563/4563 [==============================] - 56s 12ms/step - loss: 0.0859 - accuracy: 0.9438 - mse: 1.8162e-04 - mae: 0.0047 - rmse: 0.0087 - val_loss: 0.0860 - val_accuracy: 0.9440 - val_mse: 1.8124e-04 - val_mae: 0.0047 - val_rmse: 0.0086\n",
      "Epoch 29/50\n",
      "4563/4563 [==============================] - 55s 12ms/step - loss: 0.0859 - accuracy: 0.9438 - mse: 1.8161e-04 - mae: 0.0047 - rmse: 0.0087 - val_loss: 0.0860 - val_accuracy: 0.9440 - val_mse: 1.8123e-04 - val_mae: 0.0047 - val_rmse: 0.0087\n",
      "Epoch 30/50\n",
      "4563/4563 [==============================] - 95s 21ms/step - loss: 0.0859 - accuracy: 0.9438 - mse: 1.8161e-04 - mae: 0.0047 - rmse: 0.0087 - val_loss: 0.0860 - val_accuracy: 0.9440 - val_mse: 1.8124e-04 - val_mae: 0.0047 - val_rmse: 0.0087\n",
      "Epoch 31/50\n",
      "4563/4563 [==============================] - 66s 14ms/step - loss: 0.0859 - accuracy: 0.9438 - mse: 1.8159e-04 - mae: 0.0047 - rmse: 0.0087 - val_loss: 0.0860 - val_accuracy: 0.9440 - val_mse: 1.8124e-04 - val_mae: 0.0047 - val_rmse: 0.0087\n",
      "Epoch 32/50\n",
      "4563/4563 [==============================] - 58s 13ms/step - loss: 0.0859 - accuracy: 0.9438 - mse: 1.8157e-04 - mae: 0.0047 - rmse: 0.0087 - val_loss: 0.0860 - val_accuracy: 0.9440 - val_mse: 1.8123e-04 - val_mae: 0.0047 - val_rmse: 0.0087\n",
      "Epoch 33/50\n"
     ]
    },
    {
     "name": "stdout",
     "output_type": "stream",
     "text": [
      "4563/4563 [==============================] - 55s 12ms/step - loss: 0.0859 - accuracy: 0.9438 - mse: 1.8155e-04 - mae: 0.0047 - rmse: 0.0087 - val_loss: 0.0860 - val_accuracy: 0.9440 - val_mse: 1.8123e-04 - val_mae: 0.0047 - val_rmse: 0.0087\n",
      "Epoch 34/50\n",
      "4563/4563 [==============================] - 55s 12ms/step - loss: 0.0859 - accuracy: 0.9438 - mse: 1.8154e-04 - mae: 0.0047 - rmse: 0.0087 - val_loss: 0.0860 - val_accuracy: 0.9440 - val_mse: 1.8123e-04 - val_mae: 0.0047 - val_rmse: 0.0087\n",
      "Epoch 35/50\n",
      "4563/4563 [==============================] - 53s 12ms/step - loss: 0.0859 - accuracy: 0.9438 - mse: 1.8151e-04 - mae: 0.0047 - rmse: 0.0087 - val_loss: 0.0860 - val_accuracy: 0.9440 - val_mse: 1.8124e-04 - val_mae: 0.0047 - val_rmse: 0.0087\n",
      "Epoch 36/50\n",
      "4563/4563 [==============================] - 55s 12ms/step - loss: 0.0859 - accuracy: 0.9438 - mse: 1.8150e-04 - mae: 0.0047 - rmse: 0.0087 - val_loss: 0.0860 - val_accuracy: 0.9440 - val_mse: 1.8124e-04 - val_mae: 0.0047 - val_rmse: 0.0087\n",
      "Epoch 37/50\n",
      "4563/4563 [==============================] - 54s 12ms/step - loss: 0.0859 - accuracy: 0.9438 - mse: 1.8149e-04 - mae: 0.0047 - rmse: 0.0087 - val_loss: 0.0860 - val_accuracy: 0.9440 - val_mse: 1.8124e-04 - val_mae: 0.0047 - val_rmse: 0.0087\n",
      "Epoch 38/50\n",
      "4563/4563 [==============================] - 54s 12ms/step - loss: 0.0859 - accuracy: 0.9438 - mse: 1.8148e-04 - mae: 0.0047 - rmse: 0.0087 - val_loss: 0.0860 - val_accuracy: 0.9440 - val_mse: 1.8124e-04 - val_mae: 0.0047 - val_rmse: 0.0087\n",
      "Epoch 39/50\n",
      "4563/4563 [==============================] - 55s 12ms/step - loss: 0.0859 - accuracy: 0.9438 - mse: 1.8146e-04 - mae: 0.0047 - rmse: 0.0087 - val_loss: 0.0860 - val_accuracy: 0.9440 - val_mse: 1.8123e-04 - val_mae: 0.0047 - val_rmse: 0.0087\n",
      "Epoch 40/50\n",
      "4563/4563 [==============================] - 54s 12ms/step - loss: 0.0859 - accuracy: 0.9438 - mse: 1.8144e-04 - mae: 0.0047 - rmse: 0.0087 - val_loss: 0.0860 - val_accuracy: 0.9440 - val_mse: 1.8124e-04 - val_mae: 0.0047 - val_rmse: 0.0087\n",
      "Epoch 41/50\n",
      "4563/4563 [==============================] - 55s 12ms/step - loss: 0.0859 - accuracy: 0.9438 - mse: 1.8143e-04 - mae: 0.0047 - rmse: 0.0087 - val_loss: 0.0860 - val_accuracy: 0.9440 - val_mse: 1.8123e-04 - val_mae: 0.0047 - val_rmse: 0.0087\n",
      "Epoch 42/50\n",
      "4563/4563 [==============================] - 55s 12ms/step - loss: 0.0859 - accuracy: 0.9438 - mse: 1.8141e-04 - mae: 0.0047 - rmse: 0.0087 - val_loss: 0.0860 - val_accuracy: 0.9440 - val_mse: 1.8123e-04 - val_mae: 0.0047 - val_rmse: 0.0087\n",
      "Epoch 43/50\n",
      "4563/4563 [==============================] - 53s 12ms/step - loss: 0.0859 - accuracy: 0.9438 - mse: 1.8140e-04 - mae: 0.0047 - rmse: 0.0087 - val_loss: 0.0860 - val_accuracy: 0.9440 - val_mse: 1.8123e-04 - val_mae: 0.0047 - val_rmse: 0.0087\n",
      "Epoch 44/50\n",
      "4563/4563 [==============================] - 55s 12ms/step - loss: 0.0859 - accuracy: 0.9438 - mse: 1.8139e-04 - mae: 0.0047 - rmse: 0.0087 - val_loss: 0.0860 - val_accuracy: 0.9440 - val_mse: 1.8124e-04 - val_mae: 0.0047 - val_rmse: 0.0087\n",
      "Epoch 45/50\n",
      "4563/4563 [==============================] - 54s 12ms/step - loss: 0.0859 - accuracy: 0.9438 - mse: 1.8138e-04 - mae: 0.0047 - rmse: 0.0087 - val_loss: 0.0860 - val_accuracy: 0.9440 - val_mse: 1.8124e-04 - val_mae: 0.0047 - val_rmse: 0.0087\n",
      "Epoch 46/50\n",
      "4563/4563 [==============================] - 56s 12ms/step - loss: 0.0859 - accuracy: 0.9438 - mse: 1.8137e-04 - mae: 0.0047 - rmse: 0.0087 - val_loss: 0.0860 - val_accuracy: 0.9440 - val_mse: 1.8123e-04 - val_mae: 0.0047 - val_rmse: 0.0087\n",
      "Epoch 47/50\n",
      "4563/4563 [==============================] - 57s 13ms/step - loss: 0.0859 - accuracy: 0.9438 - mse: 1.8136e-04 - mae: 0.0047 - rmse: 0.0087 - val_loss: 0.0860 - val_accuracy: 0.9440 - val_mse: 1.8123e-04 - val_mae: 0.0047 - val_rmse: 0.0087\n",
      "Epoch 48/50\n",
      "4563/4563 [==============================] - 55s 12ms/step - loss: 0.0859 - accuracy: 0.9438 - mse: 1.8136e-04 - mae: 0.0047 - rmse: 0.0087 - val_loss: 0.0860 - val_accuracy: 0.9440 - val_mse: 1.8124e-04 - val_mae: 0.0047 - val_rmse: 0.0087\n",
      "Epoch 49/50\n",
      "4563/4563 [==============================] - 56s 12ms/step - loss: 0.0859 - accuracy: 0.9438 - mse: 1.8135e-04 - mae: 0.0047 - rmse: 0.0087 - val_loss: 0.0860 - val_accuracy: 0.9440 - val_mse: 1.8123e-04 - val_mae: 0.0047 - val_rmse: 0.0087\n",
      "Epoch 50/50\n",
      "4563/4563 [==============================] - 56s 12ms/step - loss: 0.0859 - accuracy: 0.9438 - mse: 1.8134e-04 - mae: 0.0047 - rmse: 0.0087 - val_loss: 0.0860 - val_accuracy: 0.9440 - val_mse: 1.8123e-04 - val_mae: 0.0047 - val_rmse: 0.0087\n"
     ]
    }
   ],
   "source": [
    "model_fit8 = model1.fit(x_train,y_train,batch_size=256,epochs=50, validation_split=0.1)"
   ]
  },
  {
   "cell_type": "code",
   "execution_count": 12,
   "id": "09110574",
   "metadata": {},
   "outputs": [
    {
     "name": "stdout",
     "output_type": "stream",
     "text": [
      "13518/13518 [==============================] - 66s 5ms/step - loss: 0.0862 - accuracy: 0.9435 - mse: 1.8701e-04 - mae: 0.0047 - rmse: 0.0087\n"
     ]
    },
    {
     "data": {
      "text/plain": [
       "[0.08616957813501358,\n",
       " 0.9434751272201538,\n",
       " 0.0001870147680165246,\n",
       " 0.004727136343717575,\n",
       " 0.008726203814148903]"
      ]
     },
     "execution_count": 12,
     "metadata": {},
     "output_type": "execute_result"
    }
   ],
   "source": [
    "model1.evaluate(x_test,y_test)"
   ]
  },
  {
   "cell_type": "code",
   "execution_count": 13,
   "id": "699c11f9",
   "metadata": {},
   "outputs": [
    {
     "name": "stdout",
     "output_type": "stream",
     "text": [
      "40554/40554 [==============================] - 206s 5ms/step - loss: 0.0860 - accuracy: 0.9438 - mse: 1.8242e-04 - mae: 0.0047 - rmse: 0.0087\n"
     ]
    },
    {
     "data": {
      "text/plain": [
       "[0.08602557331323624,\n",
       " 0.9438272714614868,\n",
       " 0.0001824166247388348,\n",
       " 0.004712733905762434,\n",
       " 0.008702293038368225]"
      ]
     },
     "execution_count": 13,
     "metadata": {},
     "output_type": "execute_result"
    }
   ],
   "source": [
    "model1.evaluate(x_train,y_train)"
   ]
  },
  {
   "cell_type": "markdown",
   "id": "05c03bc9",
   "metadata": {},
   "source": [
    "# Saving Model as File"
   ]
  },
  {
   "cell_type": "code",
   "execution_count": 22,
   "id": "feb6fe5c",
   "metadata": {},
   "outputs": [
    {
     "name": "stdout",
     "output_type": "stream",
     "text": [
      "Saved model to disk\n"
     ]
    }
   ],
   "source": [
    "model_json = model1.to_json()\n",
    "with open(\"Model_File/lstm_tanh.json\", \"w\") as json_file:\n",
    "    json_file.write(model_json)\n",
    "# serialize weights to HDF5\n",
    "model1.save_weights(\"Model_File/lstm_tanh.h5\")\n",
    "print(\"Saved model to disk\")"
   ]
  },
  {
   "cell_type": "code",
   "execution_count": 18,
   "id": "85c18be3",
   "metadata": {},
   "outputs": [
    {
     "name": "stdout",
     "output_type": "stream",
     "text": [
      "Loaded model from disk\n"
     ]
    }
   ],
   "source": [
    "from keras.models import model_from_json\n",
    "json_file = open('Model_File/lstm_tanh.json', 'r')\n",
    "loaded_model_json = json_file.read()\n",
    "json_file.close()\n",
    "loaded_model = model_from_json(loaded_model_json)\n",
    "# load weights into new model\n",
    "loaded_model.load_weights(\"Model_File/lstm_tanh.h5\")\n",
    "print(\"Loaded model from disk\")\n",
    "loaded_model.compile(optimizer=keras.optimizers.Adam(learning_rate=0.001), loss='binary_crossentropy',metrics=['accuracy','mse','mae',rmse])"
   ]
  },
  {
   "cell_type": "markdown",
   "id": "eb75d6b3",
   "metadata": {},
   "source": [
    "# Error Analysis"
   ]
  },
  {
   "cell_type": "code",
   "execution_count": 23,
   "id": "ff6190cf",
   "metadata": {},
   "outputs": [
    {
     "data": {
      "image/png": "[encoded data removed]",
      "text/plain": [
       "<Figure size 432x288 with 1 Axes>"
      ]
     },
     "metadata": {
      "needs_background": "light"
     },
     "output_type": "display_data"
    },
    {
     "data": {
      "image/png": "[encoded data removed]",
      "text/plain": [
       "<Figure size 432x288 with 1 Axes>"
      ]
     },
     "metadata": {
      "needs_background": "light"
     },
     "output_type": "display_data"
    }
   ],
   "source": [
    "# summarize history for loss\n",
    "plt.plot(model_fit8.history['loss'])\n",
    "plt.plot(model_fit8.history['val_loss'])\n",
    "plt.title('Model Loss',fontweight ='bold',fontsize = 15)\n",
    "plt.ylabel('Loss',fontweight ='bold',fontsize = 15)\n",
    "plt.xlabel('Epoch',fontweight ='bold',fontsize = 15)\n",
    "plt.legend(['Train', 'Test'], loc='upper left')\n",
    "plt.show()\n",
    "\n",
    "# summarize history for accuracy\n",
    "plt.plot(model_fit8.history['accuracy'])\n",
    "plt.plot(model_fit8.history['val_accuracy'])\n",
    "plt.title('Model accuracy',fontweight ='bold',fontsize = 15)\n",
    "plt.ylabel('Accuracy',fontweight ='bold',fontsize = 15)\n",
    "plt.xlabel('Epoch',fontweight ='bold',fontsize = 15)\n",
    "plt.legend(['Train', 'Test'], loc='upper left')\n",
    "plt.show()"
   ]
  },
  {
   "cell_type": "code",
   "execution_count": 24,
   "id": "07217729",
   "metadata": {},
   "outputs": [
    {
     "data": {
      "text/plain": [
       "array([[0.        , 0.06553665, 0.        , ..., 0.01973882, 0.01233712,\n",
       "        0.00420575],\n",
       "       [0.        , 0.06553665, 0.        , ..., 0.        , 0.01233712,\n",
       "        0.00439085],\n",
       "       [0.        , 0.06553665, 0.        , ..., 0.        , 0.01233712,\n",
       "        0.00480377],\n",
       "       ...,\n",
       "       [0.        , 0.06553665, 0.        , ..., 0.        , 0.01233712,\n",
       "        0.00472949],\n",
       "       [0.        , 0.06553665, 0.        , ..., 0.01976034, 0.01233712,\n",
       "        0.004535  ],\n",
       "       [0.        , 0.06553665, 0.        , ..., 0.        , 0.01233712,\n",
       "        0.00450286]], dtype=float32)"
      ]
     },
     "execution_count": 24,
     "metadata": {},
     "output_type": "execute_result"
    }
   ],
   "source": [
    "from sklearn.model_selection import train_test_split\n",
    "x_train, x_test, y_train, y_test = train_test_split(X1, Y1, test_size=0.25, random_state=42)\n",
    "\n",
    "y_test_pred=loaded_model.predict(x_test)\n",
    "y_test_pred"
   ]
  },
  {
   "cell_type": "code",
   "execution_count": 25,
   "id": "72d85cd1",
   "metadata": {},
   "outputs": [
    {
     "data": {
      "text/plain": [
       "array([[[0.00011559, 0.06553685, 0.00011085, ..., 0.0021448 ,\n",
       "         0.0014142 , 0.00052142]],\n",
       "\n",
       "       [[0.00011088, 0.06553695, 0.00012144, ..., 0.01090628,\n",
       "         0.00639894, 0.00234271]],\n",
       "\n",
       "       [[0.0001138 , 0.06553686, 0.00011756, ..., 0.02938369,\n",
       "         0.01855402, 0.00761428]],\n",
       "\n",
       "       ...,\n",
       "\n",
       "       [[0.00011103, 0.06553663, 0.00011547, ..., 0.05674056,\n",
       "         0.03595096, 0.01243099]],\n",
       "\n",
       "       [[0.00011477, 0.06553688, 0.00010965, ..., 0.00815022,\n",
       "         0.00468672, 0.00148292]],\n",
       "\n",
       "       [[0.00010879, 0.06553657, 0.00012025, ..., 0.00375339,\n",
       "         0.00246608, 0.00081172]]], dtype=float32)"
      ]
     },
     "execution_count": 25,
     "metadata": {},
     "output_type": "execute_result"
    }
   ],
   "source": [
    "y_test"
   ]
  },
  {
   "cell_type": "code",
   "execution_count": 26,
   "id": "eaa1df36",
   "metadata": {},
   "outputs": [],
   "source": [
    "y_test=y_test[:,0]"
   ]
  },
  {
   "cell_type": "code",
   "execution_count": 28,
   "id": "4ca1da91",
   "metadata": {},
   "outputs": [],
   "source": [
    "from numpy import savetxt\n",
    "savetxt('ARRAY_DATA/lstm_y_test_pred.csv', y_test_pred[:1001], delimiter=',')"
   ]
  },
  {
   "cell_type": "code",
   "execution_count": 29,
   "id": "34d1ba76",
   "metadata": {},
   "outputs": [],
   "source": [
    "from numpy import savetxt\n",
    "savetxt('ARRAY_DATA/lstm_y_test.csv', y_test[:1001], delimiter=',')"
   ]
  },
  {
   "cell_type": "code",
   "execution_count": null,
   "id": "9d52b7e2",
   "metadata": {},
   "outputs": [],
   "source": [
    "#completed"
   ]
  }
 ],
 "metadata": {
  "kernelspec": {
   "display_name": "Python 3 (ipykernel)",
   "language": "python",
   "name": "python3"
  },
  "language_info": {
   "codemirror_mode": {
    "name": "ipython",
    "version": 3
   },
   "file_extension": ".py",
   "mimetype": "text/x-python",
   "name": "python",
   "nbconvert_exporter": "python",
   "pygments_lexer": "ipython3",
   "version": "3.9.5"
  }
 },
 "nbformat": 4,
 "nbformat_minor": 5
}
