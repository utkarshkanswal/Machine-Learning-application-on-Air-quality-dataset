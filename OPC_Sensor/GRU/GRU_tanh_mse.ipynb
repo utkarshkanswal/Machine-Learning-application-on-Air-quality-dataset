{
 "cells": [
  {
   "cell_type": "code",
   "execution_count": 1,
   "metadata": {},
   "outputs": [],
   "source": [
    "import numpy as np\n",
    "import pandas as pd\n",
    "from matplotlib import pyplot as plt\n",
    "import os.path as op\n",
    "from csv import writer\n",
    "import math\n",
    "import cmath\n",
    "import pickle"
   ]
  },
  {
   "cell_type": "code",
   "execution_count": 2,
   "metadata": {},
   "outputs": [],
   "source": [
    "import tensorflow as tf\n",
    "from tensorflow import keras\n",
    "from keras.models import Model,Sequential,load_model\n",
    "from keras.layers import Input, Embedding\n",
    "from keras.layers import Dense, Bidirectional\n",
    "from keras.layers.recurrent import LSTM\n",
    "import keras.metrics as metrics\n",
    "import itertools\n",
    "from tensorflow.python.keras.utils.data_utils import Sequence\n",
    "from decimal import Decimal\n",
    "from keras.layers import Conv1D,MaxPooling1D,Flatten,Dense"
   ]
  },
  {
   "cell_type": "code",
   "execution_count": 3,
   "metadata": {},
   "outputs": [
    {
     "name": "stdout",
     "output_type": "stream",
     "text": [
      "[[1.50000e+02 1.90401e+05 7.25000e+02 2.75500e+01 8.03900e+01]\n",
      " [1.50000e+02 1.90401e+05 8.25000e+02 2.75600e+01 8.03300e+01]\n",
      " [1.50000e+02 1.90401e+05 9.25000e+02 2.75800e+01 8.02400e+01]\n",
      " ...\n",
      " [6.10000e+01 1.91020e+05 1.94532e+05 2.93700e+01 7.52100e+01]\n",
      " [6.10000e+01 1.91020e+05 1.94632e+05 2.93500e+01 7.52700e+01]\n",
      " [6.10000e+01 1.91020e+05 1.94732e+05 2.93400e+01 7.53000e+01]]\n",
      "[[ 28.     3.   -52.   ...  16.97  19.63  20.06]\n",
      " [ 28.    15.   -53.   ...  16.63  19.57  23.06]\n",
      " [ 31.    16.   -55.   ...  17.24  19.98  20.24]\n",
      " ...\n",
      " [ 76.    12.   -76.   ...   3.47   3.95   4.35]\n",
      " [ 75.    13.   -76.   ...   3.88   4.33   4.42]\n",
      " [ 76.    12.   -75.   ...   3.46   4.07   4.28]]\n"
     ]
    }
   ],
   "source": [
    "A1=np.empty((0,5),dtype='float32')\n",
    "U1=np.empty((0,7),dtype='float32')\n",
    "node=['150','149','147','144','142','140','136','61']\n",
    "mon=['Apr','Mar','Aug','Jun','Jul','Sep','May','Oct']\n",
    "for j in node:\n",
    "  for i in mon:\n",
    "    inp= pd.read_csv('data_gkv/AT510_Node_'+str(j)+'_'+str(i)+'19_OutputFile.csv',usecols=[1,2,3,15,16])\n",
    "    out= pd.read_csv('data_gkv/AT510_Node_'+str(j)+'_'+str(i)+'19_OutputFile.csv',usecols=[5,6,7,8,17,18,19])\n",
    "    \n",
    "    inp=np.array(inp,dtype='float32')\n",
    "    out=np.array(out,dtype='float32')\n",
    "    \n",
    "    A1=np.append(A1, inp, axis=0)\n",
    "    U1=np.append(U1, out, axis=0)\n",
    "\n",
    "print(A1)\n",
    "print(U1)"
   ]
  },
  {
   "cell_type": "code",
   "execution_count": 4,
   "metadata": {},
   "outputs": [],
   "source": [
    "from sklearn.preprocessing import MinMaxScaler\n",
    "import warnings\n",
    "scaler_obj=MinMaxScaler()\n",
    "X1=scaler_obj.fit_transform(A1)\n",
    "Y1=scaler_obj.fit_transform(U1)\n",
    "\n",
    "warnings.filterwarnings(action='ignore', category=UserWarning)\n",
    "\n",
    "X1=X1[:,np.newaxis,:]\n",
    "Y1=Y1[:,np.newaxis,:]"
   ]
  },
  {
   "cell_type": "code",
   "execution_count": 5,
   "metadata": {},
   "outputs": [],
   "source": [
    "from keras import backend as K\n",
    "def rmse(y_true, y_pred):\n",
    "    return K.sqrt(K.mean(K.square(y_pred - y_true), axis=-1))"
   ]
  },
  {
   "cell_type": "code",
   "execution_count": 6,
   "metadata": {},
   "outputs": [
    {
     "name": "stdout",
     "output_type": "stream",
     "text": [
      "Model: \"sequential\"\n",
      "_________________________________________________________________\n",
      " Layer (type)                Output Shape              Param #   \n",
      "=================================================================\n",
      " gru (GRU)                   (None, 14)                882       \n",
      "                                                                 \n",
      " dropout (Dropout)           (None, 14)                0         \n",
      "                                                                 \n",
      " dense (Dense)               (None, 7)                 105       \n",
      "                                                                 \n",
      " batch_normalization (BatchN  (None, 7)                28        \n",
      " ormalization)                                                   \n",
      "                                                                 \n",
      " re_lu (ReLU)                (None, 7)                 0         \n",
      "                                                                 \n",
      "=================================================================\n",
      "Total params: 1,015\n",
      "Trainable params: 1,001\n",
      "Non-trainable params: 14\n",
      "_________________________________________________________________\n"
     ]
    }
   ],
   "source": [
    "model = Sequential()\n",
    "model.add(keras.Input(shape=(1,5)))\n",
    "model.add(tf.keras.layers.GRU(14,activation=\"tanh\",use_bias=True,kernel_initializer=\"glorot_uniform\",bias_initializer=\"zeros\", \n",
    "                                kernel_regularizer=keras.regularizers.l1_l2(l1=1e-5, l2=1e-4),\n",
    "                                bias_regularizer=keras.regularizers.l2(1e-4),\n",
    "                                activity_regularizer=keras.regularizers.l2(1e-5)))\n",
    "model.add(keras.layers.Dropout(.1))\n",
    "model.add(Dense(7))\n",
    "model.add(keras.layers.BatchNormalization(axis=-1,momentum=0.99,epsilon=0.001,center=True,scale=True,\n",
    "                                beta_initializer=\"zeros\",gamma_initializer=\"ones\",\n",
    "                                moving_mean_initializer=\"zeros\",moving_variance_initializer=\"ones\",trainable=True))\n",
    "model.add(keras.layers.ReLU())\n",
    "model.compile(optimizer=keras.optimizers.Adam(learning_rate=1e-5),loss='mse',metrics=['accuracy','mse','mae',rmse])\n",
    "model.summary()"
   ]
  },
  {
   "cell_type": "code",
   "execution_count": 7,
   "metadata": {},
   "outputs": [
    {
     "name": "stdout",
     "output_type": "stream",
     "text": [
      "Epoch 1/50\n",
      "4563/4563 [==============================] - 62s 12ms/step - loss: 0.0984 - accuracy: 0.0658 - mse: 0.0973 - mae: 0.1657 - rmse: 0.2565 - val_loss: 0.0035 - val_accuracy: 0.0269 - val_mse: 0.0025 - val_mae: 0.0292 - val_rmse: 0.0457\n",
      "Epoch 2/50\n",
      "4563/4563 [==============================] - 51s 11ms/step - loss: 0.0133 - accuracy: 0.1590 - mse: 0.0125 - mae: 0.0518 - rmse: 0.0815 - val_loss: 0.0014 - val_accuracy: 0.4570 - val_mse: 6.0494e-04 - val_mae: 0.0122 - val_rmse: 0.0220\n",
      "Epoch 3/50\n",
      "4563/4563 [==============================] - 57s 13ms/step - loss: 0.0030 - accuracy: 0.3501 - mse: 0.0023 - mae: 0.0224 - rmse: 0.0365 - val_loss: 0.0012 - val_accuracy: 0.5327 - val_mse: 5.6587e-04 - val_mae: 0.0114 - val_rmse: 0.0208\n",
      "Epoch 4/50\n",
      "4563/4563 [==============================] - 89s 19ms/step - loss: 0.0014 - accuracy: 0.5570 - mse: 8.6661e-04 - mae: 0.0141 - rmse: 0.0240 - val_loss: 9.4181e-04 - val_accuracy: 0.6484 - val_mse: 5.0536e-04 - val_mae: 0.0106 - val_rmse: 0.0190\n",
      "Epoch 5/50\n",
      "4563/4563 [==============================] - 52s 11ms/step - loss: 9.0422e-04 - accuracy: 0.6501 - mse: 5.3938e-04 - mae: 0.0111 - rmse: 0.0193 - val_loss: 7.9196e-04 - val_accuracy: 0.7368 - val_mse: 4.9477e-04 - val_mae: 0.0107 - val_rmse: 0.0190\n",
      "Epoch 6/50\n",
      "4563/4563 [==============================] - 51s 11ms/step - loss: 6.8498e-04 - accuracy: 0.6843 - mse: 4.4544e-04 - mae: 0.0098 - rmse: 0.0170 - val_loss: 7.1015e-04 - val_accuracy: 0.7666 - val_mse: 5.2049e-04 - val_mae: 0.0115 - val_rmse: 0.0205\n",
      "Epoch 7/50\n",
      "4563/4563 [==============================] - 53s 12ms/step - loss: 5.3429e-04 - accuracy: 0.7507 - mse: 3.8256e-04 - mae: 0.0088 - rmse: 0.0151 - val_loss: 8.0691e-04 - val_accuracy: 0.7840 - val_mse: 6.8921e-04 - val_mae: 0.0134 - val_rmse: 0.0249\n",
      "Epoch 8/50\n",
      "4563/4563 [==============================] - 51s 11ms/step - loss: 4.0355e-04 - accuracy: 0.8324 - mse: 3.1212e-04 - mae: 0.0077 - rmse: 0.0130 - val_loss: 6.7349e-04 - val_accuracy: 0.9440 - val_mse: 6.0510e-04 - val_mae: 0.0127 - val_rmse: 0.0231\n",
      "Epoch 9/50\n",
      "4563/4563 [==============================] - 53s 12ms/step - loss: 3.4759e-04 - accuracy: 0.8348 - mse: 2.9466e-04 - mae: 0.0074 - rmse: 0.0123 - val_loss: 5.7873e-04 - val_accuracy: 0.9440 - val_mse: 5.3886e-04 - val_mae: 0.0120 - val_rmse: 0.0216\n",
      "Epoch 10/50\n",
      "4563/4563 [==============================] - 52s 11ms/step - loss: 3.1865e-04 - accuracy: 0.8356 - mse: 2.8824e-04 - mae: 0.0072 - rmse: 0.0120 - val_loss: 5.1799e-04 - val_accuracy: 0.9440 - val_mse: 4.9507e-04 - val_mae: 0.0115 - val_rmse: 0.0205\n",
      "Epoch 11/50\n",
      "4563/4563 [==============================] - 51s 11ms/step - loss: 3.0216e-04 - accuracy: 0.8354 - mse: 2.8398e-04 - mae: 0.0071 - rmse: 0.0118 - val_loss: 4.4993e-04 - val_accuracy: 0.9440 - val_mse: 4.3556e-04 - val_mae: 0.0108 - val_rmse: 0.0188\n",
      "Epoch 12/50\n",
      "4563/4563 [==============================] - 53s 12ms/step - loss: 2.9209e-04 - accuracy: 0.8358 - mse: 2.7976e-04 - mae: 0.0070 - rmse: 0.0117 - val_loss: 3.9058e-04 - val_accuracy: 0.9440 - val_mse: 3.7969e-04 - val_mae: 0.0100 - val_rmse: 0.0171\n",
      "Epoch 13/50\n",
      "4563/4563 [==============================] - 54s 12ms/step - loss: 2.8560e-04 - accuracy: 0.8356 - mse: 2.7540e-04 - mae: 0.0069 - rmse: 0.0115 - val_loss: 3.5532e-04 - val_accuracy: 0.9440 - val_mse: 3.4557e-04 - val_mae: 0.0095 - val_rmse: 0.0159\n",
      "Epoch 14/50\n",
      "4563/4563 [==============================] - 80s 18ms/step - loss: 2.7921e-04 - accuracy: 0.8366 - mse: 2.6980e-04 - mae: 0.0067 - rmse: 0.0114 - val_loss: 3.2513e-04 - val_accuracy: 0.9440 - val_mse: 3.1602e-04 - val_mae: 0.0090 - val_rmse: 0.0148\n",
      "Epoch 15/50\n",
      "4563/4563 [==============================] - 63s 14ms/step - loss: 2.6581e-04 - accuracy: 0.8511 - mse: 2.5707e-04 - mae: 0.0065 - rmse: 0.0110 - val_loss: 2.7637e-04 - val_accuracy: 0.9440 - val_mse: 2.6795e-04 - val_mae: 0.0079 - val_rmse: 0.0126\n",
      "Epoch 16/50\n",
      "4563/4563 [==============================] - 50s 11ms/step - loss: 2.5865e-04 - accuracy: 0.8531 - mse: 2.5054e-04 - mae: 0.0063 - rmse: 0.0108 - val_loss: 2.5827e-04 - val_accuracy: 0.9440 - val_mse: 2.5041e-04 - val_mae: 0.0074 - val_rmse: 0.0117\n",
      "Epoch 17/50\n",
      "4563/4563 [==============================] - 46s 10ms/step - loss: 2.5576e-04 - accuracy: 0.8535 - mse: 2.4813e-04 - mae: 0.0062 - rmse: 0.0107 - val_loss: 2.4620e-04 - val_accuracy: 0.9440 - val_mse: 2.3878e-04 - val_mae: 0.0070 - val_rmse: 0.0109\n",
      "Epoch 18/50\n",
      "4563/4563 [==============================] - 51s 11ms/step - loss: 2.5135e-04 - accuracy: 0.8533 - mse: 2.4404e-04 - mae: 0.0062 - rmse: 0.0106 - val_loss: 2.3901e-04 - val_accuracy: 0.9440 - val_mse: 2.3189e-04 - val_mae: 0.0067 - val_rmse: 0.0104\n",
      "Epoch 19/50\n",
      "4563/4563 [==============================] - 47s 10ms/step - loss: 2.4836e-04 - accuracy: 0.8529 - mse: 2.4154e-04 - mae: 0.0061 - rmse: 0.0106 - val_loss: 2.3507e-04 - val_accuracy: 0.9440 - val_mse: 2.2853e-04 - val_mae: 0.0066 - val_rmse: 0.0102\n",
      "Epoch 20/50\n",
      "4563/4563 [==============================] - 47s 10ms/step - loss: 2.4576e-04 - accuracy: 0.8534 - mse: 2.3949e-04 - mae: 0.0060 - rmse: 0.0105 - val_loss: 2.4586e-04 - val_accuracy: 0.9440 - val_mse: 2.3984e-04 - val_mae: 0.0071 - val_rmse: 0.0110\n",
      "Epoch 21/50\n",
      "4563/4563 [==============================] - 50s 11ms/step - loss: 1.8670e-04 - accuracy: 0.9424 - mse: 1.8114e-04 - mae: 0.0052 - rmse: 0.0088 - val_loss: 2.2090e-04 - val_accuracy: 0.9440 - val_mse: 2.1567e-04 - val_mae: 0.0052 - val_rmse: 0.0088\n",
      "Epoch 22/50\n",
      "4563/4563 [==============================] - 46s 10ms/step - loss: 1.7920e-04 - accuracy: 0.9429 - mse: 1.7418e-04 - mae: 0.0049 - rmse: 0.0085 - val_loss: 2.2057e-04 - val_accuracy: 0.9440 - val_mse: 2.1572e-04 - val_mae: 0.0053 - val_rmse: 0.0088\n",
      "Epoch 23/50\n",
      "4563/4563 [==============================] - 48s 10ms/step - loss: 1.7730e-04 - accuracy: 0.9431 - mse: 1.7263e-04 - mae: 0.0049 - rmse: 0.0084 - val_loss: 2.2018e-04 - val_accuracy: 0.9440 - val_mse: 2.1566e-04 - val_mae: 0.0052 - val_rmse: 0.0088\n",
      "Epoch 24/50\n",
      "4563/4563 [==============================] - 46s 10ms/step - loss: 1.7548e-04 - accuracy: 0.9436 - mse: 1.7112e-04 - mae: 0.0049 - rmse: 0.0083 - val_loss: 2.1989e-04 - val_accuracy: 0.9440 - val_mse: 2.1568e-04 - val_mae: 0.0052 - val_rmse: 0.0088\n",
      "Epoch 25/50\n",
      "4563/4563 [==============================] - 49s 11ms/step - loss: 1.7396e-04 - accuracy: 0.9438 - mse: 1.6989e-04 - mae: 0.0048 - rmse: 0.0083 - val_loss: 2.1965e-04 - val_accuracy: 0.9440 - val_mse: 2.1571e-04 - val_mae: 0.0053 - val_rmse: 0.0088\n",
      "Epoch 26/50\n",
      "4563/4563 [==============================] - 53s 12ms/step - loss: 1.7085e-04 - accuracy: 0.9438 - mse: 1.6705e-04 - mae: 0.0048 - rmse: 0.0082 - val_loss: 2.1930e-04 - val_accuracy: 0.9440 - val_mse: 2.1567e-04 - val_mae: 0.0052 - val_rmse: 0.0088\n",
      "Epoch 27/50\n",
      "4563/4563 [==============================] - 49s 11ms/step - loss: 1.6749e-04 - accuracy: 0.9438 - mse: 1.6411e-04 - mae: 0.0048 - rmse: 0.0081 - val_loss: 2.1881e-04 - val_accuracy: 0.9440 - val_mse: 2.1567e-04 - val_mae: 0.0052 - val_rmse: 0.0088\n",
      "Epoch 28/50\n",
      "4563/4563 [==============================] - 50s 11ms/step - loss: 1.6518e-04 - accuracy: 0.9438 - mse: 1.6225e-04 - mae: 0.0047 - rmse: 0.0081 - val_loss: 2.1841e-04 - val_accuracy: 0.9440 - val_mse: 2.1566e-04 - val_mae: 0.0052 - val_rmse: 0.0088\n",
      "Epoch 29/50\n",
      "4563/4563 [==============================] - 47s 10ms/step - loss: 1.6306e-04 - accuracy: 0.9438 - mse: 1.6051e-04 - mae: 0.0047 - rmse: 0.0080 - val_loss: 2.1805e-04 - val_accuracy: 0.9440 - val_mse: 2.1566e-04 - val_mae: 0.0052 - val_rmse: 0.0088\n",
      "Epoch 30/50\n",
      "4563/4563 [==============================] - 48s 10ms/step - loss: 1.6100e-04 - accuracy: 0.9438 - mse: 1.5882e-04 - mae: 0.0047 - rmse: 0.0080 - val_loss: 2.1763e-04 - val_accuracy: 0.9440 - val_mse: 2.1566e-04 - val_mae: 0.0052 - val_rmse: 0.0088\n",
      "Epoch 31/50\n",
      "4563/4563 [==============================] - 46s 10ms/step - loss: 1.5942e-04 - accuracy: 0.9438 - mse: 1.5767e-04 - mae: 0.0046 - rmse: 0.0079 - val_loss: 2.0351e-04 - val_accuracy: 0.9440 - val_mse: 2.0197e-04 - val_mae: 0.0049 - val_rmse: 0.0081\n",
      "Epoch 32/50\n"
     ]
    },
    {
     "name": "stdout",
     "output_type": "stream",
     "text": [
      "4563/4563 [==============================] - 48s 11ms/step - loss: 1.5799e-04 - accuracy: 0.9438 - mse: 1.5667e-04 - mae: 0.0046 - rmse: 0.0079 - val_loss: 1.8595e-04 - val_accuracy: 0.9440 - val_mse: 1.8482e-04 - val_mae: 0.0046 - val_rmse: 0.0076\n",
      "Epoch 33/50\n",
      "4563/4563 [==============================] - 47s 10ms/step - loss: 1.5684e-04 - accuracy: 0.9438 - mse: 1.5592e-04 - mae: 0.0046 - rmse: 0.0079 - val_loss: 1.7185e-04 - val_accuracy: 0.9440 - val_mse: 1.7110e-04 - val_mae: 0.0043 - val_rmse: 0.0072\n",
      "Epoch 34/50\n",
      "4563/4563 [==============================] - 49s 11ms/step - loss: 1.5606e-04 - accuracy: 0.9438 - mse: 1.5548e-04 - mae: 0.0046 - rmse: 0.0079 - val_loss: 1.5500e-04 - val_accuracy: 0.9440 - val_mse: 1.5455e-04 - val_mae: 0.0041 - val_rmse: 0.0069\n",
      "Epoch 35/50\n",
      "4563/4563 [==============================] - 55s 12ms/step - loss: 1.5131e-04 - accuracy: 0.9438 - mse: 1.5110e-04 - mae: 0.0046 - rmse: 0.0078 - val_loss: 1.4326e-04 - val_accuracy: 0.9440 - val_mse: 1.4321e-04 - val_mae: 0.0042 - val_rmse: 0.0071\n",
      "Epoch 36/50\n",
      "4563/4563 [==============================] - 49s 11ms/step - loss: 1.4851e-04 - accuracy: 0.9438 - mse: 1.4849e-04 - mae: 0.0045 - rmse: 0.0078 - val_loss: 1.4199e-04 - val_accuracy: 0.9440 - val_mse: 1.4198e-04 - val_mae: 0.0043 - val_rmse: 0.0073\n",
      "Epoch 37/50\n",
      "4563/4563 [==============================] - 51s 11ms/step - loss: 1.4144e-04 - accuracy: 0.9438 - mse: 1.4143e-04 - mae: 0.0045 - rmse: 0.0076 - val_loss: 1.4071e-04 - val_accuracy: 0.9440 - val_mse: 1.4069e-04 - val_mae: 0.0045 - val_rmse: 0.0076\n",
      "Epoch 38/50\n",
      "4563/4563 [==============================] - 52s 11ms/step - loss: 1.4098e-04 - accuracy: 0.9438 - mse: 1.4097e-04 - mae: 0.0045 - rmse: 0.0076 - val_loss: 1.4071e-04 - val_accuracy: 0.9440 - val_mse: 1.4069e-04 - val_mae: 0.0045 - val_rmse: 0.0077\n",
      "Epoch 39/50\n",
      "4563/4563 [==============================] - 52s 11ms/step - loss: 1.4098e-04 - accuracy: 0.9438 - mse: 1.4098e-04 - mae: 0.0045 - rmse: 0.0076 - val_loss: 1.4071e-04 - val_accuracy: 0.9440 - val_mse: 1.4069e-04 - val_mae: 0.0045 - val_rmse: 0.0076\n",
      "Epoch 40/50\n",
      "4563/4563 [==============================] - 50s 11ms/step - loss: 1.4098e-04 - accuracy: 0.9438 - mse: 1.4097e-04 - mae: 0.0045 - rmse: 0.0076 - val_loss: 1.4070e-04 - val_accuracy: 0.9440 - val_mse: 1.4069e-04 - val_mae: 0.0045 - val_rmse: 0.0076\n",
      "Epoch 41/50\n",
      "4563/4563 [==============================] - 50s 11ms/step - loss: 1.4098e-04 - accuracy: 0.9438 - mse: 1.4097e-04 - mae: 0.0045 - rmse: 0.0076 - val_loss: 1.4071e-04 - val_accuracy: 0.9440 - val_mse: 1.4070e-04 - val_mae: 0.0045 - val_rmse: 0.0076\n",
      "Epoch 42/50\n",
      "4563/4563 [==============================] - 51s 11ms/step - loss: 1.4098e-04 - accuracy: 0.9438 - mse: 1.4097e-04 - mae: 0.0045 - rmse: 0.0076 - val_loss: 1.4071e-04 - val_accuracy: 0.9440 - val_mse: 1.4069e-04 - val_mae: 0.0045 - val_rmse: 0.0077\n",
      "Epoch 43/50\n",
      "4563/4563 [==============================] - 52s 11ms/step - loss: 1.4098e-04 - accuracy: 0.9438 - mse: 1.4097e-04 - mae: 0.0045 - rmse: 0.0076 - val_loss: 1.4071e-04 - val_accuracy: 0.9440 - val_mse: 1.4069e-04 - val_mae: 0.0045 - val_rmse: 0.0076\n",
      "Epoch 44/50\n",
      "4563/4563 [==============================] - 50s 11ms/step - loss: 1.4098e-04 - accuracy: 0.9438 - mse: 1.4098e-04 - mae: 0.0045 - rmse: 0.0076 - val_loss: 1.4071e-04 - val_accuracy: 0.9440 - val_mse: 1.4070e-04 - val_mae: 0.0045 - val_rmse: 0.0076\n",
      "Epoch 45/50\n",
      "4563/4563 [==============================] - 50s 11ms/step - loss: 1.4098e-04 - accuracy: 0.9438 - mse: 1.4097e-04 - mae: 0.0045 - rmse: 0.0076 - val_loss: 1.4071e-04 - val_accuracy: 0.9440 - val_mse: 1.4069e-04 - val_mae: 0.0045 - val_rmse: 0.0076\n",
      "Epoch 46/50\n",
      "4563/4563 [==============================] - 49s 11ms/step - loss: 1.4098e-04 - accuracy: 0.9438 - mse: 1.4098e-04 - mae: 0.0045 - rmse: 0.0076 - val_loss: 1.4071e-04 - val_accuracy: 0.9440 - val_mse: 1.4069e-04 - val_mae: 0.0045 - val_rmse: 0.0076\n",
      "Epoch 47/50\n",
      "4563/4563 [==============================] - 50s 11ms/step - loss: 1.4098e-04 - accuracy: 0.9438 - mse: 1.4098e-04 - mae: 0.0045 - rmse: 0.0076 - val_loss: 1.4072e-04 - val_accuracy: 0.9440 - val_mse: 1.4070e-04 - val_mae: 0.0045 - val_rmse: 0.0076\n",
      "Epoch 48/50\n",
      "4563/4563 [==============================] - 49s 11ms/step - loss: 1.4098e-04 - accuracy: 0.9438 - mse: 1.4097e-04 - mae: 0.0045 - rmse: 0.0076 - val_loss: 1.4072e-04 - val_accuracy: 0.9440 - val_mse: 1.4070e-04 - val_mae: 0.0045 - val_rmse: 0.0076\n",
      "Epoch 49/50\n",
      "4563/4563 [==============================] - 50s 11ms/step - loss: 1.4098e-04 - accuracy: 0.9438 - mse: 1.4098e-04 - mae: 0.0045 - rmse: 0.0076 - val_loss: 1.4070e-04 - val_accuracy: 0.9440 - val_mse: 1.4069e-04 - val_mae: 0.0045 - val_rmse: 0.0076\n",
      "Epoch 50/50\n",
      "4563/4563 [==============================] - 49s 11ms/step - loss: 1.4098e-04 - accuracy: 0.9438 - mse: 1.4097e-04 - mae: 0.0045 - rmse: 0.0076 - val_loss: 1.4070e-04 - val_accuracy: 0.9440 - val_mse: 1.4069e-04 - val_mae: 0.0045 - val_rmse: 0.0077\n"
     ]
    }
   ],
   "source": [
    "from sklearn.model_selection import train_test_split\n",
    "x_train, x_test, y_train, y_test = train_test_split(X1, Y1, test_size=0.25, random_state=42)\n",
    "\n",
    "history2 = model.fit(x_train,y_train,batch_size=256,epochs=50, validation_split=0.1)"
   ]
  },
  {
   "cell_type": "code",
   "execution_count": 9,
   "metadata": {},
   "outputs": [
    {
     "name": "stdout",
     "output_type": "stream",
     "text": [
      "13518/13518 [==============================] - 70s 5ms/step - loss: 1.4093e-04 - accuracy: 0.9435 - mse: 1.4093e-04 - mae: 0.0045 - rmse: 0.0077\n"
     ]
    },
    {
     "data": {
      "text/plain": [
       "[0.00014092928904574364,\n",
       " 0.9434838891029358,\n",
       " 0.0001409279357176274,\n",
       " 0.004492573905736208,\n",
       " 0.007667729631066322]"
      ]
     },
     "execution_count": 9,
     "metadata": {},
     "output_type": "execute_result"
    }
   ],
   "source": [
    "model.evaluate(x_test,y_test)"
   ]
  },
  {
   "cell_type": "code",
   "execution_count": 10,
   "metadata": {},
   "outputs": [
    {
     "name": "stdout",
     "output_type": "stream",
     "text": [
      "40554/40554 [==============================] - 206s 5ms/step - loss: 1.4095e-04 - accuracy: 0.9438 - mse: 1.4095e-04 - mae: 0.0045 - rmse: 0.0077\n"
     ]
    },
    {
     "data": {
      "text/plain": [
       "[0.0001409490214427933,\n",
       " 0.94383305311203,\n",
       " 0.0001409471733495593,\n",
       " 0.004482445772737265,\n",
       " 0.0076523213647305965]"
      ]
     },
     "execution_count": 10,
     "metadata": {},
     "output_type": "execute_result"
    }
   ],
   "source": [
    "model.evaluate(x_train,y_train)"
   ]
  },
  {
   "cell_type": "code",
   "execution_count": 11,
   "metadata": {},
   "outputs": [
    {
     "name": "stdout",
     "output_type": "stream",
     "text": [
      "Saved model to disk\n"
     ]
    }
   ],
   "source": [
    "model_json = model.to_json()\n",
    "with open(\"Model_File/gru_tanh_mse.json\", \"w\") as json_file:\n",
    "    json_file.write(model_json)\n",
    "# serialize weights to HDF5\n",
    "model.save_weights(\"Model_File/gru_tanh_mse.h5\")\n",
    "print(\"Saved model to disk\")"
   ]
  },
  {
   "cell_type": "code",
   "execution_count": 10,
   "metadata": {},
   "outputs": [
    {
     "name": "stdout",
     "output_type": "stream",
     "text": [
      "Loaded model from disk\n",
      "[0.0006592384306713939, 0.22406166791915894, 0.0006567109376192093, 0.012324623763561249, 0.023422222584486008]\n"
     ]
    }
   ],
   "source": [
    "from sklearn.model_selection import train_test_split\n",
    "x_train, x_test, y_train, y_test = train_test_split(X1, Y1, test_size=0.25, random_state=42)\n",
    "\n",
    "from keras.models import model_from_json\n",
    "json_file = open('Model_File/gru_tanh_mse.json', 'r')\n",
    "loaded_model_json = json_file.read()\n",
    "json_file.close()\n",
    "loaded_model = model_from_json(loaded_model_json)\n",
    "# load weights into new model\n",
    "loaded_model.load_weights(\"Model_File/gru_tanh_mse.h5\")\n",
    "print(\"Loaded model from disk\")\n",
    "loaded_model.compile(optimizer=keras.optimizers.Adam(learning_rate=1e-5),loss='mse',metrics=['accuracy','mse','mae',rmse])\n",
    "print(loaded_model.evaluate(x_train, y_train, verbose=0))"
   ]
  },
  {
   "cell_type": "code",
   "execution_count": 8,
   "metadata": {},
   "outputs": [
    {
     "name": "stdout",
     "output_type": "stream",
     "text": [
      "13518/13518 [==============================] - 28s 2ms/step - loss: 6.5882e-04 - accuracy: 0.2249 - mse: 6.5629e-04 - mae: 0.0123 - rmse: 0.0234\n"
     ]
    },
    {
     "data": {
      "text/plain": [
       "[0.0006588164833374321,\n",
       " 0.22491858899593353,\n",
       " 0.0006562928319908679,\n",
       " 0.012329255230724812,\n",
       " 0.02341914176940918]"
      ]
     },
     "execution_count": 8,
     "metadata": {},
     "output_type": "execute_result"
    }
   ],
   "source": [
    "print(loaded_model.evaluate(x_test,y_test))"
   ]
  },
  {
   "cell_type": "code",
   "execution_count": 11,
   "metadata": {},
   "outputs": [
    {
     "name": "stdout",
     "output_type": "stream",
     "text": [
      "40554/40554 [==============================] - 86s 2ms/step - loss: 6.5924e-04 - accuracy: 0.2241 - mse: 6.5671e-04 - mae: 0.0123 - rmse: 0.0234\n",
      "[0.0006592384306713939, 0.22406166791915894, 0.0006567109376192093, 0.012324623763561249, 0.023422222584486008]\n"
     ]
    }
   ],
   "source": [
    "print(loaded_model.evaluate(x_train,y_train))"
   ]
  },
  {
   "cell_type": "code",
   "execution_count": 12,
   "metadata": {},
   "outputs": [
    {
     "data": {
      "image/png": "[encoded data removed]",
      "text/plain": [
       "<Figure size 432x288 with 1 Axes>"
      ]
     },
     "metadata": {
      "needs_background": "light"
     },
     "output_type": "display_data"
    },
    {
     "data": {
      "text/plain": [
       "<matplotlib.legend.Legend at 0x1f5c8241190>"
      ]
     },
     "execution_count": 12,
     "metadata": {},
     "output_type": "execute_result"
    },
    {
     "data": {
      "image/png": "[encoded data removed]",
      "text/plain": [
       "<Figure size 432x288 with 1 Axes>"
      ]
     },
     "metadata": {
      "needs_background": "light"
     },
     "output_type": "display_data"
    }
   ],
   "source": [
    "plt.plot(history2.history['loss'])\n",
    "plt.plot(history2.history['val_loss'])\n",
    "plt.title('model loss')\n",
    "plt.ylabel('loss')\n",
    "plt.xlabel('epoch')\n",
    "plt.legend(['train', 'test'], loc='upper left')\n",
    "\n",
    "plt.show()\n",
    "\n",
    "plt.plot(history2.history['accuracy'])\n",
    "plt.plot(history2.history['val_accuracy'])\n",
    "plt.title('model accuracy')\n",
    "plt.ylabel('accuracy')\n",
    "plt.xlabel('epoch')\n",
    "plt.legend(['train', 'test'], loc='upper left')"
   ]
  },
  {
   "cell_type": "code",
   "execution_count": 14,
   "metadata": {},
   "outputs": [
    {
     "data": {
      "text/plain": [
       "array([[0.        , 0.06554516, 0.        , ..., 0.01927156, 0.01238301,\n",
       "        0.        ],\n",
       "       [0.        , 0.06554849, 0.        , ..., 0.01927139, 0.01237817,\n",
       "        0.        ],\n",
       "       [0.        , 0.06554811, 0.        , ..., 0.01927198, 0.01237819,\n",
       "        0.        ],\n",
       "       ...,\n",
       "       [0.        , 0.06554803, 0.        , ..., 0.01927239, 0.01237794,\n",
       "        0.        ],\n",
       "       [0.        , 0.06554521, 0.        , ..., 0.01927139, 0.01238317,\n",
       "        0.        ],\n",
       "       [0.        , 0.06554838, 0.        , ..., 0.01927189, 0.01237781,\n",
       "        0.        ]], dtype=float32)"
      ]
     },
     "execution_count": 14,
     "metadata": {},
     "output_type": "execute_result"
    }
   ],
   "source": [
    "from sklearn.model_selection import train_test_split\n",
    "x_train, x_test, y_train, y_test = train_test_split(X1, Y1, test_size=0.25, random_state=42)\n",
    "\n",
    "y_test_pred=model.predict(x_test)\n",
    "y_test_pred"
   ]
  },
  {
   "cell_type": "code",
   "execution_count": 15,
   "metadata": {},
   "outputs": [
    {
     "data": {
      "text/plain": [
       "array([[[0.00011559, 0.06553685, 0.00011085, ..., 0.0021448 ,\n",
       "         0.0014142 , 0.00052142]],\n",
       "\n",
       "       [[0.00011088, 0.06553695, 0.00012144, ..., 0.01090628,\n",
       "         0.00639894, 0.00234271]],\n",
       "\n",
       "       [[0.0001138 , 0.06553686, 0.00011756, ..., 0.02938369,\n",
       "         0.01855402, 0.00761428]],\n",
       "\n",
       "       ...,\n",
       "\n",
       "       [[0.00011103, 0.06553663, 0.00011547, ..., 0.05674056,\n",
       "         0.03595096, 0.01243099]],\n",
       "\n",
       "       [[0.00011477, 0.06553688, 0.00010965, ..., 0.00815022,\n",
       "         0.00468672, 0.00148292]],\n",
       "\n",
       "       [[0.00010879, 0.06553657, 0.00012025, ..., 0.00375339,\n",
       "         0.00246608, 0.00081172]]], dtype=float32)"
      ]
     },
     "execution_count": 15,
     "metadata": {},
     "output_type": "execute_result"
    }
   ],
   "source": [
    "y_test"
   ]
  },
  {
   "cell_type": "code",
   "execution_count": 16,
   "metadata": {},
   "outputs": [],
   "source": [
    "y_test=y_test[:,0]"
   ]
  },
  {
   "cell_type": "code",
   "execution_count": 17,
   "metadata": {},
   "outputs": [],
   "source": [
    "from numpy import savetxt\n",
    "savetxt('ARRAY_DATA/gru_tanh_mse_y_test_pred.csv', y_test_pred[:1001], delimiter=',')"
   ]
  },
  {
   "cell_type": "code",
   "execution_count": 18,
   "metadata": {},
   "outputs": [],
   "source": [
    "from numpy import savetxt\n",
    "savetxt('ARRAY_DATA/gru_tanh_mse_y_test.csv', y_test[:1001], delimiter=',')"
   ]
  },
  {
   "cell_type": "code",
   "execution_count": null,
   "metadata": {},
   "outputs": [],
   "source": [
    "#completed"
   ]
  }
 ],
 "metadata": {
  "interpreter": {
   "hash": "63fd5069d213b44bf678585dea6b12cceca9941eaf7f819626cde1f2670de90d"
  },
  "kernelspec": {
   "display_name": "Python 3 (ipykernel)",
   "language": "python",
   "name": "python3"
  },
  "language_info": {
   "codemirror_mode": {
    "name": "ipython",
    "version": 3
   },
   "file_extension": ".py",
   "mimetype": "text/x-python",
   "name": "python",
   "nbconvert_exporter": "python",
   "pygments_lexer": "ipython3",
   "version": "3.9.5"
  }
 },
 "nbformat": 4,
 "nbformat_minor": 2
}
