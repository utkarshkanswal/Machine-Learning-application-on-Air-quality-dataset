{
 "cells": [
  {
   "cell_type": "code",
   "execution_count": 1,
   "metadata": {},
   "outputs": [],
   "source": [
    "import numpy as np\n",
    "import pandas as pd\n",
    "from matplotlib import pyplot as plt\n",
    "import os.path as op\n",
    "from csv import writer\n",
    "import math\n",
    "import cmath\n",
    "import pickle"
   ]
  },
  {
   "cell_type": "code",
   "execution_count": 3,
   "metadata": {},
   "outputs": [],
   "source": [
    "import tensorflow as tf\n",
    "from tensorflow import keras\n",
    "from keras.models import Model,Sequential,load_model\n",
    "from keras.layers import Input, Embedding\n",
    "from keras.layers import Dense, Bidirectional\n",
    "from keras.layers.recurrent import LSTM\n",
    "import keras.metrics as metrics\n",
    "import itertools\n",
    "from tensorflow.python.keras.utils.data_utils import Sequence\n",
    "from decimal import Decimal\n",
    "from keras.layers import Conv1D,MaxPooling1D,Flatten,Dense"
   ]
  },
  {
   "cell_type": "code",
   "execution_count": 5,
   "metadata": {},
   "outputs": [
    {
     "name": "stdout",
     "output_type": "stream",
     "text": [
      "[[1.50000e+02 1.90401e+05 7.25000e+02 2.75500e+01 8.03900e+01]\n",
      " [1.50000e+02 1.90401e+05 8.25000e+02 2.75600e+01 8.03300e+01]\n",
      " [1.50000e+02 1.90401e+05 9.25000e+02 2.75800e+01 8.02400e+01]\n",
      " ...\n",
      " [6.10000e+01 1.91020e+05 1.94532e+05 2.93700e+01 7.52100e+01]\n",
      " [6.10000e+01 1.91020e+05 1.94632e+05 2.93500e+01 7.52700e+01]\n",
      " [6.10000e+01 1.91020e+05 1.94732e+05 2.93400e+01 7.53000e+01]]\n",
      "[[ 28.     3.   -52.   ...  16.97  19.63  20.06]\n",
      " [ 28.    15.   -53.   ...  16.63  19.57  23.06]\n",
      " [ 31.    16.   -55.   ...  17.24  19.98  20.24]\n",
      " ...\n",
      " [ 76.    12.   -76.   ...   3.47   3.95   4.35]\n",
      " [ 75.    13.   -76.   ...   3.88   4.33   4.42]\n",
      " [ 76.    12.   -75.   ...   3.46   4.07   4.28]]\n"
     ]
    }
   ],
   "source": [
    "A1=np.empty((0,5),dtype='float32')\n",
    "U1=np.empty((0,7),dtype='float32')\n",
    "node=['150','149','147','144','142','140','136','61']\n",
    "mon=['Apr','Mar','Aug','Jun','Jul','Sep','May','Oct']\n",
    "for j in node:\n",
    "  for i in mon:\n",
    "    inp= pd.read_csv('data_gkv/AT510_Node_'+str(j)+'_'+str(i)+'19_OutputFile.csv',usecols=[1,2,3,15,16])\n",
    "    out= pd.read_csv('data_gkv/AT510_Node_'+str(j)+'_'+str(i)+'19_OutputFile.csv',usecols=[5,6,7,8,17,18,19])\n",
    "    \n",
    "    inp=np.array(inp,dtype='float32')\n",
    "    out=np.array(out,dtype='float32')\n",
    "    \n",
    "    A1=np.append(A1, inp, axis=0)\n",
    "    U1=np.append(U1, out, axis=0)\n",
    "\n",
    "print(A1)\n",
    "print(U1)"
   ]
  },
  {
   "cell_type": "code",
   "execution_count": 6,
   "metadata": {},
   "outputs": [],
   "source": [
    "from sklearn.preprocessing import MinMaxScaler\n",
    "import warnings\n",
    "scaler_obj=MinMaxScaler()\n",
    "X1=scaler_obj.fit_transform(A1)\n",
    "Y1=scaler_obj.fit_transform(U1)\n",
    "\n",
    "warnings.filterwarnings(action='ignore', category=UserWarning)\n",
    "\n",
    "X1=X1[:,np.newaxis,:]\n",
    "Y1=Y1[:,np.newaxis,:]"
   ]
  },
  {
   "cell_type": "code",
   "execution_count": 7,
   "metadata": {},
   "outputs": [],
   "source": [
    "from keras import backend as K\n",
    "def rmse(y_true, y_pred):\n",
    "    return K.sqrt(K.mean(K.square(y_pred - y_true), axis=-1))"
   ]
  },
  {
   "cell_type": "code",
   "execution_count": 8,
   "metadata": {},
   "outputs": [
    {
     "name": "stdout",
     "output_type": "stream",
     "text": [
      "Model: \"sequential\"\n",
      "_________________________________________________________________\n",
      " Layer (type)                Output Shape              Param #   \n",
      "=================================================================\n",
      " gru (GRU)                   (None, 14)                882       \n",
      "                                                                 \n",
      " dropout (Dropout)           (None, 14)                0         \n",
      "                                                                 \n",
      " dense (Dense)               (None, 7)                 105       \n",
      "                                                                 \n",
      " batch_normalization (BatchN  (None, 7)                28        \n",
      " ormalization)                                                   \n",
      "                                                                 \n",
      " re_lu (ReLU)                (None, 7)                 0         \n",
      "                                                                 \n",
      "=================================================================\n",
      "Total params: 1,015\n",
      "Trainable params: 1,001\n",
      "Non-trainable params: 14\n",
      "_________________________________________________________________\n"
     ]
    }
   ],
   "source": [
    "model = Sequential()\n",
    "model.add(keras.Input(shape=(1,5)))\n",
    "model.add(tf.keras.layers.GRU(14,activation=\"tanh\",use_bias=True,kernel_initializer=\"glorot_uniform\",bias_initializer=\"zeros\", \n",
    "                                kernel_regularizer=keras.regularizers.l1_l2(l1=1e-5, l2=1e-4),\n",
    "                                bias_regularizer=keras.regularizers.l2(1e-4),\n",
    "                                activity_regularizer=keras.regularizers.l2(1e-5)))\n",
    "model.add(keras.layers.Dropout(.1))\n",
    "model.add(Dense(7))\n",
    "model.add(keras.layers.BatchNormalization(axis=-1,momentum=0.99,epsilon=0.001,center=True,scale=True,\n",
    "                                beta_initializer=\"zeros\",gamma_initializer=\"ones\",\n",
    "                                moving_mean_initializer=\"zeros\",moving_variance_initializer=\"ones\",trainable=True))\n",
    "model.add(keras.layers.ReLU())\n",
    "model.compile(optimizer=keras.optimizers.Adam(learning_rate=1e-5),loss='binary_crossentropy',metrics=['accuracy','mse','mae',rmse])\n",
    "model.summary()"
   ]
  },
  {
   "cell_type": "code",
   "execution_count": 10,
   "metadata": {},
   "outputs": [
    {
     "name": "stdout",
     "output_type": "stream",
     "text": [
      "Epoch 1/50\n",
      "4563/4563 [==============================] - 62s 12ms/step - loss: 2.2061 - accuracy: 0.1817 - mse: 0.3700 - mae: 0.3262 - rmse: 0.4910 - val_loss: 1.4632 - val_accuracy: 0.1774 - val_mse: 0.2475 - val_mae: 0.2192 - val_rmse: 0.3209\n",
      "Epoch 2/50\n",
      "4563/4563 [==============================] - 54s 12ms/step - loss: 2.1428 - accuracy: 0.1818 - mse: 0.3581 - mae: 0.3168 - rmse: 0.4802 - val_loss: 1.4488 - val_accuracy: 0.1774 - val_mse: 0.2427 - val_mae: 0.2106 - val_rmse: 0.3130\n",
      "Epoch 3/50\n",
      "4563/4563 [==============================] - 56s 12ms/step - loss: 2.0785 - accuracy: 0.1818 - mse: 0.3450 - mae: 0.3063 - rmse: 0.4677 - val_loss: 1.4417 - val_accuracy: 0.1774 - val_mse: 0.2377 - val_mae: 0.2048 - val_rmse: 0.3093\n",
      "Epoch 4/50\n",
      "4563/4563 [==============================] - 56s 12ms/step - loss: 1.9916 - accuracy: 0.1819 - mse: 0.3291 - mae: 0.2936 - rmse: 0.4511 - val_loss: 1.4342 - val_accuracy: 0.1774 - val_mse: 0.2331 - val_mae: 0.1984 - val_rmse: 0.3010\n",
      "Epoch 5/50\n",
      "4563/4563 [==============================] - 54s 12ms/step - loss: 1.9134 - accuracy: 0.1816 - mse: 0.3174 - mae: 0.2853 - rmse: 0.4378 - val_loss: 1.4334 - val_accuracy: 0.1774 - val_mse: 0.2364 - val_mae: 0.1979 - val_rmse: 0.3006\n",
      "Epoch 6/50\n",
      "4563/4563 [==============================] - 55s 12ms/step - loss: 1.8602 - accuracy: 0.1809 - mse: 0.3094 - mae: 0.2793 - rmse: 0.4289 - val_loss: 1.4326 - val_accuracy: 0.1774 - val_mse: 0.2340 - val_mae: 0.1958 - val_rmse: 0.2990\n",
      "Epoch 7/50\n",
      "4563/4563 [==============================] - 55s 12ms/step - loss: 1.8136 - accuracy: 0.1784 - mse: 0.2993 - mae: 0.2710 - rmse: 0.4179 - val_loss: 1.4284 - val_accuracy: 0.1774 - val_mse: 0.2293 - val_mae: 0.1899 - val_rmse: 0.2923\n",
      "Epoch 8/50\n",
      "4563/4563 [==============================] - 55s 12ms/step - loss: 1.7535 - accuracy: 0.1720 - mse: 0.2859 - mae: 0.2596 - rmse: 0.4036 - val_loss: 1.4275 - val_accuracy: 0.1774 - val_mse: 0.2239 - val_mae: 0.1861 - val_rmse: 0.2903\n",
      "Epoch 9/50\n",
      "4563/4563 [==============================] - 57s 13ms/step - loss: 1.6960 - accuracy: 0.1634 - mse: 0.2747 - mae: 0.2500 - rmse: 0.3899 - val_loss: 1.4275 - val_accuracy: 0.1774 - val_mse: 0.2200 - val_mae: 0.1841 - val_rmse: 0.2877\n",
      "Epoch 10/50\n",
      "4563/4563 [==============================] - 55s 12ms/step - loss: 1.6510 - accuracy: 0.1583 - mse: 0.2647 - mae: 0.2414 - rmse: 0.3777 - val_loss: 1.4226 - val_accuracy: 0.1774 - val_mse: 0.2132 - val_mae: 0.1796 - val_rmse: 0.2826\n",
      "Epoch 11/50\n",
      "4563/4563 [==============================] - 54s 12ms/step - loss: 1.6040 - accuracy: 0.1518 - mse: 0.2544 - mae: 0.2322 - rmse: 0.3642 - val_loss: 1.4186 - val_accuracy: 0.1774 - val_mse: 0.2111 - val_mae: 0.1767 - val_rmse: 0.2786\n",
      "Epoch 12/50\n",
      "4563/4563 [==============================] - 57s 12ms/step - loss: 1.5592 - accuracy: 0.1483 - mse: 0.2449 - mae: 0.2223 - rmse: 0.3507 - val_loss: 1.4139 - val_accuracy: 0.1774 - val_mse: 0.2094 - val_mae: 0.1726 - val_rmse: 0.2733\n",
      "Epoch 13/50\n",
      "4563/4563 [==============================] - 56s 12ms/step - loss: 1.5226 - accuracy: 0.1470 - mse: 0.2361 - mae: 0.2129 - rmse: 0.3381 - val_loss: 1.4120 - val_accuracy: 0.1774 - val_mse: 0.2048 - val_mae: 0.1697 - val_rmse: 0.2700\n",
      "Epoch 14/50\n",
      "4563/4563 [==============================] - 56s 12ms/step - loss: 1.5052 - accuracy: 0.1498 - mse: 0.2286 - mae: 0.2065 - rmse: 0.3293 - val_loss: 1.4103 - val_accuracy: 0.1774 - val_mse: 0.2009 - val_mae: 0.1670 - val_rmse: 0.2658\n",
      "Epoch 15/50\n",
      "4563/4563 [==============================] - 57s 13ms/step - loss: 1.4751 - accuracy: 0.1491 - mse: 0.2194 - mae: 0.1975 - rmse: 0.3169 - val_loss: 1.4062 - val_accuracy: 0.1774 - val_mse: 0.1966 - val_mae: 0.1621 - val_rmse: 0.2602\n",
      "Epoch 16/50\n",
      "4563/4563 [==============================] - 57s 12ms/step - loss: 1.4446 - accuracy: 0.1468 - mse: 0.2116 - mae: 0.1890 - rmse: 0.3057 - val_loss: 1.4027 - val_accuracy: 0.1774 - val_mse: 0.1926 - val_mae: 0.1577 - val_rmse: 0.2551\n",
      "Epoch 17/50\n",
      "4563/4563 [==============================] - 56s 12ms/step - loss: 1.4121 - accuracy: 0.1476 - mse: 0.2016 - mae: 0.1796 - rmse: 0.2907 - val_loss: 1.4012 - val_accuracy: 0.1774 - val_mse: 0.1845 - val_mae: 0.1538 - val_rmse: 0.2483\n",
      "Epoch 18/50\n",
      "4563/4563 [==============================] - 57s 12ms/step - loss: 1.3759 - accuracy: 0.1526 - mse: 0.1898 - mae: 0.1691 - rmse: 0.2727 - val_loss: 1.3984 - val_accuracy: 0.1774 - val_mse: 0.1742 - val_mae: 0.1485 - val_rmse: 0.2387\n",
      "Epoch 19/50\n",
      "4563/4563 [==============================] - 55s 12ms/step - loss: 1.3212 - accuracy: 0.1604 - mse: 0.1752 - mae: 0.1580 - rmse: 0.2543 - val_loss: 1.3935 - val_accuracy: 0.1774 - val_mse: 0.1556 - val_mae: 0.1388 - val_rmse: 0.2208\n",
      "Epoch 20/50\n",
      "4563/4563 [==============================] - 56s 12ms/step - loss: 1.2480 - accuracy: 0.1715 - mse: 0.1572 - mae: 0.1451 - rmse: 0.2320 - val_loss: 1.3877 - val_accuracy: 0.1774 - val_mse: 0.1423 - val_mae: 0.1280 - val_rmse: 0.2019\n",
      "Epoch 21/50\n",
      "4563/4563 [==============================] - 56s 12ms/step - loss: 1.1581 - accuracy: 0.1827 - mse: 0.1414 - mae: 0.1337 - rmse: 0.2142 - val_loss: 1.0213 - val_accuracy: 0.1774 - val_mse: 0.1217 - val_mae: 0.1163 - val_rmse: 0.1822\n",
      "Epoch 22/50\n",
      "4563/4563 [==============================] - 55s 12ms/step - loss: 0.9932 - accuracy: 0.1928 - mse: 0.1240 - mae: 0.1225 - rmse: 0.1973 - val_loss: 0.9986 - val_accuracy: 0.1774 - val_mse: 0.1071 - val_mae: 0.1050 - val_rmse: 0.1672\n",
      "Epoch 23/50\n",
      "4563/4563 [==============================] - 56s 12ms/step - loss: 0.9061 - accuracy: 0.2050 - mse: 0.1072 - mae: 0.1103 - rmse: 0.1838 - val_loss: 0.8082 - val_accuracy: 0.1774 - val_mse: 0.0906 - val_mae: 0.0899 - val_rmse: 0.1532\n",
      "Epoch 24/50\n",
      "4563/4563 [==============================] - 57s 12ms/step - loss: 0.7485 - accuracy: 0.2179 - mse: 0.0904 - mae: 0.0987 - rmse: 0.1722 - val_loss: 0.6065 - val_accuracy: 0.1774 - val_mse: 0.0730 - val_mae: 0.0766 - val_rmse: 0.1392\n",
      "Epoch 25/50\n",
      "4563/4563 [==============================] - 55s 12ms/step - loss: 0.6454 - accuracy: 0.2241 - mse: 0.0807 - mae: 0.0915 - rmse: 0.1655 - val_loss: 0.5985 - val_accuracy: 0.1774 - val_mse: 0.0682 - val_mae: 0.0706 - val_rmse: 0.1352\n",
      "Epoch 26/50\n",
      "4563/4563 [==============================] - 57s 12ms/step - loss: 0.6226 - accuracy: 0.2288 - mse: 0.0738 - mae: 0.0837 - rmse: 0.1601 - val_loss: 0.5841 - val_accuracy: 0.1773 - val_mse: 0.0609 - val_mae: 0.0610 - val_rmse: 0.1289\n",
      "Epoch 27/50\n",
      "4563/4563 [==============================] - 57s 12ms/step - loss: 0.5875 - accuracy: 0.2358 - mse: 0.0659 - mae: 0.0743 - rmse: 0.1529 - val_loss: 0.5783 - val_accuracy: 0.1773 - val_mse: 0.0573 - val_mae: 0.0552 - val_rmse: 0.1257\n",
      "Epoch 28/50\n",
      "4563/4563 [==============================] - 55s 12ms/step - loss: 0.5761 - accuracy: 0.2470 - mse: 0.0620 - mae: 0.0680 - rmse: 0.1468 - val_loss: 0.5801 - val_accuracy: 0.1773 - val_mse: 0.0558 - val_mae: 0.0512 - val_rmse: 0.1243\n",
      "Epoch 29/50\n",
      "4563/4563 [==============================] - 57s 12ms/step - loss: 0.5667 - accuracy: 0.2705 - mse: 0.0596 - mae: 0.0639 - rmse: 0.1431 - val_loss: 0.5804 - val_accuracy: 0.1773 - val_mse: 0.0542 - val_mae: 0.0507 - val_rmse: 0.1228\n",
      "Epoch 30/50\n",
      "4563/4563 [==============================] - 57s 12ms/step - loss: 0.5613 - accuracy: 0.2868 - mse: 0.0577 - mae: 0.0624 - rmse: 0.1399 - val_loss: 0.5804 - val_accuracy: 0.1773 - val_mse: 0.0534 - val_mae: 0.0504 - val_rmse: 0.1221\n",
      "Epoch 31/50\n",
      "4563/4563 [==============================] - 55s 12ms/step - loss: 0.5572 - accuracy: 0.2969 - mse: 0.0561 - mae: 0.0609 - rmse: 0.1366 - val_loss: 0.5804 - val_accuracy: 0.1773 - val_mse: 0.0523 - val_mae: 0.0500 - val_rmse: 0.1211\n",
      "Epoch 32/50\n",
      "4563/4563 [==============================] - 57s 12ms/step - loss: 0.5545 - accuracy: 0.3048 - mse: 0.0548 - mae: 0.0599 - rmse: 0.1345 - val_loss: 0.5805 - val_accuracy: 0.1773 - val_mse: 0.0514 - val_mae: 0.0497 - val_rmse: 0.1201\n",
      "Epoch 33/50\n",
      "4563/4563 [==============================] - 56s 12ms/step - loss: 0.5517 - accuracy: 0.3101 - mse: 0.0535 - mae: 0.0588 - rmse: 0.1318 - val_loss: 0.5805 - val_accuracy: 0.1773 - val_mse: 0.0501 - val_mae: 0.0492 - val_rmse: 0.1189\n",
      "Epoch 34/50\n"
     ]
    },
    {
     "name": "stdout",
     "output_type": "stream",
     "text": [
      "4563/4563 [==============================] - 54s 12ms/step - loss: 0.5473 - accuracy: 0.3181 - mse: 0.0513 - mae: 0.0570 - rmse: 0.1284 - val_loss: 0.5804 - val_accuracy: 0.1773 - val_mse: 0.0477 - val_mae: 0.0483 - val_rmse: 0.1165\n",
      "Epoch 35/50\n",
      "4563/4563 [==============================] - 55s 12ms/step - loss: 0.5439 - accuracy: 0.3227 - mse: 0.0497 - mae: 0.0557 - rmse: 0.1258 - val_loss: 0.5804 - val_accuracy: 0.1773 - val_mse: 0.0467 - val_mae: 0.0479 - val_rmse: 0.1155\n",
      "Epoch 36/50\n",
      "4563/4563 [==============================] - 55s 12ms/step - loss: 0.5419 - accuracy: 0.3251 - mse: 0.0490 - mae: 0.0551 - rmse: 0.1246 - val_loss: 0.5804 - val_accuracy: 0.1774 - val_mse: 0.0458 - val_mae: 0.0476 - val_rmse: 0.1146\n",
      "Epoch 37/50\n",
      "4563/4563 [==============================] - 54s 12ms/step - loss: 0.5301 - accuracy: 0.3283 - mse: 0.0459 - mae: 0.0537 - rmse: 0.1210 - val_loss: 0.5804 - val_accuracy: 0.1774 - val_mse: 0.0416 - val_mae: 0.0459 - val_rmse: 0.1102\n",
      "Epoch 38/50\n",
      "4563/4563 [==============================] - 55s 12ms/step - loss: 0.5094 - accuracy: 0.3289 - mse: 0.0421 - mae: 0.0522 - rmse: 0.1171 - val_loss: 0.5804 - val_accuracy: 0.1774 - val_mse: 0.0383 - val_mae: 0.0446 - val_rmse: 0.1066\n",
      "Epoch 39/50\n",
      "4563/4563 [==============================] - 54s 12ms/step - loss: 0.4939 - accuracy: 0.3300 - mse: 0.0391 - mae: 0.0511 - rmse: 0.1143 - val_loss: 0.5804 - val_accuracy: 0.1774 - val_mse: 0.0345 - val_mae: 0.0429 - val_rmse: 0.1023\n",
      "Epoch 40/50\n",
      "4563/4563 [==============================] - 55s 12ms/step - loss: 0.4837 - accuracy: 0.3312 - mse: 0.0363 - mae: 0.0501 - rmse: 0.1117 - val_loss: 0.5804 - val_accuracy: 0.1774 - val_mse: 0.0312 - val_mae: 0.0414 - val_rmse: 0.0982\n",
      "Epoch 41/50\n",
      "4563/4563 [==============================] - 57s 13ms/step - loss: 0.4672 - accuracy: 0.3312 - mse: 0.0322 - mae: 0.0485 - rmse: 0.1074 - val_loss: 0.5804 - val_accuracy: 0.1774 - val_mse: 0.0264 - val_mae: 0.0391 - val_rmse: 0.0921\n",
      "Epoch 42/50\n",
      "4563/4563 [==============================] - 56s 12ms/step - loss: 0.3812 - accuracy: 0.3325 - mse: 0.0251 - mae: 0.0456 - rmse: 0.0997 - val_loss: 0.2378 - val_accuracy: 0.1774 - val_mse: 0.0149 - val_mae: 0.0323 - val_rmse: 0.0742\n",
      "Epoch 43/50\n",
      "4563/4563 [==============================] - 56s 12ms/step - loss: 0.2391 - accuracy: 0.3328 - mse: 0.0180 - mae: 0.0421 - rmse: 0.0905 - val_loss: 0.2294 - val_accuracy: 0.1774 - val_mse: 0.0117 - val_mae: 0.0300 - val_rmse: 0.0681\n",
      "Epoch 44/50\n",
      "4563/4563 [==============================] - 57s 12ms/step - loss: 0.2112 - accuracy: 0.3343 - mse: 0.0150 - mae: 0.0404 - rmse: 0.0860 - val_loss: 0.2218 - val_accuracy: 0.1779 - val_mse: 0.0083 - val_mae: 0.0271 - val_rmse: 0.0604\n",
      "Epoch 45/50\n",
      "4563/4563 [==============================] - 56s 12ms/step - loss: 0.1785 - accuracy: 0.4198 - mse: 0.0114 - mae: 0.0369 - rmse: 0.0772 - val_loss: 0.2017 - val_accuracy: 0.2819 - val_mse: 0.0034 - val_mae: 0.0212 - val_rmse: 0.0451\n",
      "Epoch 46/50\n",
      "4563/4563 [==============================] - 56s 12ms/step - loss: 0.1626 - accuracy: 0.5239 - mse: 0.0089 - mae: 0.0336 - rmse: 0.0695 - val_loss: 0.1867 - val_accuracy: 0.4036 - val_mse: 0.0023 - val_mae: 0.0191 - val_rmse: 0.0394\n",
      "Epoch 47/50\n",
      "4563/4563 [==============================] - 57s 12ms/step - loss: 0.1570 - accuracy: 0.5495 - mse: 0.0076 - mae: 0.0319 - rmse: 0.0655 - val_loss: 0.1412 - val_accuracy: 0.7982 - val_mse: 0.0014 - val_mae: 0.0161 - val_rmse: 0.0319\n",
      "Epoch 48/50\n",
      "4563/4563 [==============================] - 57s 12ms/step - loss: 0.1508 - accuracy: 0.5810 - mse: 0.0061 - mae: 0.0295 - rmse: 0.0598 - val_loss: 0.1253 - val_accuracy: 0.9024 - val_mse: 7.1295e-04 - val_mae: 0.0127 - val_rmse: 0.0235\n",
      "Epoch 49/50\n",
      "4563/4563 [==============================] - 56s 12ms/step - loss: 0.1467 - accuracy: 0.6028 - mse: 0.0050 - mae: 0.0270 - rmse: 0.0543 - val_loss: 0.1243 - val_accuracy: 0.9072 - val_mse: 6.0912e-04 - val_mae: 0.0121 - val_rmse: 0.0221\n",
      "Epoch 50/50\n",
      "4563/4563 [==============================] - 57s 13ms/step - loss: 0.1438 - accuracy: 0.6111 - mse: 0.0042 - mae: 0.0249 - rmse: 0.0495 - val_loss: 0.1206 - val_accuracy: 0.9279 - val_mse: 4.8587e-04 - val_mae: 0.0110 - val_rmse: 0.0194\n"
     ]
    }
   ],
   "source": [
    "from sklearn.model_selection import train_test_split\n",
    "x_train, x_test, y_train, y_test = train_test_split(X1, Y1, test_size=0.25, random_state=42)\n",
    "\n",
    "history2 = model.fit(x_train,y_train,batch_size=256,epochs=50, validation_split=0.1)"
   ]
  },
  {
   "cell_type": "code",
   "execution_count": 13,
   "metadata": {},
   "outputs": [
    {
     "name": "stdout",
     "output_type": "stream",
     "text": [
      "13518/13518 [==============================] - 72s 5ms/step - loss: 0.1207 - accuracy: 0.9268 - mse: 4.8948e-04 - mae: 0.0110 - rmse: 0.0194\n"
     ]
    },
    {
     "data": {
      "text/plain": [
       "[0.12074405699968338,\n",
       " 0.9268213510513306,\n",
       " 0.0004894836456514895,\n",
       " 0.010985419154167175,\n",
       " 0.019426381215453148]"
      ]
     },
     "execution_count": 13,
     "metadata": {},
     "output_type": "execute_result"
    }
   ],
   "source": [
    "model.evaluate(x_test,y_test)"
   ]
  },
  {
   "cell_type": "code",
   "execution_count": 14,
   "metadata": {},
   "outputs": [
    {
     "name": "stdout",
     "output_type": "stream",
     "text": [
      "40554/40554 [==============================] - 227s 6ms/step - loss: 0.1205 - accuracy: 0.9274 - mse: 4.8750e-04 - mae: 0.0110 - rmse: 0.0194\n"
     ]
    },
    {
     "data": {
      "text/plain": [
       "[0.12045808136463165,\n",
       " 0.9274206161499023,\n",
       " 0.0004874956503044814,\n",
       " 0.010966532863676548,\n",
       " 0.019401833415031433]"
      ]
     },
     "execution_count": 14,
     "metadata": {},
     "output_type": "execute_result"
    }
   ],
   "source": [
    "model.evaluate(x_train,y_train)"
   ]
  },
  {
   "cell_type": "code",
   "execution_count": 36,
   "metadata": {},
   "outputs": [
    {
     "name": "stdout",
     "output_type": "stream",
     "text": [
      "Saved model to disk\n"
     ]
    }
   ],
   "source": [
    "model_json = model.to_json()\n",
    "with open(\"Model_File/gru_tanh_binary.json\", \"w\") as json_file:\n",
    "    json_file.write(model_json)\n",
    "# serialize weights to HDF5\n",
    "model.save_weights(\"Model_File/gru_tanh_binary.h5\")\n",
    "print(\"Saved model to disk\")"
   ]
  },
  {
   "cell_type": "code",
   "execution_count": 19,
   "metadata": {},
   "outputs": [
    {
     "name": "stdout",
     "output_type": "stream",
     "text": [
      "Loaded model from disk\n"
     ]
    }
   ],
   "source": [
    "from sklearn.model_selection import train_test_split\n",
    "x_train, x_test, y_train, y_test = train_test_split(X1, Y1, test_size=0.25, random_state=42)\n",
    "\n",
    "from keras.models import model_from_json\n",
    "json_file = open('Model_File/gru_tanh_binary.json', 'r')\n",
    "loaded_model_json = json_file.read()\n",
    "json_file.close()\n",
    "loaded_model = model_from_json(loaded_model_json)\n",
    "# load weights into new model\n",
    "loaded_model.load_weights(\"Model_File/gru_tanh_binary.h5\")\n",
    "print(\"Loaded model from disk\")\n",
    "loaded_model.compile(optimizer=keras.optimizers.Adam(learning_rate=1e-5),loss='binary_crossentropy',metrics=['accuracy','mse','mae',rmse])"
   ]
  },
  {
   "cell_type": "code",
   "execution_count": 20,
   "metadata": {},
   "outputs": [
    {
     "name": "stdout",
     "output_type": "stream",
     "text": [
      "13518/13518 [==============================] - 70s 5ms/step - loss: 0.1207 - accuracy: 0.9268 - mse: 4.8948e-04 - mae: 0.0110 - rmse: 0.0194\n"
     ]
    },
    {
     "data": {
      "text/plain": [
       "[0.12074405699968338,\n",
       " 0.9268213510513306,\n",
       " 0.0004894836456514895,\n",
       " 0.010985419154167175,\n",
       " 0.019426381215453148]"
      ]
     },
     "execution_count": 20,
     "metadata": {},
     "output_type": "execute_result"
    }
   ],
   "source": [
    "loaded_model.evaluate(x_test,y_test)"
   ]
  },
  {
   "cell_type": "code",
   "execution_count": 21,
   "metadata": {},
   "outputs": [
    {
     "name": "stdout",
     "output_type": "stream",
     "text": [
      "40554/40554 [==============================] - 226s 6ms/step - loss: 0.1205 - accuracy: 0.9274 - mse: 4.8750e-04 - mae: 0.0110 - rmse: 0.0194\n"
     ]
    },
    {
     "data": {
      "text/plain": [
       "[0.12045808136463165,\n",
       " 0.9274206161499023,\n",
       " 0.0004874956503044814,\n",
       " 0.010966532863676548,\n",
       " 0.019401833415031433]"
      ]
     },
     "execution_count": 21,
     "metadata": {},
     "output_type": "execute_result"
    }
   ],
   "source": [
    "loaded_model.evaluate(x_train,y_train)"
   ]
  },
  {
   "cell_type": "code",
   "execution_count": 27,
   "metadata": {},
   "outputs": [
    {
     "data": {
      "image/png": "[encoded data removed]",
      "text/plain": [
       "<Figure size 432x288 with 1 Axes>"
      ]
     },
     "metadata": {
      "needs_background": "light"
     },
     "output_type": "display_data"
    },
    {
     "data": {
      "text/plain": [
       "<matplotlib.legend.Legend at 0x1949a8e6070>"
      ]
     },
     "execution_count": 27,
     "metadata": {},
     "output_type": "execute_result"
    },
    {
     "data": {
      "image/png": "[encoded data removed]",
      "text/plain": [
       "<Figure size 432x288 with 1 Axes>"
      ]
     },
     "metadata": {
      "needs_background": "light"
     },
     "output_type": "display_data"
    }
   ],
   "source": [
    "plt.plot(history2.history['loss'])\n",
    "plt.plot(history2.history['val_loss'])\n",
    "plt.title('model loss')\n",
    "plt.ylabel('loss')\n",
    "plt.xlabel('epoch')\n",
    "plt.legend(['train', 'test'], loc='upper left')\n",
    "\n",
    "plt.show()\n",
    "\n",
    "plt.plot(history2.history['accuracy'])\n",
    "plt.plot(history2.history['val_accuracy'])\n",
    "plt.title('model accuracy')\n",
    "plt.ylabel('accuracy')\n",
    "plt.xlabel('epoch')\n",
    "plt.legend(['train', 'test'], loc='upper left')"
   ]
  },
  {
   "cell_type": "code",
   "execution_count": 35,
   "metadata": {},
   "outputs": [
    {
     "data": {
      "text/plain": [
       "array([[0.        , 0.11451954, 0.        , ..., 0.        , 0.        ,\n",
       "        0.        ],\n",
       "       [0.        , 0.04681784, 0.        , ..., 0.        , 0.        ,\n",
       "        0.        ],\n",
       "       [0.        , 0.01952261, 0.        , ..., 0.        , 0.        ,\n",
       "        0.        ],\n",
       "       ...,\n",
       "       [0.        , 0.00879645, 0.        , ..., 0.        , 0.        ,\n",
       "        0.        ],\n",
       "       [0.        , 0.12825912, 0.        , ..., 0.        , 0.        ,\n",
       "        0.        ],\n",
       "       [0.        , 0.01913267, 0.        , ..., 0.        , 0.        ,\n",
       "        0.        ]], dtype=float32)"
      ]
     },
     "execution_count": 35,
     "metadata": {},
     "output_type": "execute_result"
    }
   ],
   "source": [
    "from sklearn.model_selection import train_test_split\n",
    "x_train, x_test, y_train, y_test = train_test_split(X1, Y1, test_size=0.25, random_state=42)\n",
    "\n",
    "y_test_pred=model.predict(x_test)\n",
    "y_test_pred"
   ]
  },
  {
   "cell_type": "code",
   "execution_count": 31,
   "metadata": {},
   "outputs": [
    {
     "data": {
      "text/plain": [
       "array([[[0.00011559, 0.06553685, 0.00011085, ..., 0.0021448 ,\n",
       "         0.0014142 , 0.00052142]],\n",
       "\n",
       "       [[0.00011088, 0.06553695, 0.00012144, ..., 0.01090628,\n",
       "         0.00639894, 0.00234271]],\n",
       "\n",
       "       [[0.0001138 , 0.06553686, 0.00011756, ..., 0.02938369,\n",
       "         0.01855402, 0.00761428]],\n",
       "\n",
       "       ...,\n",
       "\n",
       "       [[0.00011103, 0.06553663, 0.00011547, ..., 0.05674056,\n",
       "         0.03595096, 0.01243099]],\n",
       "\n",
       "       [[0.00011477, 0.06553688, 0.00010965, ..., 0.00815022,\n",
       "         0.00468672, 0.00148292]],\n",
       "\n",
       "       [[0.00010879, 0.06553657, 0.00012025, ..., 0.00375339,\n",
       "         0.00246608, 0.00081172]]], dtype=float32)"
      ]
     },
     "execution_count": 31,
     "metadata": {},
     "output_type": "execute_result"
    }
   ],
   "source": [
    "y_test"
   ]
  },
  {
   "cell_type": "code",
   "execution_count": 32,
   "metadata": {},
   "outputs": [],
   "source": [
    "y_test=y_test[:,0]\n",
    "# y_test_pred=y_test_pred[:,0]"
   ]
  },
  {
   "cell_type": "code",
   "execution_count": 33,
   "metadata": {},
   "outputs": [],
   "source": [
    "from numpy import savetxt\n",
    "savetxt('ARRAY_DATA/gru_y_test_pred.csv', y_test_pred[:1001], delimiter=',')"
   ]
  },
  {
   "cell_type": "code",
   "execution_count": 34,
   "metadata": {},
   "outputs": [],
   "source": [
    "from numpy import savetxt\n",
    "savetxt('ARRAY_DATA/gru_y_test.csv', y_test[:1001], delimiter=',')"
   ]
  },
  {
   "cell_type": "code",
   "execution_count": null,
   "metadata": {},
   "outputs": [],
   "source": [
    "#completed"
   ]
  }
 ],
 "metadata": {
  "interpreter": {
   "hash": "63fd5069d213b44bf678585dea6b12cceca9941eaf7f819626cde1f2670de90d"
  },
  "kernelspec": {
   "display_name": "Python 3 (ipykernel)",
   "language": "python",
   "name": "python3"
  },
  "language_info": {
   "codemirror_mode": {
    "name": "ipython",
    "version": 3
   },
   "file_extension": ".py",
   "mimetype": "text/x-python",
   "name": "python",
   "nbconvert_exporter": "python",
   "pygments_lexer": "ipython3",
   "version": "3.9.5"
  }
 },
 "nbformat": 4,
 "nbformat_minor": 2
}
