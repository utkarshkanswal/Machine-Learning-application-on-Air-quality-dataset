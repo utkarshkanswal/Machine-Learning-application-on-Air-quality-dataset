{
 "cells": [
  {
   "cell_type": "code",
   "execution_count": 1,
   "id": "6aa1bb32",
   "metadata": {},
   "outputs": [],
   "source": [
    "import numpy as np\n",
    "import pandas as pd\n",
    "from matplotlib import pyplot as plt\n",
    "import os.path as op\n",
    "from csv import writer\n",
    "import math\n",
    "import cmath\n",
    "import pickle\n",
    "\n",
    "import tensorflow as tf\n",
    "from tensorflow import keras\n",
    "from keras.models import Model,Sequential,load_model\n",
    "from keras.layers import Input, Embedding\n",
    "from keras.layers import Dense, Bidirectional\n",
    "from keras.layers.recurrent import LSTM\n",
    "import keras.metrics as metrics\n",
    "import itertools\n",
    "from tensorflow.python.keras.utils.data_utils import Sequence\n",
    "from decimal import Decimal\n",
    "from keras.layers import Conv1D,MaxPooling1D,Flatten,Dense"
   ]
  },
  {
   "cell_type": "code",
   "execution_count": 2,
   "id": "a94ce787",
   "metadata": {},
   "outputs": [
    {
     "name": "stdout",
     "output_type": "stream",
     "text": [
      "[[1.50000e+02 1.90401e+05 7.25000e+02 2.75500e+01 8.03900e+01]\n",
      " [1.50000e+02 1.90401e+05 8.25000e+02 2.75600e+01 8.03300e+01]\n",
      " [1.50000e+02 1.90401e+05 9.25000e+02 2.75800e+01 8.02400e+01]\n",
      " ...\n",
      " [6.10000e+01 1.91020e+05 1.94532e+05 2.93700e+01 7.52100e+01]\n",
      " [6.10000e+01 1.91020e+05 1.94632e+05 2.93500e+01 7.52700e+01]\n",
      " [6.10000e+01 1.91020e+05 1.94732e+05 2.93400e+01 7.53000e+01]]\n",
      "[[ 28.     3.   -52.   ...  16.97  19.63  20.06]\n",
      " [ 28.    15.   -53.   ...  16.63  19.57  23.06]\n",
      " [ 31.    16.   -55.   ...  17.24  19.98  20.24]\n",
      " ...\n",
      " [ 76.    12.   -76.   ...   3.47   3.95   4.35]\n",
      " [ 75.    13.   -76.   ...   3.88   4.33   4.42]\n",
      " [ 76.    12.   -75.   ...   3.46   4.07   4.28]]\n"
     ]
    }
   ],
   "source": [
    "A1=np.empty((0,5),dtype='float32')\n",
    "U1=np.empty((0,7),dtype='float32')\n",
    "node=['150','149','147','144','142','140','136','61']\n",
    "mon=['Apr','Mar','Aug','Jun','Jul','Sep','May','Oct']\n",
    "for j in node:\n",
    "  for i in mon:\n",
    "    inp= pd.read_csv('../../data_gkv/AT510_Node_'+str(j)+'_'+str(i)+'19_OutputFile.csv',usecols=[1,2,3,15,16],low_memory=False)\n",
    "    out= pd.read_csv('../../data_gkv/AT510_Node_'+str(j)+'_'+str(i)+'19_OutputFile.csv',usecols=[5,6,7,8,17,18,19],low_memory=False)\n",
    "    \n",
    "    inp=np.array(inp,dtype='float32')\n",
    "    out=np.array(out,dtype='float32')\n",
    "    \n",
    "    A1=np.append(A1, inp, axis=0)\n",
    "    U1=np.append(U1, out, axis=0)\n",
    "\n",
    "print(A1)\n",
    "print(U1)\n"
   ]
  },
  {
   "cell_type": "code",
   "execution_count": null,
   "id": "1f7a4540",
   "metadata": {},
   "outputs": [],
   "source": [
    "from sklearn.decomposition import FastICA\n",
    "import warnings\n",
    "scaler_obj1=FastICA()\n",
    "scaler_obj2=FastICA()\n",
    "X1=scaler_obj1.fit_transform(A1)\n",
    "Y1=scaler_obj2.fit_transform(U1)\n",
    "\n",
    "warnings.filterwarnings(action='ignore', category=UserWarning)"
   ]
  },
  {
   "cell_type": "code",
   "execution_count": null,
   "id": "7e694eee",
   "metadata": {},
   "outputs": [],
   "source": [
    "from Hybrid_Model import HybridModel\n",
    "# Splitting Data into training and testing dataset\n",
    "from sklearn.model_selection import train_test_split\n",
    "x_train,x_test,y_train,y_test=train_test_split(X1,Y1,test_size=0.25,random_state=42)\n",
    "\n",
    "hybrid_model=HybridModel()"
   ]
  },
  {
   "cell_type": "code",
   "execution_count": null,
   "id": "7667964d",
   "metadata": {},
   "outputs": [],
   "source": [
    "hybrid_model.load_models()"
   ]
  },
  {
   "cell_type": "code",
   "execution_count": null,
   "id": "3535ab36",
   "metadata": {},
   "outputs": [],
   "source": [
    "\n",
    "hybrid_model.fit_machine_learning_model(x_test,y_test)"
   ]
  },
  {
   "cell_type": "code",
   "execution_count": null,
   "id": "053d7716",
   "metadata": {},
   "outputs": [],
   "source": [
    "new_x_test=x_test[:,np.newaxis,:]\n",
    "new_y_test=y_test[:,np.newaxis,:]"
   ]
  },
  {
   "cell_type": "code",
   "execution_count": null,
   "id": "fc32c4ef",
   "metadata": {},
   "outputs": [],
   "source": [
    "hybrid_model.fit_neural_network_model(new_x_test,new_y_test)"
   ]
  },
  {
   "cell_type": "code",
   "execution_count": null,
   "id": "0110c2de",
   "metadata": {},
   "outputs": [],
   "source": [
    "res=hybrid_model.predict()\n",
    "res"
   ]
  },
  {
   "cell_type": "code",
   "execution_count": null,
   "id": "7274e3b7",
   "metadata": {},
   "outputs": [],
   "source": [
    "df2=pd.DataFrame(y_test)\n",
    "df2.head(5)"
   ]
  },
  {
   "cell_type": "code",
   "execution_count": null,
   "id": "907428fe",
   "metadata": {},
   "outputs": [],
   "source": [
    "df=pd.DataFrame(res)\n",
    "df.head(5)"
   ]
  },
  {
   "cell_type": "code",
   "execution_count": null,
   "id": "3c1458d3",
   "metadata": {},
   "outputs": [],
   "source": [
    "from sklearn.metrics import r2_score,mean_absolute_error,mean_squared_error\n",
    "r2_score_value=r2_score(y_test,res,multioutput='variance_weighted')\n",
    "mae_value=mean_absolute_error(y_test,res)\n",
    "mse_value=mean_squared_error(y_test,res)\n",
    "rmse_value=np.sqrt(mse_value)\n",
    "print(\"R2 score:\",r2_score_value)\n",
    "print(\"Mean absolute error:\",mae_value)\n",
    "print(\"Mean Squared Error:\",mse_value)\n",
    "print(\"Root Mean Squared Error:\",rmse_value)"
   ]
  },
  {
   "cell_type": "code",
   "execution_count": null,
   "id": "d8397adb",
   "metadata": {},
   "outputs": [],
   "source": [
    "from matplotlib import style\n",
    "train_sizes=['NO2','O3','NO','CO','PM1','PM2.5','PM10']\n",
    "style.use('ggplot')\n",
    "for i in range(0,7):\n",
    "  plt.figure(figsize=[12,10])\n",
    "  plt.plot(y_test[:10,i],linewidth=3, markersize=12)\n",
    "  plt.plot(res[:10,i],linewidth=2, markersize=12)\n",
    "  plt.xlabel('X')\n",
    "  plt.ylabel(train_sizes[i])\n",
    "  plt.show()\n"
   ]
  },
  {
   "cell_type": "code",
   "execution_count": null,
   "id": "3fbab809",
   "metadata": {},
   "outputs": [],
   "source": []
  }
 ],
 "metadata": {
  "kernelspec": {
   "display_name": "Python 3 (ipykernel)",
   "language": "python",
   "name": "python3"
  },
  "language_info": {
   "codemirror_mode": {
    "name": "ipython",
    "version": 3
   },
   "file_extension": ".py",
   "mimetype": "text/x-python",
   "name": "python",
   "nbconvert_exporter": "python",
   "pygments_lexer": "ipython3",
   "version": "3.9.5"
  }
 },
 "nbformat": 4,
 "nbformat_minor": 5
}
