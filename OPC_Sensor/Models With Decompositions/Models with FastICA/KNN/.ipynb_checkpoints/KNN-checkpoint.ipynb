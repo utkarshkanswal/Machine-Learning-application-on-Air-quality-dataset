{
 "cells": [
  {
   "cell_type": "markdown",
   "id": "e5231689",
   "metadata": {},
   "source": [
    "# Importing Libraries"
   ]
  },
  {
   "cell_type": "code",
   "execution_count": 1,
   "id": "89e85a41",
   "metadata": {},
   "outputs": [],
   "source": [
    "import numpy as np\n",
    "import pandas as pd\n",
    "from matplotlib import pyplot as plt\n",
    "import os.path as op\n",
    "import pickle"
   ]
  },
  {
   "cell_type": "markdown",
   "id": "ba2f0d94",
   "metadata": {},
   "source": [
    "# Data Fetching"
   ]
  },
  {
   "cell_type": "code",
   "execution_count": 3,
   "id": "6f29739f",
   "metadata": {},
   "outputs": [
    {
     "name": "stdout",
     "output_type": "stream",
     "text": [
      "[[1.50000e+02 1.90401e+05 7.25000e+02 2.75500e+01 8.03900e+01]\n",
      " [1.50000e+02 1.90401e+05 8.25000e+02 2.75600e+01 8.03300e+01]\n",
      " [1.50000e+02 1.90401e+05 9.25000e+02 2.75800e+01 8.02400e+01]\n",
      " ...\n",
      " [6.10000e+01 1.91020e+05 1.94532e+05 2.93700e+01 7.52100e+01]\n",
      " [6.10000e+01 1.91020e+05 1.94632e+05 2.93500e+01 7.52700e+01]\n",
      " [6.10000e+01 1.91020e+05 1.94732e+05 2.93400e+01 7.53000e+01]]\n",
      "[[ 28.     3.   -52.   ...  16.97  19.63  20.06]\n",
      " [ 28.    15.   -53.   ...  16.63  19.57  23.06]\n",
      " [ 31.    16.   -55.   ...  17.24  19.98  20.24]\n",
      " ...\n",
      " [ 76.    12.   -76.   ...   3.47   3.95   4.35]\n",
      " [ 75.    13.   -76.   ...   3.88   4.33   4.42]\n",
      " [ 76.    12.   -75.   ...   3.46   4.07   4.28]]\n"
     ]
    }
   ],
   "source": [
    "A1=np.empty((0,5),dtype='float32')\n",
    "U1=np.empty((0,7),dtype='float32')\n",
    "node=['150','149','147','144','142','140','136','61']\n",
    "mon=['Apr','Mar','Aug','Jun','Jul','Sep','May','Oct']\n",
    "for j in node:\n",
    "  for i in mon:\n",
    "    inp= pd.read_csv('../../../data_gkv/AT510_Node_'+str(j)+'_'+str(i)+'19_OutputFile.csv',usecols=[1,2,3,15,16],low_memory=False)\n",
    "    out= pd.read_csv('../../../data_gkv/AT510_Node_'+str(j)+'_'+str(i)+'19_OutputFile.csv',usecols=[5,6,7,8,17,18,19],low_memory=False)\n",
    "    \n",
    "    inp=np.array(inp,dtype='float32')\n",
    "    out=np.array(out,dtype='float32')\n",
    "    \n",
    "    A1=np.append(A1, inp, axis=0)\n",
    "    U1=np.append(U1, out, axis=0)\n",
    "\n",
    "print(A1)\n",
    "print(U1)\n"
   ]
  },
  {
   "cell_type": "markdown",
   "id": "28df31d2",
   "metadata": {},
   "source": [
    "# A fast algorithm for Independent Component Analysis Decomposition"
   ]
  },
  {
   "cell_type": "code",
   "execution_count": 4,
   "id": "64f3edcc",
   "metadata": {},
   "outputs": [],
   "source": [
    "from sklearn.decomposition import FastICA\n",
    "import warnings\n",
    "scaler_obj1=FastICA()\n",
    "scaler_obj2=FastICA()\n",
    "X1=scaler_obj1.fit_transform(A1)\n",
    "Y1=scaler_obj2.fit_transform(U1)\n",
    "\n",
    "warnings.filterwarnings(action='ignore', category=UserWarning)"
   ]
  },
  {
   "cell_type": "markdown",
   "id": "ff6bbe39",
   "metadata": {},
   "source": [
    "# Model"
   ]
  },
  {
   "cell_type": "code",
   "execution_count": null,
   "id": "0c2c88e2",
   "metadata": {},
   "outputs": [],
   "source": [
    "from sklearn.neighbors import KNeighborsRegressor\n",
    "from sklearn.multioutput import MultiOutputRegressor\n",
    "\n",
    "# Splitting Data into training and testing dataset\n",
    "from sklearn.model_selection import train_test_split\n",
    "x_train,x_test,y_train,y_test=train_test_split(X1,Y1,test_size=0.25,random_state=42)\n",
    "\n",
    "\n",
    "model6 =MultiOutputRegressor(KNeighborsRegressor(n_neighbors=7,weights='uniform',algorithm='auto',leaf_size=50,p=2))\n",
    "model_fit6=model6.fit(x_train, y_train)\n",
    "\n",
    "print('Model Training done!!')\n",
    "\n",
    "# Dumping Model into a file\n",
    "\n",
    "filename6 = 'knn.sav'\n",
    "pickle.dump(model_fit6, open(filename6, 'wb'))"
   ]
  },
  {
   "cell_type": "markdown",
   "id": "cb330916",
   "metadata": {},
   "source": [
    "# Error Analysis"
   ]
  },
  {
   "cell_type": "code",
   "execution_count": null,
   "id": "be501d00",
   "metadata": {},
   "outputs": [],
   "source": [
    "from sklearn import metrics\n",
    "from sklearn.metrics import r2_score\n",
    "train_sizes=['NO2','O3','NO','CO','PM1','PM2.5','PM10']\n",
    "\n",
    "y_test_pred6=model_fit6.predict(x_test)\n",
    "y_train_pred6=model_fit6.predict(x_train)\n",
    "\n",
    "#finding out the r2 score\n",
    "r2_test6=r2_score(y_test,y_test_pred6,multioutput='variance_weighted')\n",
    "r2_train6=r2_score(y_train,y_train_pred6,multioutput='variance_weighted')\n",
    "\n",
    "print('r2 score on train data '+ str(r2_train6))\n",
    "print('r2 score on test data '+ str(r2_test6))\n",
    "\n",
    "knn_mae=metrics.mean_absolute_error(y_test, y_test_pred6)\n",
    "knn_mse=metrics.mean_squared_error(y_test, y_test_pred6)\n",
    "knn_rmse=np.sqrt(metrics.mean_squared_error(y_test, y_test_pred6))\n",
    "print('Mean Absolute Error:',knn_mae)\n",
    "print('Mean Squared Error:',knn_mse )\n",
    "print('Root Mean Squared Error:',knn_rmse)"
   ]
  },
  {
   "cell_type": "code",
   "execution_count": null,
   "id": "c63b768e",
   "metadata": {},
   "outputs": [],
   "source": [
    "import pickle\n",
    "from sklearn.metrics import r2_score\n",
    "from sklearn import metrics\n",
    "from sklearn.model_selection import train_test_split\n",
    "x_train,x_test,y_train,y_test=train_test_split(X1,Y1,test_size=0.25,random_state=42)\n",
    "loaded_model_fit7 = pickle.load(open(\"knn.sav\", 'rb'))\n",
    "y_test_pred=loaded_model_fit7.predict(x_test)\n",
    "print(\"Predicted :\\n\",y_test_pred)\n",
    "r2_test=r2_score(y_test,y_test_pred,multioutput='variance_weighted')\n",
    "print(\"R2 Score : \",r2_test)"
   ]
  },
  {
   "cell_type": "code",
   "execution_count": null,
   "id": "c95390a3",
   "metadata": {},
   "outputs": [],
   "source": [
    "x_test=scaler_obj1.inverse_transform(x_test)\n",
    "y_test_pred=scaler_obj2.inverse_transform(y_test_pred)\n",
    "y_test=scaler_obj2.inverse_transform(y_test)\n",
    "pd.DataFrame(y_test_pred)"
   ]
  },
  {
   "cell_type": "code",
   "execution_count": null,
   "id": "54ae7680",
   "metadata": {},
   "outputs": [],
   "source": [
    "import datetime\n",
    "from datetime import datetime\n",
    "temp_arr=x_test[0:,1]\n",
    "dates=list()\n",
    "for i in range(0,len(temp_arr)):\n",
    "    datetime_str=str(int(temp_arr[i]))\n",
    "    datetime_str=datetime_str[0:6]\n",
    "    if(datetime_str[4:6]==\"00\"):\n",
    "        datetime_str=datetime_str[0:4]+'1'\n",
    "    datetime_obj = datetime.strptime(datetime_str,\"%y%m%d\")\n",
    "    dates.append(str(datetime_obj.date()))"
   ]
  },
  {
   "cell_type": "code",
   "execution_count": null,
   "id": "eda8f08d",
   "metadata": {},
   "outputs": [],
   "source": [
    "import pandas as pd\n",
    "df1=pd.DataFrame(y_test,index=dates,columns=['NO2','O3','NO','CO','PM1','PM2.5','PM10'])\n",
    "df1.index.name=\"DATE\"\n",
    "print(\"Actual Values:\")\n",
    "df1"
   ]
  },
  {
   "cell_type": "code",
   "execution_count": null,
   "id": "d88f19c4",
   "metadata": {},
   "outputs": [],
   "source": [
    "arr=[\"Y_Actual\"]*25\n",
    "temp_df1=df1.head(25)\n",
    "temp_df1['Data']=arr\n",
    "temp_df1.to_excel(\"knn_y_test.xlsx\")\n",
    "temp_df1"
   ]
  },
  {
   "cell_type": "code",
   "execution_count": null,
   "id": "1627f865",
   "metadata": {},
   "outputs": [],
   "source": [
    "import pandas as pd\n",
    "df2=pd.DataFrame(y_test_pred,index=dates,columns=['NO2','O3','NO','CO','PM1','PM2.5','PM10'])\n",
    "df2.index.name=\"DATE\"\n",
    "print(\"Predicted Values:\")\n",
    "df2"
   ]
  },
  {
   "cell_type": "code",
   "execution_count": null,
   "id": "3b236573",
   "metadata": {},
   "outputs": [],
   "source": [
    "arr=[\"Y_Predicted\"]*25\n",
    "temp_df2=df2.head(25)\n",
    "temp_df2['Data']=arr\n",
    "temp_df2.to_excel(\"knn_y_test_pred.xlsx\")\n",
    "temp_df2"
   ]
  },
  {
   "cell_type": "markdown",
   "id": "a86e0ab2",
   "metadata": {},
   "source": [
    "# y-test vs y-predict"
   ]
  },
  {
   "cell_type": "code",
   "execution_count": null,
   "id": "06d1c432",
   "metadata": {},
   "outputs": [],
   "source": [
    "# printing y_test and y_test_predict\n",
    "print(\"Y_Test:\",y_test)\n",
    "print(\"Y_Test_Predict:\",y_test_pred6)\n",
    "\n",
    "from matplotlib import style\n",
    "style.use('ggplot')\n",
    "\n",
    "for i in range(0,7):\n",
    "  plt.figure(figsize=[12,10])\n",
    "  plt.plot(y_test[:,i],linewidth=3, markersize=12)\n",
    "  plt.plot(y_test_pred6[:,i],linewidth=2, markersize=12)\n",
    "  plt.xlabel('X')\n",
    "  plt.ylabel(train_sizes[i])\n",
    "  plt.show()"
   ]
  },
  {
   "cell_type": "code",
   "execution_count": null,
   "id": "9eb9ebcd",
   "metadata": {},
   "outputs": [],
   "source": [
    "#completed"
   ]
  }
 ],
 "metadata": {
  "kernelspec": {
   "display_name": "Python 3 (ipykernel)",
   "language": "python",
   "name": "python3"
  },
  "language_info": {
   "codemirror_mode": {
    "name": "ipython",
    "version": 3
   },
   "file_extension": ".py",
   "mimetype": "text/x-python",
   "name": "python",
   "nbconvert_exporter": "python",
   "pygments_lexer": "ipython3",
   "version": "3.9.5"
  }
 },
 "nbformat": 4,
 "nbformat_minor": 5
}
