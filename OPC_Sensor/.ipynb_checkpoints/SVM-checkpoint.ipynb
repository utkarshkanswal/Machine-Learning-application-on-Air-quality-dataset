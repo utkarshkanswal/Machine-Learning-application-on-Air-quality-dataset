{
 "cells": [
  {
   "cell_type": "markdown",
   "id": "e5231689",
   "metadata": {},
   "source": [
    "# Importing Libraries"
   ]
  },
  {
   "cell_type": "code",
   "execution_count": null,
   "id": "89e85a41",
   "metadata": {},
   "outputs": [],
   "source": [
    "import numpy as np\n",
    "import pandas as pd\n",
    "from matplotlib import pyplot as plt\n",
    "import os.path as op\n",
    "import pickle\n",
    "import cupy as cp"
   ]
  },
  {
   "cell_type": "markdown",
   "id": "ba2f0d94",
   "metadata": {},
   "source": [
    "# Data Fetching"
   ]
  },
  {
   "cell_type": "code",
   "execution_count": null,
   "id": "6f29739f",
   "metadata": {},
   "outputs": [],
   "source": [
    "A1=np.empty((0,5),dtype='float32')\n",
    "U1=np.empty((0,7),dtype='float32')\n",
    "node=['150','149','147','144','142','140','136','61']\n",
    "mon=['Apr','Mar','Aug','Jun','Jul','Sep','May','Oct']\n",
    "for j in node:\n",
    "  for i in mon:\n",
    "    inp= pd.read_csv('data_gkv/AT510_Node_'+str(j)+'_'+str(i)+'19_OutputFile.csv',usecols=[1,2,3,15,16],low_memory=False)\n",
    "    out= pd.read_csv('data_gkv/AT510_Node_'+str(j)+'_'+str(i)+'19_OutputFile.csv',usecols=[5,6,7,8,17,18,19],low_memory=False)\n",
    "    \n",
    "    inp=np.array(inp,dtype='float32')\n",
    "    out=np.array(out,dtype='float32')\n",
    "    \n",
    "    A1=np.append(A1, inp, axis=0)\n",
    "    U1=np.append(U1, out, axis=0)\n",
    "\n",
    "print(A1)\n",
    "print(U1)\n"
   ]
  },
  {
   "cell_type": "markdown",
   "id": "28df31d2",
   "metadata": {},
   "source": [
    "# Min Max Scaler"
   ]
  },
  {
   "cell_type": "code",
   "execution_count": null,
   "id": "64f3edcc",
   "metadata": {},
   "outputs": [],
   "source": [
    "from sklearn.preprocessing import MinMaxScaler\n",
    "import warnings\n",
    "scaler_obj=MinMaxScaler()\n",
    "X1=scaler_obj.fit_transform(A1)\n",
    "Y1=scaler_obj.fit_transform(U1)\n",
    "\n",
    "warnings.filterwarnings(action='ignore', category=UserWarning)"
   ]
  },
  {
   "cell_type": "markdown",
   "id": "75aca8a3",
   "metadata": {},
   "source": [
    "# Parameter Tuning"
   ]
  },
  {
   "cell_type": "code",
   "execution_count": null,
   "id": "94595d9a",
   "metadata": {},
   "outputs": [],
   "source": [
    "from sklearn.model_selection import RandomizedSearchCV\n",
    "from sklearn.ensemble import RandomForestRegressor\n",
    "\n",
    "def hyperparameterRF(x_train,y_train):\n",
    "    random_grid = {'bootstrap': [True, False],\n",
    "     'max_depth': [10, 20, 30, 40, 50, 60, 70, 80, 90, 100, None],\n",
    "     'max_features': ['auto', 'sqrt'],\n",
    "     'min_samples_leaf': [1, 2, 4],\n",
    "     'min_samples_split': [2, 5, 10],\n",
    "     'n_estimators': [200, 400, 600, 800, 1000, 1200, 1400, 1600, 1800, 2000]\n",
    "    }\n",
    "    rf = RandomForestRegressor()\n",
    "    rf_random = RandomizedSearchCV(estimator = rf, param_distributions = random_grid, n_iter = 100, cv = 2, verbose=2, random_state=42, n_jobs = -1)\n",
    "\n",
    "    grid_result = MultiOutputRegressor(rf_random).fit(x_train, y_train)\n",
    "    \n",
    "    return grid_result.estimators_[0].best_params_\n",
    "    "
   ]
  },
  {
   "cell_type": "code",
   "execution_count": null,
   "id": "6f561e7b",
   "metadata": {},
   "outputs": [],
   "source": [
    "from sklearn.model_selection import train_test_split\n",
    "x_train,x_test,y_train,y_test=train_test_split(X1,Y1,test_size=0.5,random_state=0)\n",
    "\n",
    "params=hyperparameterRF(x_train,y_train)\n",
    "params"
   ]
  },
  {
   "cell_type": "markdown",
   "id": "ff6bbe39",
   "metadata": {},
   "source": [
    "# Model"
   ]
  },
  {
   "cell_type": "code",
   "execution_count": null,
   "id": "0c2c88e2",
   "metadata": {},
   "outputs": [],
   "source": [
    "from sklearn.svm import SVR\n",
    "from sklearn.multioutput import MultiOutputRegressor\n",
    "\n",
    "# Splitting Data into training and testing dataset\n",
    "from sklearn.model_selection import train_test_split\n",
    "x_train,x_test,y_train,y_test=train_test_split(X1,Y1,test_size=0.2,random_state=42)\n",
    "\n",
    "model7 = MultiOutputRegressor(SVR(kernel='linear',C=1e1, gamma='auto'))\n",
    "\n",
    "model_fit7=model7.fit(x_train,y_train)\n",
    "\n",
    "print(\"Model Training Done !!\")\n",
    "\n",
    "# Dumping Model into a file\n",
    "\n",
    "filename7 = 'svm.sav'\n",
    "pickle.dump(model_fit7, open(filename7, 'wb'))"
   ]
  },
  {
   "cell_type": "code",
   "execution_count": null,
   "id": "81939863",
   "metadata": {},
   "outputs": [],
   "source": [
    "loaded_model_fit7 = pickle.load(open(filename7, 'rb'))\n",
    "loaded_model_fit7.predict(x_test)"
   ]
  },
  {
   "cell_type": "markdown",
   "id": "cb330916",
   "metadata": {},
   "source": [
    "# Error Analysis"
   ]
  },
  {
   "cell_type": "code",
   "execution_count": null,
   "id": "be501d00",
   "metadata": {},
   "outputs": [],
   "source": [
    "from sklearn import metrics\n",
    "from sklearn.metrics import r2_score\n",
    "train_sizes=['NO2','O3','NO','CO','PM1','PM2.5','PM10']\n",
    "\n",
    "y_test_pred7=model_fit7.predict(x_test)\n",
    "y_train_pred7=model_fit7.predict(x_train)\n",
    "\n",
    "#finding out the r2 score\n",
    "r2_test7=r2_score(y_test,y_test_pred7)\n",
    "r2_train7=r2_score(y_train,y_train_pred7)\n",
    "\n",
    "print('r2 score on train data '+ str(r2_train7))\n",
    "print('r2 score on test data '+ str(r2_test7))\n",
    "\n",
    "svm_mae=metrics.mean_absolute_error(y_test, y_test_pred7)\n",
    "svm_mse=metrics.mean_squared_error(y_test, y_test_pred7)\n",
    "svm_rmse=np.sqrt(metrics.mean_squared_error(y_test, y_test_pred7))\n",
    "print('Mean Absolute Error:',svm_mae)\n",
    "print('Mean Squared Error:',svm_mse )\n",
    "print('Root Mean Squared Error:',svm_rmse)"
   ]
  },
  {
   "cell_type": "markdown",
   "id": "a86e0ab2",
   "metadata": {},
   "source": [
    "# y-test vs y-predict"
   ]
  },
  {
   "cell_type": "code",
   "execution_count": null,
   "id": "06d1c432",
   "metadata": {},
   "outputs": [],
   "source": [
    "# printing y_test and y_test_predict\n",
    "print(\"Y_Test:\",y_test)\n",
    "print(\"Y_Test_Predict:\",y_test_pred7)\n",
    "\n",
    "from matplotlib import style\n",
    "style.use('ggplot')\n",
    "\n",
    "for i in range(0,7):\n",
    "  plt.figure(figsize=[12,10])\n",
    "  plt.plot(y_test[:,i],linewidth=3, markersize=12)\n",
    "  plt.plot(y_test_pred7[:,i],linewidth=2, markersize=12)\n",
    "  plt.xlabel('X')\n",
    "  plt.ylabel(train_sizes[i])\n",
    "  plt.show()"
   ]
  }
 ],
 "metadata": {
  "kernelspec": {
   "display_name": "Python 3 (ipykernel)",
   "language": "python",
   "name": "python3"
  },
  "language_info": {
   "codemirror_mode": {
    "name": "ipython",
    "version": 3
   },
   "file_extension": ".py",
   "mimetype": "text/x-python",
   "name": "python",
   "nbconvert_exporter": "python",
   "pygments_lexer": "ipython3",
   "version": "3.9.5"
  }
 },
 "nbformat": 4,
 "nbformat_minor": 5
}
