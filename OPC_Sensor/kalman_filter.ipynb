{
 "cells": [
  {
   "cell_type": "code",
   "execution_count": 3,
   "metadata": {},
   "outputs": [],
   "source": [
    "import os\n",
    "import random\n",
    "import numpy as np\n",
    "import pandas as pd\n",
    "import matplotlib.pyplot as plt\n",
    "from sklearn.model_selection import train_test_split\n",
    "from sklearn.metrics import mean_squared_error"
   ]
  },
  {
   "cell_type": "code",
   "execution_count": 4,
   "metadata": {},
   "outputs": [
    {
     "name": "stdout",
     "output_type": "stream",
     "text": [
      "[[1.50000e+02 1.90401e+05 7.25000e+02 2.75500e+01 8.03900e+01]\n",
      " [1.50000e+02 1.90401e+05 8.25000e+02 2.75600e+01 8.03300e+01]\n",
      " [1.50000e+02 1.90401e+05 9.25000e+02 2.75800e+01 8.02400e+01]\n",
      " ...\n",
      " [6.10000e+01 1.91020e+05 1.94532e+05 2.93700e+01 7.52100e+01]\n",
      " [6.10000e+01 1.91020e+05 1.94632e+05 2.93500e+01 7.52700e+01]\n",
      " [6.10000e+01 1.91020e+05 1.94732e+05 2.93400e+01 7.53000e+01]]\n",
      "[[ 28.     3.   -52.   ...  16.97  19.63  20.06]\n",
      " [ 28.    15.   -53.   ...  16.63  19.57  23.06]\n",
      " [ 31.    16.   -55.   ...  17.24  19.98  20.24]\n",
      " ...\n",
      " [ 76.    12.   -76.   ...   3.47   3.95   4.35]\n",
      " [ 75.    13.   -76.   ...   3.88   4.33   4.42]\n",
      " [ 76.    12.   -75.   ...   3.46   4.07   4.28]]\n"
     ]
    }
   ],
   "source": [
    "A1=np.empty((0,5),dtype='float32')\n",
    "U1=np.empty((0,7),dtype='float32')\n",
    "node=['150','149','147','144','142','140','136','61']\n",
    "mon=['Apr','Mar','Aug','Jun','Jul','Sep','May','Oct']\n",
    "for j in node:\n",
    "  for i in mon:\n",
    "    inp= pd.read_csv('../data_gkv/AT510_Node_'+str(j)+'_'+str(i)+'19_OutputFile.csv',usecols=[1,2,3,15,16],low_memory=False)\n",
    "    out= pd.read_csv('../data_gkv/AT510_Node_'+str(j)+'_'+str(i)+'19_OutputFile.csv',usecols=[5,6,7,8,17,18,19],low_memory=False)\n",
    "    \n",
    "    inp=np.array(inp,dtype='float32')\n",
    "    out=np.array(out,dtype='float32')\n",
    "    \n",
    "    A1=np.append(A1, inp, axis=0)\n",
    "    U1=np.append(U1, out, axis=0)\n",
    "\n",
    "print(A1)\n",
    "print(U1)\n"
   ]
  },
  {
   "cell_type": "code",
   "execution_count": 1,
   "metadata": {},
   "outputs": [],
   "source": [
    "from PyEMD import EMD"
   ]
  },
  {
   "cell_type": "code",
   "execution_count": 10,
   "metadata": {},
   "outputs": [
    {
     "data": {
      "text/plain": [
       "array([[-1.1033539e+05, -3.3105413e+03,  2.0052944e+01,  2.5551056e+01,\n",
       "        -3.7359259e+00],\n",
       "       [-1.1023628e+05, -3.3114587e+03,  2.0054895e+01,  2.5477852e+01,\n",
       "        -3.7355926e+00],\n",
       "       [-1.1013157e+05, -3.3113188e+03,  2.0054281e+01,  2.5372395e+01,\n",
       "        -3.7327182e+00],\n",
       "       ...,\n",
       "       [ 8.3470836e+04, -2.6687417e+03, -6.4515213e+01, -2.1583786e+00,\n",
       "         4.8166686e-01],\n",
       "       [ 8.3570844e+04, -2.6687297e+03, -6.4510780e+01, -2.1087511e+00,\n",
       "         4.7501981e-01],\n",
       "       [ 8.3670836e+04, -2.6687175e+03, -6.4507385e+01, -2.0904481e+00,\n",
       "         4.7251290e-01]], dtype=float32)"
      ]
     },
     "execution_count": 10,
     "metadata": {},
     "output_type": "execute_result"
    }
   ],
   "source": [
    "from sklearn.decomposition import PCA\n",
    "temp=np.array([2,3])\n",
    "obj1=PCA()\n",
    "X1=obj1.fit_transform(A1)\n",
    "X1"
   ]
  },
  {
   "cell_type": "code",
   "execution_count": 12,
   "metadata": {},
   "outputs": [
    {
     "data": {
      "text/plain": [
       "array([[1.50000e+02, 1.90401e+05, 7.25000e+02, 2.75500e+01, 8.03900e+01],\n",
       "       [1.50000e+02, 1.90401e+05, 8.25000e+02, 2.75600e+01, 8.03300e+01],\n",
       "       [1.50000e+02, 1.90401e+05, 9.25000e+02, 2.75800e+01, 8.02400e+01],\n",
       "       ...,\n",
       "       [6.10000e+01, 1.91020e+05, 1.94532e+05, 2.93700e+01, 7.52100e+01],\n",
       "       [6.10000e+01, 1.91020e+05, 1.94632e+05, 2.93500e+01, 7.52700e+01],\n",
       "       [6.10000e+01, 1.91020e+05, 1.94732e+05, 2.93400e+01, 7.53000e+01]],\n",
       "      dtype=float32)"
      ]
     },
     "execution_count": 12,
     "metadata": {},
     "output_type": "execute_result"
    }
   ],
   "source": [
    "A1"
   ]
  },
  {
   "cell_type": "code",
   "execution_count": 11,
   "metadata": {},
   "outputs": [
    {
     "data": {
      "text/plain": [
       "array([[1.4999826e+02, 1.9040183e+05, 7.2568750e+02, 2.7549892e+01,\n",
       "        8.0389305e+01],\n",
       "       [1.4999991e+02, 1.9040091e+05, 8.2479688e+02, 2.7560049e+01,\n",
       "        8.0329895e+01],\n",
       "       [1.4999991e+02, 1.9040103e+05, 9.2950781e+02, 2.7578588e+01,\n",
       "        8.0239922e+01],\n",
       "       ...,\n",
       "       [6.1000145e+01, 1.9101998e+05, 1.9453203e+05, 2.9370026e+01,\n",
       "        7.5209755e+01],\n",
       "       [6.1000145e+01, 1.9101998e+05, 1.9463205e+05, 2.9350023e+01,\n",
       "        7.5269760e+01],\n",
       "       [6.1000145e+01, 1.9101998e+05, 1.9473203e+05, 2.9340023e+01,\n",
       "        7.5299759e+01]], dtype=float32)"
      ]
     },
     "execution_count": 11,
     "metadata": {},
     "output_type": "execute_result"
    }
   ],
   "source": [
    "inv=obj1.inverse_transform(X1)\n",
    "inv"
   ]
  }
 ],
 "metadata": {
  "interpreter": {
   "hash": "916dbcbb3f70747c44a77c7bcd40155683ae19c65e1c03b4aa3499c5328201f1"
  },
  "kernelspec": {
   "display_name": "Python 3 (ipykernel)",
   "language": "python",
   "name": "python3"
  },
  "language_info": {
   "codemirror_mode": {
    "name": "ipython",
    "version": 3
   },
   "file_extension": ".py",
   "mimetype": "text/x-python",
   "name": "python",
   "nbconvert_exporter": "python",
   "pygments_lexer": "ipython3",
   "version": "3.8.10"
  }
 },
 "nbformat": 4,
 "nbformat_minor": 2
}
