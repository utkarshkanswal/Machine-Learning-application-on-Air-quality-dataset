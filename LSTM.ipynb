{
 "cells": [
  {
   "cell_type": "code",
   "execution_count": 1,
   "id": "877c2677",
   "metadata": {},
   "outputs": [
    {
     "data": {
      "text/plain": [
       "[PhysicalDevice(name='/physical_device:CPU:0', device_type='CPU'),\n",
       " PhysicalDevice(name='/physical_device:GPU:0', device_type='GPU')]"
      ]
     },
     "execution_count": 1,
     "metadata": {},
     "output_type": "execute_result"
    }
   ],
   "source": [
    "import tensorflow as tf\n",
    "tf.config.experimental.list_physical_devices()"
   ]
  },
  {
   "cell_type": "code",
   "execution_count": 2,
   "id": "1c059e76",
   "metadata": {},
   "outputs": [
    {
     "data": {
      "text/plain": [
       "True"
      ]
     },
     "execution_count": 2,
     "metadata": {},
     "output_type": "execute_result"
    }
   ],
   "source": [
    "tf.test.is_built_with_cuda()"
   ]
  },
  {
   "cell_type": "markdown",
   "id": "96739d01",
   "metadata": {},
   "source": [
    "# Importing Libraries"
   ]
  },
  {
   "cell_type": "code",
   "execution_count": 1,
   "id": "a0397420",
   "metadata": {},
   "outputs": [],
   "source": [
    "import numpy as np\n",
    "import pandas as pd\n",
    "from matplotlib import pyplot as plt\n",
    "import os.path as op\n",
    "import pickle\n",
    "import cupy as cp"
   ]
  },
  {
   "cell_type": "code",
   "execution_count": 2,
   "id": "e8cc09ab",
   "metadata": {},
   "outputs": [],
   "source": [
    "import tensorflow as tf\n",
    "from tensorflow import keras\n",
    "from keras.models import Model,Sequential,load_model\n",
    "from keras.layers import Input, Embedding\n",
    "from keras.layers import Dense, Bidirectional\n",
    "from keras.layers.recurrent import LSTM\n",
    "import keras.metrics as metrics\n",
    "import itertools\n",
    "from tensorflow.python.keras.utils.data_utils import Sequence\n",
    "from decimal import Decimal\n",
    "from keras import backend as K\n",
    "from keras.layers import Conv1D,MaxPooling1D,Flatten,Dense"
   ]
  },
  {
   "cell_type": "markdown",
   "id": "b7f9474e",
   "metadata": {},
   "source": [
    "# Data Fetching"
   ]
  },
  {
   "cell_type": "code",
   "execution_count": 3,
   "id": "7450b0aa",
   "metadata": {},
   "outputs": [
    {
     "name": "stdout",
     "output_type": "stream",
     "text": [
      "[[1.50000e+02 1.90401e+05 7.25000e+02 2.75500e+01 8.03900e+01]\n",
      " [1.50000e+02 1.90401e+05 8.25000e+02 2.75600e+01 8.03300e+01]\n",
      " [1.50000e+02 1.90401e+05 9.25000e+02 2.75800e+01 8.02400e+01]\n",
      " ...\n",
      " [6.10000e+01 1.91020e+05 1.94532e+05 2.93700e+01 7.52100e+01]\n",
      " [6.10000e+01 1.91020e+05 1.94632e+05 2.93500e+01 7.52700e+01]\n",
      " [6.10000e+01 1.91020e+05 1.94732e+05 2.93400e+01 7.53000e+01]]\n",
      "[[ 28.     3.   -52.   ...  16.97  19.63  20.06]\n",
      " [ 28.    15.   -53.   ...  16.63  19.57  23.06]\n",
      " [ 31.    16.   -55.   ...  17.24  19.98  20.24]\n",
      " ...\n",
      " [ 76.    12.   -76.   ...   3.47   3.95   4.35]\n",
      " [ 75.    13.   -76.   ...   3.88   4.33   4.42]\n",
      " [ 76.    12.   -75.   ...   3.46   4.07   4.28]]\n"
     ]
    }
   ],
   "source": [
    "A1=np.empty((0,5),dtype='float32')\n",
    "U1=np.empty((0,7),dtype='float32')\n",
    "node=['150','149','147','144','142','140','136','61']\n",
    "mon=['Apr','Mar','Aug','Jun','Jul','Sep','May','Oct']\n",
    "for j in node:\n",
    "  for i in mon:\n",
    "    inp= pd.read_csv('data_gkv/AT510_Node_'+str(j)+'_'+str(i)+'19_OutputFile.csv',usecols=[1,2,3,15,16])\n",
    "    out= pd.read_csv('data_gkv/AT510_Node_'+str(j)+'_'+str(i)+'19_OutputFile.csv',usecols=[5,6,7,8,17,18,19])\n",
    "    \n",
    "    inp=np.array(inp,dtype='float32')\n",
    "    out=np.array(out,dtype='float32')\n",
    "    \n",
    "    A1=np.append(A1, inp, axis=0)\n",
    "    U1=np.append(U1, out, axis=0)\n",
    "\n",
    "print(A1)\n",
    "print(U1)\n"
   ]
  },
  {
   "cell_type": "markdown",
   "id": "78ca5e86",
   "metadata": {},
   "source": [
    "# Min Max Scaler"
   ]
  },
  {
   "cell_type": "code",
   "execution_count": 4,
   "id": "41ae9a8a",
   "metadata": {},
   "outputs": [],
   "source": [
    "from sklearn.preprocessing import MinMaxScaler\n",
    "import warnings\n",
    "scaler_obj=MinMaxScaler()\n",
    "X1=scaler_obj.fit_transform(A1)\n",
    "Y1=scaler_obj.fit_transform(U1)\n",
    "\n",
    "warnings.filterwarnings(action='ignore', category=UserWarning)\n",
    "\n",
    "X1=X1[:,np.newaxis,:]\n",
    "Y1=Y1[:,np.newaxis,:]"
   ]
  },
  {
   "cell_type": "code",
   "execution_count": 6,
   "id": "da37491b",
   "metadata": {},
   "outputs": [],
   "source": [
    "def rmse(y_true, y_pred):\n",
    "    return K.sqrt(K.mean(K.square(y_pred - y_true), axis=-1))\n",
    "\n",
    "def coeff_determination(y_true, y_pred):\n",
    "    SS_res =  K.sum(K.square( y_true-y_pred )) \n",
    "    SS_tot = K.sum(K.square( y_true - K.mean(y_true) ) ) \n",
    "    return ( 1 - SS_res/(SS_tot + K.epsilon()) )"
   ]
  },
  {
   "cell_type": "markdown",
   "id": "3b80f424",
   "metadata": {},
   "source": [
    "# Parameter Tuning"
   ]
  },
  {
   "cell_type": "code",
   "execution_count": null,
   "id": "b29f8c3c",
   "metadata": {},
   "outputs": [],
   "source": [
    "from sklearn.model_selection import RandomizedSearchCV\n",
    "from sklearn.ensemble import RandomForestRegressor\n",
    "\n",
    "def hyperparameterRF(x_train,y_train):\n",
    "    random_grid = {'bootstrap': [True, False],\n",
    "     'max_depth': [10, 20, 30, 40, 50, 60, 70, 80, 90, 100, None],\n",
    "     'max_features': ['auto', 'sqrt'],\n",
    "     'min_samples_leaf': [1, 2, 4],\n",
    "     'min_samples_split': [2, 5, 10],\n",
    "     'n_estimators': [200, 400, 600, 800, 1000, 1200, 1400, 1600, 1800, 2000]\n",
    "    }\n",
    "    rf = RandomForestRegressor()\n",
    "    rf_random = RandomizedSearchCV(estimator = rf, param_distributions = random_grid, n_iter = 100, cv = 2, verbose=2, random_state=42, n_jobs = -1)\n",
    "\n",
    "    grid_result = MultiOutputRegressor(rf_random).fit(x_train, y_train)\n",
    "    \n",
    "    return grid_result.estimators_[0].best_params_\n",
    "    "
   ]
  },
  {
   "cell_type": "code",
   "execution_count": null,
   "id": "c9493a68",
   "metadata": {},
   "outputs": [],
   "source": [
    "from sklearn.model_selection import train_test_split\n",
    "x_train,x_test,y_train,y_test=train_test_split(X1,Y1,test_size=0.5,random_state=0)\n",
    "\n",
    "params=hyperparameterRF(x_train,y_train)\n",
    "params"
   ]
  },
  {
   "cell_type": "markdown",
   "id": "b1edf627",
   "metadata": {},
   "source": [
    "# Model"
   ]
  },
  {
   "cell_type": "code",
   "execution_count": 7,
   "id": "d05d8053",
   "metadata": {},
   "outputs": [
    {
     "name": "stdout",
     "output_type": "stream",
     "text": [
      "Model: \"model\"\n",
      "_________________________________________________________________\n",
      " Layer (type)                Output Shape              Param #   \n",
      "=================================================================\n",
      " input_1 (InputLayer)        [(None, 1, 5)]            0         \n",
      "                                                                 \n",
      " conv1d (Conv1D)             (None, 1, 16)             96        \n",
      "                                                                 \n",
      " conv1d_1 (Conv1D)           (None, 1, 64)             4160      \n",
      "                                                                 \n",
      " dropout (Dropout)           (None, 1, 64)             0         \n",
      "                                                                 \n",
      " dense (Dense)               (None, 1, 64)             4160      \n",
      "                                                                 \n",
      " lstm (LSTM)                 (None, 1, 256)            328704    \n",
      "                                                                 \n",
      " lstm_1 (LSTM)               (None, 128)               197120    \n",
      "                                                                 \n",
      " dropout_1 (Dropout)         (None, 128)               0         \n",
      "                                                                 \n",
      " dense_1 (Dense)             (None, 7)                 903       \n",
      "                                                                 \n",
      "=================================================================\n",
      "Total params: 535,143\n",
      "Trainable params: 535,143\n",
      "Non-trainable params: 0\n",
      "_________________________________________________________________\n"
     ]
    }
   ],
   "source": [
    "from sklearn.model_selection import train_test_split\n",
    "x_train, x_test, y_train, y_test = train_test_split(X1, Y1, test_size=0.25, random_state=0)\n",
    "\n",
    "inp=keras.Input(shape=(1,5))\n",
    "\n",
    "l=keras.layers.Conv1D(16,1,padding=\"same\",activation=\"relu\",kernel_initializer=\"glorot_uniform\",bias_initializer=\"zeros\",\n",
    "                        kernel_regularizer=keras.regularizers.l1_l2(l1=1e-5, l2=1e-4),\n",
    "                        bias_regularizer=keras.regularizers.l2(1e-4),\n",
    "                        activity_regularizer=keras.regularizers.l2(1e-5))(inp)\n",
    "\n",
    "l=keras.layers.Conv1D(64,4,padding=\"same\",activation=\"sigmoid\")(l)\n",
    "l=keras.layers.Dropout(.2)(l)\n",
    "l=keras.layers.Dense(64, activation=\"relu\")(l)\n",
    "\n",
    "l=keras.layers.LSTM(256,activation=\"tanh\",use_bias=True,kernel_initializer=\"glorot_uniform\",bias_initializer=\"zeros\",\n",
    "                       return_sequences = True)(l)\n",
    "l=keras.layers.LSTM(128, activation = \"tanh\", return_sequences = False)(l)\n",
    "l=keras.layers.Dropout(0.2)(l)\n",
    "output=keras.layers.Dense(7)(l)\n",
    "\n",
    "model9=keras.Model(inputs=inp,outputs=output)\n",
    "model9.compile(optimizer=keras.optimizers.Adam(learning_rate=0.00001), loss='mse',metrics=['accuracy',rmse,coeff_determination])\n",
    "model9.summary()"
   ]
  },
  {
   "cell_type": "code",
   "execution_count": 9,
   "id": "de257b72",
   "metadata": {},
   "outputs": [
    {
     "name": "stdout",
     "output_type": "stream",
     "text": [
      "Epoch 1/10\n",
      "5070/5070 [==============================] - 139s 27ms/step - loss: 0.0010 - accuracy: 0.9438 - rmse: 0.0086 - coeff_determination: -61.3173 - val_loss: 8.9378e-04 - val_accuracy: 0.9437 - val_rmse: 0.0075 - val_coeff_determination: -54.8860\n",
      "Epoch 2/10\n",
      "5070/5070 [==============================] - 125s 25ms/step - loss: 7.9844e-04 - accuracy: 0.9438 - rmse: 0.0078 - coeff_determination: -56.5195 - val_loss: 6.9955e-04 - val_accuracy: 0.9437 - val_rmse: 0.0075 - val_coeff_determination: -54.6812\n",
      "Epoch 3/10\n",
      "5070/5070 [==============================] - 140s 28ms/step - loss: 6.2074e-04 - accuracy: 0.9438 - rmse: 0.0075 - coeff_determination: -55.5562 - val_loss: 5.4205e-04 - val_accuracy: 0.9437 - val_rmse: 0.0075 - val_coeff_determination: -54.6991\n",
      "Epoch 4/10\n",
      "5070/5070 [==============================] - 129s 25ms/step - loss: 4.7928e-04 - accuracy: 0.9438 - rmse: 0.0075 - coeff_determination: -55.3531 - val_loss: 4.1648e-04 - val_accuracy: 0.9437 - val_rmse: 0.0075 - val_coeff_determination: -54.6954\n",
      "Epoch 5/10\n",
      "5070/5070 [==============================] - 125s 25ms/step - loss: 3.6780e-04 - accuracy: 0.9438 - rmse: 0.0075 - coeff_determination: -55.2815 - val_loss: 3.1955e-04 - val_accuracy: 0.9437 - val_rmse: 0.0075 - val_coeff_determination: -54.6971\n",
      "Epoch 6/10\n",
      "5070/5070 [==============================] - 126s 25ms/step - loss: 2.8423e-04 - accuracy: 0.9438 - rmse: 0.0075 - coeff_determination: -55.2453 - val_loss: 2.4837e-04 - val_accuracy: 0.9437 - val_rmse: 0.0075 - val_coeff_determination: -54.6961\n",
      "Epoch 7/10\n",
      "5070/5070 [==============================] - 126s 25ms/step - loss: 2.2403e-04 - accuracy: 0.9438 - rmse: 0.0075 - coeff_determination: -55.2229 - val_loss: 1.9856e-04 - val_accuracy: 0.9437 - val_rmse: 0.0075 - val_coeff_determination: -54.6932\n",
      "Epoch 8/10\n",
      "5070/5070 [==============================] - 127s 25ms/step - loss: 1.8339e-04 - accuracy: 0.9438 - rmse: 0.0075 - coeff_determination: -55.2082 - val_loss: 1.6684e-04 - val_accuracy: 0.9437 - val_rmse: 0.0075 - val_coeff_determination: -54.6929\n",
      "Epoch 9/10\n",
      "5070/5070 [==============================] - 129s 26ms/step - loss: 1.5839e-04 - accuracy: 0.9438 - rmse: 0.0074 - coeff_determination: -55.1976 - val_loss: 1.4769e-04 - val_accuracy: 0.9437 - val_rmse: 0.0075 - val_coeff_determination: -54.6901\n",
      "Epoch 10/10\n",
      "5070/5070 [==============================] - 130s 26ms/step - loss: 1.4422e-04 - accuracy: 0.9438 - rmse: 0.0074 - coeff_determination: -55.1898 - val_loss: 1.3845e-04 - val_accuracy: 0.9437 - val_rmse: 0.0075 - val_coeff_determination: -54.6880\n"
     ]
    }
   ],
   "source": [
    "model_fit8=model9.fit(x_train,y_train,batch_size=256,epochs=10,validation_data=(x_test, y_test),shuffle= False)"
   ]
  },
  {
   "cell_type": "markdown",
   "id": "05c03bc9",
   "metadata": {},
   "source": [
    "# Saving Model as File"
   ]
  },
  {
   "cell_type": "code",
   "execution_count": null,
   "id": "feb6fe5c",
   "metadata": {},
   "outputs": [],
   "source": [
    "model_json = model8.to_json()\n",
    "with open(\"lstm.json\", \"w\") as json_file:\n",
    "    json_file.write(model_json)\n",
    "# serialize weights to HDF5\n",
    "model8.save_weights(\"lstm.h5\")\n",
    "print(\"Saved model to disk\")"
   ]
  },
  {
   "cell_type": "code",
   "execution_count": null,
   "id": "85c18be3",
   "metadata": {},
   "outputs": [],
   "source": [
    "from keras.models import model_from_json\n",
    "json_file = open('lstm.json', 'r')\n",
    "loaded_model_json = json_file.read()\n",
    "json_file.close()\n",
    "loaded_model = model_from_json(loaded_model_json)\n",
    "# load weights into new model\n",
    "loaded_model.load_weights(\"lstm.h5\")\n",
    "print(\"Loaded model from disk\")\n",
    "loaded_model.compile(optimizer=keras.optimizers.Adam(learning_rate=0.001), loss='mse',metrics=['accuracy','mse','mae',rmse,coeff_determination])\n",
    "print(loaded_model.evaluate(x_train, y_train, verbose=0))"
   ]
  },
  {
   "cell_type": "markdown",
   "id": "eb75d6b3",
   "metadata": {},
   "source": [
    "# Error Analysis"
   ]
  },
  {
   "cell_type": "code",
   "execution_count": null,
   "id": "ff6190cf",
   "metadata": {},
   "outputs": [],
   "source": [
    "_, train_acc = model8.evaluate(x_train, y_train, verbose=0)\n",
    "_, test_acc = model8.evaluate(x_test, y_test, verbose=0)\n",
    "print('Train: %.3f, Test: %.3f' % (train_acc, test_acc))\n",
    "\n",
    "# summarize history for loss\n",
    "plt.plot(model_fit8.history['loss'])\n",
    "plt.plot(model_fit8.history['val_loss'])\n",
    "plt.title('Model Loss',fontweight ='bold',fontsize = 15)\n",
    "plt.ylabel('Loss',fontweight ='bold',fontsize = 15)\n",
    "plt.xlabel('Epoch',fontweight ='bold',fontsize = 15)\n",
    "plt.legend(['Train', 'Test'], loc='upper left')\n",
    "plt.show()\n",
    "\n",
    "# summarize history for accuracy\n",
    "plt.plot(model_fit8.history['accuracy'])\n",
    "plt.plot(model_fit8.history['val_accuracy'])\n",
    "plt.title('Model accuracy',fontweight ='bold',fontsize = 15)\n",
    "plt.ylabel('Accuracy',fontweight ='bold',fontsize = 15)\n",
    "plt.xlabel('Epoch',fontweight ='bold',fontsize = 15)\n",
    "plt.legend(['Train', 'Test'], loc='upper left')\n",
    "plt.show()"
   ]
  }
 ],
 "metadata": {
  "kernelspec": {
   "display_name": "Python 3 (ipykernel)",
   "language": "python",
   "name": "python3"
  },
  "language_info": {
   "codemirror_mode": {
    "name": "ipython",
    "version": 3
   },
   "file_extension": ".py",
   "mimetype": "text/x-python",
   "name": "python",
   "nbconvert_exporter": "python",
   "pygments_lexer": "ipython3",
   "version": "3.9.5"
  }
 },
 "nbformat": 4,
 "nbformat_minor": 5
}
