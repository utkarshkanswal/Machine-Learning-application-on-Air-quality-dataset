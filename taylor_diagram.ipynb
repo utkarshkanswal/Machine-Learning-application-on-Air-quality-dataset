{
 "cells": [
  {
   "cell_type": "code",
   "execution_count": 2,
   "metadata": {},
   "outputs": [
    {
     "data": {
      "text/html": [
       "<div>\n",
       "<style scoped>\n",
       "    .dataframe tbody tr th:only-of-type {\n",
       "        vertical-align: middle;\n",
       "    }\n",
       "\n",
       "    .dataframe tbody tr th {\n",
       "        vertical-align: top;\n",
       "    }\n",
       "\n",
       "    .dataframe thead th {\n",
       "        text-align: right;\n",
       "    }\n",
       "</style>\n",
       "<table border=\"1\" class=\"dataframe\">\n",
       "  <thead>\n",
       "    <tr style=\"text-align: right;\">\n",
       "      <th></th>\n",
       "      <th>0</th>\n",
       "      <th>1</th>\n",
       "      <th>2</th>\n",
       "    </tr>\n",
       "  </thead>\n",
       "  <tbody>\n",
       "    <tr>\n",
       "      <th>0</th>\n",
       "      <td>2.078044e-316</td>\n",
       "      <td>0.000000e+00</td>\n",
       "      <td>6.926684e-310</td>\n",
       "    </tr>\n",
       "    <tr>\n",
       "      <th>1</th>\n",
       "      <td>-1.053688e-190</td>\n",
       "      <td>6.926684e-310</td>\n",
       "      <td>6.926684e-310</td>\n",
       "    </tr>\n",
       "    <tr>\n",
       "      <th>2</th>\n",
       "      <td>-1.171587e-45</td>\n",
       "      <td>6.926684e-310</td>\n",
       "      <td>6.926684e-310</td>\n",
       "    </tr>\n",
       "    <tr>\n",
       "      <th>3</th>\n",
       "      <td>2.983700e-173</td>\n",
       "      <td>6.926684e-310</td>\n",
       "      <td>6.926684e-310</td>\n",
       "    </tr>\n",
       "    <tr>\n",
       "      <th>4</th>\n",
       "      <td>-8.519835e+37</td>\n",
       "      <td>6.926684e-310</td>\n",
       "      <td>6.926684e-310</td>\n",
       "    </tr>\n",
       "    <tr>\n",
       "      <th>5</th>\n",
       "      <td>2.242981e-117</td>\n",
       "      <td>6.926684e-310</td>\n",
       "      <td>6.926684e-310</td>\n",
       "    </tr>\n",
       "  </tbody>\n",
       "</table>\n",
       "</div>"
      ],
      "text/plain": [
       "               0              1              2\n",
       "0  2.078044e-316   0.000000e+00  6.926684e-310\n",
       "1 -1.053688e-190  6.926684e-310  6.926684e-310\n",
       "2  -1.171587e-45  6.926684e-310  6.926684e-310\n",
       "3  2.983700e-173  6.926684e-310  6.926684e-310\n",
       "4  -8.519835e+37  6.926684e-310  6.926684e-310\n",
       "5  2.242981e-117  6.926684e-310  6.926684e-310"
      ]
     },
     "execution_count": 2,
     "metadata": {},
     "output_type": "execute_result"
    }
   ],
   "source": [
    "import numpy as np\n",
    "import pandas as pd\n",
    "arr=np.empty((6,3))\n",
    "\n",
    "df=pd.DataFrame(arr)\n",
    "df"
   ]
  },
  {
   "cell_type": "code",
   "execution_count": 3,
   "metadata": {},
   "outputs": [
    {
     "ename": "ValueError",
     "evalue": "Must supply 3 arguments.",
     "output_type": "error",
     "traceback": [
      "\u001b[0;31m---------------------------------------------------------------------------\u001b[0m",
      "\u001b[0;31mValueError\u001b[0m                                Traceback (most recent call last)",
      "\u001b[1;32m/home/utkarsh/ML Work/Machine-Learning-application-on-Air-quality-dataset/taylor_diagram.ipynb Cell 2'\u001b[0m in \u001b[0;36m<module>\u001b[0;34m\u001b[0m\n\u001b[1;32m      <a href='vscode-notebook-cell:/home/utkarsh/ML%20Work/Machine-Learning-application-on-Air-quality-dataset/taylor_diagram.ipynb#ch0000000?line=0'>1</a>\u001b[0m \u001b[39mimport\u001b[39;00m \u001b[39mskill_metrics\u001b[39;00m \u001b[39mas\u001b[39;00m \u001b[39msm\u001b[39;00m\n\u001b[0;32m----> <a href='vscode-notebook-cell:/home/utkarsh/ML%20Work/Machine-Learning-application-on-Air-quality-dataset/taylor_diagram.ipynb#ch0000000?line=2'>3</a>\u001b[0m sm\u001b[39m.\u001b[39;49mtaylor_diagram(arr)\n",
      "File \u001b[0;32m~/.local/lib/python3.8/site-packages/skill_metrics/taylor_diagram.py:72\u001b[0m, in \u001b[0;36mtaylor_diagram\u001b[0;34m(*args, **kwargs)\u001b[0m\n\u001b[1;32m     <a href='file:///home/utkarsh/.local/lib/python3.8/site-packages/skill_metrics/taylor_diagram.py?line=69'>70</a>\u001b[0m \u001b[39m# Check for number of arguments\u001b[39;00m\n\u001b[1;32m     <a href='file:///home/utkarsh/.local/lib/python3.8/site-packages/skill_metrics/taylor_diagram.py?line=70'>71</a>\u001b[0m nargin \u001b[39m=\u001b[39m \u001b[39mlen\u001b[39m(args)\n\u001b[0;32m---> <a href='file:///home/utkarsh/.local/lib/python3.8/site-packages/skill_metrics/taylor_diagram.py?line=71'>72</a>\u001b[0m STDs, RMSs, CORs \u001b[39m=\u001b[39m _get_taylor_diagram_arguments(\u001b[39m*\u001b[39;49margs,\u001b[39m*\u001b[39;49m\u001b[39m*\u001b[39;49mkwargs)\n\u001b[1;32m     <a href='file:///home/utkarsh/.local/lib/python3.8/site-packages/skill_metrics/taylor_diagram.py?line=72'>73</a>\u001b[0m \u001b[39mif\u001b[39;00m nargin \u001b[39m==\u001b[39m \u001b[39m0\u001b[39m: \u001b[39mreturn\u001b[39;00m\n\u001b[1;32m     <a href='file:///home/utkarsh/.local/lib/python3.8/site-packages/skill_metrics/taylor_diagram.py?line=74'>75</a>\u001b[0m \u001b[39m# Get options\u001b[39;00m\n",
      "File \u001b[0;32m~/.local/lib/python3.8/site-packages/skill_metrics/taylor_diagram.py:150\u001b[0m, in \u001b[0;36m_get_taylor_diagram_arguments\u001b[0;34m(*args, **kwargs)\u001b[0m\n\u001b[1;32m    <a href='file:///home/utkarsh/.local/lib/python3.8/site-packages/skill_metrics/taylor_diagram.py?line=147'>148</a>\u001b[0m     \u001b[39mreturn\u001b[39;00m STDs, RMSs, CORs\n\u001b[1;32m    <a href='file:///home/utkarsh/.local/lib/python3.8/site-packages/skill_metrics/taylor_diagram.py?line=148'>149</a>\u001b[0m \u001b[39melif\u001b[39;00m nargin \u001b[39m!=\u001b[39m \u001b[39m3\u001b[39m:\n\u001b[0;32m--> <a href='file:///home/utkarsh/.local/lib/python3.8/site-packages/skill_metrics/taylor_diagram.py?line=149'>150</a>\u001b[0m     \u001b[39mraise\u001b[39;00m \u001b[39mValueError\u001b[39;00m(\u001b[39m'\u001b[39m\u001b[39mMust supply 3 arguments.\u001b[39m\u001b[39m'\u001b[39m)\n\u001b[1;32m    <a href='file:///home/utkarsh/.local/lib/python3.8/site-packages/skill_metrics/taylor_diagram.py?line=151'>152</a>\u001b[0m STDs \u001b[39m=\u001b[39m args[\u001b[39m0\u001b[39m]\n\u001b[1;32m    <a href='file:///home/utkarsh/.local/lib/python3.8/site-packages/skill_metrics/taylor_diagram.py?line=152'>153</a>\u001b[0m RMSs \u001b[39m=\u001b[39m args[\u001b[39m1\u001b[39m]\n",
      "\u001b[0;31mValueError\u001b[0m: Must supply 3 arguments."
     ]
    }
   ],
   "source": [
    "import skill_metrics as sm\n",
    "\n",
    "sm.taylor_diagram(0.22,0.52,0.32)"
   ]
  }
 ],
 "metadata": {
  "interpreter": {
   "hash": "9305734b5d620eae5d7660a8e31ec78e6d37dabba5f889752e7bf31a368ba679"
  },
  "kernelspec": {
   "display_name": "Python 3.8.10 ('venv': venv)",
   "language": "python",
   "name": "python3"
  },
  "language_info": {
   "codemirror_mode": {
    "name": "ipython",
    "version": 3
   },
   "file_extension": ".py",
   "mimetype": "text/x-python",
   "name": "python",
   "nbconvert_exporter": "python",
   "pygments_lexer": "ipython3",
   "version": "3.8.10"
  },
  "orig_nbformat": 4
 },
 "nbformat": 4,
 "nbformat_minor": 2
}
