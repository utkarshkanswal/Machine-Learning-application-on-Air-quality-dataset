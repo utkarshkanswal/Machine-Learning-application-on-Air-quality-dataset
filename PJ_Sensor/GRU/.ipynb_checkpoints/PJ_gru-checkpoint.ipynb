{
 "cells": [
  {
   "cell_type": "code",
   "execution_count": 2,
   "id": "877c2677",
   "metadata": {},
   "outputs": [
    {
     "data": {
      "text/plain": [
       "[PhysicalDevice(name='/physical_device:CPU:0', device_type='CPU'),\n",
       " PhysicalDevice(name='/physical_device:GPU:0', device_type='GPU')]"
      ]
     },
     "execution_count": 2,
     "metadata": {},
     "output_type": "execute_result"
    }
   ],
   "source": [
    "import tensorflow as tf\n",
    "tf.config.experimental.list_physical_devices()"
   ]
  },
  {
   "cell_type": "code",
   "execution_count": 3,
   "id": "1c059e76",
   "metadata": {},
   "outputs": [
    {
     "data": {
      "text/plain": [
       "True"
      ]
     },
     "execution_count": 3,
     "metadata": {},
     "output_type": "execute_result"
    }
   ],
   "source": [
    "tf.test.is_built_with_cuda()"
   ]
  },
  {
   "cell_type": "markdown",
   "id": "96739d01",
   "metadata": {},
   "source": [
    "# Importing Libraries"
   ]
  },
  {
   "cell_type": "code",
   "execution_count": 1,
   "id": "a0397420",
   "metadata": {},
   "outputs": [],
   "source": [
    "import numpy as np\n",
    "import pandas as pd\n",
    "from matplotlib import pyplot as plt\n",
    "import os.path as op\n",
    "import pickle"
   ]
  },
  {
   "cell_type": "code",
   "execution_count": 2,
   "id": "e8cc09ab",
   "metadata": {},
   "outputs": [],
   "source": [
    "import tensorflow as tf\n",
    "from tensorflow import keras\n",
    "from keras.models import Model,Sequential,load_model\n",
    "from keras.layers import Input, Embedding\n",
    "from keras.layers import Dense, Bidirectional\n",
    "from keras.layers.recurrent import LSTM\n",
    "import keras.metrics as metrics\n",
    "import itertools\n",
    "from tensorflow.python.keras.utils.data_utils import Sequence\n",
    "from decimal import Decimal\n",
    "from keras import backend as K\n",
    "from keras.layers import Conv1D,MaxPooling1D,Flatten,Dense"
   ]
  },
  {
   "cell_type": "markdown",
   "id": "b7f9474e",
   "metadata": {},
   "source": [
    "# Data Fetching"
   ]
  },
  {
   "cell_type": "code",
   "execution_count": 4,
   "id": "cc06c8d1",
   "metadata": {},
   "outputs": [],
   "source": [
    "inp=pd.read_csv(\"../PJ sensor.csv\",usecols=[6,7,10,11])\n",
    "out=pd.read_csv(\"../PJ sensor.csv\",usecols=[2,3,4,5,8,9])"
   ]
  },
  {
   "cell_type": "code",
   "execution_count": 5,
   "id": "010d86fc",
   "metadata": {},
   "outputs": [
    {
     "data": {
      "text/html": [
       "<div>\n",
       "<style scoped>\n",
       "    .dataframe tbody tr th:only-of-type {\n",
       "        vertical-align: middle;\n",
       "    }\n",
       "\n",
       "    .dataframe tbody tr th {\n",
       "        vertical-align: top;\n",
       "    }\n",
       "\n",
       "    .dataframe thead th {\n",
       "        text-align: right;\n",
       "    }\n",
       "</style>\n",
       "<table border=\"1\" class=\"dataframe\">\n",
       "  <thead>\n",
       "    <tr style=\"text-align: right;\">\n",
       "      <th></th>\n",
       "      <th>Temperature</th>\n",
       "      <th>Relative Humidity</th>\n",
       "      <th>date</th>\n",
       "      <th>Time</th>\n",
       "    </tr>\n",
       "  </thead>\n",
       "  <tbody>\n",
       "    <tr>\n",
       "      <th>0</th>\n",
       "      <td>31</td>\n",
       "      <td>65</td>\n",
       "      <td>191213</td>\n",
       "      <td>175844</td>\n",
       "    </tr>\n",
       "    <tr>\n",
       "      <th>1</th>\n",
       "      <td>31</td>\n",
       "      <td>65</td>\n",
       "      <td>191213</td>\n",
       "      <td>175904</td>\n",
       "    </tr>\n",
       "    <tr>\n",
       "      <th>2</th>\n",
       "      <td>31</td>\n",
       "      <td>65</td>\n",
       "      <td>191213</td>\n",
       "      <td>175924</td>\n",
       "    </tr>\n",
       "    <tr>\n",
       "      <th>3</th>\n",
       "      <td>31</td>\n",
       "      <td>65</td>\n",
       "      <td>191213</td>\n",
       "      <td>175944</td>\n",
       "    </tr>\n",
       "    <tr>\n",
       "      <th>4</th>\n",
       "      <td>31</td>\n",
       "      <td>66</td>\n",
       "      <td>191213</td>\n",
       "      <td>180004</td>\n",
       "    </tr>\n",
       "  </tbody>\n",
       "</table>\n",
       "</div>"
      ],
      "text/plain": [
       "   Temperature  Relative Humidity    date    Time\n",
       "0           31                 65  191213  175844\n",
       "1           31                 65  191213  175904\n",
       "2           31                 65  191213  175924\n",
       "3           31                 65  191213  175944\n",
       "4           31                 66  191213  180004"
      ]
     },
     "execution_count": 5,
     "metadata": {},
     "output_type": "execute_result"
    }
   ],
   "source": [
    "inp.head(5)"
   ]
  },
  {
   "cell_type": "code",
   "execution_count": 6,
   "id": "b391fbf9",
   "metadata": {},
   "outputs": [
    {
     "data": {
      "text/html": [
       "<div>\n",
       "<style scoped>\n",
       "    .dataframe tbody tr th:only-of-type {\n",
       "        vertical-align: middle;\n",
       "    }\n",
       "\n",
       "    .dataframe tbody tr th {\n",
       "        vertical-align: top;\n",
       "    }\n",
       "\n",
       "    .dataframe thead th {\n",
       "        text-align: right;\n",
       "    }\n",
       "</style>\n",
       "<table border=\"1\" class=\"dataframe\">\n",
       "  <thead>\n",
       "    <tr style=\"text-align: right;\">\n",
       "      <th></th>\n",
       "      <th>NO2</th>\n",
       "      <th>O3</th>\n",
       "      <th>CO</th>\n",
       "      <th>SO2</th>\n",
       "      <th>PM2.5</th>\n",
       "      <th>PM10</th>\n",
       "    </tr>\n",
       "  </thead>\n",
       "  <tbody>\n",
       "    <tr>\n",
       "      <th>0</th>\n",
       "      <td>-15.075377</td>\n",
       "      <td>35.714286</td>\n",
       "      <td>1766.233766</td>\n",
       "      <td>148.484848</td>\n",
       "      <td>11.229150</td>\n",
       "      <td>17.323938</td>\n",
       "    </tr>\n",
       "    <tr>\n",
       "      <th>1</th>\n",
       "      <td>-20.100503</td>\n",
       "      <td>41.208791</td>\n",
       "      <td>1733.766234</td>\n",
       "      <td>142.424242</td>\n",
       "      <td>9.413914</td>\n",
       "      <td>24.967407</td>\n",
       "    </tr>\n",
       "    <tr>\n",
       "      <th>2</th>\n",
       "      <td>-15.075377</td>\n",
       "      <td>43.956044</td>\n",
       "      <td>1711.038961</td>\n",
       "      <td>136.363636</td>\n",
       "      <td>10.350110</td>\n",
       "      <td>56.781536</td>\n",
       "    </tr>\n",
       "    <tr>\n",
       "      <th>3</th>\n",
       "      <td>0.000000</td>\n",
       "      <td>57.692308</td>\n",
       "      <td>1688.311688</td>\n",
       "      <td>139.393939</td>\n",
       "      <td>10.488765</td>\n",
       "      <td>30.371115</td>\n",
       "    </tr>\n",
       "    <tr>\n",
       "      <th>4</th>\n",
       "      <td>-20.100503</td>\n",
       "      <td>54.945055</td>\n",
       "      <td>1681.818182</td>\n",
       "      <td>130.303030</td>\n",
       "      <td>12.353048</td>\n",
       "      <td>188.026886</td>\n",
       "    </tr>\n",
       "  </tbody>\n",
       "</table>\n",
       "</div>"
      ],
      "text/plain": [
       "         NO2         O3           CO         SO2      PM2.5        PM10\n",
       "0 -15.075377  35.714286  1766.233766  148.484848  11.229150   17.323938\n",
       "1 -20.100503  41.208791  1733.766234  142.424242   9.413914   24.967407\n",
       "2 -15.075377  43.956044  1711.038961  136.363636  10.350110   56.781536\n",
       "3   0.000000  57.692308  1688.311688  139.393939  10.488765   30.371115\n",
       "4 -20.100503  54.945055  1681.818182  130.303030  12.353048  188.026886"
      ]
     },
     "execution_count": 6,
     "metadata": {},
     "output_type": "execute_result"
    }
   ],
   "source": [
    "out.head(5)"
   ]
  },
  {
   "cell_type": "code",
   "execution_count": 7,
   "id": "444880a7",
   "metadata": {},
   "outputs": [],
   "source": [
    "inp=np.array(inp)\n",
    "out=np.array(out)"
   ]
  },
  {
   "cell_type": "markdown",
   "id": "78ca5e86",
   "metadata": {},
   "source": [
    "# Min Max Scaler"
   ]
  },
  {
   "cell_type": "code",
   "execution_count": 8,
   "id": "41ae9a8a",
   "metadata": {},
   "outputs": [],
   "source": [
    "from sklearn.preprocessing import MinMaxScaler\n",
    "import warnings\n",
    "scaler_obj=MinMaxScaler()\n",
    "X1=scaler_obj.fit_transform(inp)\n",
    "Y1=scaler_obj.fit_transform(out)\n",
    "\n",
    "warnings.filterwarnings(action='ignore', category=UserWarning)\n",
    "\n",
    "X1=X1[:,np.newaxis,:]\n",
    "Y1=Y1[:,np.newaxis,:]"
   ]
  },
  {
   "cell_type": "code",
   "execution_count": 9,
   "id": "da37491b",
   "metadata": {},
   "outputs": [],
   "source": [
    "def rmse(y_true, y_pred):\n",
    "    return K.sqrt(K.mean(K.square(y_pred - y_true), axis=-1))\n",
    "\n",
    "def coeff_determination(y_true, y_pred):\n",
    "    SS_res =  K.sum(K.square( y_true-y_pred )) \n",
    "    SS_tot = K.sum(K.square( y_true - K.mean(y_true) ) ) \n",
    "    return ( 1 - SS_res/(SS_tot + K.epsilon()) )"
   ]
  },
  {
   "cell_type": "code",
   "execution_count": 10,
   "id": "5baa529e",
   "metadata": {},
   "outputs": [
    {
     "data": {
      "text/plain": [
       "(1627533, 1, 6)"
      ]
     },
     "execution_count": 10,
     "metadata": {},
     "output_type": "execute_result"
    }
   ],
   "source": [
    "Y1.shape"
   ]
  },
  {
   "cell_type": "markdown",
   "id": "b1edf627",
   "metadata": {},
   "source": [
    "# Model"
   ]
  },
  {
   "cell_type": "code",
   "execution_count": 11,
   "id": "d05d8053",
   "metadata": {},
   "outputs": [
    {
     "name": "stdout",
     "output_type": "stream",
     "text": [
      "WARNING:tensorflow:Layer gru will not use cuDNN kernels since it doesn't meet the criteria. It will use a generic GPU kernel as fallback when running on GPU.\n",
      "Model: \"sequential\"\n",
      "_________________________________________________________________\n",
      " Layer (type)                Output Shape              Param #   \n",
      "=================================================================\n",
      " gru (GRU)                   (None, 6)                 216       \n",
      "                                                                 \n",
      " dropout (Dropout)           (None, 6)                 0         \n",
      "                                                                 \n",
      " dense (Dense)               (None, 6)                 42        \n",
      "                                                                 \n",
      " batch_normalization (BatchN  (None, 6)                24        \n",
      " ormalization)                                                   \n",
      "                                                                 \n",
      " re_lu (ReLU)                (None, 6)                 0         \n",
      "                                                                 \n",
      "=================================================================\n",
      "Total params: 282\n",
      "Trainable params: 270\n",
      "Non-trainable params: 12\n",
      "_________________________________________________________________\n"
     ]
    }
   ],
   "source": [
    "model1 = Sequential()\n",
    "model1.add(keras.Input(shape=(1,4)))\n",
    "model1.add(tf.keras.layers.GRU(6,activation=\"relu\",use_bias=True,kernel_initializer=\"glorot_uniform\",bias_initializer=\"zeros\", \n",
    "                                kernel_regularizer=keras.regularizers.l1_l2(l1=1e-5, l2=1e-4),\n",
    "                                bias_regularizer=keras.regularizers.l2(1e-4),\n",
    "                                activity_regularizer=keras.regularizers.l2(1e-5)))\n",
    "model1.add(keras.layers.Dropout(.1))\n",
    "model1.add(Dense(6))\n",
    "model1.add(keras.layers.BatchNormalization(axis=-1,momentum=0.99,epsilon=0.001,center=True,scale=True,\n",
    "                                beta_initializer=\"zeros\",gamma_initializer=\"ones\",\n",
    "                                moving_mean_initializer=\"zeros\",moving_variance_initializer=\"ones\",trainable=True))\n",
    "model1.add(keras.layers.ReLU())\n",
    "model1.compile(optimizer=keras.optimizers.Adam(learning_rate=1e-5),loss='mse',metrics=['accuracy','mse','mae',rmse])\n",
    "model1.summary()"
   ]
  },
  {
   "cell_type": "code",
   "execution_count": null,
   "id": "fb37916d",
   "metadata": {},
   "outputs": [
    {
     "name": "stdout",
     "output_type": "stream",
     "text": [
      "Epoch 1/50\n",
      "4292/4292 [==============================] - 62s 14ms/step - loss: 0.2958 - accuracy: 0.2960 - mse: 0.2950 - mae: 0.3770 - rmse: 0.4700 - val_loss: 0.1697 - val_accuracy: 0.3312 - val_mse: 0.1690 - val_mae: 0.3015 - val_rmse: 0.3822\n",
      "Epoch 2/50\n",
      "1338/4292 [========>.....................] - ETA: 38s - loss: 0.2092 - accuracy: 0.2895 - mse: 0.2084 - mae: 0.3324 - rmse: 0.4155"
     ]
    }
   ],
   "source": [
    "from sklearn.model_selection import train_test_split\n",
    "x_train, x_test, y_train, y_test = train_test_split(X1, Y1, test_size=0.25, random_state=42)\n",
    "\n",
    "model_fit8 = model1.fit(x_train,y_train,batch_size=256,epochs=50, validation_split=0.1)"
   ]
  },
  {
   "cell_type": "code",
   "execution_count": null,
   "id": "42af45ce",
   "metadata": {},
   "outputs": [],
   "source": [
    "model1.evaluate(x_test,y_test)"
   ]
  },
  {
   "cell_type": "code",
   "execution_count": null,
   "id": "5d9d0a93",
   "metadata": {},
   "outputs": [],
   "source": [
    "model1.evaluate(x_train,y_train)"
   ]
  },
  {
   "cell_type": "code",
   "execution_count": null,
   "id": "930a339d",
   "metadata": {},
   "outputs": [],
   "source": [
    "df1=pd.DataFrame(model_fit8.history['loss'],columns=[\"Loss\"])\n",
    "df1=df1.join(pd.DataFrame(model_fit8.history[\"val_loss\"],columns=[\"Val Loss\"]))\n",
    "df1=df1.join(pd.DataFrame(model_fit8.history[\"accuracy\"],columns=['Accuracy']))\n",
    "df1=df1.join(pd.DataFrame(model_fit8.history[\"val_accuracy\"],columns=['Val Accuracy']))\n",
    "df1=df1.join(pd.DataFrame(model_fit8.history[\"mse\"],columns=['MSE']))\n",
    "df1=df1.join(pd.DataFrame(model_fit8.history[\"val_mse\"],columns=['Val MSE']))\n",
    "df1=df1.join(pd.DataFrame(model_fit8.history[\"mae\"],columns=['MAE']))\n",
    "df1=df1.join(pd.DataFrame(model_fit8.history[\"val_mae\"],columns=['Val MAE']))\n",
    "df1=df1.join(pd.DataFrame(model_fit8.history[\"rmse\"],columns=['RMSE']))\n",
    "df1=df1.join(pd.DataFrame(model_fit8.history[\"val_mse\"],columns=['Val RMSE']))\n",
    "df1"
   ]
  },
  {
   "cell_type": "code",
   "execution_count": null,
   "id": "4fb4da44",
   "metadata": {},
   "outputs": [],
   "source": []
  },
  {
   "cell_type": "markdown",
   "id": "05c03bc9",
   "metadata": {},
   "source": [
    "# Saving Model as File"
   ]
  },
  {
   "cell_type": "code",
   "execution_count": 23,
   "id": "feb6fe5c",
   "metadata": {},
   "outputs": [
    {
     "name": "stdout",
     "output_type": "stream",
     "text": [
      "Saved model to disk\n"
     ]
    }
   ],
   "source": [
    "model_json = model1.to_json()\n",
    "with open(\"grupj.json\", \"w\") as json_file:\n",
    "    json_file.write(model_json)\n",
    "# serialize weights to HDF5\n",
    "model1.save_weights(\"grupj.h5\")\n",
    "print(\"Saved model to disk\")"
   ]
  },
  {
   "cell_type": "code",
   "execution_count": 24,
   "id": "85c18be3",
   "metadata": {},
   "outputs": [
    {
     "name": "stdout",
     "output_type": "stream",
     "text": [
      "Loaded model from disk\n"
     ]
    }
   ],
   "source": [
    "from sklearn.model_selection import train_test_split\n",
    "x_train, x_test, y_train, y_test = train_test_split(X1, Y1, test_size=0.25, random_state=42)\n",
    "\n",
    "from keras.models import model_from_json\n",
    "json_file = open('Model_File/grupj.json', 'r')\n",
    "loaded_model_json = json_file.read()\n",
    "json_file.close()\n",
    "loaded_model = model_from_json(loaded_model_json)\n",
    "# load weights into new model\n",
    "loaded_model.load_weights(\"Model_File/grupj.h5\")\n",
    "print(\"Loaded model from disk\")\n",
    "loaded_model.compile(optimizer=keras.optimizers.Adam(learning_rate=1e-5),loss='mse',metrics=['accuracy','mse','mae',rmse])"
   ]
  },
  {
   "cell_type": "code",
   "execution_count": 25,
   "id": "48695d38",
   "metadata": {},
   "outputs": [
    {
     "name": "stdout",
     "output_type": "stream",
     "text": [
      "38146/38146 [==============================] - 66s 2ms/step - loss: 0.0010 - accuracy: 0.9970 - mse: 0.0010 - mae: 0.0223 - rmse: 0.0290\n"
     ]
    },
    {
     "data": {
      "text/plain": [
       "[0.0010464127408340573,\n",
       " 0.9969671964645386,\n",
       " 0.0010464090155437589,\n",
       " 0.02230764739215374,\n",
       " 0.029004961252212524]"
      ]
     },
     "execution_count": 25,
     "metadata": {},
     "output_type": "execute_result"
    }
   ],
   "source": [
    "loaded_model.evaluate(x_train, y_train)"
   ]
  },
  {
   "cell_type": "code",
   "execution_count": 26,
   "id": "52e60bae",
   "metadata": {},
   "outputs": [
    {
     "name": "stdout",
     "output_type": "stream",
     "text": [
      "12716/12716 [==============================] - 22s 2ms/step - loss: 0.0010 - accuracy: 0.9970 - mse: 0.0010 - mae: 0.0223 - rmse: 0.0290\n"
     ]
    },
    {
     "data": {
      "text/plain": [
       "[0.0010424680076539516,\n",
       " 0.9970064759254456,\n",
       " 0.0010424698702991009,\n",
       " 0.022266222164034843,\n",
       " 0.028956182301044464]"
      ]
     },
     "execution_count": 26,
     "metadata": {},
     "output_type": "execute_result"
    }
   ],
   "source": [
    "loaded_model.evaluate(x_test,y_test)"
   ]
  },
  {
   "cell_type": "markdown",
   "id": "eb75d6b3",
   "metadata": {},
   "source": [
    "# Error Analysis"
   ]
  },
  {
   "cell_type": "code",
   "execution_count": 27,
   "id": "ff6190cf",
   "metadata": {},
   "outputs": [
    {
     "data": {
      "image/png": "[encoded data removed]",
      "text/plain": [
       "<Figure size 432x288 with 1 Axes>"
      ]
     },
     "metadata": {
      "needs_background": "light"
     },
     "output_type": "display_data"
    },
    {
     "data": {
      "image/png": "[encoded data removed]",
      "text/plain": [
       "<Figure size 432x288 with 1 Axes>"
      ]
     },
     "metadata": {
      "needs_background": "light"
     },
     "output_type": "display_data"
    }
   ],
   "source": [
    "# summarize history for loss\n",
    "plt.plot(model_fit8.history['loss'])\n",
    "plt.plot(model_fit8.history['val_loss'])\n",
    "plt.title('Model Loss',fontweight ='bold',fontsize = 15)\n",
    "plt.ylabel('Loss',fontweight ='bold',fontsize = 15)\n",
    "plt.xlabel('Epoch',fontweight ='bold',fontsize = 15)\n",
    "plt.legend(['Train', 'Test'], loc='upper left')\n",
    "plt.show()\n",
    "\n",
    "# summarize history for accuracy\n",
    "plt.plot(model_fit8.history['accuracy'])\n",
    "plt.plot(model_fit8.history['val_accuracy'])\n",
    "plt.title('Model accuracy',fontweight ='bold',fontsize = 15)\n",
    "plt.ylabel('Accuracy',fontweight ='bold',fontsize = 15)\n",
    "plt.xlabel('Epoch',fontweight ='bold',fontsize = 15)\n",
    "plt.legend(['Train', 'Test'], loc='upper left')\n",
    "plt.show()"
   ]
  },
  {
   "cell_type": "code",
   "execution_count": 28,
   "id": "265bcbd2",
   "metadata": {},
   "outputs": [
    {
     "data": {
      "text/plain": [
       "array([[0.4334275, 0.5546785, 0.       , 0.       , 0.0479142, 0.       ],\n",
       "       [0.4334275, 0.5546785, 0.       , 0.       , 0.0479142, 0.       ],\n",
       "       [0.4334275, 0.5546785, 0.       , 0.       , 0.0479142, 0.       ],\n",
       "       ...,\n",
       "       [0.4334275, 0.5546785, 0.       , 0.       , 0.0479142, 0.       ],\n",
       "       [0.4334275, 0.5546785, 0.       , 0.       , 0.0479142, 0.       ],\n",
       "       [0.4334275, 0.5546785, 0.       , 0.       , 0.0479142, 0.       ]],\n",
       "      dtype=float32)"
      ]
     },
     "execution_count": 28,
     "metadata": {},
     "output_type": "execute_result"
    }
   ],
   "source": [
    "from sklearn.model_selection import train_test_split\n",
    "x_train, x_test, y_train, y_test = train_test_split(X1, Y1, test_size=0.25, random_state=42)\n",
    "\n",
    "y_test_pred=loaded_model.predict(x_test)\n",
    "y_test_pred"
   ]
  },
  {
   "cell_type": "code",
   "execution_count": 29,
   "id": "b0690bb0",
   "metadata": {},
   "outputs": [
    {
     "data": {
      "text/plain": [
       "array([[[0.49655172, 0.61261671, 0.04625328, 0.00839927, 0.07680226,\n",
       "         0.00349832]],\n",
       "\n",
       "       [[0.40689655, 0.56779311, 0.02503314, 0.00862807, 0.03923826,\n",
       "         0.00169898]],\n",
       "\n",
       "       [[0.48275862, 0.61261671, 0.05669757, 0.01000087, 0.12197674,\n",
       "         0.0061505 ]],\n",
       "\n",
       "       ...,\n",
       "\n",
       "       [[0.4       , 0.53897794, 0.02967504, 0.01022967, 0.04172884,\n",
       "         0.01677347]],\n",
       "\n",
       "       [[0.4137931 , 0.56779311, 0.03514586, 0.01114488, 0.06885241,\n",
       "         0.003031  ]],\n",
       "\n",
       "       [[0.48275862, 0.57739817, 0.06051056, 0.00908567, 0.10450044,\n",
       "         0.00542992]]])"
      ]
     },
     "execution_count": 29,
     "metadata": {},
     "output_type": "execute_result"
    }
   ],
   "source": [
    "y_test"
   ]
  },
  {
   "cell_type": "code",
   "execution_count": 30,
   "id": "9768432e",
   "metadata": {},
   "outputs": [],
   "source": [
    "y_test=y_test[:,0]"
   ]
  },
  {
   "cell_type": "code",
   "execution_count": 31,
   "id": "9a7a2caf",
   "metadata": {},
   "outputs": [],
   "source": [
    "from numpy import savetxt\n",
    "savetxt('ARRAY_DATA/gru_y_test_pred.csv', y_test_pred[:1001], delimiter=',')"
   ]
  },
  {
   "cell_type": "code",
   "execution_count": 32,
   "id": "bee4d848",
   "metadata": {},
   "outputs": [],
   "source": [
    "from numpy import savetxt\n",
    "savetxt('ARRAY_DATA/gru_y_test.csv', y_test[:1001], delimiter=',')"
   ]
  },
  {
   "cell_type": "code",
   "execution_count": null,
   "id": "c8ab74e5",
   "metadata": {},
   "outputs": [],
   "source": [
    "#completed"
   ]
  }
 ],
 "metadata": {
  "kernelspec": {
   "display_name": "Python 3 (ipykernel)",
   "language": "python",
   "name": "python3"
  },
  "language_info": {
   "codemirror_mode": {
    "name": "ipython",
    "version": 3
   },
   "file_extension": ".py",
   "mimetype": "text/x-python",
   "name": "python",
   "nbconvert_exporter": "python",
   "pygments_lexer": "ipython3",
   "version": "3.9.5"
  }
 },
 "nbformat": 4,
 "nbformat_minor": 5
}
