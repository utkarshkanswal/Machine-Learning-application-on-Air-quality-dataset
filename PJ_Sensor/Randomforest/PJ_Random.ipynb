{
 "cells": [
  {
   "cell_type": "code",
   "execution_count": 1,
   "id": "fa8ab11c",
   "metadata": {},
   "outputs": [],
   "source": [
    "import numpy as np\n",
    "import pandas as pd\n",
    "from matplotlib import pyplot as plt\n",
    "import os.path as op\n",
    "import pickle\n",
    "\n",
    "import tensorflow as tf\n",
    "from tensorflow import keras\n",
    "from keras.models import Model,Sequential,load_model\n",
    "from keras.layers import Input, Embedding\n",
    "from keras.layers import Dense, Bidirectional\n",
    "from keras.layers.recurrent import LSTM\n",
    "import keras.metrics as metrics\n",
    "import itertools\n",
    "from tensorflow.python.keras.utils.data_utils import Sequence\n",
    "from decimal import Decimal\n",
    "from keras import backend as K\n",
    "from keras.layers import Conv1D,MaxPooling1D,Flatten,Dense"
   ]
  },
  {
   "cell_type": "code",
   "execution_count": 2,
   "id": "54e8339c",
   "metadata": {},
   "outputs": [],
   "source": [
    "inp=pd.read_csv(\"../PJ sensor.csv\",usecols=[6,7,10,11])\n",
    "out=pd.read_csv(\"../PJ sensor.csv\",usecols=[2,3,4,5,8,9])"
   ]
  },
  {
   "cell_type": "code",
   "execution_count": 4,
   "id": "204fd93f",
   "metadata": {},
   "outputs": [
    {
     "data": {
      "text/html": [
       "<div>\n",
       "<style scoped>\n",
       "    .dataframe tbody tr th:only-of-type {\n",
       "        vertical-align: middle;\n",
       "    }\n",
       "\n",
       "    .dataframe tbody tr th {\n",
       "        vertical-align: top;\n",
       "    }\n",
       "\n",
       "    .dataframe thead th {\n",
       "        text-align: right;\n",
       "    }\n",
       "</style>\n",
       "<table border=\"1\" class=\"dataframe\">\n",
       "  <thead>\n",
       "    <tr style=\"text-align: right;\">\n",
       "      <th></th>\n",
       "      <th>Temperature</th>\n",
       "      <th>Relative Humidity</th>\n",
       "      <th>date</th>\n",
       "      <th>Time</th>\n",
       "    </tr>\n",
       "  </thead>\n",
       "  <tbody>\n",
       "    <tr>\n",
       "      <th>0</th>\n",
       "      <td>31</td>\n",
       "      <td>65</td>\n",
       "      <td>191213</td>\n",
       "      <td>175844</td>\n",
       "    </tr>\n",
       "    <tr>\n",
       "      <th>1</th>\n",
       "      <td>31</td>\n",
       "      <td>65</td>\n",
       "      <td>191213</td>\n",
       "      <td>175904</td>\n",
       "    </tr>\n",
       "    <tr>\n",
       "      <th>2</th>\n",
       "      <td>31</td>\n",
       "      <td>65</td>\n",
       "      <td>191213</td>\n",
       "      <td>175924</td>\n",
       "    </tr>\n",
       "    <tr>\n",
       "      <th>3</th>\n",
       "      <td>31</td>\n",
       "      <td>65</td>\n",
       "      <td>191213</td>\n",
       "      <td>175944</td>\n",
       "    </tr>\n",
       "    <tr>\n",
       "      <th>4</th>\n",
       "      <td>31</td>\n",
       "      <td>66</td>\n",
       "      <td>191213</td>\n",
       "      <td>180004</td>\n",
       "    </tr>\n",
       "  </tbody>\n",
       "</table>\n",
       "</div>"
      ],
      "text/plain": [
       "   Temperature  Relative Humidity    date    Time\n",
       "0           31                 65  191213  175844\n",
       "1           31                 65  191213  175904\n",
       "2           31                 65  191213  175924\n",
       "3           31                 65  191213  175944\n",
       "4           31                 66  191213  180004"
      ]
     },
     "execution_count": 4,
     "metadata": {},
     "output_type": "execute_result"
    }
   ],
   "source": [
    "inp.head(5)"
   ]
  },
  {
   "cell_type": "code",
   "execution_count": 5,
   "id": "b230be14",
   "metadata": {},
   "outputs": [
    {
     "data": {
      "text/html": [
       "<div>\n",
       "<style scoped>\n",
       "    .dataframe tbody tr th:only-of-type {\n",
       "        vertical-align: middle;\n",
       "    }\n",
       "\n",
       "    .dataframe tbody tr th {\n",
       "        vertical-align: top;\n",
       "    }\n",
       "\n",
       "    .dataframe thead th {\n",
       "        text-align: right;\n",
       "    }\n",
       "</style>\n",
       "<table border=\"1\" class=\"dataframe\">\n",
       "  <thead>\n",
       "    <tr style=\"text-align: right;\">\n",
       "      <th></th>\n",
       "      <th>NO2</th>\n",
       "      <th>O3</th>\n",
       "      <th>CO</th>\n",
       "      <th>SO2</th>\n",
       "      <th>PM2.5</th>\n",
       "      <th>PM10</th>\n",
       "    </tr>\n",
       "  </thead>\n",
       "  <tbody>\n",
       "    <tr>\n",
       "      <th>0</th>\n",
       "      <td>-15.075377</td>\n",
       "      <td>35.714286</td>\n",
       "      <td>1766.233766</td>\n",
       "      <td>148.484848</td>\n",
       "      <td>11.229150</td>\n",
       "      <td>17.323938</td>\n",
       "    </tr>\n",
       "    <tr>\n",
       "      <th>1</th>\n",
       "      <td>-20.100503</td>\n",
       "      <td>41.208791</td>\n",
       "      <td>1733.766234</td>\n",
       "      <td>142.424242</td>\n",
       "      <td>9.413914</td>\n",
       "      <td>24.967407</td>\n",
       "    </tr>\n",
       "    <tr>\n",
       "      <th>2</th>\n",
       "      <td>-15.075377</td>\n",
       "      <td>43.956044</td>\n",
       "      <td>1711.038961</td>\n",
       "      <td>136.363636</td>\n",
       "      <td>10.350110</td>\n",
       "      <td>56.781536</td>\n",
       "    </tr>\n",
       "    <tr>\n",
       "      <th>3</th>\n",
       "      <td>0.000000</td>\n",
       "      <td>57.692308</td>\n",
       "      <td>1688.311688</td>\n",
       "      <td>139.393939</td>\n",
       "      <td>10.488765</td>\n",
       "      <td>30.371115</td>\n",
       "    </tr>\n",
       "    <tr>\n",
       "      <th>4</th>\n",
       "      <td>-20.100503</td>\n",
       "      <td>54.945055</td>\n",
       "      <td>1681.818182</td>\n",
       "      <td>130.303030</td>\n",
       "      <td>12.353048</td>\n",
       "      <td>188.026886</td>\n",
       "    </tr>\n",
       "  </tbody>\n",
       "</table>\n",
       "</div>"
      ],
      "text/plain": [
       "         NO2         O3           CO         SO2      PM2.5        PM10\n",
       "0 -15.075377  35.714286  1766.233766  148.484848  11.229150   17.323938\n",
       "1 -20.100503  41.208791  1733.766234  142.424242   9.413914   24.967407\n",
       "2 -15.075377  43.956044  1711.038961  136.363636  10.350110   56.781536\n",
       "3   0.000000  57.692308  1688.311688  139.393939  10.488765   30.371115\n",
       "4 -20.100503  54.945055  1681.818182  130.303030  12.353048  188.026886"
      ]
     },
     "execution_count": 5,
     "metadata": {},
     "output_type": "execute_result"
    }
   ],
   "source": [
    "out.head(5)"
   ]
  },
  {
   "cell_type": "code",
   "execution_count": 3,
   "id": "0fca6ff3",
   "metadata": {},
   "outputs": [],
   "source": [
    "inp=np.array(inp)\n",
    "out=np.array(out)"
   ]
  },
  {
   "cell_type": "code",
   "execution_count": 4,
   "id": "5b7e6b4a",
   "metadata": {},
   "outputs": [],
   "source": [
    "from sklearn.preprocessing import MinMaxScaler\n",
    "import warnings\n",
    "scaler_obj=MinMaxScaler()\n",
    "X1=scaler_obj.fit_transform(inp)\n",
    "Y1=scaler_obj.fit_transform(out)\n",
    "\n",
    "warnings.filterwarnings(action='ignore', category=UserWarning)"
   ]
  },
  {
   "cell_type": "code",
   "execution_count": 7,
   "id": "ce9fc304",
   "metadata": {},
   "outputs": [
    {
     "name": "stdout",
     "output_type": "stream",
     "text": [
      "Model training is Done!!\n"
     ]
    }
   ],
   "source": [
    "# Splitting Data into training and testing dataset\n",
    "from sklearn.model_selection import train_test_split\n",
    "x_train,x_test,y_train,y_test=train_test_split(X1,Y1,test_size=0.25,random_state=42)\n",
    "\n",
    "from sklearn.multioutput import MultiOutputRegressor\n",
    "from sklearn.ensemble import RandomForestRegressor\n",
    "\n",
    "#creating object of sgboostregressor\n",
    "model1=MultiOutputRegressor(RandomForestRegressor(max_depth=10,n_estimators=100, random_state=0))\n",
    "\n",
    "model_fit1=model1.fit(x_train, y_train)\n",
    "\n",
    "\n",
    "print(\"Model training is Done!!\")\n",
    "\n",
    "filename1 = 'random.sav'\n",
    "pickle.dump(model_fit1, open(filename1, 'wb'))"
   ]
  },
  {
   "cell_type": "code",
   "execution_count": 8,
   "id": "ccd289c9",
   "metadata": {},
   "outputs": [
    {
     "name": "stdout",
     "output_type": "stream",
     "text": [
      "r2 score on train data 0.6406985506761919\n",
      "r2 score on test data 0.6329507787480243\n",
      "Mean Absolute Error: 0.009558281283174914\n",
      "Mean Squared Error: 0.00029808595786701435\n",
      "Root Mean Squared Error: 0.017265166024889953\n",
      " \n",
      "\n"
     ]
    }
   ],
   "source": [
    "from sklearn.metrics import r2_score\n",
    "from sklearn import metrics\n",
    "train_sizes=['NO2','O3','NO','CO','PM1','PM2.5','PM10']\n",
    "\n",
    "#finding out the r2 score\n",
    "y_train_pred1=model1.predict(x_train)\n",
    "r2_train1=r2_score(y_train,y_train_pred1,multioutput='variance_weighted')\n",
    "\n",
    "y_test_pred1=model1.predict(x_test)\n",
    "r2_test1=r2_score(y_test,y_test_pred1,multioutput='variance_weighted')\n",
    "\n",
    "print('r2 score on train data '+str(r2_train1))\n",
    "print('r2 score on test data '+ str(r2_test1))\n",
    "\n",
    "xgboost_mae=metrics.mean_absolute_error(y_test, y_test_pred1)\n",
    "xgboost_mse=metrics.mean_squared_error(y_test, y_test_pred1)\n",
    "xgboost_rmse=np.sqrt(xgboost_mse)\n",
    "print('Mean Absolute Error:',xgboost_mae)\n",
    "print('Mean Squared Error:',xgboost_mse )\n",
    "print('Root Mean Squared Error:',xgboost_rmse)\n",
    "print(' \\n')\n"
   ]
  },
  {
   "cell_type": "code",
   "execution_count": 5,
   "id": "85c3072c",
   "metadata": {},
   "outputs": [
    {
     "name": "stdout",
     "output_type": "stream",
     "text": [
      "Predicted :\n",
      " [[0.47446701 0.59809331 0.04642474 0.00860868 0.06751412 0.00456361]\n",
      " [0.4079212  0.55555687 0.03019471 0.00751099 0.04082953 0.00398102]\n",
      " [0.48788127 0.59818488 0.05305332 0.00954183 0.11863581 0.0063403 ]\n",
      " ...\n",
      " [0.41762684 0.56264799 0.0301981  0.00983107 0.06200965 0.00533818]\n",
      " [0.39566302 0.55127623 0.03061972 0.01038668 0.0661479  0.00511552]\n",
      " [0.4674526  0.55501368 0.04413879 0.00825391 0.05801073 0.00472562]]\n",
      "\n",
      "\n",
      "R2 Score :  0.6329507787480243\n"
     ]
    }
   ],
   "source": [
    "import pickle\n",
    "from sklearn.metrics import r2_score\n",
    "from sklearn import metrics\n",
    "from sklearn.model_selection import train_test_split\n",
    "x_train,x_test,y_train,y_test=train_test_split(X1,Y1,test_size=0.25,random_state=42)\n",
    "loaded_model_fit7 = pickle.load(open(\"random.sav\", 'rb'))\n",
    "y_test_pred=loaded_model_fit7.predict(x_test)\n",
    "print(\"Predicted :\\n\",y_test_pred)\n",
    "print(\"\\n\")\n",
    "r2_test=r2_score(y_test,y_test_pred,multioutput='variance_weighted')\n",
    "print(\"R2 Score : \",r2_test)"
   ]
  },
  {
   "cell_type": "code",
   "execution_count": 6,
   "id": "c095d734",
   "metadata": {},
   "outputs": [
    {
     "name": "stdout",
     "output_type": "stream",
     "text": [
      "R2 Score of NO2: 0.7105192952762133\n",
      "R2 Score of O3: 0.4903772580751794\n",
      "R2 Score of NO: 0.611726541293893\n",
      "R2 Score of CO: 0.7508022653342522\n",
      "R2 Score of PM2.5: 0.6709906432263035\n",
      "R2 Score of PM10: 0.2534653978921255\n"
     ]
    }
   ],
   "source": [
    "train_sizes=['NO2','O3','NO','CO','PM2.5','PM10']\n",
    "for i in range(0,6):\n",
    "    temp=r2_score(y_test[:,i],y_test_pred[:,i])\n",
    "    print(\"R2 Score of \"+train_sizes[i]+\":\",temp)"
   ]
  },
  {
   "cell_type": "code",
   "execution_count": 7,
   "id": "06fcdbf1",
   "metadata": {},
   "outputs": [
    {
     "name": "stdout",
     "output_type": "stream",
     "text": [
      "MSE Value of NO2: 0.0005542341514946809\n",
      "MSE Value of O3: 0.0006817994662347451\n",
      "MSE Value of NO: 7.449939582899556e-05\n",
      "MSE Value of CO: 7.554462934596531e-07\n",
      "MSE Value of PM2.5: 0.0004624333836156638\n",
      "MSE Value of PM10: 1.4793903734520713e-05\n"
     ]
    }
   ],
   "source": [
    "train_sizes=['NO2','O3','NO','CO','PM2.5','PM10']\n",
    "for i in range(0,6):\n",
    "    temp=metrics.mean_squared_error(y_test[:,i],y_test_pred[:,i])\n",
    "    print(\"MSE Value of \"+train_sizes[i]+\":\",temp)"
   ]
  },
  {
   "cell_type": "code",
   "execution_count": 8,
   "id": "0c25a504",
   "metadata": {},
   "outputs": [
    {
     "name": "stdout",
     "output_type": "stream",
     "text": [
      "RMSE Value of NO2: 0.023542178138283656\n",
      "RMSE Value of O3: 0.026111290014756934\n",
      "RMSE Value of NO: 0.008631303252058495\n",
      "RMSE Value of CO: 0.0008691641349363497\n",
      "RMSE Value of PM2.5: 0.021504264312355907\n",
      "RMSE Value of PM10: 0.0038462844063486402\n"
     ]
    }
   ],
   "source": [
    "train_sizes=['NO2','O3','NO','CO','PM2.5','PM10']\n",
    "for i in range(0,6):\n",
    "    temp=np.sqrt(metrics.mean_squared_error(y_test[:,i],y_test_pred[:,i]))\n",
    "    print(\"RMSE Value of \"+train_sizes[i]+\":\",temp)"
   ]
  },
  {
   "cell_type": "code",
   "execution_count": 9,
   "id": "d9f80b80",
   "metadata": {},
   "outputs": [
    {
     "name": "stdout",
     "output_type": "stream",
     "text": [
      "MAE Value of NO2: 0.0170942904157586\n",
      "MAE Value of O3: 0.017157796175211328\n",
      "MAE Value of NO: 0.005502722016153936\n",
      "MAE Value of CO: 0.0005737368563099131\n",
      "MAE Value of PM2.5: 0.01481065960192509\n",
      "MAE Value of PM10: 0.0022104826336923414\n"
     ]
    }
   ],
   "source": [
    "train_sizes=['NO2','O3','NO','CO','PM2.5','PM10']\n",
    "for i in range(0,6):\n",
    "    temp=metrics.mean_absolute_error(y_test[:,i],y_test_pred[:,i])\n",
    "    print(\"MAE Value of \"+train_sizes[i]+\":\",temp)"
   ]
  },
  {
   "cell_type": "code",
   "execution_count": null,
   "id": "b8336754",
   "metadata": {},
   "outputs": [],
   "source": [
    "#completed"
   ]
  }
 ],
 "metadata": {
  "kernelspec": {
   "display_name": "Python 3 (ipykernel)",
   "language": "python",
   "name": "python3"
  },
  "language_info": {
   "codemirror_mode": {
    "name": "ipython",
    "version": 3
   },
   "file_extension": ".py",
   "mimetype": "text/x-python",
   "name": "python",
   "nbconvert_exporter": "python",
   "pygments_lexer": "ipython3",
   "version": "3.9.5"
  }
 },
 "nbformat": 4,
 "nbformat_minor": 5
}
