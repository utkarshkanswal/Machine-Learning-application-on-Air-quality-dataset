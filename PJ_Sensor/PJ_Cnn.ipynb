{
 "cells": [
  {
   "cell_type": "code",
   "execution_count": 2,
   "id": "877c2677",
   "metadata": {},
   "outputs": [
    {
     "data": {
      "text/plain": [
       "[PhysicalDevice(name='/physical_device:CPU:0', device_type='CPU'),\n",
       " PhysicalDevice(name='/physical_device:GPU:0', device_type='GPU')]"
      ]
     },
     "execution_count": 2,
     "metadata": {},
     "output_type": "execute_result"
    }
   ],
   "source": [
    "import tensorflow as tf\n",
    "tf.config.experimental.list_physical_devices()"
   ]
  },
  {
   "cell_type": "code",
   "execution_count": 3,
   "id": "1c059e76",
   "metadata": {},
   "outputs": [
    {
     "data": {
      "text/plain": [
       "True"
      ]
     },
     "execution_count": 3,
     "metadata": {},
     "output_type": "execute_result"
    }
   ],
   "source": [
    "tf.test.is_built_with_cuda()"
   ]
  },
  {
   "cell_type": "markdown",
   "id": "96739d01",
   "metadata": {},
   "source": [
    "# Importing Libraries"
   ]
  },
  {
   "cell_type": "code",
   "execution_count": 19,
   "id": "a0397420",
   "metadata": {},
   "outputs": [],
   "source": [
    "import numpy as np\n",
    "import pandas as pd\n",
    "from matplotlib import pyplot as plt\n",
    "import os.path as op\n",
    "import pickle"
   ]
  },
  {
   "cell_type": "code",
   "execution_count": 20,
   "id": "e8cc09ab",
   "metadata": {},
   "outputs": [],
   "source": [
    "import tensorflow as tf\n",
    "from tensorflow import keras\n",
    "from keras.models import Model,Sequential,load_model\n",
    "from keras.layers import Input, Embedding\n",
    "from keras.layers import Dense, Bidirectional\n",
    "from keras.layers.recurrent import LSTM\n",
    "import keras.metrics as metrics\n",
    "import itertools\n",
    "from tensorflow.python.keras.utils.data_utils import Sequence\n",
    "from decimal import Decimal\n",
    "from keras import backend as K\n",
    "from keras.layers import Conv1D,MaxPooling1D,Flatten,Dense"
   ]
  },
  {
   "cell_type": "markdown",
   "id": "b7f9474e",
   "metadata": {},
   "source": [
    "# Data Fetching"
   ]
  },
  {
   "cell_type": "code",
   "execution_count": 36,
   "id": "cc06c8d1",
   "metadata": {},
   "outputs": [],
   "source": [
    "inp=pd.read_csv(\"PJ sensor.csv\",usecols=[6,7,10,11])\n",
    "out=pd.read_csv(\"PJ sensor.csv\",usecols=[2,3,4,5,8,9])"
   ]
  },
  {
   "cell_type": "code",
   "execution_count": 37,
   "id": "010d86fc",
   "metadata": {},
   "outputs": [
    {
     "data": {
      "text/html": [
       "<div>\n",
       "<style scoped>\n",
       "    .dataframe tbody tr th:only-of-type {\n",
       "        vertical-align: middle;\n",
       "    }\n",
       "\n",
       "    .dataframe tbody tr th {\n",
       "        vertical-align: top;\n",
       "    }\n",
       "\n",
       "    .dataframe thead th {\n",
       "        text-align: right;\n",
       "    }\n",
       "</style>\n",
       "<table border=\"1\" class=\"dataframe\">\n",
       "  <thead>\n",
       "    <tr style=\"text-align: right;\">\n",
       "      <th></th>\n",
       "      <th>Temperature</th>\n",
       "      <th>Relative Humidity</th>\n",
       "      <th>date</th>\n",
       "      <th>Time</th>\n",
       "    </tr>\n",
       "  </thead>\n",
       "  <tbody>\n",
       "    <tr>\n",
       "      <th>0</th>\n",
       "      <td>31</td>\n",
       "      <td>65</td>\n",
       "      <td>191213</td>\n",
       "      <td>175844</td>\n",
       "    </tr>\n",
       "    <tr>\n",
       "      <th>1</th>\n",
       "      <td>31</td>\n",
       "      <td>65</td>\n",
       "      <td>191213</td>\n",
       "      <td>175904</td>\n",
       "    </tr>\n",
       "    <tr>\n",
       "      <th>2</th>\n",
       "      <td>31</td>\n",
       "      <td>65</td>\n",
       "      <td>191213</td>\n",
       "      <td>175924</td>\n",
       "    </tr>\n",
       "    <tr>\n",
       "      <th>3</th>\n",
       "      <td>31</td>\n",
       "      <td>65</td>\n",
       "      <td>191213</td>\n",
       "      <td>175944</td>\n",
       "    </tr>\n",
       "    <tr>\n",
       "      <th>4</th>\n",
       "      <td>31</td>\n",
       "      <td>66</td>\n",
       "      <td>191213</td>\n",
       "      <td>180004</td>\n",
       "    </tr>\n",
       "  </tbody>\n",
       "</table>\n",
       "</div>"
      ],
      "text/plain": [
       "   Temperature  Relative Humidity    date    Time\n",
       "0           31                 65  191213  175844\n",
       "1           31                 65  191213  175904\n",
       "2           31                 65  191213  175924\n",
       "3           31                 65  191213  175944\n",
       "4           31                 66  191213  180004"
      ]
     },
     "execution_count": 37,
     "metadata": {},
     "output_type": "execute_result"
    }
   ],
   "source": [
    "inp.head(5)"
   ]
  },
  {
   "cell_type": "code",
   "execution_count": 38,
   "id": "b391fbf9",
   "metadata": {},
   "outputs": [
    {
     "data": {
      "text/html": [
       "<div>\n",
       "<style scoped>\n",
       "    .dataframe tbody tr th:only-of-type {\n",
       "        vertical-align: middle;\n",
       "    }\n",
       "\n",
       "    .dataframe tbody tr th {\n",
       "        vertical-align: top;\n",
       "    }\n",
       "\n",
       "    .dataframe thead th {\n",
       "        text-align: right;\n",
       "    }\n",
       "</style>\n",
       "<table border=\"1\" class=\"dataframe\">\n",
       "  <thead>\n",
       "    <tr style=\"text-align: right;\">\n",
       "      <th></th>\n",
       "      <th>NO2</th>\n",
       "      <th>O3</th>\n",
       "      <th>CO</th>\n",
       "      <th>SO2</th>\n",
       "      <th>PM2.5</th>\n",
       "      <th>PM10</th>\n",
       "    </tr>\n",
       "  </thead>\n",
       "  <tbody>\n",
       "    <tr>\n",
       "      <th>0</th>\n",
       "      <td>-15.075377</td>\n",
       "      <td>35.714286</td>\n",
       "      <td>1766.233766</td>\n",
       "      <td>148.484848</td>\n",
       "      <td>11.229150</td>\n",
       "      <td>17.323938</td>\n",
       "    </tr>\n",
       "    <tr>\n",
       "      <th>1</th>\n",
       "      <td>-20.100503</td>\n",
       "      <td>41.208791</td>\n",
       "      <td>1733.766234</td>\n",
       "      <td>142.424242</td>\n",
       "      <td>9.413914</td>\n",
       "      <td>24.967407</td>\n",
       "    </tr>\n",
       "    <tr>\n",
       "      <th>2</th>\n",
       "      <td>-15.075377</td>\n",
       "      <td>43.956044</td>\n",
       "      <td>1711.038961</td>\n",
       "      <td>136.363636</td>\n",
       "      <td>10.350110</td>\n",
       "      <td>56.781536</td>\n",
       "    </tr>\n",
       "    <tr>\n",
       "      <th>3</th>\n",
       "      <td>0.000000</td>\n",
       "      <td>57.692308</td>\n",
       "      <td>1688.311688</td>\n",
       "      <td>139.393939</td>\n",
       "      <td>10.488765</td>\n",
       "      <td>30.371115</td>\n",
       "    </tr>\n",
       "    <tr>\n",
       "      <th>4</th>\n",
       "      <td>-20.100503</td>\n",
       "      <td>54.945055</td>\n",
       "      <td>1681.818182</td>\n",
       "      <td>130.303030</td>\n",
       "      <td>12.353048</td>\n",
       "      <td>188.026886</td>\n",
       "    </tr>\n",
       "  </tbody>\n",
       "</table>\n",
       "</div>"
      ],
      "text/plain": [
       "         NO2         O3           CO         SO2      PM2.5        PM10\n",
       "0 -15.075377  35.714286  1766.233766  148.484848  11.229150   17.323938\n",
       "1 -20.100503  41.208791  1733.766234  142.424242   9.413914   24.967407\n",
       "2 -15.075377  43.956044  1711.038961  136.363636  10.350110   56.781536\n",
       "3   0.000000  57.692308  1688.311688  139.393939  10.488765   30.371115\n",
       "4 -20.100503  54.945055  1681.818182  130.303030  12.353048  188.026886"
      ]
     },
     "execution_count": 38,
     "metadata": {},
     "output_type": "execute_result"
    }
   ],
   "source": [
    "out.head(5)"
   ]
  },
  {
   "cell_type": "code",
   "execution_count": 39,
   "id": "444880a7",
   "metadata": {},
   "outputs": [],
   "source": [
    "inp=np.array(inp)\n",
    "out=np.array(out)"
   ]
  },
  {
   "cell_type": "markdown",
   "id": "78ca5e86",
   "metadata": {},
   "source": [
    "# Min Max Scaler"
   ]
  },
  {
   "cell_type": "code",
   "execution_count": 40,
   "id": "41ae9a8a",
   "metadata": {},
   "outputs": [],
   "source": [
    "from sklearn.preprocessing import MinMaxScaler\n",
    "import warnings\n",
    "scaler_obj=MinMaxScaler()\n",
    "X1=scaler_obj.fit_transform(inp)\n",
    "Y1=scaler_obj.fit_transform(out)\n",
    "\n",
    "warnings.filterwarnings(action='ignore', category=UserWarning)\n",
    "\n",
    "X1=X1[:,np.newaxis,:]\n",
    "Y1=Y1[:,np.newaxis,:]"
   ]
  },
  {
   "cell_type": "code",
   "execution_count": 41,
   "id": "da37491b",
   "metadata": {},
   "outputs": [],
   "source": [
    "def rmse(y_true, y_pred):\n",
    "    return K.sqrt(K.mean(K.square(y_pred - y_true), axis=-1))\n",
    "\n",
    "def coeff_determination(y_true, y_pred):\n",
    "    SS_res =  K.sum(K.square( y_true-y_pred )) \n",
    "    SS_tot = K.sum(K.square( y_true - K.mean(y_true) ) ) \n",
    "    return ( 1 - SS_res/(SS_tot + K.epsilon()) )"
   ]
  },
  {
   "cell_type": "code",
   "execution_count": 42,
   "id": "5baa529e",
   "metadata": {},
   "outputs": [
    {
     "data": {
      "text/plain": [
       "(1627533, 1, 6)"
      ]
     },
     "execution_count": 42,
     "metadata": {},
     "output_type": "execute_result"
    }
   ],
   "source": [
    "Y1.shape"
   ]
  },
  {
   "cell_type": "markdown",
   "id": "b1edf627",
   "metadata": {},
   "source": [
    "# Model"
   ]
  },
  {
   "cell_type": "code",
   "execution_count": 12,
   "id": "d05d8053",
   "metadata": {},
   "outputs": [
    {
     "name": "stdout",
     "output_type": "stream",
     "text": [
      "Model: \"model_1\"\n",
      "_________________________________________________________________\n",
      "Layer (type)                 Output Shape              Param #   \n",
      "=================================================================\n",
      "input_2 (InputLayer)         [(None, 1, 4)]            0         \n",
      "_________________________________________________________________\n",
      "conv1d_2 (Conv1D)            (None, 1, 6)              30        \n",
      "_________________________________________________________________\n",
      "conv1d_3 (Conv1D)            (None, 1, 6)              150       \n",
      "=================================================================\n",
      "Total params: 180\n",
      "Trainable params: 180\n",
      "Non-trainable params: 0\n",
      "_________________________________________________________________\n"
     ]
    }
   ],
   "source": [
    "inp=keras.Input(shape=(1,4))\n",
    "\n",
    "l=keras.layers.Conv1D(6,1,padding=\"same\",activation=\"relu\",kernel_initializer=\"glorot_uniform\")(inp)\n",
    " \n",
    "output = keras.layers.Conv1D(6,4,padding=\"same\",activation='sigmoid')(l)\n",
    "\n",
    "model1=keras.Model(inputs=inp,outputs=output)\n",
    "model1.compile(optimizer=keras.optimizers.Adam(learning_rate=1e-5), loss='mse',metrics=['accuracy','mse','mae',rmse])\n",
    "model1.summary()"
   ]
  },
  {
   "cell_type": "code",
   "execution_count": 13,
   "id": "fb37916d",
   "metadata": {},
   "outputs": [
    {
     "name": "stdout",
     "output_type": "stream",
     "text": [
      "Epoch 1/50\n",
      "537/537 [==============================] - 3s 5ms/step - loss: 0.1622 - accuracy: 1.8205e-06 - mse: 0.1622 - mae: 0.3484 - rmse: 0.4025 - val_loss: 0.1611 - val_accuracy: 0.0000e+00 - val_mse: 0.1611 - val_mae: 0.3469 - val_rmse: 0.4012\n",
      "Epoch 2/50\n",
      "537/537 [==============================] - 3s 5ms/step - loss: 0.1600 - accuracy: 1.8205e-06 - mse: 0.1600 - mae: 0.3455 - rmse: 0.3998 - val_loss: 0.1589 - val_accuracy: 0.0000e+00 - val_mse: 0.1589 - val_mae: 0.3441 - val_rmse: 0.3984\n",
      "Epoch 3/50\n",
      "537/537 [==============================] - 3s 5ms/step - loss: 0.1578 - accuracy: 1.8205e-06 - mse: 0.1578 - mae: 0.3426 - rmse: 0.3971 - val_loss: 0.1567 - val_accuracy: 0.0000e+00 - val_mse: 0.1567 - val_mae: 0.3412 - val_rmse: 0.3957\n",
      "Epoch 4/50\n",
      "537/537 [==============================] - 3s 5ms/step - loss: 0.1556 - accuracy: 4.0052e-05 - mse: 0.1556 - mae: 0.3398 - rmse: 0.3943 - val_loss: 0.1545 - val_accuracy: 4.8335e-04 - val_mse: 0.1545 - val_mae: 0.3383 - val_rmse: 0.3929\n",
      "Epoch 5/50\n",
      "537/537 [==============================] - 3s 5ms/step - loss: 0.1534 - accuracy: 0.0083 - mse: 0.1534 - mae: 0.3369 - rmse: 0.3915 - val_loss: 0.1523 - val_accuracy: 0.0280 - val_mse: 0.1523 - val_mae: 0.3354 - val_rmse: 0.3901\n",
      "Epoch 6/50\n",
      "537/537 [==============================] - 3s 5ms/step - loss: 0.1512 - accuracy: 0.0837 - mse: 0.1512 - mae: 0.3339 - rmse: 0.3886 - val_loss: 0.1501 - val_accuracy: 0.1543 - val_mse: 0.1501 - val_mae: 0.3324 - val_rmse: 0.3872\n",
      "Epoch 7/50\n",
      "537/537 [==============================] - 3s 5ms/step - loss: 0.1489 - accuracy: 0.2279 - mse: 0.1489 - mae: 0.3309 - rmse: 0.3857 - val_loss: 0.1478 - val_accuracy: 0.2967 - val_mse: 0.1478 - val_mae: 0.3294 - val_rmse: 0.3842\n",
      "Epoch 8/50\n",
      "537/537 [==============================] - 3s 6ms/step - loss: 0.1466 - accuracy: 0.3296 - mse: 0.1466 - mae: 0.3279 - rmse: 0.3827 - val_loss: 0.1455 - val_accuracy: 0.3560 - val_mse: 0.1455 - val_mae: 0.3264 - val_rmse: 0.3812\n",
      "Epoch 9/50\n",
      "537/537 [==============================] - 3s 5ms/step - loss: 0.1443 - accuracy: 0.3698 - mse: 0.1443 - mae: 0.3248 - rmse: 0.3797 - val_loss: 0.1431 - val_accuracy: 0.3900 - val_mse: 0.1431 - val_mae: 0.3233 - val_rmse: 0.3781\n",
      "Epoch 10/50\n",
      "537/537 [==============================] - 3s 5ms/step - loss: 0.1420 - accuracy: 0.4278 - mse: 0.1420 - mae: 0.3217 - rmse: 0.3765 - val_loss: 0.1408 - val_accuracy: 0.4855 - val_mse: 0.1408 - val_mae: 0.3201 - val_rmse: 0.3750\n",
      "Epoch 11/50\n",
      "537/537 [==============================] - 3s 5ms/step - loss: 0.1396 - accuracy: 0.5921 - mse: 0.1396 - mae: 0.3185 - rmse: 0.3733 - val_loss: 0.1384 - val_accuracy: 0.7121 - val_mse: 0.1384 - val_mae: 0.3169 - val_rmse: 0.3717\n",
      "Epoch 12/50\n",
      "537/537 [==============================] - 3s 6ms/step - loss: 0.1372 - accuracy: 0.8226 - mse: 0.1372 - mae: 0.3153 - rmse: 0.3701 - val_loss: 0.1359 - val_accuracy: 0.9169 - val_mse: 0.1359 - val_mae: 0.3137 - val_rmse: 0.3684\n",
      "Epoch 13/50\n",
      "537/537 [==============================] - 3s 5ms/step - loss: 0.1347 - accuracy: 0.9692 - mse: 0.1347 - mae: 0.3121 - rmse: 0.3668 - val_loss: 0.1335 - val_accuracy: 0.9949 - val_mse: 0.1335 - val_mae: 0.3104 - val_rmse: 0.3651\n",
      "Epoch 14/50\n",
      "537/537 [==============================] - 3s 5ms/step - loss: 0.1322 - accuracy: 0.9966 - mse: 0.1322 - mae: 0.3088 - rmse: 0.3633 - val_loss: 0.1310 - val_accuracy: 0.9971 - val_mse: 0.1310 - val_mae: 0.3071 - val_rmse: 0.3616\n",
      "Epoch 15/50\n",
      "537/537 [==============================] - 3s 5ms/step - loss: 0.1297 - accuracy: 0.9969 - mse: 0.1297 - mae: 0.3054 - rmse: 0.3598 - val_loss: 0.1284 - val_accuracy: 0.9971 - val_mse: 0.1284 - val_mae: 0.3037 - val_rmse: 0.3580\n",
      "Epoch 16/50\n",
      "537/537 [==============================] - 3s 5ms/step - loss: 0.1272 - accuracy: 0.9969 - mse: 0.1272 - mae: 0.3020 - rmse: 0.3562 - val_loss: 0.1259 - val_accuracy: 0.9971 - val_mse: 0.1259 - val_mae: 0.3003 - val_rmse: 0.3544\n",
      "Epoch 17/50\n",
      "537/537 [==============================] - 3s 5ms/step - loss: 0.1246 - accuracy: 0.9969 - mse: 0.1246 - mae: 0.2985 - rmse: 0.3525 - val_loss: 0.1232 - val_accuracy: 0.9971 - val_mse: 0.1232 - val_mae: 0.2968 - val_rmse: 0.3507\n",
      "Epoch 18/50\n",
      "537/537 [==============================] - 3s 5ms/step - loss: 0.1219 - accuracy: 0.9969 - mse: 0.1219 - mae: 0.2950 - rmse: 0.3487 - val_loss: 0.1206 - val_accuracy: 0.9971 - val_mse: 0.1206 - val_mae: 0.2932 - val_rmse: 0.3468\n",
      "Epoch 19/50\n",
      "537/537 [==============================] - 3s 5ms/step - loss: 0.1193 - accuracy: 0.9969 - mse: 0.1193 - mae: 0.2914 - rmse: 0.3449 - val_loss: 0.1179 - val_accuracy: 0.9971 - val_mse: 0.1179 - val_mae: 0.2896 - val_rmse: 0.3429\n",
      "Epoch 20/50\n",
      "537/537 [==============================] - 3s 6ms/step - loss: 0.1166 - accuracy: 0.9969 - mse: 0.1166 - mae: 0.2878 - rmse: 0.3409 - val_loss: 0.1152 - val_accuracy: 0.9971 - val_mse: 0.1152 - val_mae: 0.2860 - val_rmse: 0.3389\n",
      "Epoch 21/50\n",
      "537/537 [==============================] - 3s 5ms/step - loss: 0.1139 - accuracy: 0.9969 - mse: 0.1139 - mae: 0.2841 - rmse: 0.3369 - val_loss: 0.1125 - val_accuracy: 0.9971 - val_mse: 0.1125 - val_mae: 0.2823 - val_rmse: 0.3349\n",
      "Epoch 22/50\n",
      "537/537 [==============================] - 3s 6ms/step - loss: 0.1112 - accuracy: 0.9969 - mse: 0.1112 - mae: 0.2804 - rmse: 0.3328 - val_loss: 0.1098 - val_accuracy: 0.9971 - val_mse: 0.1098 - val_mae: 0.2785 - val_rmse: 0.3307\n",
      "Epoch 23/50\n",
      "537/537 [==============================] - 3s 6ms/step - loss: 0.1084 - accuracy: 0.9969 - mse: 0.1084 - mae: 0.2766 - rmse: 0.3286 - val_loss: 0.1070 - val_accuracy: 0.9971 - val_mse: 0.1070 - val_mae: 0.2748 - val_rmse: 0.3265\n",
      "Epoch 24/50\n",
      "537/537 [==============================] - 3s 6ms/step - loss: 0.1057 - accuracy: 0.9969 - mse: 0.1057 - mae: 0.2728 - rmse: 0.3243 - val_loss: 0.1043 - val_accuracy: 0.9971 - val_mse: 0.1043 - val_mae: 0.2709 - val_rmse: 0.3222\n",
      "Epoch 25/50\n",
      "537/537 [==============================] - 3s 6ms/step - loss: 0.1029 - accuracy: 0.9969 - mse: 0.1029 - mae: 0.2689 - rmse: 0.3199 - val_loss: 0.1015 - val_accuracy: 0.9971 - val_mse: 0.1015 - val_mae: 0.2670 - val_rmse: 0.3177\n",
      "Epoch 26/50\n",
      "537/537 [==============================] - 3s 6ms/step - loss: 0.1000 - accuracy: 0.9969 - mse: 0.1000 - mae: 0.2649 - rmse: 0.3154 - val_loss: 0.0986 - val_accuracy: 0.9971 - val_mse: 0.0986 - val_mae: 0.2629 - val_rmse: 0.3131\n",
      "Epoch 27/50\n",
      "537/537 [==============================] - 3s 5ms/step - loss: 0.0971 - accuracy: 0.9969 - mse: 0.0971 - mae: 0.2608 - rmse: 0.3107 - val_loss: 0.0957 - val_accuracy: 0.9971 - val_mse: 0.0957 - val_mae: 0.2587 - val_rmse: 0.3084\n",
      "Epoch 28/50\n",
      "537/537 [==============================] - 3s 6ms/step - loss: 0.0942 - accuracy: 0.9969 - mse: 0.0942 - mae: 0.2566 - rmse: 0.3059 - val_loss: 0.0927 - val_accuracy: 0.9971 - val_mse: 0.0927 - val_mae: 0.2545 - val_rmse: 0.3035\n",
      "Epoch 29/50\n",
      "537/537 [==============================] - 3s 5ms/step - loss: 0.0912 - accuracy: 0.9969 - mse: 0.0912 - mae: 0.2523 - rmse: 0.3010 - val_loss: 0.0898 - val_accuracy: 0.9971 - val_mse: 0.0898 - val_mae: 0.2502 - val_rmse: 0.2985\n",
      "Epoch 30/50\n",
      "537/537 [==============================] - 3s 6ms/step - loss: 0.0883 - accuracy: 0.9969 - mse: 0.0883 - mae: 0.2480 - rmse: 0.2959 - val_loss: 0.0868 - val_accuracy: 0.9971 - val_mse: 0.0868 - val_mae: 0.2458 - val_rmse: 0.2934\n",
      "Epoch 31/50\n",
      "537/537 [==============================] - 3s 6ms/step - loss: 0.0853 - accuracy: 0.9969 - mse: 0.0853 - mae: 0.2436 - rmse: 0.2907 - val_loss: 0.0838 - val_accuracy: 0.9971 - val_mse: 0.0838 - val_mae: 0.2414 - val_rmse: 0.2881\n",
      "Epoch 32/50\n",
      "537/537 [==============================] - 3s 5ms/step - loss: 0.0823 - accuracy: 0.9969 - mse: 0.0823 - mae: 0.2391 - rmse: 0.2855 - val_loss: 0.0808 - val_accuracy: 0.9971 - val_mse: 0.0808 - val_mae: 0.2368 - val_rmse: 0.2828\n",
      "Epoch 33/50\n",
      "537/537 [==============================] - 3s 6ms/step - loss: 0.0793 - accuracy: 0.9969 - mse: 0.0793 - mae: 0.2345 - rmse: 0.2801 - val_loss: 0.0778 - val_accuracy: 0.9971 - val_mse: 0.0778 - val_mae: 0.2322 - val_rmse: 0.2774\n",
      "Epoch 34/50\n",
      "537/537 [==============================] - 3s 5ms/step - loss: 0.0763 - accuracy: 0.9969 - mse: 0.0763 - mae: 0.2299 - rmse: 0.2746 - val_loss: 0.0748 - val_accuracy: 0.9971 - val_mse: 0.0748 - val_mae: 0.2276 - val_rmse: 0.2719\n"
     ]
    },
    {
     "name": "stdout",
     "output_type": "stream",
     "text": [
      "Epoch 35/50\n",
      "537/537 [==============================] - 3s 5ms/step - loss: 0.0733 - accuracy: 0.9969 - mse: 0.0733 - mae: 0.2252 - rmse: 0.2691 - val_loss: 0.0718 - val_accuracy: 0.9971 - val_mse: 0.0718 - val_mae: 0.2229 - val_rmse: 0.2663\n",
      "Epoch 36/50\n",
      "537/537 [==============================] - 3s 5ms/step - loss: 0.0703 - accuracy: 0.9969 - mse: 0.0703 - mae: 0.2205 - rmse: 0.2634 - val_loss: 0.0689 - val_accuracy: 0.9971 - val_mse: 0.0689 - val_mae: 0.2181 - val_rmse: 0.2606\n",
      "Epoch 37/50\n",
      "537/537 [==============================] - 3s 5ms/step - loss: 0.0674 - accuracy: 0.9969 - mse: 0.0674 - mae: 0.2157 - rmse: 0.2577 - val_loss: 0.0660 - val_accuracy: 0.9971 - val_mse: 0.0660 - val_mae: 0.2133 - val_rmse: 0.2549\n",
      "Epoch 38/50\n",
      "537/537 [==============================] - 3s 5ms/step - loss: 0.0645 - accuracy: 0.9969 - mse: 0.0645 - mae: 0.2108 - rmse: 0.2520 - val_loss: 0.0631 - val_accuracy: 0.9971 - val_mse: 0.0631 - val_mae: 0.2084 - val_rmse: 0.2491\n",
      "Epoch 39/50\n",
      "537/537 [==============================] - 3s 5ms/step - loss: 0.0617 - accuracy: 0.9969 - mse: 0.0617 - mae: 0.2059 - rmse: 0.2461 - val_loss: 0.0603 - val_accuracy: 0.9971 - val_mse: 0.0603 - val_mae: 0.2035 - val_rmse: 0.2433\n",
      "Epoch 40/50\n",
      "537/537 [==============================] - 3s 5ms/step - loss: 0.0588 - accuracy: 0.9969 - mse: 0.0588 - mae: 0.2010 - rmse: 0.2403 - val_loss: 0.0575 - val_accuracy: 0.9971 - val_mse: 0.0575 - val_mae: 0.1985 - val_rmse: 0.2374\n",
      "Epoch 41/50\n",
      "537/537 [==============================] - 3s 5ms/step - loss: 0.0561 - accuracy: 0.9969 - mse: 0.0561 - mae: 0.1960 - rmse: 0.2344 - val_loss: 0.0548 - val_accuracy: 0.9971 - val_mse: 0.0548 - val_mae: 0.1936 - val_rmse: 0.2315\n",
      "Epoch 42/50\n",
      "537/537 [==============================] - 3s 5ms/step - loss: 0.0534 - accuracy: 0.9969 - mse: 0.0534 - mae: 0.1911 - rmse: 0.2285 - val_loss: 0.0521 - val_accuracy: 0.9971 - val_mse: 0.0521 - val_mae: 0.1886 - val_rmse: 0.2256\n",
      "Epoch 43/50\n",
      "537/537 [==============================] - 3s 5ms/step - loss: 0.0507 - accuracy: 0.9969 - mse: 0.0507 - mae: 0.1861 - rmse: 0.2226 - val_loss: 0.0495 - val_accuracy: 0.9971 - val_mse: 0.0495 - val_mae: 0.1836 - val_rmse: 0.2196\n",
      "Epoch 44/50\n",
      "537/537 [==============================] - 3s 5ms/step - loss: 0.0482 - accuracy: 0.9969 - mse: 0.0482 - mae: 0.1811 - rmse: 0.2166 - val_loss: 0.0469 - val_accuracy: 0.9971 - val_mse: 0.0469 - val_mae: 0.1786 - val_rmse: 0.2137\n",
      "Epoch 45/50\n",
      "537/537 [==============================] - 3s 5ms/step - loss: 0.0456 - accuracy: 0.9969 - mse: 0.0456 - mae: 0.1761 - rmse: 0.2107 - val_loss: 0.0444 - val_accuracy: 0.9971 - val_mse: 0.0444 - val_mae: 0.1736 - val_rmse: 0.2078\n",
      "Epoch 46/50\n",
      "537/537 [==============================] - 3s 5ms/step - loss: 0.0432 - accuracy: 0.9969 - mse: 0.0432 - mae: 0.1711 - rmse: 0.2048 - val_loss: 0.0420 - val_accuracy: 0.9971 - val_mse: 0.0420 - val_mae: 0.1686 - val_rmse: 0.2019\n",
      "Epoch 47/50\n",
      "537/537 [==============================] - 3s 5ms/step - loss: 0.0408 - accuracy: 0.9969 - mse: 0.0408 - mae: 0.1661 - rmse: 0.1989 - val_loss: 0.0397 - val_accuracy: 0.9971 - val_mse: 0.0397 - val_mae: 0.1637 - val_rmse: 0.1960\n",
      "Epoch 48/50\n",
      "537/537 [==============================] - 3s 5ms/step - loss: 0.0385 - accuracy: 0.9969 - mse: 0.0385 - mae: 0.1612 - rmse: 0.1930 - val_loss: 0.0374 - val_accuracy: 0.9971 - val_mse: 0.0374 - val_mae: 0.1588 - val_rmse: 0.1901\n",
      "Epoch 49/50\n",
      "537/537 [==============================] - 3s 5ms/step - loss: 0.0363 - accuracy: 0.9969 - mse: 0.0363 - mae: 0.1563 - rmse: 0.1872 - val_loss: 0.0353 - val_accuracy: 0.9971 - val_mse: 0.0353 - val_mae: 0.1539 - val_rmse: 0.1843\n",
      "Epoch 50/50\n",
      "537/537 [==============================] - 3s 5ms/step - loss: 0.0342 - accuracy: 0.9969 - mse: 0.0342 - mae: 0.1514 - rmse: 0.1814 - val_loss: 0.0332 - val_accuracy: 0.9971 - val_mse: 0.0332 - val_mae: 0.1490 - val_rmse: 0.1786\n"
     ]
    }
   ],
   "source": [
    "from sklearn.model_selection import train_test_split\n",
    "x_train, x_test, y_train, y_test = train_test_split(X1, Y1, test_size=0.25, random_state=42)\n",
    "\n",
    "model_fit8 = model1.fit(x_train,y_train,batch_size=2048,epochs=50, validation_split=0.1)"
   ]
  },
  {
   "cell_type": "markdown",
   "id": "05c03bc9",
   "metadata": {},
   "source": [
    "# Saving Model as File"
   ]
  },
  {
   "cell_type": "code",
   "execution_count": 14,
   "id": "feb6fe5c",
   "metadata": {},
   "outputs": [
    {
     "name": "stdout",
     "output_type": "stream",
     "text": [
      "Saved model to disk\n"
     ]
    }
   ],
   "source": [
    "model_json = model1.to_json()\n",
    "with open(\"Model_File/cnnpj.json\", \"w\") as json_file:\n",
    "    json_file.write(model_json)\n",
    "# serialize weights to HDF5\n",
    "model1.save_weights(\"Model_File/cnnpj.h5\")\n",
    "print(\"Saved model to disk\")"
   ]
  },
  {
   "cell_type": "code",
   "execution_count": 43,
   "id": "85c18be3",
   "metadata": {},
   "outputs": [
    {
     "name": "stdout",
     "output_type": "stream",
     "text": [
      "Loaded model from disk\n"
     ]
    }
   ],
   "source": [
    "from sklearn.model_selection import train_test_split\n",
    "x_train, x_test, y_train, y_test = train_test_split(X1, Y1, test_size=0.25, random_state=42)\n",
    "\n",
    "from keras.models import model_from_json\n",
    "json_file = open('Model_File/cnnpj.json', 'r')\n",
    "loaded_model_json = json_file.read()\n",
    "json_file.close()\n",
    "loaded_model = model_from_json(loaded_model_json)\n",
    "# load weights into new model\n",
    "loaded_model.load_weights(\"Model_File/cnnpj.h5\")\n",
    "print(\"Loaded model from disk\")\n",
    "loaded_model.compile(optimizer=keras.optimizers.Adam(learning_rate=1e-5),loss='mse',metrics=['accuracy','mse','mae',rmse])"
   ]
  },
  {
   "cell_type": "code",
   "execution_count": 29,
   "id": "121e708d",
   "metadata": {},
   "outputs": [
    {
     "data": {
      "text/plain": [
       "[0.03316010162234306,\n",
       " 0.9969671964645386,\n",
       " 0.03316010162234306,\n",
       " 0.14898216724395752,\n",
       " 0.17853641510009766]"
      ]
     },
     "execution_count": 29,
     "metadata": {},
     "output_type": "execute_result"
    }
   ],
   "source": [
    "loaded_model.evaluate(x_train, y_train, verbose=0)"
   ]
  },
  {
   "cell_type": "code",
   "execution_count": 30,
   "id": "316434d2",
   "metadata": {},
   "outputs": [
    {
     "data": {
      "text/plain": [
       "[0.033225543797016144,\n",
       " 0.9970065355300903,\n",
       " 0.033225543797016144,\n",
       " 0.14912758767604828,\n",
       " 0.1787092387676239]"
      ]
     },
     "execution_count": 30,
     "metadata": {},
     "output_type": "execute_result"
    }
   ],
   "source": [
    "loaded_model.evaluate(x_test, y_test, verbose=0)"
   ]
  },
  {
   "cell_type": "markdown",
   "id": "eb75d6b3",
   "metadata": {},
   "source": [
    "# Error Analysis"
   ]
  },
  {
   "cell_type": "code",
   "execution_count": 18,
   "id": "ff6190cf",
   "metadata": {},
   "outputs": [
    {
     "data": {
      "image/png": "[encoded data removed]",
      "text/plain": [
       "<Figure size 432x288 with 1 Axes>"
      ]
     },
     "metadata": {
      "needs_background": "light"
     },
     "output_type": "display_data"
    },
    {
     "data": {
      "text/plain": [
       "<matplotlib.legend.Legend at 0x7fed2ca85da0>"
      ]
     },
     "execution_count": 18,
     "metadata": {},
     "output_type": "execute_result"
    },
    {
     "data": {
      "image/png": "[encoded data removed]",
      "text/plain": [
       "<Figure size 432x288 with 1 Axes>"
      ]
     },
     "metadata": {
      "needs_background": "light"
     },
     "output_type": "display_data"
    }
   ],
   "source": [
    "# _,_,_, train_acc = model1.evaluate(x_train, y_train, verbose=0)\n",
    "# _,_,_, test_acc = model1.evaluate(x_test, y_test, verbose=0)\n",
    "# print('Train: %.3f, Test: %.3f' % (train_acc, test_acc))\n",
    "\n",
    "# summarize history for loss\n",
    "plt.plot(model_fit8.history['loss'])\n",
    "plt.plot(model_fit8.history['val_loss'])\n",
    "plt.title('Model Loss',fontweight ='bold',fontsize = 15)\n",
    "plt.ylabel('Loss',fontweight ='bold',fontsize = 15)\n",
    "plt.xlabel('Epoch',fontweight ='bold',fontsize = 15)\n",
    "plt.legend(['Train', 'Test'], loc='upper left')\n",
    "plt.show()\n",
    "\n",
    "# summarize history for accuracy\n",
    "plt.plot(model_fit8.history['accuracy'])\n",
    "plt.plot(model_fit8.history['val_accuracy'])\n",
    "plt.title('Model accuracy',fontweight ='bold',fontsize = 15)\n",
    "plt.ylabel('Accuracy',fontweight ='bold',fontsize = 15)\n",
    "plt.xlabel('Epoch',fontweight ='bold',fontsize = 15)\n",
    "plt.legend(['Train', 'Test'], loc='upper left')\n"
   ]
  },
  {
   "cell_type": "code",
   "execution_count": 44,
   "id": "265bcbd2",
   "metadata": {},
   "outputs": [
    {
     "data": {
      "text/plain": [
       "array([[[0.43808302, 0.56855667, 0.1584833 , 0.1675975 , 0.17154044,\n",
       "         0.25808376]],\n",
       "\n",
       "       [[0.41159642, 0.5513255 , 0.17057762, 0.19155738, 0.18631211,\n",
       "         0.25421944]],\n",
       "\n",
       "       [[0.4498054 , 0.5733056 , 0.16290787, 0.16774252, 0.17482367,\n",
       "         0.26673895]],\n",
       "\n",
       "       ...,\n",
       "\n",
       "       [[0.39849162, 0.55090594, 0.14846292, 0.17212766, 0.1649034 ,\n",
       "         0.23272184]],\n",
       "\n",
       "       [[0.40256715, 0.5447718 , 0.17742682, 0.20324522, 0.1937921 ,\n",
       "         0.25422388]],\n",
       "\n",
       "       [[0.45196062, 0.54917717, 0.27095214, 0.27875048, 0.27998838,\n",
       "         0.33630222]]], dtype=float32)"
      ]
     },
     "execution_count": 44,
     "metadata": {},
     "output_type": "execute_result"
    }
   ],
   "source": [
    "from sklearn.model_selection import train_test_split\n",
    "x_train, x_test, y_train, y_test = train_test_split(X1, Y1, test_size=0.25, random_state=42)\n",
    "\n",
    "y_test_pred=loaded_model.predict(x_test)\n",
    "y_test_pred"
   ]
  },
  {
   "cell_type": "code",
   "execution_count": 45,
   "id": "2b9807b3",
   "metadata": {},
   "outputs": [
    {
     "data": {
      "text/plain": [
       "array([[[0.49655172, 0.61261671, 0.04625328, 0.00839927, 0.07680226,\n",
       "         0.00349832]],\n",
       "\n",
       "       [[0.40689655, 0.56779311, 0.02503314, 0.00862807, 0.03923826,\n",
       "         0.00169898]],\n",
       "\n",
       "       [[0.48275862, 0.61261671, 0.05669757, 0.01000087, 0.12197674,\n",
       "         0.0061505 ]],\n",
       "\n",
       "       ...,\n",
       "\n",
       "       [[0.4       , 0.53897794, 0.02967504, 0.01022967, 0.04172884,\n",
       "         0.01677347]],\n",
       "\n",
       "       [[0.4137931 , 0.56779311, 0.03514586, 0.01114488, 0.06885241,\n",
       "         0.003031  ]],\n",
       "\n",
       "       [[0.48275862, 0.57739817, 0.06051056, 0.00908567, 0.10450044,\n",
       "         0.00542992]]])"
      ]
     },
     "execution_count": 45,
     "metadata": {},
     "output_type": "execute_result"
    }
   ],
   "source": [
    "y_test"
   ]
  },
  {
   "cell_type": "code",
   "execution_count": 46,
   "id": "b9371a30",
   "metadata": {},
   "outputs": [],
   "source": [
    "y_test=y_test[:,0]\n",
    "y_test_pred=y_test_pred[:,0]"
   ]
  },
  {
   "cell_type": "code",
   "execution_count": 47,
   "id": "a6219bb9",
   "metadata": {},
   "outputs": [],
   "source": [
    "from numpy import savetxt\n",
    "savetxt('ARRAY_DATA/cnn_y_test_pred.csv', y_test_pred[:1001], delimiter=',')"
   ]
  },
  {
   "cell_type": "code",
   "execution_count": 48,
   "id": "33bb831b",
   "metadata": {},
   "outputs": [],
   "source": [
    "from numpy import savetxt\n",
    "savetxt('ARRAY_DATA/cnn_y_test.csv', y_test[:1001], delimiter=',')"
   ]
  },
  {
   "cell_type": "code",
   "execution_count": null,
   "id": "f4f5b874",
   "metadata": {},
   "outputs": [],
   "source": [
    "#completed"
   ]
  }
 ],
 "metadata": {
  "kernelspec": {
   "display_name": "Python 3",
   "language": "python",
   "name": "python3"
  },
  "language_info": {
   "codemirror_mode": {
    "name": "ipython",
    "version": 3
   },
   "file_extension": ".py",
   "mimetype": "text/x-python",
   "name": "python",
   "nbconvert_exporter": "python",
   "pygments_lexer": "ipython3",
   "version": "3.6.15"
  }
 },
 "nbformat": 4,
 "nbformat_minor": 5
}
