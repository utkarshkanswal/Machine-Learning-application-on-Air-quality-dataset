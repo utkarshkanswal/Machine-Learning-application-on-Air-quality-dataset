{
 "cells": [
  {
   "cell_type": "code",
   "execution_count": 2,
   "id": "877c2677",
   "metadata": {},
   "outputs": [
    {
     "data": {
      "text/plain": [
       "[PhysicalDevice(name='/physical_device:CPU:0', device_type='CPU'),\n",
       " PhysicalDevice(name='/physical_device:GPU:0', device_type='GPU')]"
      ]
     },
     "execution_count": 2,
     "metadata": {},
     "output_type": "execute_result"
    }
   ],
   "source": [
    "import tensorflow as tf\n",
    "tf.config.experimental.list_physical_devices()"
   ]
  },
  {
   "cell_type": "code",
   "execution_count": 3,
   "id": "1c059e76",
   "metadata": {},
   "outputs": [
    {
     "data": {
      "text/plain": [
       "True"
      ]
     },
     "execution_count": 3,
     "metadata": {},
     "output_type": "execute_result"
    }
   ],
   "source": [
    "tf.test.is_built_with_cuda()"
   ]
  },
  {
   "cell_type": "markdown",
   "id": "96739d01",
   "metadata": {},
   "source": [
    "# Importing Libraries"
   ]
  },
  {
   "cell_type": "code",
   "execution_count": 1,
   "id": "a0397420",
   "metadata": {},
   "outputs": [],
   "source": [
    "import numpy as np\n",
    "import pandas as pd\n",
    "from matplotlib import pyplot as plt\n",
    "import os.path as op\n",
    "import pickle"
   ]
  },
  {
   "cell_type": "code",
   "execution_count": 2,
   "id": "e8cc09ab",
   "metadata": {},
   "outputs": [],
   "source": [
    "import tensorflow as tf\n",
    "from tensorflow import keras\n",
    "from keras.models import Model,Sequential,load_model\n",
    "from keras.layers import Input, Embedding\n",
    "from keras.layers import Dense, Bidirectional\n",
    "from keras.layers.recurrent import LSTM\n",
    "import keras.metrics as metrics\n",
    "import itertools\n",
    "from tensorflow.python.keras.utils.data_utils import Sequence\n",
    "from decimal import Decimal\n",
    "from keras import backend as K\n",
    "from keras.layers import Conv1D,MaxPooling1D,Flatten,Dense"
   ]
  },
  {
   "cell_type": "markdown",
   "id": "b7f9474e",
   "metadata": {},
   "source": [
    "# Data Fetching"
   ]
  },
  {
   "cell_type": "code",
   "execution_count": 3,
   "id": "cc06c8d1",
   "metadata": {},
   "outputs": [],
   "source": [
    "inp=pd.read_csv(\"PJ sensor.csv\",usecols=[6,7,10,11])\n",
    "out=pd.read_csv(\"PJ sensor.csv\",usecols=[2,3,4,5,8,9])"
   ]
  },
  {
   "cell_type": "code",
   "execution_count": 4,
   "id": "010d86fc",
   "metadata": {},
   "outputs": [
    {
     "data": {
      "text/html": [
       "<div>\n",
       "<style scoped>\n",
       "    .dataframe tbody tr th:only-of-type {\n",
       "        vertical-align: middle;\n",
       "    }\n",
       "\n",
       "    .dataframe tbody tr th {\n",
       "        vertical-align: top;\n",
       "    }\n",
       "\n",
       "    .dataframe thead th {\n",
       "        text-align: right;\n",
       "    }\n",
       "</style>\n",
       "<table border=\"1\" class=\"dataframe\">\n",
       "  <thead>\n",
       "    <tr style=\"text-align: right;\">\n",
       "      <th></th>\n",
       "      <th>Temperature</th>\n",
       "      <th>Relative Humidity</th>\n",
       "      <th>date</th>\n",
       "      <th>Time</th>\n",
       "    </tr>\n",
       "  </thead>\n",
       "  <tbody>\n",
       "    <tr>\n",
       "      <th>0</th>\n",
       "      <td>31</td>\n",
       "      <td>65</td>\n",
       "      <td>191213</td>\n",
       "      <td>175844</td>\n",
       "    </tr>\n",
       "    <tr>\n",
       "      <th>1</th>\n",
       "      <td>31</td>\n",
       "      <td>65</td>\n",
       "      <td>191213</td>\n",
       "      <td>175904</td>\n",
       "    </tr>\n",
       "    <tr>\n",
       "      <th>2</th>\n",
       "      <td>31</td>\n",
       "      <td>65</td>\n",
       "      <td>191213</td>\n",
       "      <td>175924</td>\n",
       "    </tr>\n",
       "    <tr>\n",
       "      <th>3</th>\n",
       "      <td>31</td>\n",
       "      <td>65</td>\n",
       "      <td>191213</td>\n",
       "      <td>175944</td>\n",
       "    </tr>\n",
       "    <tr>\n",
       "      <th>4</th>\n",
       "      <td>31</td>\n",
       "      <td>66</td>\n",
       "      <td>191213</td>\n",
       "      <td>180004</td>\n",
       "    </tr>\n",
       "  </tbody>\n",
       "</table>\n",
       "</div>"
      ],
      "text/plain": [
       "   Temperature  Relative Humidity    date    Time\n",
       "0           31                 65  191213  175844\n",
       "1           31                 65  191213  175904\n",
       "2           31                 65  191213  175924\n",
       "3           31                 65  191213  175944\n",
       "4           31                 66  191213  180004"
      ]
     },
     "execution_count": 4,
     "metadata": {},
     "output_type": "execute_result"
    }
   ],
   "source": [
    "inp.head(5)"
   ]
  },
  {
   "cell_type": "code",
   "execution_count": 5,
   "id": "b391fbf9",
   "metadata": {},
   "outputs": [
    {
     "data": {
      "text/html": [
       "<div>\n",
       "<style scoped>\n",
       "    .dataframe tbody tr th:only-of-type {\n",
       "        vertical-align: middle;\n",
       "    }\n",
       "\n",
       "    .dataframe tbody tr th {\n",
       "        vertical-align: top;\n",
       "    }\n",
       "\n",
       "    .dataframe thead th {\n",
       "        text-align: right;\n",
       "    }\n",
       "</style>\n",
       "<table border=\"1\" class=\"dataframe\">\n",
       "  <thead>\n",
       "    <tr style=\"text-align: right;\">\n",
       "      <th></th>\n",
       "      <th>NO2</th>\n",
       "      <th>O3</th>\n",
       "      <th>CO</th>\n",
       "      <th>SO2</th>\n",
       "      <th>PM2.5</th>\n",
       "      <th>PM10</th>\n",
       "    </tr>\n",
       "  </thead>\n",
       "  <tbody>\n",
       "    <tr>\n",
       "      <th>0</th>\n",
       "      <td>-15.075377</td>\n",
       "      <td>35.714286</td>\n",
       "      <td>1766.233766</td>\n",
       "      <td>148.484848</td>\n",
       "      <td>11.229150</td>\n",
       "      <td>17.323938</td>\n",
       "    </tr>\n",
       "    <tr>\n",
       "      <th>1</th>\n",
       "      <td>-20.100503</td>\n",
       "      <td>41.208791</td>\n",
       "      <td>1733.766234</td>\n",
       "      <td>142.424242</td>\n",
       "      <td>9.413914</td>\n",
       "      <td>24.967407</td>\n",
       "    </tr>\n",
       "    <tr>\n",
       "      <th>2</th>\n",
       "      <td>-15.075377</td>\n",
       "      <td>43.956044</td>\n",
       "      <td>1711.038961</td>\n",
       "      <td>136.363636</td>\n",
       "      <td>10.350110</td>\n",
       "      <td>56.781536</td>\n",
       "    </tr>\n",
       "    <tr>\n",
       "      <th>3</th>\n",
       "      <td>0.000000</td>\n",
       "      <td>57.692308</td>\n",
       "      <td>1688.311688</td>\n",
       "      <td>139.393939</td>\n",
       "      <td>10.488765</td>\n",
       "      <td>30.371115</td>\n",
       "    </tr>\n",
       "    <tr>\n",
       "      <th>4</th>\n",
       "      <td>-20.100503</td>\n",
       "      <td>54.945055</td>\n",
       "      <td>1681.818182</td>\n",
       "      <td>130.303030</td>\n",
       "      <td>12.353048</td>\n",
       "      <td>188.026886</td>\n",
       "    </tr>\n",
       "  </tbody>\n",
       "</table>\n",
       "</div>"
      ],
      "text/plain": [
       "         NO2         O3           CO         SO2      PM2.5        PM10\n",
       "0 -15.075377  35.714286  1766.233766  148.484848  11.229150   17.323938\n",
       "1 -20.100503  41.208791  1733.766234  142.424242   9.413914   24.967407\n",
       "2 -15.075377  43.956044  1711.038961  136.363636  10.350110   56.781536\n",
       "3   0.000000  57.692308  1688.311688  139.393939  10.488765   30.371115\n",
       "4 -20.100503  54.945055  1681.818182  130.303030  12.353048  188.026886"
      ]
     },
     "execution_count": 5,
     "metadata": {},
     "output_type": "execute_result"
    }
   ],
   "source": [
    "out.head(5)"
   ]
  },
  {
   "cell_type": "code",
   "execution_count": 6,
   "id": "444880a7",
   "metadata": {},
   "outputs": [],
   "source": [
    "inp=np.array(inp)\n",
    "out=np.array(out)"
   ]
  },
  {
   "cell_type": "markdown",
   "id": "78ca5e86",
   "metadata": {},
   "source": [
    "# Min Max Scaler"
   ]
  },
  {
   "cell_type": "code",
   "execution_count": 7,
   "id": "41ae9a8a",
   "metadata": {},
   "outputs": [],
   "source": [
    "from sklearn.preprocessing import MinMaxScaler\n",
    "import warnings\n",
    "scaler_obj=MinMaxScaler()\n",
    "X1=scaler_obj.fit_transform(inp)\n",
    "Y1=scaler_obj.fit_transform(out)\n",
    "\n",
    "warnings.filterwarnings(action='ignore', category=UserWarning)\n",
    "\n",
    "X1=X1[:,np.newaxis,:]\n",
    "Y1=Y1[:,np.newaxis,:]"
   ]
  },
  {
   "cell_type": "code",
   "execution_count": 8,
   "id": "da37491b",
   "metadata": {},
   "outputs": [],
   "source": [
    "def rmse(y_true, y_pred):\n",
    "    return K.sqrt(K.mean(K.square(y_pred - y_true), axis=-1))\n",
    "\n",
    "def coeff_determination(y_true, y_pred):\n",
    "    SS_res =  K.sum(K.square( y_true-y_pred )) \n",
    "    SS_tot = K.sum(K.square( y_true - K.mean(y_true) ) ) \n",
    "    return ( 1 - SS_res/(SS_tot + K.epsilon()) )"
   ]
  },
  {
   "cell_type": "code",
   "execution_count": 9,
   "id": "5baa529e",
   "metadata": {},
   "outputs": [
    {
     "data": {
      "text/plain": [
       "(1627533, 1, 6)"
      ]
     },
     "execution_count": 9,
     "metadata": {},
     "output_type": "execute_result"
    }
   ],
   "source": [
    "Y1.shape"
   ]
  },
  {
   "cell_type": "markdown",
   "id": "b1edf627",
   "metadata": {},
   "source": [
    "# Model"
   ]
  },
  {
   "cell_type": "code",
   "execution_count": 10,
   "id": "d05d8053",
   "metadata": {},
   "outputs": [
    {
     "name": "stdout",
     "output_type": "stream",
     "text": [
      "Model: \"model\"\n",
      "_________________________________________________________________\n",
      "Layer (type)                 Output Shape              Param #   \n",
      "=================================================================\n",
      "input_1 (InputLayer)         [(None, 1, 4)]            0         \n",
      "_________________________________________________________________\n",
      "conv1d (Conv1D)              (None, 1, 6)              30        \n",
      "_________________________________________________________________\n",
      "conv1d_1 (Conv1D)            (None, 1, 6)              150       \n",
      "=================================================================\n",
      "Total params: 180\n",
      "Trainable params: 180\n",
      "Non-trainable params: 0\n",
      "_________________________________________________________________\n"
     ]
    }
   ],
   "source": [
    "inp=keras.Input(shape=(1,4))\n",
    "\n",
    "l=keras.layers.Conv1D(6,1,padding=\"same\",activation=\"relu\",kernel_initializer=\"glorot_uniform\")(inp)\n",
    " \n",
    "output = keras.layers.Conv1D(6,4,padding=\"same\",activation='sigmoid')(l)\n",
    "\n",
    "model1=keras.Model(inputs=inp,outputs=output)\n",
    "model1.compile(optimizer=keras.optimizers.Adam(learning_rate=1e-5), loss='mse',metrics=['accuracy','mse','mae',rmse])\n",
    "model1.summary()"
   ]
  },
  {
   "cell_type": "code",
   "execution_count": 11,
   "id": "fb37916d",
   "metadata": {},
   "outputs": [
    {
     "name": "stdout",
     "output_type": "stream",
     "text": [
      "Epoch 1/300\n",
      "537/537 [==============================] - 2s 4ms/step - loss: 0.1440 - accuracy: 0.6313 - mse: 0.1440 - mae: 0.3241 - rmse: 0.3794 - val_loss: 0.1430 - val_accuracy: 0.6943 - val_mse: 0.1430 - val_mae: 0.3228 - val_rmse: 0.3780\n",
      "Epoch 2/300\n",
      "537/537 [==============================] - 2s 4ms/step - loss: 0.1419 - accuracy: 0.8069 - mse: 0.1419 - mae: 0.3214 - rmse: 0.3766 - val_loss: 0.1409 - val_accuracy: 0.9499 - val_mse: 0.1409 - val_mae: 0.3200 - val_rmse: 0.3752\n",
      "Epoch 3/300\n",
      "537/537 [==============================] - 2s 4ms/step - loss: 0.1399 - accuracy: 0.9898 - mse: 0.1399 - mae: 0.3186 - rmse: 0.3738 - val_loss: 0.1388 - val_accuracy: 0.9971 - val_mse: 0.1388 - val_mae: 0.3172 - val_rmse: 0.3724\n",
      "Epoch 4/300\n",
      "537/537 [==============================] - 2s 4ms/step - loss: 0.1378 - accuracy: 0.9969 - mse: 0.1378 - mae: 0.3158 - rmse: 0.3710 - val_loss: 0.1367 - val_accuracy: 0.9971 - val_mse: 0.1367 - val_mae: 0.3144 - val_rmse: 0.3696\n",
      "Epoch 5/300\n",
      "537/537 [==============================] - 2s 4ms/step - loss: 0.1357 - accuracy: 0.9969 - mse: 0.1357 - mae: 0.3130 - rmse: 0.3682 - val_loss: 0.1346 - val_accuracy: 0.9971 - val_mse: 0.1346 - val_mae: 0.3116 - val_rmse: 0.3667\n",
      "Epoch 6/300\n",
      "537/537 [==============================] - 2s 4ms/step - loss: 0.1335 - accuracy: 0.9969 - mse: 0.1335 - mae: 0.3102 - rmse: 0.3653 - val_loss: 0.1325 - val_accuracy: 0.9971 - val_mse: 0.1325 - val_mae: 0.3087 - val_rmse: 0.3638\n",
      "Epoch 7/300\n",
      "537/537 [==============================] - 2s 3ms/step - loss: 0.1314 - accuracy: 0.9969 - mse: 0.1314 - mae: 0.3073 - rmse: 0.3624 - val_loss: 0.1303 - val_accuracy: 0.9971 - val_mse: 0.1303 - val_mae: 0.3059 - val_rmse: 0.3609\n",
      "Epoch 8/300\n",
      "537/537 [==============================] - 2s 3ms/step - loss: 0.1293 - accuracy: 0.9969 - mse: 0.1293 - mae: 0.3044 - rmse: 0.3594 - val_loss: 0.1282 - val_accuracy: 0.9971 - val_mse: 0.1282 - val_mae: 0.3030 - val_rmse: 0.3579\n",
      "Epoch 9/300\n",
      "537/537 [==============================] - 2s 3ms/step - loss: 0.1272 - accuracy: 0.9969 - mse: 0.1272 - mae: 0.3016 - rmse: 0.3564 - val_loss: 0.1261 - val_accuracy: 0.9971 - val_mse: 0.1261 - val_mae: 0.3001 - val_rmse: 0.3549\n",
      "Epoch 10/300\n",
      "537/537 [==============================] - 2s 3ms/step - loss: 0.1250 - accuracy: 0.9969 - mse: 0.1250 - mae: 0.2987 - rmse: 0.3534 - val_loss: 0.1239 - val_accuracy: 0.9971 - val_mse: 0.1239 - val_mae: 0.2972 - val_rmse: 0.3518\n",
      "Epoch 11/300\n",
      "537/537 [==============================] - 2s 3ms/step - loss: 0.1228 - accuracy: 0.9969 - mse: 0.1228 - mae: 0.2958 - rmse: 0.3503 - val_loss: 0.1217 - val_accuracy: 0.9971 - val_mse: 0.1217 - val_mae: 0.2943 - val_rmse: 0.3487\n",
      "Epoch 12/300\n",
      "537/537 [==============================] - 2s 3ms/step - loss: 0.1206 - accuracy: 0.9969 - mse: 0.1206 - mae: 0.2928 - rmse: 0.3471 - val_loss: 0.1195 - val_accuracy: 0.9971 - val_mse: 0.1195 - val_mae: 0.2914 - val_rmse: 0.3455\n",
      "Epoch 13/300\n",
      "537/537 [==============================] - 2s 4ms/step - loss: 0.1184 - accuracy: 0.9969 - mse: 0.1184 - mae: 0.2899 - rmse: 0.3439 - val_loss: 0.1173 - val_accuracy: 0.9971 - val_mse: 0.1173 - val_mae: 0.2884 - val_rmse: 0.3423\n",
      "Epoch 14/300\n",
      "537/537 [==============================] - 2s 4ms/step - loss: 0.1162 - accuracy: 0.9969 - mse: 0.1162 - mae: 0.2869 - rmse: 0.3406 - val_loss: 0.1150 - val_accuracy: 0.9971 - val_mse: 0.1150 - val_mae: 0.2854 - val_rmse: 0.3390\n",
      "Epoch 15/300\n",
      "537/537 [==============================] - 2s 3ms/step - loss: 0.1139 - accuracy: 0.9969 - mse: 0.1139 - mae: 0.2839 - rmse: 0.3373 - val_loss: 0.1127 - val_accuracy: 0.9971 - val_mse: 0.1127 - val_mae: 0.2824 - val_rmse: 0.3356\n",
      "Epoch 16/300\n",
      "537/537 [==============================] - 2s 3ms/step - loss: 0.1116 - accuracy: 0.9969 - mse: 0.1116 - mae: 0.2809 - rmse: 0.3339 - val_loss: 0.1104 - val_accuracy: 0.9971 - val_mse: 0.1104 - val_mae: 0.2794 - val_rmse: 0.3321\n",
      "Epoch 17/300\n",
      "537/537 [==============================] - 2s 3ms/step - loss: 0.1093 - accuracy: 0.9969 - mse: 0.1093 - mae: 0.2779 - rmse: 0.3304 - val_loss: 0.1081 - val_accuracy: 0.9971 - val_mse: 0.1081 - val_mae: 0.2764 - val_rmse: 0.3285\n",
      "Epoch 18/300\n",
      "537/537 [==============================] - 2s 3ms/step - loss: 0.1069 - accuracy: 0.9969 - mse: 0.1069 - mae: 0.2748 - rmse: 0.3267 - val_loss: 0.1057 - val_accuracy: 0.9971 - val_mse: 0.1057 - val_mae: 0.2732 - val_rmse: 0.3249\n",
      "Epoch 19/300\n",
      "537/537 [==============================] - 2s 3ms/step - loss: 0.1045 - accuracy: 0.9969 - mse: 0.1045 - mae: 0.2717 - rmse: 0.3230 - val_loss: 0.1032 - val_accuracy: 0.9971 - val_mse: 0.1032 - val_mae: 0.2701 - val_rmse: 0.3211\n",
      "Epoch 20/300\n",
      "537/537 [==============================] - 2s 4ms/step - loss: 0.1020 - accuracy: 0.9969 - mse: 0.1020 - mae: 0.2685 - rmse: 0.3192 - val_loss: 0.1008 - val_accuracy: 0.9971 - val_mse: 0.1008 - val_mae: 0.2669 - val_rmse: 0.3172\n",
      "Epoch 21/300\n",
      "537/537 [==============================] - 2s 3ms/step - loss: 0.0995 - accuracy: 0.9969 - mse: 0.0995 - mae: 0.2652 - rmse: 0.3152 - val_loss: 0.0983 - val_accuracy: 0.9971 - val_mse: 0.0983 - val_mae: 0.2636 - val_rmse: 0.3132\n",
      "Epoch 22/300\n",
      "537/537 [==============================] - 2s 3ms/step - loss: 0.0970 - accuracy: 0.9969 - mse: 0.0970 - mae: 0.2619 - rmse: 0.3112 - val_loss: 0.0957 - val_accuracy: 0.9971 - val_mse: 0.0957 - val_mae: 0.2603 - val_rmse: 0.3091\n",
      "Epoch 23/300\n",
      "537/537 [==============================] - 2s 3ms/step - loss: 0.0945 - accuracy: 0.9969 - mse: 0.0945 - mae: 0.2586 - rmse: 0.3071 - val_loss: 0.0932 - val_accuracy: 0.9971 - val_mse: 0.0932 - val_mae: 0.2568 - val_rmse: 0.3050\n",
      "Epoch 24/300\n",
      "537/537 [==============================] - 2s 3ms/step - loss: 0.0919 - accuracy: 0.9969 - mse: 0.0919 - mae: 0.2551 - rmse: 0.3029 - val_loss: 0.0906 - val_accuracy: 0.9971 - val_mse: 0.0906 - val_mae: 0.2534 - val_rmse: 0.3007\n",
      "Epoch 25/300\n",
      "537/537 [==============================] - 2s 3ms/step - loss: 0.0893 - accuracy: 0.9969 - mse: 0.0893 - mae: 0.2516 - rmse: 0.2986 - val_loss: 0.0880 - val_accuracy: 0.9971 - val_mse: 0.0880 - val_mae: 0.2498 - val_rmse: 0.2964\n",
      "Epoch 26/300\n",
      "537/537 [==============================] - 2s 3ms/step - loss: 0.0868 - accuracy: 0.9969 - mse: 0.0868 - mae: 0.2480 - rmse: 0.2942 - val_loss: 0.0855 - val_accuracy: 0.9971 - val_mse: 0.0855 - val_mae: 0.2462 - val_rmse: 0.2920\n",
      "Epoch 27/300\n",
      "537/537 [==============================] - 2s 3ms/step - loss: 0.0842 - accuracy: 0.9969 - mse: 0.0842 - mae: 0.2444 - rmse: 0.2897 - val_loss: 0.0829 - val_accuracy: 0.9971 - val_mse: 0.0829 - val_mae: 0.2425 - val_rmse: 0.2875\n",
      "Epoch 28/300\n",
      "537/537 [==============================] - 2s 3ms/step - loss: 0.0816 - accuracy: 0.9969 - mse: 0.0816 - mae: 0.2407 - rmse: 0.2852 - val_loss: 0.0803 - val_accuracy: 0.9971 - val_mse: 0.0803 - val_mae: 0.2388 - val_rmse: 0.2829\n",
      "Epoch 29/300\n",
      "537/537 [==============================] - 2s 3ms/step - loss: 0.0790 - accuracy: 0.9969 - mse: 0.0790 - mae: 0.2369 - rmse: 0.2806 - val_loss: 0.0777 - val_accuracy: 0.9971 - val_mse: 0.0777 - val_mae: 0.2350 - val_rmse: 0.2783\n",
      "Epoch 30/300\n",
      "537/537 [==============================] - 2s 3ms/step - loss: 0.0764 - accuracy: 0.9969 - mse: 0.0764 - mae: 0.2331 - rmse: 0.2760 - val_loss: 0.0751 - val_accuracy: 0.9971 - val_mse: 0.0751 - val_mae: 0.2312 - val_rmse: 0.2736\n",
      "Epoch 31/300\n",
      "537/537 [==============================] - 2s 3ms/step - loss: 0.0738 - accuracy: 0.9969 - mse: 0.0738 - mae: 0.2292 - rmse: 0.2713 - val_loss: 0.0725 - val_accuracy: 0.9971 - val_mse: 0.0725 - val_mae: 0.2273 - val_rmse: 0.2689\n",
      "Epoch 32/300\n",
      "537/537 [==============================] - 2s 3ms/step - loss: 0.0713 - accuracy: 0.9969 - mse: 0.0713 - mae: 0.2253 - rmse: 0.2665 - val_loss: 0.0700 - val_accuracy: 0.9971 - val_mse: 0.0700 - val_mae: 0.2233 - val_rmse: 0.2640\n",
      "Epoch 33/300\n",
      "537/537 [==============================] - 2s 3ms/step - loss: 0.0687 - accuracy: 0.9969 - mse: 0.0687 - mae: 0.2213 - rmse: 0.2616 - val_loss: 0.0674 - val_accuracy: 0.9971 - val_mse: 0.0674 - val_mae: 0.2193 - val_rmse: 0.2592\n",
      "Epoch 34/300\n",
      "537/537 [==============================] - 2s 3ms/step - loss: 0.0662 - accuracy: 0.9969 - mse: 0.0662 - mae: 0.2173 - rmse: 0.2567 - val_loss: 0.0649 - val_accuracy: 0.9971 - val_mse: 0.0649 - val_mae: 0.2152 - val_rmse: 0.2542\n"
     ]
    },
    {
     "name": "stdout",
     "output_type": "stream",
     "text": [
      "Epoch 35/300\n",
      "537/537 [==============================] - 2s 4ms/step - loss: 0.0637 - accuracy: 0.9969 - mse: 0.0637 - mae: 0.2132 - rmse: 0.2518 - val_loss: 0.0624 - val_accuracy: 0.9971 - val_mse: 0.0624 - val_mae: 0.2111 - val_rmse: 0.2493\n",
      "Epoch 36/300\n",
      "537/537 [==============================] - 2s 3ms/step - loss: 0.0612 - accuracy: 0.9969 - mse: 0.0612 - mae: 0.2090 - rmse: 0.2468 - val_loss: 0.0599 - val_accuracy: 0.9971 - val_mse: 0.0599 - val_mae: 0.2070 - val_rmse: 0.2442\n",
      "Epoch 37/300\n",
      "537/537 [==============================] - 2s 3ms/step - loss: 0.0587 - accuracy: 0.9969 - mse: 0.0587 - mae: 0.2049 - rmse: 0.2417 - val_loss: 0.0575 - val_accuracy: 0.9971 - val_mse: 0.0575 - val_mae: 0.2028 - val_rmse: 0.2392\n",
      "Epoch 38/300\n",
      "537/537 [==============================] - 2s 3ms/step - loss: 0.0563 - accuracy: 0.9969 - mse: 0.0563 - mae: 0.2007 - rmse: 0.2366 - val_loss: 0.0551 - val_accuracy: 0.9971 - val_mse: 0.0551 - val_mae: 0.1985 - val_rmse: 0.2341\n",
      "Epoch 39/300\n",
      "537/537 [==============================] - 2s 4ms/step - loss: 0.0539 - accuracy: 0.9969 - mse: 0.0539 - mae: 0.1964 - rmse: 0.2315 - val_loss: 0.0527 - val_accuracy: 0.9971 - val_mse: 0.0527 - val_mae: 0.1943 - val_rmse: 0.2289\n",
      "Epoch 40/300\n",
      "537/537 [==============================] - 2s 3ms/step - loss: 0.0515 - accuracy: 0.9969 - mse: 0.0515 - mae: 0.1921 - rmse: 0.2264 - val_loss: 0.0504 - val_accuracy: 0.9971 - val_mse: 0.0504 - val_mae: 0.1900 - val_rmse: 0.2238\n",
      "Epoch 41/300\n",
      "537/537 [==============================] - 2s 4ms/step - loss: 0.0492 - accuracy: 0.9969 - mse: 0.0492 - mae: 0.1878 - rmse: 0.2212 - val_loss: 0.0481 - val_accuracy: 0.9971 - val_mse: 0.0481 - val_mae: 0.1857 - val_rmse: 0.2186\n",
      "Epoch 42/300\n",
      "537/537 [==============================] - 2s 3ms/step - loss: 0.0469 - accuracy: 0.9969 - mse: 0.0469 - mae: 0.1835 - rmse: 0.2160 - val_loss: 0.0458 - val_accuracy: 0.9971 - val_mse: 0.0458 - val_mae: 0.1814 - val_rmse: 0.2134\n",
      "Epoch 43/300\n",
      "537/537 [==============================] - 2s 3ms/step - loss: 0.0447 - accuracy: 0.9969 - mse: 0.0447 - mae: 0.1792 - rmse: 0.2108 - val_loss: 0.0436 - val_accuracy: 0.9971 - val_mse: 0.0436 - val_mae: 0.1771 - val_rmse: 0.2082\n",
      "Epoch 44/300\n",
      "537/537 [==============================] - 2s 3ms/step - loss: 0.0426 - accuracy: 0.9969 - mse: 0.0426 - mae: 0.1749 - rmse: 0.2056 - val_loss: 0.0415 - val_accuracy: 0.9971 - val_mse: 0.0415 - val_mae: 0.1728 - val_rmse: 0.2030\n",
      "Epoch 45/300\n",
      "537/537 [==============================] - 2s 3ms/step - loss: 0.0404 - accuracy: 0.9969 - mse: 0.0404 - mae: 0.1706 - rmse: 0.2004 - val_loss: 0.0394 - val_accuracy: 0.9971 - val_mse: 0.0394 - val_mae: 0.1684 - val_rmse: 0.1977\n",
      "Epoch 46/300\n",
      "537/537 [==============================] - 2s 3ms/step - loss: 0.0384 - accuracy: 0.9969 - mse: 0.0384 - mae: 0.1663 - rmse: 0.1952 - val_loss: 0.0374 - val_accuracy: 0.9971 - val_mse: 0.0374 - val_mae: 0.1641 - val_rmse: 0.1925\n",
      "Epoch 47/300\n",
      "537/537 [==============================] - 2s 3ms/step - loss: 0.0364 - accuracy: 0.9969 - mse: 0.0364 - mae: 0.1620 - rmse: 0.1900 - val_loss: 0.0354 - val_accuracy: 0.9971 - val_mse: 0.0354 - val_mae: 0.1598 - val_rmse: 0.1874\n",
      "Epoch 48/300\n",
      "537/537 [==============================] - 2s 3ms/step - loss: 0.0344 - accuracy: 0.9969 - mse: 0.0344 - mae: 0.1577 - rmse: 0.1848 - val_loss: 0.0335 - val_accuracy: 0.9971 - val_mse: 0.0335 - val_mae: 0.1555 - val_rmse: 0.1822\n",
      "Epoch 49/300\n",
      "537/537 [==============================] - 2s 3ms/step - loss: 0.0326 - accuracy: 0.9969 - mse: 0.0326 - mae: 0.1534 - rmse: 0.1796 - val_loss: 0.0316 - val_accuracy: 0.9971 - val_mse: 0.0316 - val_mae: 0.1513 - val_rmse: 0.1771\n",
      "Epoch 50/300\n",
      "537/537 [==============================] - 2s 3ms/step - loss: 0.0307 - accuracy: 0.9969 - mse: 0.0307 - mae: 0.1491 - rmse: 0.1745 - val_loss: 0.0298 - val_accuracy: 0.9971 - val_mse: 0.0298 - val_mae: 0.1470 - val_rmse: 0.1719\n",
      "Epoch 51/300\n",
      "537/537 [==============================] - 2s 3ms/step - loss: 0.0290 - accuracy: 0.9969 - mse: 0.0290 - mae: 0.1449 - rmse: 0.1694 - val_loss: 0.0281 - val_accuracy: 0.9971 - val_mse: 0.0281 - val_mae: 0.1428 - val_rmse: 0.1669\n",
      "Epoch 52/300\n",
      "537/537 [==============================] - 2s 3ms/step - loss: 0.0273 - accuracy: 0.9969 - mse: 0.0273 - mae: 0.1407 - rmse: 0.1643 - val_loss: 0.0265 - val_accuracy: 0.9971 - val_mse: 0.0265 - val_mae: 0.1386 - val_rmse: 0.1618\n",
      "Epoch 53/300\n",
      "537/537 [==============================] - 2s 3ms/step - loss: 0.0257 - accuracy: 0.9969 - mse: 0.0257 - mae: 0.1365 - rmse: 0.1593 - val_loss: 0.0249 - val_accuracy: 0.9971 - val_mse: 0.0249 - val_mae: 0.1344 - val_rmse: 0.1568\n",
      "Epoch 54/300\n",
      "537/537 [==============================] - 2s 4ms/step - loss: 0.0241 - accuracy: 0.9969 - mse: 0.0241 - mae: 0.1324 - rmse: 0.1543 - val_loss: 0.0233 - val_accuracy: 0.9971 - val_mse: 0.0233 - val_mae: 0.1303 - val_rmse: 0.1519\n",
      "Epoch 55/300\n",
      "537/537 [==============================] - 2s 4ms/step - loss: 0.0226 - accuracy: 0.9969 - mse: 0.0226 - mae: 0.1283 - rmse: 0.1494 - val_loss: 0.0219 - val_accuracy: 0.9971 - val_mse: 0.0219 - val_mae: 0.1262 - val_rmse: 0.1470\n",
      "Epoch 56/300\n",
      "537/537 [==============================] - 2s 4ms/step - loss: 0.0212 - accuracy: 0.9969 - mse: 0.0212 - mae: 0.1242 - rmse: 0.1446 - val_loss: 0.0205 - val_accuracy: 0.9971 - val_mse: 0.0205 - val_mae: 0.1222 - val_rmse: 0.1421\n",
      "Epoch 57/300\n",
      "537/537 [==============================] - 2s 4ms/step - loss: 0.0198 - accuracy: 0.9969 - mse: 0.0198 - mae: 0.1202 - rmse: 0.1397 - val_loss: 0.0191 - val_accuracy: 0.9971 - val_mse: 0.0191 - val_mae: 0.1182 - val_rmse: 0.1374\n",
      "Epoch 58/300\n",
      "537/537 [==============================] - 2s 3ms/step - loss: 0.0185 - accuracy: 0.9969 - mse: 0.0185 - mae: 0.1163 - rmse: 0.1350 - val_loss: 0.0179 - val_accuracy: 0.9971 - val_mse: 0.0179 - val_mae: 0.1143 - val_rmse: 0.1327\n",
      "Epoch 59/300\n",
      "537/537 [==============================] - 1s 3ms/step - loss: 0.0172 - accuracy: 0.9969 - mse: 0.0172 - mae: 0.1124 - rmse: 0.1303 - val_loss: 0.0166 - val_accuracy: 0.9971 - val_mse: 0.0166 - val_mae: 0.1104 - val_rmse: 0.1280\n",
      "Epoch 60/300\n",
      "537/537 [==============================] - 2s 4ms/step - loss: 0.0161 - accuracy: 0.9969 - mse: 0.0161 - mae: 0.1085 - rmse: 0.1257 - val_loss: 0.0155 - val_accuracy: 0.9971 - val_mse: 0.0155 - val_mae: 0.1066 - val_rmse: 0.1235\n",
      "Epoch 61/300\n",
      "537/537 [==============================] - 2s 4ms/step - loss: 0.0149 - accuracy: 0.9969 - mse: 0.0149 - mae: 0.1047 - rmse: 0.1212 - val_loss: 0.0144 - val_accuracy: 0.9971 - val_mse: 0.0144 - val_mae: 0.1029 - val_rmse: 0.1190\n",
      "Epoch 62/300\n",
      "537/537 [==============================] - 2s 3ms/step - loss: 0.0139 - accuracy: 0.9969 - mse: 0.0139 - mae: 0.1010 - rmse: 0.1168 - val_loss: 0.0134 - val_accuracy: 0.9971 - val_mse: 0.0134 - val_mae: 0.0992 - val_rmse: 0.1146\n",
      "Epoch 63/300\n",
      "537/537 [==============================] - 1s 3ms/step - loss: 0.0129 - accuracy: 0.9969 - mse: 0.0129 - mae: 0.0974 - rmse: 0.1124 - val_loss: 0.0124 - val_accuracy: 0.9971 - val_mse: 0.0124 - val_mae: 0.0956 - val_rmse: 0.1103\n",
      "Epoch 64/300\n",
      "537/537 [==============================] - 1s 3ms/step - loss: 0.0119 - accuracy: 0.9969 - mse: 0.0119 - mae: 0.0938 - rmse: 0.1082 - val_loss: 0.0115 - val_accuracy: 0.9971 - val_mse: 0.0115 - val_mae: 0.0921 - val_rmse: 0.1061\n",
      "Epoch 65/300\n",
      "537/537 [==============================] - 2s 3ms/step - loss: 0.0110 - accuracy: 0.9969 - mse: 0.0110 - mae: 0.0903 - rmse: 0.1040 - val_loss: 0.0106 - val_accuracy: 0.9971 - val_mse: 0.0106 - val_mae: 0.0886 - val_rmse: 0.1020\n",
      "Epoch 66/300\n",
      "537/537 [==============================] - 2s 4ms/step - loss: 0.0102 - accuracy: 0.9969 - mse: 0.0102 - mae: 0.0869 - rmse: 0.1000 - val_loss: 0.0098 - val_accuracy: 0.9971 - val_mse: 0.0098 - val_mae: 0.0852 - val_rmse: 0.0980\n",
      "Epoch 67/300\n",
      "537/537 [==============================] - 2s 3ms/step - loss: 0.0094 - accuracy: 0.9969 - mse: 0.0094 - mae: 0.0835 - rmse: 0.0960 - val_loss: 0.0091 - val_accuracy: 0.9971 - val_mse: 0.0091 - val_mae: 0.0819 - val_rmse: 0.0940\n",
      "Epoch 68/300\n",
      "537/537 [==============================] - 2s 3ms/step - loss: 0.0087 - accuracy: 0.9969 - mse: 0.0087 - mae: 0.0802 - rmse: 0.0921 - val_loss: 0.0083 - val_accuracy: 0.9971 - val_mse: 0.0083 - val_mae: 0.0786 - val_rmse: 0.0902\n"
     ]
    },
    {
     "name": "stdout",
     "output_type": "stream",
     "text": [
      "Epoch 69/300\n",
      "537/537 [==============================] - 2s 4ms/step - loss: 0.0080 - accuracy: 0.9969 - mse: 0.0080 - mae: 0.0770 - rmse: 0.0883 - val_loss: 0.0077 - val_accuracy: 0.9971 - val_mse: 0.0077 - val_mae: 0.0755 - val_rmse: 0.0865\n",
      "Epoch 70/300\n",
      "537/537 [==============================] - 2s 3ms/step - loss: 0.0074 - accuracy: 0.9969 - mse: 0.0074 - mae: 0.0739 - rmse: 0.0847 - val_loss: 0.0071 - val_accuracy: 0.9971 - val_mse: 0.0071 - val_mae: 0.0724 - val_rmse: 0.0829\n",
      "Epoch 71/300\n",
      "537/537 [==============================] - 2s 4ms/step - loss: 0.0068 - accuracy: 0.9969 - mse: 0.0068 - mae: 0.0708 - rmse: 0.0811 - val_loss: 0.0065 - val_accuracy: 0.9971 - val_mse: 0.0065 - val_mae: 0.0694 - val_rmse: 0.0794\n",
      "Epoch 72/300\n",
      "537/537 [==============================] - 2s 4ms/step - loss: 0.0062 - accuracy: 0.9969 - mse: 0.0062 - mae: 0.0679 - rmse: 0.0777 - val_loss: 0.0060 - val_accuracy: 0.9971 - val_mse: 0.0060 - val_mae: 0.0665 - val_rmse: 0.0760\n",
      "Epoch 73/300\n",
      "537/537 [==============================] - 2s 3ms/step - loss: 0.0057 - accuracy: 0.9969 - mse: 0.0057 - mae: 0.0650 - rmse: 0.0744 - val_loss: 0.0055 - val_accuracy: 0.9971 - val_mse: 0.0055 - val_mae: 0.0636 - val_rmse: 0.0728\n",
      "Epoch 74/300\n",
      "537/537 [==============================] - 2s 4ms/step - loss: 0.0052 - accuracy: 0.9969 - mse: 0.0052 - mae: 0.0622 - rmse: 0.0711 - val_loss: 0.0050 - val_accuracy: 0.9971 - val_mse: 0.0050 - val_mae: 0.0609 - val_rmse: 0.0696\n",
      "Epoch 75/300\n",
      "537/537 [==============================] - 2s 4ms/step - loss: 0.0048 - accuracy: 0.9969 - mse: 0.0048 - mae: 0.0595 - rmse: 0.0680 - val_loss: 0.0046 - val_accuracy: 0.9971 - val_mse: 0.0046 - val_mae: 0.0582 - val_rmse: 0.0666\n",
      "Epoch 76/300\n",
      "537/537 [==============================] - 2s 4ms/step - loss: 0.0044 - accuracy: 0.9969 - mse: 0.0044 - mae: 0.0569 - rmse: 0.0651 - val_loss: 0.0042 - val_accuracy: 0.9971 - val_mse: 0.0042 - val_mae: 0.0557 - val_rmse: 0.0636\n",
      "Epoch 77/300\n",
      "537/537 [==============================] - 1s 3ms/step - loss: 0.0040 - accuracy: 0.9969 - mse: 0.0040 - mae: 0.0544 - rmse: 0.0622 - val_loss: 0.0039 - val_accuracy: 0.9971 - val_mse: 0.0039 - val_mae: 0.0532 - val_rmse: 0.0608\n",
      "Epoch 78/300\n",
      "537/537 [==============================] - 2s 4ms/step - loss: 0.0037 - accuracy: 0.9969 - mse: 0.0037 - mae: 0.0520 - rmse: 0.0595 - val_loss: 0.0035 - val_accuracy: 0.9971 - val_mse: 0.0035 - val_mae: 0.0508 - val_rmse: 0.0582\n",
      "Epoch 79/300\n",
      "537/537 [==============================] - 3s 5ms/step - loss: 0.0034 - accuracy: 0.9969 - mse: 0.0034 - mae: 0.0497 - rmse: 0.0568 - val_loss: 0.0032 - val_accuracy: 0.9971 - val_mse: 0.0032 - val_mae: 0.0485 - val_rmse: 0.0556\n",
      "Epoch 80/300\n",
      "537/537 [==============================] - 2s 5ms/step - loss: 0.0031 - accuracy: 0.9969 - mse: 0.0031 - mae: 0.0474 - rmse: 0.0543 - val_loss: 0.0030 - val_accuracy: 0.9971 - val_mse: 0.0030 - val_mae: 0.0463 - val_rmse: 0.0531\n",
      "Epoch 81/300\n",
      "537/537 [==============================] - 3s 5ms/step - loss: 0.0028 - accuracy: 0.9969 - mse: 0.0028 - mae: 0.0453 - rmse: 0.0519 - val_loss: 0.0027 - val_accuracy: 0.9971 - val_mse: 0.0027 - val_mae: 0.0442 - val_rmse: 0.0508\n",
      "Epoch 82/300\n",
      "537/537 [==============================] - 3s 5ms/step - loss: 0.0026 - accuracy: 0.9969 - mse: 0.0026 - mae: 0.0432 - rmse: 0.0497 - val_loss: 0.0025 - val_accuracy: 0.9971 - val_mse: 0.0025 - val_mae: 0.0422 - val_rmse: 0.0486\n",
      "Epoch 83/300\n",
      "537/537 [==============================] - 3s 5ms/step - loss: 0.0024 - accuracy: 0.9969 - mse: 0.0024 - mae: 0.0412 - rmse: 0.0475 - val_loss: 0.0023 - val_accuracy: 0.9971 - val_mse: 0.0023 - val_mae: 0.0403 - val_rmse: 0.0465\n",
      "Epoch 84/300\n",
      "537/537 [==============================] - 3s 5ms/step - loss: 0.0022 - accuracy: 0.9969 - mse: 0.0022 - mae: 0.0394 - rmse: 0.0455 - val_loss: 0.0021 - val_accuracy: 0.9971 - val_mse: 0.0021 - val_mae: 0.0385 - val_rmse: 0.0445\n",
      "Epoch 85/300\n",
      "537/537 [==============================] - 3s 5ms/step - loss: 0.0020 - accuracy: 0.9969 - mse: 0.0020 - mae: 0.0376 - rmse: 0.0436 - val_loss: 0.0020 - val_accuracy: 0.9971 - val_mse: 0.0020 - val_mae: 0.0368 - val_rmse: 0.0427\n",
      "Epoch 86/300\n",
      "537/537 [==============================] - 3s 5ms/step - loss: 0.0019 - accuracy: 0.9969 - mse: 0.0019 - mae: 0.0359 - rmse: 0.0418 - val_loss: 0.0018 - val_accuracy: 0.9971 - val_mse: 0.0018 - val_mae: 0.0352 - val_rmse: 0.0409\n",
      "Epoch 87/300\n",
      "537/537 [==============================] - 3s 5ms/step - loss: 0.0017 - accuracy: 0.9969 - mse: 0.0017 - mae: 0.0344 - rmse: 0.0401 - val_loss: 0.0017 - val_accuracy: 0.9971 - val_mse: 0.0017 - val_mae: 0.0336 - val_rmse: 0.0393\n",
      "Epoch 88/300\n",
      "537/537 [==============================] - 3s 5ms/step - loss: 0.0016 - accuracy: 0.9969 - mse: 0.0016 - mae: 0.0329 - rmse: 0.0385 - val_loss: 0.0016 - val_accuracy: 0.9971 - val_mse: 0.0016 - val_mae: 0.0322 - val_rmse: 0.0378\n",
      "Epoch 89/300\n",
      "537/537 [==============================] - 3s 5ms/step - loss: 0.0015 - accuracy: 0.9969 - mse: 0.0015 - mae: 0.0315 - rmse: 0.0371 - val_loss: 0.0015 - val_accuracy: 0.9971 - val_mse: 0.0015 - val_mae: 0.0309 - val_rmse: 0.0364\n",
      "Epoch 90/300\n",
      "537/537 [==============================] - 2s 5ms/step - loss: 0.0014 - accuracy: 0.9969 - mse: 0.0014 - mae: 0.0302 - rmse: 0.0357 - val_loss: 0.0014 - val_accuracy: 0.9971 - val_mse: 0.0014 - val_mae: 0.0296 - val_rmse: 0.0351\n",
      "Epoch 91/300\n",
      "537/537 [==============================] - 3s 5ms/step - loss: 0.0013 - accuracy: 0.9969 - mse: 0.0013 - mae: 0.0290 - rmse: 0.0344 - val_loss: 0.0013 - val_accuracy: 0.9971 - val_mse: 0.0013 - val_mae: 0.0285 - val_rmse: 0.0339\n",
      "Epoch 92/300\n",
      "537/537 [==============================] - 3s 5ms/step - loss: 0.0012 - accuracy: 0.9969 - mse: 0.0012 - mae: 0.0279 - rmse: 0.0333 - val_loss: 0.0012 - val_accuracy: 0.9971 - val_mse: 0.0012 - val_mae: 0.0274 - val_rmse: 0.0328\n",
      "Epoch 93/300\n",
      "537/537 [==============================] - 3s 5ms/step - loss: 0.0012 - accuracy: 0.9969 - mse: 0.0012 - mae: 0.0269 - rmse: 0.0322 - val_loss: 0.0011 - val_accuracy: 0.9971 - val_mse: 0.0011 - val_mae: 0.0265 - val_rmse: 0.0317\n",
      "Epoch 94/300\n",
      "537/537 [==============================] - 3s 5ms/step - loss: 0.0011 - accuracy: 0.9969 - mse: 0.0011 - mae: 0.0260 - rmse: 0.0313 - val_loss: 0.0011 - val_accuracy: 0.9971 - val_mse: 0.0011 - val_mae: 0.0256 - val_rmse: 0.0308\n",
      "Epoch 95/300\n",
      "537/537 [==============================] - 3s 5ms/step - loss: 0.0011 - accuracy: 0.9969 - mse: 0.0011 - mae: 0.0252 - rmse: 0.0304 - val_loss: 0.0010 - val_accuracy: 0.9971 - val_mse: 0.0010 - val_mae: 0.0248 - val_rmse: 0.0300\n",
      "Epoch 96/300\n",
      "537/537 [==============================] - 2s 5ms/step - loss: 0.0010 - accuracy: 0.9969 - mse: 0.0010 - mae: 0.0244 - rmse: 0.0296 - val_loss: 9.9874e-04 - val_accuracy: 0.9971 - val_mse: 9.9874e-04 - val_mae: 0.0241 - val_rmse: 0.0292\n",
      "Epoch 97/300\n",
      "537/537 [==============================] - 3s 5ms/step - loss: 9.8117e-04 - accuracy: 0.9969 - mse: 9.8117e-04 - mae: 0.0237 - rmse: 0.0289 - val_loss: 9.6273e-04 - val_accuracy: 0.9971 - val_mse: 9.6273e-04 - val_mae: 0.0234 - val_rmse: 0.0286\n",
      "Epoch 98/300\n",
      "537/537 [==============================] - 3s 5ms/step - loss: 9.4768e-04 - accuracy: 0.9969 - mse: 9.4768e-04 - mae: 0.0231 - rmse: 0.0283 - val_loss: 9.3149e-04 - val_accuracy: 0.9971 - val_mse: 9.3149e-04 - val_mae: 0.0228 - val_rmse: 0.0279\n",
      "Epoch 99/300\n",
      "537/537 [==============================] - 3s 5ms/step - loss: 9.1857e-04 - accuracy: 0.9969 - mse: 9.1857e-04 - mae: 0.0225 - rmse: 0.0277 - val_loss: 9.0427e-04 - val_accuracy: 0.9971 - val_mse: 9.0427e-04 - val_mae: 0.0223 - val_rmse: 0.0274\n",
      "Epoch 100/300\n",
      "537/537 [==============================] - 3s 5ms/step - loss: 8.9312e-04 - accuracy: 0.9969 - mse: 8.9312e-04 - mae: 0.0220 - rmse: 0.0271 - val_loss: 8.8036e-04 - val_accuracy: 0.9971 - val_mse: 8.8036e-04 - val_mae: 0.0217 - val_rmse: 0.0269\n",
      "Epoch 101/300\n",
      "537/537 [==============================] - 3s 5ms/step - loss: 8.7066e-04 - accuracy: 0.9969 - mse: 8.7066e-04 - mae: 0.0215 - rmse: 0.0267 - val_loss: 8.5914e-04 - val_accuracy: 0.9971 - val_mse: 8.5914e-04 - val_mae: 0.0213 - val_rmse: 0.0264\n",
      "Epoch 102/300\n"
     ]
    },
    {
     "name": "stdout",
     "output_type": "stream",
     "text": [
      "537/537 [==============================] - 3s 5ms/step - loss: 8.5060e-04 - accuracy: 0.9969 - mse: 8.5060e-04 - mae: 0.0211 - rmse: 0.0262 - val_loss: 8.4006e-04 - val_accuracy: 0.9971 - val_mse: 8.4006e-04 - val_mae: 0.0209 - val_rmse: 0.0260\n",
      "Epoch 103/300\n",
      "537/537 [==============================] - 3s 5ms/step - loss: 8.3244e-04 - accuracy: 0.9969 - mse: 8.3244e-04 - mae: 0.0207 - rmse: 0.0258 - val_loss: 8.2271e-04 - val_accuracy: 0.9971 - val_mse: 8.2271e-04 - val_mae: 0.0205 - val_rmse: 0.0256\n",
      "Epoch 104/300\n",
      "537/537 [==============================] - 3s 5ms/step - loss: 8.1585e-04 - accuracy: 0.9969 - mse: 8.1585e-04 - mae: 0.0203 - rmse: 0.0255 - val_loss: 8.0679e-04 - val_accuracy: 0.9971 - val_mse: 8.0679e-04 - val_mae: 0.0201 - val_rmse: 0.0253\n",
      "Epoch 105/300\n",
      "537/537 [==============================] - 3s 5ms/step - loss: 8.0060e-04 - accuracy: 0.9969 - mse: 8.0060e-04 - mae: 0.0199 - rmse: 0.0251 - val_loss: 7.9216e-04 - val_accuracy: 0.9971 - val_mse: 7.9216e-04 - val_mae: 0.0197 - val_rmse: 0.0250\n",
      "Epoch 106/300\n",
      "537/537 [==============================] - 3s 5ms/step - loss: 7.8658e-04 - accuracy: 0.9969 - mse: 7.8658e-04 - mae: 0.0196 - rmse: 0.0248 - val_loss: 7.7871e-04 - val_accuracy: 0.9971 - val_mse: 7.7871e-04 - val_mae: 0.0194 - val_rmse: 0.0247\n",
      "Epoch 107/300\n",
      "537/537 [==============================] - 3s 5ms/step - loss: 7.7372e-04 - accuracy: 0.9969 - mse: 7.7372e-04 - mae: 0.0193 - rmse: 0.0245 - val_loss: 7.6640e-04 - val_accuracy: 0.9971 - val_mse: 7.6640e-04 - val_mae: 0.0191 - val_rmse: 0.0244\n",
      "Epoch 108/300\n",
      "537/537 [==============================] - 3s 5ms/step - loss: 7.6197e-04 - accuracy: 0.9969 - mse: 7.6197e-04 - mae: 0.0190 - rmse: 0.0243 - val_loss: 7.5519e-04 - val_accuracy: 0.9971 - val_mse: 7.5519e-04 - val_mae: 0.0188 - val_rmse: 0.0241\n",
      "Epoch 109/300\n",
      "537/537 [==============================] - 3s 5ms/step - loss: 7.5127e-04 - accuracy: 0.9969 - mse: 7.5127e-04 - mae: 0.0187 - rmse: 0.0240 - val_loss: 7.4497e-04 - val_accuracy: 0.9971 - val_mse: 7.4497e-04 - val_mae: 0.0185 - val_rmse: 0.0239\n",
      "Epoch 110/300\n",
      "537/537 [==============================] - 3s 5ms/step - loss: 7.4154e-04 - accuracy: 0.9969 - mse: 7.4154e-04 - mae: 0.0184 - rmse: 0.0238 - val_loss: 7.3570e-04 - val_accuracy: 0.9971 - val_mse: 7.3570e-04 - val_mae: 0.0183 - val_rmse: 0.0237\n",
      "Epoch 111/300\n",
      "537/537 [==============================] - 3s 5ms/step - loss: 7.3272e-04 - accuracy: 0.9969 - mse: 7.3272e-04 - mae: 0.0182 - rmse: 0.0236 - val_loss: 7.2729e-04 - val_accuracy: 0.9971 - val_mse: 7.2729e-04 - val_mae: 0.0180 - val_rmse: 0.0235\n",
      "Epoch 112/300\n",
      "537/537 [==============================] - 3s 5ms/step - loss: 7.2470e-04 - accuracy: 0.9969 - mse: 7.2470e-04 - mae: 0.0179 - rmse: 0.0234 - val_loss: 7.1965e-04 - val_accuracy: 0.9971 - val_mse: 7.1965e-04 - val_mae: 0.0178 - val_rmse: 0.0233\n",
      "Epoch 113/300\n",
      "537/537 [==============================] - 3s 5ms/step - loss: 7.1743e-04 - accuracy: 0.9969 - mse: 7.1743e-04 - mae: 0.0177 - rmse: 0.0232 - val_loss: 7.1271e-04 - val_accuracy: 0.9971 - val_mse: 7.1271e-04 - val_mae: 0.0176 - val_rmse: 0.0231\n",
      "Epoch 114/300\n",
      "537/537 [==============================] - 3s 5ms/step - loss: 7.1082e-04 - accuracy: 0.9969 - mse: 7.1082e-04 - mae: 0.0175 - rmse: 0.0231 - val_loss: 7.0641e-04 - val_accuracy: 0.9971 - val_mse: 7.0641e-04 - val_mae: 0.0174 - val_rmse: 0.0230\n",
      "Epoch 115/300\n",
      "537/537 [==============================] - 3s 5ms/step - loss: 7.0479e-04 - accuracy: 0.9969 - mse: 7.0479e-04 - mae: 0.0174 - rmse: 0.0229 - val_loss: 7.0063e-04 - val_accuracy: 0.9971 - val_mse: 7.0063e-04 - val_mae: 0.0173 - val_rmse: 0.0228\n",
      "Epoch 116/300\n",
      "537/537 [==============================] - 3s 5ms/step - loss: 6.9928e-04 - accuracy: 0.9969 - mse: 6.9928e-04 - mae: 0.0172 - rmse: 0.0228 - val_loss: 6.9534e-04 - val_accuracy: 0.9971 - val_mse: 6.9534e-04 - val_mae: 0.0171 - val_rmse: 0.0227\n",
      "Epoch 117/300\n",
      "537/537 [==============================] - 3s 5ms/step - loss: 6.9421e-04 - accuracy: 0.9969 - mse: 6.9421e-04 - mae: 0.0170 - rmse: 0.0227 - val_loss: 6.9046e-04 - val_accuracy: 0.9971 - val_mse: 6.9046e-04 - val_mae: 0.0170 - val_rmse: 0.0226\n",
      "Epoch 118/300\n",
      "537/537 [==============================] - 3s 5ms/step - loss: 6.8952e-04 - accuracy: 0.9969 - mse: 6.8952e-04 - mae: 0.0169 - rmse: 0.0225 - val_loss: 6.8595e-04 - val_accuracy: 0.9971 - val_mse: 6.8595e-04 - val_mae: 0.0168 - val_rmse: 0.0225\n",
      "Epoch 119/300\n",
      "537/537 [==============================] - 3s 5ms/step - loss: 6.8517e-04 - accuracy: 0.9969 - mse: 6.8517e-04 - mae: 0.0168 - rmse: 0.0224 - val_loss: 6.8176e-04 - val_accuracy: 0.9971 - val_mse: 6.8176e-04 - val_mae: 0.0167 - val_rmse: 0.0224\n",
      "Epoch 120/300\n",
      "537/537 [==============================] - 3s 5ms/step - loss: 6.8114e-04 - accuracy: 0.9969 - mse: 6.8114e-04 - mae: 0.0167 - rmse: 0.0223 - val_loss: 6.7786e-04 - val_accuracy: 0.9971 - val_mse: 6.7786e-04 - val_mae: 0.0166 - val_rmse: 0.0223\n",
      "Epoch 121/300\n",
      "537/537 [==============================] - 3s 5ms/step - loss: 6.7736e-04 - accuracy: 0.9969 - mse: 6.7736e-04 - mae: 0.0166 - rmse: 0.0223 - val_loss: 6.7419e-04 - val_accuracy: 0.9971 - val_mse: 6.7419e-04 - val_mae: 0.0165 - val_rmse: 0.0222\n",
      "Epoch 122/300\n",
      "537/537 [==============================] - 2s 4ms/step - loss: 6.7382e-04 - accuracy: 0.9969 - mse: 6.7382e-04 - mae: 0.0164 - rmse: 0.0222 - val_loss: 6.7074e-04 - val_accuracy: 0.9971 - val_mse: 6.7074e-04 - val_mae: 0.0164 - val_rmse: 0.0221\n",
      "Epoch 123/300\n",
      "537/537 [==============================] - 3s 5ms/step - loss: 6.7047e-04 - accuracy: 0.9969 - mse: 6.7047e-04 - mae: 0.0164 - rmse: 0.0221 - val_loss: 6.6749e-04 - val_accuracy: 0.9971 - val_mse: 6.6749e-04 - val_mae: 0.0163 - val_rmse: 0.0220\n",
      "Epoch 124/300\n",
      "537/537 [==============================] - 3s 5ms/step - loss: 6.6730e-04 - accuracy: 0.9969 - mse: 6.6730e-04 - mae: 0.0163 - rmse: 0.0220 - val_loss: 6.6438e-04 - val_accuracy: 0.9971 - val_mse: 6.6438e-04 - val_mae: 0.0162 - val_rmse: 0.0220\n",
      "Epoch 125/300\n",
      "537/537 [==============================] - 3s 5ms/step - loss: 6.6428e-04 - accuracy: 0.9969 - mse: 6.6428e-04 - mae: 0.0162 - rmse: 0.0220 - val_loss: 6.6143e-04 - val_accuracy: 0.9971 - val_mse: 6.6143e-04 - val_mae: 0.0161 - val_rmse: 0.0219\n",
      "Epoch 126/300\n",
      "537/537 [==============================] - 3s 5ms/step - loss: 6.6138e-04 - accuracy: 0.9969 - mse: 6.6138e-04 - mae: 0.0161 - rmse: 0.0219 - val_loss: 6.5859e-04 - val_accuracy: 0.9971 - val_mse: 6.5859e-04 - val_mae: 0.0160 - val_rmse: 0.0218\n",
      "Epoch 127/300\n",
      "537/537 [==============================] - 3s 5ms/step - loss: 6.5860e-04 - accuracy: 0.9969 - mse: 6.5860e-04 - mae: 0.0160 - rmse: 0.0218 - val_loss: 6.5587e-04 - val_accuracy: 0.9971 - val_mse: 6.5587e-04 - val_mae: 0.0159 - val_rmse: 0.0218\n",
      "Epoch 128/300\n",
      "537/537 [==============================] - 3s 5ms/step - loss: 6.5593e-04 - accuracy: 0.9969 - mse: 6.5593e-04 - mae: 0.0159 - rmse: 0.0218 - val_loss: 6.5323e-04 - val_accuracy: 0.9971 - val_mse: 6.5323e-04 - val_mae: 0.0159 - val_rmse: 0.0217\n",
      "Epoch 129/300\n",
      "537/537 [==============================] - 2s 5ms/step - loss: 6.5336e-04 - accuracy: 0.9969 - mse: 6.5336e-04 - mae: 0.0158 - rmse: 0.0217 - val_loss: 6.5071e-04 - val_accuracy: 0.9971 - val_mse: 6.5071e-04 - val_mae: 0.0158 - val_rmse: 0.0217\n",
      "Epoch 130/300\n",
      "537/537 [==============================] - 2s 5ms/step - loss: 6.5088e-04 - accuracy: 0.9969 - mse: 6.5088e-04 - mae: 0.0158 - rmse: 0.0217 - val_loss: 6.4826e-04 - val_accuracy: 0.9971 - val_mse: 6.4826e-04 - val_mae: 0.0157 - val_rmse: 0.0216\n",
      "Epoch 131/300\n",
      "537/537 [==============================] - 3s 5ms/step - loss: 6.4849e-04 - accuracy: 0.9969 - mse: 6.4849e-04 - mae: 0.0157 - rmse: 0.0216 - val_loss: 6.4592e-04 - val_accuracy: 0.9971 - val_mse: 6.4592e-04 - val_mae: 0.0157 - val_rmse: 0.0216\n",
      "Epoch 132/300\n",
      "537/537 [==============================] - 3s 5ms/step - loss: 6.4618e-04 - accuracy: 0.9969 - mse: 6.4618e-04 - mae: 0.0156 - rmse: 0.0216 - val_loss: 6.4365e-04 - val_accuracy: 0.9971 - val_mse: 6.4365e-04 - val_mae: 0.0156 - val_rmse: 0.0215\n",
      "Epoch 133/300\n",
      "537/537 [==============================] - 3s 5ms/step - loss: 6.4395e-04 - accuracy: 0.9969 - mse: 6.4395e-04 - mae: 0.0156 - rmse: 0.0215 - val_loss: 6.4145e-04 - val_accuracy: 0.9971 - val_mse: 6.4145e-04 - val_mae: 0.0155 - val_rmse: 0.0215\n"
     ]
    },
    {
     "name": "stdout",
     "output_type": "stream",
     "text": [
      "Epoch 134/300\n",
      "537/537 [==============================] - 3s 5ms/step - loss: 6.4178e-04 - accuracy: 0.9969 - mse: 6.4178e-04 - mae: 0.0155 - rmse: 0.0215 - val_loss: 6.3929e-04 - val_accuracy: 0.9971 - val_mse: 6.3929e-04 - val_mae: 0.0155 - val_rmse: 0.0214\n",
      "Epoch 135/300\n",
      "537/537 [==============================] - 3s 5ms/step - loss: 6.3967e-04 - accuracy: 0.9969 - mse: 6.3967e-04 - mae: 0.0154 - rmse: 0.0214 - val_loss: 6.3722e-04 - val_accuracy: 0.9971 - val_mse: 6.3722e-04 - val_mae: 0.0154 - val_rmse: 0.0214\n",
      "Epoch 136/300\n",
      "537/537 [==============================] - 3s 5ms/step - loss: 6.3764e-04 - accuracy: 0.9969 - mse: 6.3764e-04 - mae: 0.0154 - rmse: 0.0214 - val_loss: 6.3521e-04 - val_accuracy: 0.9971 - val_mse: 6.3521e-04 - val_mae: 0.0154 - val_rmse: 0.0214\n",
      "Epoch 137/300\n",
      "537/537 [==============================] - 2s 4ms/step - loss: 6.3564e-04 - accuracy: 0.9969 - mse: 6.3564e-04 - mae: 0.0153 - rmse: 0.0214 - val_loss: 6.3323e-04 - val_accuracy: 0.9971 - val_mse: 6.3323e-04 - val_mae: 0.0153 - val_rmse: 0.0213\n",
      "Epoch 138/300\n",
      "537/537 [==============================] - 3s 5ms/step - loss: 6.3370e-04 - accuracy: 0.9969 - mse: 6.3370e-04 - mae: 0.0153 - rmse: 0.0213 - val_loss: 6.3131e-04 - val_accuracy: 0.9971 - val_mse: 6.3131e-04 - val_mae: 0.0152 - val_rmse: 0.0213\n",
      "Epoch 139/300\n",
      "537/537 [==============================] - 3s 5ms/step - loss: 6.3181e-04 - accuracy: 0.9969 - mse: 6.3181e-04 - mae: 0.0152 - rmse: 0.0213 - val_loss: 6.2945e-04 - val_accuracy: 0.9971 - val_mse: 6.2945e-04 - val_mae: 0.0152 - val_rmse: 0.0212\n",
      "Epoch 140/300\n",
      "537/537 [==============================] - 3s 5ms/step - loss: 6.2998e-04 - accuracy: 0.9969 - mse: 6.2998e-04 - mae: 0.0152 - rmse: 0.0212 - val_loss: 6.2764e-04 - val_accuracy: 0.9971 - val_mse: 6.2764e-04 - val_mae: 0.0152 - val_rmse: 0.0212\n",
      "Epoch 141/300\n",
      "537/537 [==============================] - 3s 5ms/step - loss: 6.2820e-04 - accuracy: 0.9969 - mse: 6.2820e-04 - mae: 0.0151 - rmse: 0.0212 - val_loss: 6.2588e-04 - val_accuracy: 0.9971 - val_mse: 6.2588e-04 - val_mae: 0.0151 - val_rmse: 0.0212\n",
      "Epoch 142/300\n",
      "537/537 [==============================] - 3s 5ms/step - loss: 6.2645e-04 - accuracy: 0.9969 - mse: 6.2645e-04 - mae: 0.0151 - rmse: 0.0212 - val_loss: 6.2415e-04 - val_accuracy: 0.9971 - val_mse: 6.2415e-04 - val_mae: 0.0151 - val_rmse: 0.0211\n",
      "Epoch 143/300\n",
      "537/537 [==============================] - 3s 5ms/step - loss: 6.2476e-04 - accuracy: 0.9969 - mse: 6.2476e-04 - mae: 0.0151 - rmse: 0.0211 - val_loss: 6.2248e-04 - val_accuracy: 0.9971 - val_mse: 6.2248e-04 - val_mae: 0.0150 - val_rmse: 0.0211\n",
      "Epoch 144/300\n",
      "537/537 [==============================] - 2s 5ms/step - loss: 6.2311e-04 - accuracy: 0.9969 - mse: 6.2311e-04 - mae: 0.0150 - rmse: 0.0211 - val_loss: 6.2085e-04 - val_accuracy: 0.9971 - val_mse: 6.2085e-04 - val_mae: 0.0150 - val_rmse: 0.0211\n",
      "Epoch 145/300\n",
      "537/537 [==============================] - 3s 5ms/step - loss: 6.2149e-04 - accuracy: 0.9969 - mse: 6.2149e-04 - mae: 0.0150 - rmse: 0.0211 - val_loss: 6.1925e-04 - val_accuracy: 0.9971 - val_mse: 6.1925e-04 - val_mae: 0.0149 - val_rmse: 0.0210\n",
      "Epoch 146/300\n",
      "537/537 [==============================] - 3s 5ms/step - loss: 6.1992e-04 - accuracy: 0.9969 - mse: 6.1992e-04 - mae: 0.0149 - rmse: 0.0211 - val_loss: 6.1771e-04 - val_accuracy: 0.9971 - val_mse: 6.1771e-04 - val_mae: 0.0149 - val_rmse: 0.0210\n",
      "Epoch 147/300\n",
      "537/537 [==============================] - 3s 5ms/step - loss: 6.1839e-04 - accuracy: 0.9969 - mse: 6.1839e-04 - mae: 0.0149 - rmse: 0.0210 - val_loss: 6.1621e-04 - val_accuracy: 0.9971 - val_mse: 6.1621e-04 - val_mae: 0.0149 - val_rmse: 0.0210\n",
      "Epoch 148/300\n",
      "537/537 [==============================] - 3s 5ms/step - loss: 6.1689e-04 - accuracy: 0.9969 - mse: 6.1689e-04 - mae: 0.0149 - rmse: 0.0210 - val_loss: 6.1471e-04 - val_accuracy: 0.9971 - val_mse: 6.1471e-04 - val_mae: 0.0148 - val_rmse: 0.0210\n",
      "Epoch 149/300\n",
      "537/537 [==============================] - 3s 5ms/step - loss: 6.1545e-04 - accuracy: 0.9969 - mse: 6.1545e-04 - mae: 0.0148 - rmse: 0.0210 - val_loss: 6.1329e-04 - val_accuracy: 0.9971 - val_mse: 6.1329e-04 - val_mae: 0.0148 - val_rmse: 0.0209\n",
      "Epoch 150/300\n",
      "537/537 [==============================] - 3s 5ms/step - loss: 6.1405e-04 - accuracy: 0.9969 - mse: 6.1405e-04 - mae: 0.0148 - rmse: 0.0209 - val_loss: 6.1192e-04 - val_accuracy: 0.9971 - val_mse: 6.1192e-04 - val_mae: 0.0148 - val_rmse: 0.0209\n",
      "Epoch 151/300\n",
      "537/537 [==============================] - 2s 5ms/step - loss: 6.1269e-04 - accuracy: 0.9969 - mse: 6.1269e-04 - mae: 0.0148 - rmse: 0.0209 - val_loss: 6.1058e-04 - val_accuracy: 0.9971 - val_mse: 6.1058e-04 - val_mae: 0.0148 - val_rmse: 0.0209\n",
      "Epoch 152/300\n",
      "537/537 [==============================] - 3s 5ms/step - loss: 6.1138e-04 - accuracy: 0.9969 - mse: 6.1138e-04 - mae: 0.0148 - rmse: 0.0209 - val_loss: 6.0930e-04 - val_accuracy: 0.9971 - val_mse: 6.0930e-04 - val_mae: 0.0147 - val_rmse: 0.0209\n",
      "Epoch 153/300\n",
      "537/537 [==============================] - 2s 5ms/step - loss: 6.1010e-04 - accuracy: 0.9969 - mse: 6.1010e-04 - mae: 0.0147 - rmse: 0.0209 - val_loss: 6.0803e-04 - val_accuracy: 0.9971 - val_mse: 6.0803e-04 - val_mae: 0.0147 - val_rmse: 0.0208\n",
      "Epoch 154/300\n",
      "537/537 [==============================] - 3s 5ms/step - loss: 6.0887e-04 - accuracy: 0.9969 - mse: 6.0887e-04 - mae: 0.0147 - rmse: 0.0208 - val_loss: 6.0683e-04 - val_accuracy: 0.9971 - val_mse: 6.0683e-04 - val_mae: 0.0147 - val_rmse: 0.0208\n",
      "Epoch 155/300\n",
      "537/537 [==============================] - 3s 5ms/step - loss: 6.0769e-04 - accuracy: 0.9969 - mse: 6.0769e-04 - mae: 0.0147 - rmse: 0.0208 - val_loss: 6.0569e-04 - val_accuracy: 0.9971 - val_mse: 6.0569e-04 - val_mae: 0.0147 - val_rmse: 0.0208\n",
      "Epoch 156/300\n",
      "537/537 [==============================] - 3s 5ms/step - loss: 6.0656e-04 - accuracy: 0.9969 - mse: 6.0656e-04 - mae: 0.0147 - rmse: 0.0208 - val_loss: 6.0456e-04 - val_accuracy: 0.9971 - val_mse: 6.0456e-04 - val_mae: 0.0146 - val_rmse: 0.0208\n",
      "Epoch 157/300\n",
      "537/537 [==============================] - 3s 5ms/step - loss: 6.0547e-04 - accuracy: 0.9969 - mse: 6.0547e-04 - mae: 0.0146 - rmse: 0.0208 - val_loss: 6.0349e-04 - val_accuracy: 0.9971 - val_mse: 6.0349e-04 - val_mae: 0.0146 - val_rmse: 0.0208\n",
      "Epoch 158/300\n",
      "537/537 [==============================] - 3s 5ms/step - loss: 6.0442e-04 - accuracy: 0.9969 - mse: 6.0442e-04 - mae: 0.0146 - rmse: 0.0208 - val_loss: 6.0246e-04 - val_accuracy: 0.9971 - val_mse: 6.0246e-04 - val_mae: 0.0146 - val_rmse: 0.0207\n",
      "Epoch 159/300\n",
      "537/537 [==============================] - 3s 5ms/step - loss: 6.0342e-04 - accuracy: 0.9969 - mse: 6.0342e-04 - mae: 0.0146 - rmse: 0.0207 - val_loss: 6.0148e-04 - val_accuracy: 0.9971 - val_mse: 6.0148e-04 - val_mae: 0.0146 - val_rmse: 0.0207\n",
      "Epoch 160/300\n",
      "537/537 [==============================] - 3s 5ms/step - loss: 6.0246e-04 - accuracy: 0.9969 - mse: 6.0246e-04 - mae: 0.0146 - rmse: 0.0207 - val_loss: 6.0055e-04 - val_accuracy: 0.9971 - val_mse: 6.0055e-04 - val_mae: 0.0146 - val_rmse: 0.0207\n",
      "Epoch 161/300\n",
      "537/537 [==============================] - 3s 5ms/step - loss: 6.0155e-04 - accuracy: 0.9969 - mse: 6.0155e-04 - mae: 0.0146 - rmse: 0.0207 - val_loss: 5.9968e-04 - val_accuracy: 0.9971 - val_mse: 5.9968e-04 - val_mae: 0.0145 - val_rmse: 0.0207\n",
      "Epoch 162/300\n",
      "537/537 [==============================] - 3s 5ms/step - loss: 6.0068e-04 - accuracy: 0.9969 - mse: 6.0068e-04 - mae: 0.0146 - rmse: 0.0207 - val_loss: 5.9883e-04 - val_accuracy: 0.9971 - val_mse: 5.9883e-04 - val_mae: 0.0145 - val_rmse: 0.0207\n",
      "Epoch 163/300\n",
      "537/537 [==============================] - 3s 5ms/step - loss: 5.9986e-04 - accuracy: 0.9969 - mse: 5.9986e-04 - mae: 0.0145 - rmse: 0.0207 - val_loss: 5.9802e-04 - val_accuracy: 0.9971 - val_mse: 5.9802e-04 - val_mae: 0.0145 - val_rmse: 0.0207\n",
      "Epoch 164/300\n",
      "537/537 [==============================] - 3s 5ms/step - loss: 5.9908e-04 - accuracy: 0.9969 - mse: 5.9908e-04 - mae: 0.0145 - rmse: 0.0207 - val_loss: 5.9725e-04 - val_accuracy: 0.9971 - val_mse: 5.9725e-04 - val_mae: 0.0145 - val_rmse: 0.0206\n",
      "Epoch 165/300\n",
      "537/537 [==============================] - 3s 5ms/step - loss: 5.9834e-04 - accuracy: 0.9969 - mse: 5.9834e-04 - mae: 0.0145 - rmse: 0.0207 - val_loss: 5.9655e-04 - val_accuracy: 0.9971 - val_mse: 5.9655e-04 - val_mae: 0.0145 - val_rmse: 0.0206\n"
     ]
    },
    {
     "name": "stdout",
     "output_type": "stream",
     "text": [
      "Epoch 166/300\n",
      "537/537 [==============================] - 3s 5ms/step - loss: 5.9765e-04 - accuracy: 0.9969 - mse: 5.9765e-04 - mae: 0.0145 - rmse: 0.0206 - val_loss: 5.9591e-04 - val_accuracy: 0.9971 - val_mse: 5.9591e-04 - val_mae: 0.0145 - val_rmse: 0.0206\n",
      "Epoch 167/300\n",
      "537/537 [==============================] - 3s 5ms/step - loss: 5.9700e-04 - accuracy: 0.9969 - mse: 5.9700e-04 - mae: 0.0145 - rmse: 0.0206 - val_loss: 5.9526e-04 - val_accuracy: 0.9971 - val_mse: 5.9526e-04 - val_mae: 0.0145 - val_rmse: 0.0206\n",
      "Epoch 168/300\n",
      "537/537 [==============================] - 3s 5ms/step - loss: 5.9640e-04 - accuracy: 0.9969 - mse: 5.9640e-04 - mae: 0.0145 - rmse: 0.0206 - val_loss: 5.9467e-04 - val_accuracy: 0.9971 - val_mse: 5.9467e-04 - val_mae: 0.0145 - val_rmse: 0.0206\n",
      "Epoch 169/300\n",
      "537/537 [==============================] - 2s 4ms/step - loss: 5.9583e-04 - accuracy: 0.9969 - mse: 5.9583e-04 - mae: 0.0145 - rmse: 0.0206 - val_loss: 5.9412e-04 - val_accuracy: 0.9971 - val_mse: 5.9412e-04 - val_mae: 0.0144 - val_rmse: 0.0206\n",
      "Epoch 170/300\n",
      "537/537 [==============================] - 3s 5ms/step - loss: 5.9529e-04 - accuracy: 0.9969 - mse: 5.9529e-04 - mae: 0.0145 - rmse: 0.0206 - val_loss: 5.9362e-04 - val_accuracy: 0.9971 - val_mse: 5.9362e-04 - val_mae: 0.0144 - val_rmse: 0.0206\n",
      "Epoch 171/300\n",
      "537/537 [==============================] - 3s 5ms/step - loss: 5.9479e-04 - accuracy: 0.9969 - mse: 5.9479e-04 - mae: 0.0144 - rmse: 0.0206 - val_loss: 5.9312e-04 - val_accuracy: 0.9971 - val_mse: 5.9312e-04 - val_mae: 0.0144 - val_rmse: 0.0206\n",
      "Epoch 172/300\n",
      "537/537 [==============================] - 3s 5ms/step - loss: 5.9433e-04 - accuracy: 0.9969 - mse: 5.9433e-04 - mae: 0.0144 - rmse: 0.0206 - val_loss: 5.9266e-04 - val_accuracy: 0.9971 - val_mse: 5.9266e-04 - val_mae: 0.0144 - val_rmse: 0.0206\n",
      "Epoch 173/300\n",
      "537/537 [==============================] - 3s 5ms/step - loss: 5.9389e-04 - accuracy: 0.9969 - mse: 5.9389e-04 - mae: 0.0144 - rmse: 0.0206 - val_loss: 5.9225e-04 - val_accuracy: 0.9971 - val_mse: 5.9225e-04 - val_mae: 0.0144 - val_rmse: 0.0206\n",
      "Epoch 174/300\n",
      "537/537 [==============================] - 3s 5ms/step - loss: 5.9349e-04 - accuracy: 0.9969 - mse: 5.9349e-04 - mae: 0.0144 - rmse: 0.0206 - val_loss: 5.9186e-04 - val_accuracy: 0.9971 - val_mse: 5.9186e-04 - val_mae: 0.0144 - val_rmse: 0.0206\n",
      "Epoch 175/300\n",
      "537/537 [==============================] - 3s 5ms/step - loss: 5.9311e-04 - accuracy: 0.9969 - mse: 5.9311e-04 - mae: 0.0144 - rmse: 0.0206 - val_loss: 5.9151e-04 - val_accuracy: 0.9971 - val_mse: 5.9151e-04 - val_mae: 0.0144 - val_rmse: 0.0205\n",
      "Epoch 176/300\n",
      "537/537 [==============================] - 3s 5ms/step - loss: 5.9276e-04 - accuracy: 0.9969 - mse: 5.9276e-04 - mae: 0.0144 - rmse: 0.0206 - val_loss: 5.9116e-04 - val_accuracy: 0.9971 - val_mse: 5.9116e-04 - val_mae: 0.0144 - val_rmse: 0.0205\n",
      "Epoch 177/300\n",
      "537/537 [==============================] - 2s 5ms/step - loss: 5.9243e-04 - accuracy: 0.9969 - mse: 5.9243e-04 - mae: 0.0144 - rmse: 0.0206 - val_loss: 5.9087e-04 - val_accuracy: 0.9971 - val_mse: 5.9087e-04 - val_mae: 0.0144 - val_rmse: 0.0205\n",
      "Epoch 178/300\n",
      "537/537 [==============================] - 3s 5ms/step - loss: 5.9213e-04 - accuracy: 0.9969 - mse: 5.9213e-04 - mae: 0.0144 - rmse: 0.0206 - val_loss: 5.9056e-04 - val_accuracy: 0.9971 - val_mse: 5.9056e-04 - val_mae: 0.0144 - val_rmse: 0.0205\n",
      "Epoch 179/300\n",
      "537/537 [==============================] - 3s 5ms/step - loss: 5.9185e-04 - accuracy: 0.9969 - mse: 5.9185e-04 - mae: 0.0144 - rmse: 0.0205 - val_loss: 5.9028e-04 - val_accuracy: 0.9971 - val_mse: 5.9028e-04 - val_mae: 0.0144 - val_rmse: 0.0205\n",
      "Epoch 180/300\n",
      "537/537 [==============================] - 3s 5ms/step - loss: 5.9158e-04 - accuracy: 0.9969 - mse: 5.9158e-04 - mae: 0.0144 - rmse: 0.0205 - val_loss: 5.9002e-04 - val_accuracy: 0.9971 - val_mse: 5.9002e-04 - val_mae: 0.0144 - val_rmse: 0.0205\n",
      "Epoch 181/300\n",
      "537/537 [==============================] - 2s 5ms/step - loss: 5.9134e-04 - accuracy: 0.9969 - mse: 5.9134e-04 - mae: 0.0144 - rmse: 0.0205 - val_loss: 5.8978e-04 - val_accuracy: 0.9971 - val_mse: 5.8978e-04 - val_mae: 0.0144 - val_rmse: 0.0205\n",
      "Epoch 182/300\n",
      "537/537 [==============================] - 3s 5ms/step - loss: 5.9111e-04 - accuracy: 0.9969 - mse: 5.9111e-04 - mae: 0.0144 - rmse: 0.0205 - val_loss: 5.8957e-04 - val_accuracy: 0.9971 - val_mse: 5.8957e-04 - val_mae: 0.0143 - val_rmse: 0.0205\n",
      "Epoch 183/300\n",
      "537/537 [==============================] - 3s 5ms/step - loss: 5.9089e-04 - accuracy: 0.9969 - mse: 5.9089e-04 - mae: 0.0144 - rmse: 0.0205 - val_loss: 5.8938e-04 - val_accuracy: 0.9971 - val_mse: 5.8938e-04 - val_mae: 0.0143 - val_rmse: 0.0205\n",
      "Epoch 184/300\n",
      "537/537 [==============================] - 3s 5ms/step - loss: 5.9068e-04 - accuracy: 0.9969 - mse: 5.9068e-04 - mae: 0.0144 - rmse: 0.0205 - val_loss: 5.8916e-04 - val_accuracy: 0.9971 - val_mse: 5.8916e-04 - val_mae: 0.0143 - val_rmse: 0.0205\n",
      "Epoch 185/300\n",
      "537/537 [==============================] - 3s 5ms/step - loss: 5.9049e-04 - accuracy: 0.9969 - mse: 5.9049e-04 - mae: 0.0143 - rmse: 0.0205 - val_loss: 5.8897e-04 - val_accuracy: 0.9971 - val_mse: 5.8897e-04 - val_mae: 0.0143 - val_rmse: 0.0205\n",
      "Epoch 186/300\n",
      "537/537 [==============================] - 3s 5ms/step - loss: 5.9031e-04 - accuracy: 0.9969 - mse: 5.9031e-04 - mae: 0.0143 - rmse: 0.0205 - val_loss: 5.8880e-04 - val_accuracy: 0.9971 - val_mse: 5.8880e-04 - val_mae: 0.0143 - val_rmse: 0.0205\n",
      "Epoch 187/300\n",
      "537/537 [==============================] - 3s 5ms/step - loss: 5.9013e-04 - accuracy: 0.9969 - mse: 5.9013e-04 - mae: 0.0143 - rmse: 0.0205 - val_loss: 5.8862e-04 - val_accuracy: 0.9971 - val_mse: 5.8862e-04 - val_mae: 0.0143 - val_rmse: 0.0205\n",
      "Epoch 188/300\n",
      "537/537 [==============================] - 3s 5ms/step - loss: 5.8997e-04 - accuracy: 0.9969 - mse: 5.8997e-04 - mae: 0.0143 - rmse: 0.0205 - val_loss: 5.8845e-04 - val_accuracy: 0.9971 - val_mse: 5.8845e-04 - val_mae: 0.0143 - val_rmse: 0.0205\n",
      "Epoch 189/300\n",
      "537/537 [==============================] - 3s 5ms/step - loss: 5.8981e-04 - accuracy: 0.9969 - mse: 5.8981e-04 - mae: 0.0143 - rmse: 0.0205 - val_loss: 5.8831e-04 - val_accuracy: 0.9971 - val_mse: 5.8831e-04 - val_mae: 0.0143 - val_rmse: 0.0205\n",
      "Epoch 190/300\n",
      "537/537 [==============================] - 3s 5ms/step - loss: 5.8965e-04 - accuracy: 0.9969 - mse: 5.8965e-04 - mae: 0.0143 - rmse: 0.0205 - val_loss: 5.8815e-04 - val_accuracy: 0.9971 - val_mse: 5.8815e-04 - val_mae: 0.0143 - val_rmse: 0.0205\n",
      "Epoch 191/300\n",
      "537/537 [==============================] - 2s 5ms/step - loss: 5.8951e-04 - accuracy: 0.9969 - mse: 5.8951e-04 - mae: 0.0143 - rmse: 0.0205 - val_loss: 5.8800e-04 - val_accuracy: 0.9971 - val_mse: 5.8800e-04 - val_mae: 0.0143 - val_rmse: 0.0205\n",
      "Epoch 192/300\n",
      "537/537 [==============================] - 3s 5ms/step - loss: 5.8936e-04 - accuracy: 0.9969 - mse: 5.8936e-04 - mae: 0.0143 - rmse: 0.0205 - val_loss: 5.8786e-04 - val_accuracy: 0.9971 - val_mse: 5.8786e-04 - val_mae: 0.0143 - val_rmse: 0.0205\n",
      "Epoch 193/300\n",
      "537/537 [==============================] - 3s 5ms/step - loss: 5.8922e-04 - accuracy: 0.9969 - mse: 5.8922e-04 - mae: 0.0143 - rmse: 0.0205 - val_loss: 5.8773e-04 - val_accuracy: 0.9971 - val_mse: 5.8773e-04 - val_mae: 0.0143 - val_rmse: 0.0205\n",
      "Epoch 194/300\n",
      "537/537 [==============================] - 3s 5ms/step - loss: 5.8909e-04 - accuracy: 0.9969 - mse: 5.8909e-04 - mae: 0.0143 - rmse: 0.0205 - val_loss: 5.8760e-04 - val_accuracy: 0.9971 - val_mse: 5.8760e-04 - val_mae: 0.0143 - val_rmse: 0.0205\n",
      "Epoch 195/300\n",
      "537/537 [==============================] - 3s 5ms/step - loss: 5.8896e-04 - accuracy: 0.9969 - mse: 5.8896e-04 - mae: 0.0143 - rmse: 0.0205 - val_loss: 5.8747e-04 - val_accuracy: 0.9971 - val_mse: 5.8747e-04 - val_mae: 0.0143 - val_rmse: 0.0205\n",
      "Epoch 196/300\n",
      "537/537 [==============================] - 3s 5ms/step - loss: 5.8883e-04 - accuracy: 0.9969 - mse: 5.8883e-04 - mae: 0.0143 - rmse: 0.0205 - val_loss: 5.8734e-04 - val_accuracy: 0.9971 - val_mse: 5.8734e-04 - val_mae: 0.0143 - val_rmse: 0.0205\n",
      "Epoch 197/300\n",
      "537/537 [==============================] - 3s 5ms/step - loss: 5.8871e-04 - accuracy: 0.9969 - mse: 5.8871e-04 - mae: 0.0143 - rmse: 0.0205 - val_loss: 5.8722e-04 - val_accuracy: 0.9971 - val_mse: 5.8722e-04 - val_mae: 0.0143 - val_rmse: 0.0205\n"
     ]
    },
    {
     "name": "stdout",
     "output_type": "stream",
     "text": [
      "Epoch 198/300\n",
      "537/537 [==============================] - 3s 5ms/step - loss: 5.8859e-04 - accuracy: 0.9969 - mse: 5.8859e-04 - mae: 0.0143 - rmse: 0.0205 - val_loss: 5.8711e-04 - val_accuracy: 0.9971 - val_mse: 5.8711e-04 - val_mae: 0.0143 - val_rmse: 0.0205\n",
      "Epoch 199/300\n",
      "537/537 [==============================] - 3s 5ms/step - loss: 5.8847e-04 - accuracy: 0.9969 - mse: 5.8847e-04 - mae: 0.0143 - rmse: 0.0205 - val_loss: 5.8698e-04 - val_accuracy: 0.9971 - val_mse: 5.8698e-04 - val_mae: 0.0143 - val_rmse: 0.0205\n",
      "Epoch 200/300\n",
      "537/537 [==============================] - 3s 5ms/step - loss: 5.8836e-04 - accuracy: 0.9969 - mse: 5.8836e-04 - mae: 0.0143 - rmse: 0.0205 - val_loss: 5.8688e-04 - val_accuracy: 0.9971 - val_mse: 5.8688e-04 - val_mae: 0.0143 - val_rmse: 0.0204\n",
      "Epoch 201/300\n",
      "537/537 [==============================] - 3s 5ms/step - loss: 5.8825e-04 - accuracy: 0.9969 - mse: 5.8825e-04 - mae: 0.0143 - rmse: 0.0205 - val_loss: 5.8677e-04 - val_accuracy: 0.9971 - val_mse: 5.8677e-04 - val_mae: 0.0143 - val_rmse: 0.0204\n",
      "Epoch 202/300\n",
      "537/537 [==============================] - 3s 5ms/step - loss: 5.8814e-04 - accuracy: 0.9969 - mse: 5.8814e-04 - mae: 0.0143 - rmse: 0.0205 - val_loss: 5.8667e-04 - val_accuracy: 0.9971 - val_mse: 5.8667e-04 - val_mae: 0.0143 - val_rmse: 0.0204\n",
      "Epoch 203/300\n",
      "537/537 [==============================] - 3s 5ms/step - loss: 5.8804e-04 - accuracy: 0.9969 - mse: 5.8804e-04 - mae: 0.0143 - rmse: 0.0205 - val_loss: 5.8656e-04 - val_accuracy: 0.9971 - val_mse: 5.8656e-04 - val_mae: 0.0143 - val_rmse: 0.0204\n",
      "Epoch 204/300\n",
      "537/537 [==============================] - 3s 5ms/step - loss: 5.8794e-04 - accuracy: 0.9969 - mse: 5.8794e-04 - mae: 0.0143 - rmse: 0.0205 - val_loss: 5.8648e-04 - val_accuracy: 0.9971 - val_mse: 5.8648e-04 - val_mae: 0.0143 - val_rmse: 0.0204\n",
      "Epoch 205/300\n",
      "537/537 [==============================] - 3s 5ms/step - loss: 5.8784e-04 - accuracy: 0.9969 - mse: 5.8784e-04 - mae: 0.0143 - rmse: 0.0205 - val_loss: 5.8637e-04 - val_accuracy: 0.9971 - val_mse: 5.8637e-04 - val_mae: 0.0142 - val_rmse: 0.0204\n",
      "Epoch 206/300\n",
      "537/537 [==============================] - 3s 5ms/step - loss: 5.8774e-04 - accuracy: 0.9969 - mse: 5.8774e-04 - mae: 0.0143 - rmse: 0.0205 - val_loss: 5.8627e-04 - val_accuracy: 0.9971 - val_mse: 5.8627e-04 - val_mae: 0.0142 - val_rmse: 0.0204\n",
      "Epoch 207/300\n",
      "537/537 [==============================] - 3s 5ms/step - loss: 5.8764e-04 - accuracy: 0.9969 - mse: 5.8764e-04 - mae: 0.0143 - rmse: 0.0205 - val_loss: 5.8618e-04 - val_accuracy: 0.9971 - val_mse: 5.8618e-04 - val_mae: 0.0142 - val_rmse: 0.0204\n",
      "Epoch 208/300\n",
      "537/537 [==============================] - 3s 5ms/step - loss: 5.8754e-04 - accuracy: 0.9969 - mse: 5.8754e-04 - mae: 0.0143 - rmse: 0.0205 - val_loss: 5.8610e-04 - val_accuracy: 0.9971 - val_mse: 5.8610e-04 - val_mae: 0.0142 - val_rmse: 0.0204\n",
      "Epoch 209/300\n",
      "537/537 [==============================] - 3s 6ms/step - loss: 5.8745e-04 - accuracy: 0.9969 - mse: 5.8745e-04 - mae: 0.0142 - rmse: 0.0204 - val_loss: 5.8598e-04 - val_accuracy: 0.9971 - val_mse: 5.8598e-04 - val_mae: 0.0142 - val_rmse: 0.0204\n",
      "Epoch 210/300\n",
      "537/537 [==============================] - 3s 5ms/step - loss: 5.8736e-04 - accuracy: 0.9969 - mse: 5.8736e-04 - mae: 0.0142 - rmse: 0.0204 - val_loss: 5.8590e-04 - val_accuracy: 0.9971 - val_mse: 5.8590e-04 - val_mae: 0.0142 - val_rmse: 0.0204\n",
      "Epoch 211/300\n",
      "537/537 [==============================] - 3s 6ms/step - loss: 5.8728e-04 - accuracy: 0.9969 - mse: 5.8728e-04 - mae: 0.0142 - rmse: 0.0204 - val_loss: 5.8581e-04 - val_accuracy: 0.9971 - val_mse: 5.8581e-04 - val_mae: 0.0142 - val_rmse: 0.0204\n",
      "Epoch 212/300\n",
      "537/537 [==============================] - 3s 5ms/step - loss: 5.8719e-04 - accuracy: 0.9969 - mse: 5.8719e-04 - mae: 0.0142 - rmse: 0.0204 - val_loss: 5.8573e-04 - val_accuracy: 0.9971 - val_mse: 5.8573e-04 - val_mae: 0.0142 - val_rmse: 0.0204\n",
      "Epoch 213/300\n",
      "537/537 [==============================] - 3s 5ms/step - loss: 5.8710e-04 - accuracy: 0.9969 - mse: 5.8710e-04 - mae: 0.0142 - rmse: 0.0204 - val_loss: 5.8565e-04 - val_accuracy: 0.9971 - val_mse: 5.8565e-04 - val_mae: 0.0142 - val_rmse: 0.0204\n",
      "Epoch 214/300\n",
      "537/537 [==============================] - 3s 6ms/step - loss: 5.8702e-04 - accuracy: 0.9969 - mse: 5.8702e-04 - mae: 0.0142 - rmse: 0.0204 - val_loss: 5.8556e-04 - val_accuracy: 0.9971 - val_mse: 5.8556e-04 - val_mae: 0.0142 - val_rmse: 0.0204\n",
      "Epoch 215/300\n",
      "537/537 [==============================] - 3s 5ms/step - loss: 5.8694e-04 - accuracy: 0.9969 - mse: 5.8694e-04 - mae: 0.0142 - rmse: 0.0204 - val_loss: 5.8547e-04 - val_accuracy: 0.9971 - val_mse: 5.8547e-04 - val_mae: 0.0142 - val_rmse: 0.0204\n",
      "Epoch 216/300\n",
      "537/537 [==============================] - 3s 5ms/step - loss: 5.8686e-04 - accuracy: 0.9969 - mse: 5.8686e-04 - mae: 0.0142 - rmse: 0.0204 - val_loss: 5.8541e-04 - val_accuracy: 0.9971 - val_mse: 5.8541e-04 - val_mae: 0.0142 - val_rmse: 0.0204\n",
      "Epoch 217/300\n",
      "537/537 [==============================] - 3s 5ms/step - loss: 5.8678e-04 - accuracy: 0.9969 - mse: 5.8678e-04 - mae: 0.0142 - rmse: 0.0204 - val_loss: 5.8532e-04 - val_accuracy: 0.9971 - val_mse: 5.8532e-04 - val_mae: 0.0142 - val_rmse: 0.0204\n",
      "Epoch 218/300\n",
      "537/537 [==============================] - 3s 5ms/step - loss: 5.8670e-04 - accuracy: 0.9969 - mse: 5.8670e-04 - mae: 0.0142 - rmse: 0.0204 - val_loss: 5.8525e-04 - val_accuracy: 0.9971 - val_mse: 5.8525e-04 - val_mae: 0.0142 - val_rmse: 0.0204\n",
      "Epoch 219/300\n",
      "537/537 [==============================] - 3s 5ms/step - loss: 5.8662e-04 - accuracy: 0.9969 - mse: 5.8662e-04 - mae: 0.0142 - rmse: 0.0204 - val_loss: 5.8517e-04 - val_accuracy: 0.9971 - val_mse: 5.8517e-04 - val_mae: 0.0142 - val_rmse: 0.0204\n",
      "Epoch 220/300\n",
      "537/537 [==============================] - 3s 5ms/step - loss: 5.8655e-04 - accuracy: 0.9969 - mse: 5.8655e-04 - mae: 0.0142 - rmse: 0.0204 - val_loss: 5.8510e-04 - val_accuracy: 0.9971 - val_mse: 5.8510e-04 - val_mae: 0.0142 - val_rmse: 0.0204\n",
      "Epoch 221/300\n",
      "537/537 [==============================] - 3s 5ms/step - loss: 5.8647e-04 - accuracy: 0.9969 - mse: 5.8647e-04 - mae: 0.0142 - rmse: 0.0204 - val_loss: 5.8501e-04 - val_accuracy: 0.9971 - val_mse: 5.8501e-04 - val_mae: 0.0142 - val_rmse: 0.0204\n",
      "Epoch 222/300\n",
      "537/537 [==============================] - 3s 5ms/step - loss: 5.8639e-04 - accuracy: 0.9969 - mse: 5.8639e-04 - mae: 0.0142 - rmse: 0.0204 - val_loss: 5.8494e-04 - val_accuracy: 0.9971 - val_mse: 5.8494e-04 - val_mae: 0.0142 - val_rmse: 0.0204\n",
      "Epoch 223/300\n",
      "537/537 [==============================] - 3s 6ms/step - loss: 5.8632e-04 - accuracy: 0.9969 - mse: 5.8632e-04 - mae: 0.0142 - rmse: 0.0204 - val_loss: 5.8487e-04 - val_accuracy: 0.9971 - val_mse: 5.8487e-04 - val_mae: 0.0142 - val_rmse: 0.0204\n",
      "Epoch 224/300\n",
      "537/537 [==============================] - 3s 5ms/step - loss: 5.8625e-04 - accuracy: 0.9969 - mse: 5.8625e-04 - mae: 0.0142 - rmse: 0.0204 - val_loss: 5.8480e-04 - val_accuracy: 0.9971 - val_mse: 5.8480e-04 - val_mae: 0.0142 - val_rmse: 0.0204\n",
      "Epoch 225/300\n",
      "537/537 [==============================] - 3s 6ms/step - loss: 5.8618e-04 - accuracy: 0.9969 - mse: 5.8618e-04 - mae: 0.0142 - rmse: 0.0204 - val_loss: 5.8476e-04 - val_accuracy: 0.9971 - val_mse: 5.8476e-04 - val_mae: 0.0142 - val_rmse: 0.0204\n",
      "Epoch 226/300\n",
      "537/537 [==============================] - 3s 6ms/step - loss: 5.8611e-04 - accuracy: 0.9969 - mse: 5.8611e-04 - mae: 0.0142 - rmse: 0.0204 - val_loss: 5.8468e-04 - val_accuracy: 0.9971 - val_mse: 5.8468e-04 - val_mae: 0.0142 - val_rmse: 0.0204\n",
      "Epoch 227/300\n",
      "537/537 [==============================] - 3s 5ms/step - loss: 5.8604e-04 - accuracy: 0.9969 - mse: 5.8604e-04 - mae: 0.0142 - rmse: 0.0204 - val_loss: 5.8460e-04 - val_accuracy: 0.9971 - val_mse: 5.8460e-04 - val_mae: 0.0142 - val_rmse: 0.0204\n",
      "Epoch 228/300\n",
      "537/537 [==============================] - 3s 5ms/step - loss: 5.8598e-04 - accuracy: 0.9969 - mse: 5.8598e-04 - mae: 0.0142 - rmse: 0.0204 - val_loss: 5.8454e-04 - val_accuracy: 0.9971 - val_mse: 5.8454e-04 - val_mae: 0.0142 - val_rmse: 0.0204\n",
      "Epoch 229/300\n",
      "537/537 [==============================] - 3s 5ms/step - loss: 5.8591e-04 - accuracy: 0.9969 - mse: 5.8591e-04 - mae: 0.0142 - rmse: 0.0204 - val_loss: 5.8448e-04 - val_accuracy: 0.9971 - val_mse: 5.8448e-04 - val_mae: 0.0142 - val_rmse: 0.0204\n"
     ]
    },
    {
     "name": "stdout",
     "output_type": "stream",
     "text": [
      "Epoch 230/300\n",
      "537/537 [==============================] - 3s 5ms/step - loss: 5.8584e-04 - accuracy: 0.9969 - mse: 5.8584e-04 - mae: 0.0142 - rmse: 0.0204 - val_loss: 5.8441e-04 - val_accuracy: 0.9971 - val_mse: 5.8441e-04 - val_mae: 0.0142 - val_rmse: 0.0204\n",
      "Epoch 231/300\n",
      "537/537 [==============================] - 3s 5ms/step - loss: 5.8578e-04 - accuracy: 0.9969 - mse: 5.8578e-04 - mae: 0.0142 - rmse: 0.0204 - val_loss: 5.8434e-04 - val_accuracy: 0.9971 - val_mse: 5.8434e-04 - val_mae: 0.0142 - val_rmse: 0.0204\n",
      "Epoch 232/300\n",
      "537/537 [==============================] - 3s 5ms/step - loss: 5.8572e-04 - accuracy: 0.9969 - mse: 5.8572e-04 - mae: 0.0142 - rmse: 0.0204 - val_loss: 5.8428e-04 - val_accuracy: 0.9971 - val_mse: 5.8428e-04 - val_mae: 0.0142 - val_rmse: 0.0204\n",
      "Epoch 233/300\n",
      "537/537 [==============================] - 3s 5ms/step - loss: 5.8565e-04 - accuracy: 0.9969 - mse: 5.8565e-04 - mae: 0.0142 - rmse: 0.0204 - val_loss: 5.8423e-04 - val_accuracy: 0.9971 - val_mse: 5.8423e-04 - val_mae: 0.0142 - val_rmse: 0.0204\n",
      "Epoch 234/300\n",
      "537/537 [==============================] - 3s 5ms/step - loss: 5.8559e-04 - accuracy: 0.9969 - mse: 5.8559e-04 - mae: 0.0142 - rmse: 0.0204 - val_loss: 5.8417e-04 - val_accuracy: 0.9971 - val_mse: 5.8417e-04 - val_mae: 0.0142 - val_rmse: 0.0204\n",
      "Epoch 235/300\n",
      "537/537 [==============================] - 3s 5ms/step - loss: 5.8553e-04 - accuracy: 0.9969 - mse: 5.8553e-04 - mae: 0.0142 - rmse: 0.0204 - val_loss: 5.8409e-04 - val_accuracy: 0.9971 - val_mse: 5.8409e-04 - val_mae: 0.0142 - val_rmse: 0.0204\n",
      "Epoch 236/300\n",
      "537/537 [==============================] - 3s 5ms/step - loss: 5.8547e-04 - accuracy: 0.9969 - mse: 5.8547e-04 - mae: 0.0142 - rmse: 0.0204 - val_loss: 5.8405e-04 - val_accuracy: 0.9971 - val_mse: 5.8405e-04 - val_mae: 0.0142 - val_rmse: 0.0204\n",
      "Epoch 237/300\n",
      "537/537 [==============================] - 3s 5ms/step - loss: 5.8541e-04 - accuracy: 0.9969 - mse: 5.8541e-04 - mae: 0.0142 - rmse: 0.0204 - val_loss: 5.8398e-04 - val_accuracy: 0.9971 - val_mse: 5.8398e-04 - val_mae: 0.0142 - val_rmse: 0.0204\n",
      "Epoch 238/300\n",
      "537/537 [==============================] - 3s 5ms/step - loss: 5.8536e-04 - accuracy: 0.9969 - mse: 5.8536e-04 - mae: 0.0142 - rmse: 0.0204 - val_loss: 5.8396e-04 - val_accuracy: 0.9971 - val_mse: 5.8396e-04 - val_mae: 0.0142 - val_rmse: 0.0204\n",
      "Epoch 239/300\n",
      "537/537 [==============================] - 3s 5ms/step - loss: 5.8530e-04 - accuracy: 0.9969 - mse: 5.8530e-04 - mae: 0.0142 - rmse: 0.0204 - val_loss: 5.8388e-04 - val_accuracy: 0.9971 - val_mse: 5.8388e-04 - val_mae: 0.0142 - val_rmse: 0.0204\n",
      "Epoch 240/300\n",
      "537/537 [==============================] - 3s 5ms/step - loss: 5.8524e-04 - accuracy: 0.9969 - mse: 5.8524e-04 - mae: 0.0142 - rmse: 0.0204 - val_loss: 5.8381e-04 - val_accuracy: 0.9971 - val_mse: 5.8381e-04 - val_mae: 0.0142 - val_rmse: 0.0204\n",
      "Epoch 241/300\n",
      "537/537 [==============================] - 3s 5ms/step - loss: 5.8518e-04 - accuracy: 0.9969 - mse: 5.8518e-04 - mae: 0.0142 - rmse: 0.0204 - val_loss: 5.8376e-04 - val_accuracy: 0.9971 - val_mse: 5.8376e-04 - val_mae: 0.0142 - val_rmse: 0.0204\n",
      "Epoch 242/300\n",
      "537/537 [==============================] - 3s 5ms/step - loss: 5.8513e-04 - accuracy: 0.9969 - mse: 5.8513e-04 - mae: 0.0142 - rmse: 0.0204 - val_loss: 5.8375e-04 - val_accuracy: 0.9971 - val_mse: 5.8375e-04 - val_mae: 0.0142 - val_rmse: 0.0204\n",
      "Epoch 243/300\n",
      "537/537 [==============================] - 3s 5ms/step - loss: 5.8508e-04 - accuracy: 0.9969 - mse: 5.8508e-04 - mae: 0.0142 - rmse: 0.0204 - val_loss: 5.8365e-04 - val_accuracy: 0.9971 - val_mse: 5.8365e-04 - val_mae: 0.0142 - val_rmse: 0.0204\n",
      "Epoch 244/300\n",
      "537/537 [==============================] - 3s 5ms/step - loss: 5.8503e-04 - accuracy: 0.9969 - mse: 5.8503e-04 - mae: 0.0142 - rmse: 0.0204 - val_loss: 5.8363e-04 - val_accuracy: 0.9971 - val_mse: 5.8363e-04 - val_mae: 0.0142 - val_rmse: 0.0204\n",
      "Epoch 245/300\n",
      "537/537 [==============================] - 3s 5ms/step - loss: 5.8498e-04 - accuracy: 0.9969 - mse: 5.8498e-04 - mae: 0.0142 - rmse: 0.0204 - val_loss: 5.8355e-04 - val_accuracy: 0.9971 - val_mse: 5.8355e-04 - val_mae: 0.0142 - val_rmse: 0.0204\n",
      "Epoch 246/300\n",
      "537/537 [==============================] - 3s 5ms/step - loss: 5.8492e-04 - accuracy: 0.9969 - mse: 5.8492e-04 - mae: 0.0142 - rmse: 0.0204 - val_loss: 5.8350e-04 - val_accuracy: 0.9971 - val_mse: 5.8350e-04 - val_mae: 0.0142 - val_rmse: 0.0204\n",
      "Epoch 247/300\n",
      "537/537 [==============================] - 3s 5ms/step - loss: 5.8487e-04 - accuracy: 0.9969 - mse: 5.8487e-04 - mae: 0.0142 - rmse: 0.0204 - val_loss: 5.8347e-04 - val_accuracy: 0.9971 - val_mse: 5.8347e-04 - val_mae: 0.0142 - val_rmse: 0.0204\n",
      "Epoch 248/300\n",
      "537/537 [==============================] - 3s 5ms/step - loss: 5.8482e-04 - accuracy: 0.9969 - mse: 5.8482e-04 - mae: 0.0142 - rmse: 0.0204 - val_loss: 5.8340e-04 - val_accuracy: 0.9971 - val_mse: 5.8340e-04 - val_mae: 0.0141 - val_rmse: 0.0204\n",
      "Epoch 249/300\n",
      "537/537 [==============================] - 3s 5ms/step - loss: 5.8477e-04 - accuracy: 0.9969 - mse: 5.8477e-04 - mae: 0.0142 - rmse: 0.0204 - val_loss: 5.8336e-04 - val_accuracy: 0.9971 - val_mse: 5.8336e-04 - val_mae: 0.0141 - val_rmse: 0.0204\n",
      "Epoch 250/300\n",
      "537/537 [==============================] - 3s 5ms/step - loss: 5.8472e-04 - accuracy: 0.9969 - mse: 5.8472e-04 - mae: 0.0142 - rmse: 0.0204 - val_loss: 5.8331e-04 - val_accuracy: 0.9971 - val_mse: 5.8331e-04 - val_mae: 0.0141 - val_rmse: 0.0204\n",
      "Epoch 251/300\n",
      "537/537 [==============================] - 3s 5ms/step - loss: 5.8468e-04 - accuracy: 0.9969 - mse: 5.8468e-04 - mae: 0.0142 - rmse: 0.0204 - val_loss: 5.8329e-04 - val_accuracy: 0.9971 - val_mse: 5.8329e-04 - val_mae: 0.0141 - val_rmse: 0.0204\n",
      "Epoch 252/300\n",
      "537/537 [==============================] - 3s 5ms/step - loss: 5.8463e-04 - accuracy: 0.9969 - mse: 5.8463e-04 - mae: 0.0142 - rmse: 0.0204 - val_loss: 5.8322e-04 - val_accuracy: 0.9971 - val_mse: 5.8322e-04 - val_mae: 0.0141 - val_rmse: 0.0204\n",
      "Epoch 253/300\n",
      "537/537 [==============================] - 3s 5ms/step - loss: 5.8458e-04 - accuracy: 0.9969 - mse: 5.8458e-04 - mae: 0.0142 - rmse: 0.0204 - val_loss: 5.8317e-04 - val_accuracy: 0.9971 - val_mse: 5.8317e-04 - val_mae: 0.0141 - val_rmse: 0.0204\n",
      "Epoch 254/300\n",
      "537/537 [==============================] - 3s 5ms/step - loss: 5.8453e-04 - accuracy: 0.9969 - mse: 5.8453e-04 - mae: 0.0142 - rmse: 0.0204 - val_loss: 5.8315e-04 - val_accuracy: 0.9971 - val_mse: 5.8315e-04 - val_mae: 0.0141 - val_rmse: 0.0204\n",
      "Epoch 255/300\n",
      "537/537 [==============================] - 3s 5ms/step - loss: 5.8449e-04 - accuracy: 0.9969 - mse: 5.8449e-04 - mae: 0.0142 - rmse: 0.0204 - val_loss: 5.8307e-04 - val_accuracy: 0.9971 - val_mse: 5.8307e-04 - val_mae: 0.0141 - val_rmse: 0.0204\n",
      "Epoch 256/300\n",
      "537/537 [==============================] - 3s 5ms/step - loss: 5.8445e-04 - accuracy: 0.9969 - mse: 5.8445e-04 - mae: 0.0142 - rmse: 0.0204 - val_loss: 5.8303e-04 - val_accuracy: 0.9971 - val_mse: 5.8303e-04 - val_mae: 0.0141 - val_rmse: 0.0204\n",
      "Epoch 257/300\n",
      "537/537 [==============================] - 3s 5ms/step - loss: 5.8440e-04 - accuracy: 0.9969 - mse: 5.8440e-04 - mae: 0.0141 - rmse: 0.0204 - val_loss: 5.8299e-04 - val_accuracy: 0.9971 - val_mse: 5.8299e-04 - val_mae: 0.0141 - val_rmse: 0.0203\n",
      "Epoch 258/300\n",
      "537/537 [==============================] - 3s 6ms/step - loss: 5.8436e-04 - accuracy: 0.9969 - mse: 5.8436e-04 - mae: 0.0141 - rmse: 0.0204 - val_loss: 5.8294e-04 - val_accuracy: 0.9971 - val_mse: 5.8294e-04 - val_mae: 0.0141 - val_rmse: 0.0203\n",
      "Epoch 259/300\n",
      "537/537 [==============================] - 3s 6ms/step - loss: 5.8431e-04 - accuracy: 0.9969 - mse: 5.8431e-04 - mae: 0.0141 - rmse: 0.0204 - val_loss: 5.8290e-04 - val_accuracy: 0.9971 - val_mse: 5.8290e-04 - val_mae: 0.0141 - val_rmse: 0.0203\n",
      "Epoch 260/300\n",
      "537/537 [==============================] - 3s 6ms/step - loss: 5.8427e-04 - accuracy: 0.9969 - mse: 5.8427e-04 - mae: 0.0141 - rmse: 0.0204 - val_loss: 5.8286e-04 - val_accuracy: 0.9971 - val_mse: 5.8286e-04 - val_mae: 0.0141 - val_rmse: 0.0203\n",
      "Epoch 261/300\n",
      "537/537 [==============================] - 3s 5ms/step - loss: 5.8423e-04 - accuracy: 0.9969 - mse: 5.8423e-04 - mae: 0.0141 - rmse: 0.0204 - val_loss: 5.8282e-04 - val_accuracy: 0.9971 - val_mse: 5.8282e-04 - val_mae: 0.0141 - val_rmse: 0.0203\n"
     ]
    },
    {
     "name": "stdout",
     "output_type": "stream",
     "text": [
      "Epoch 262/300\n",
      "537/537 [==============================] - 3s 5ms/step - loss: 5.8419e-04 - accuracy: 0.9969 - mse: 5.8419e-04 - mae: 0.0141 - rmse: 0.0204 - val_loss: 5.8278e-04 - val_accuracy: 0.9971 - val_mse: 5.8278e-04 - val_mae: 0.0141 - val_rmse: 0.0203\n",
      "Epoch 263/300\n",
      "537/537 [==============================] - 3s 5ms/step - loss: 5.8415e-04 - accuracy: 0.9969 - mse: 5.8415e-04 - mae: 0.0141 - rmse: 0.0204 - val_loss: 5.8274e-04 - val_accuracy: 0.9971 - val_mse: 5.8274e-04 - val_mae: 0.0141 - val_rmse: 0.0203\n",
      "Epoch 264/300\n",
      "537/537 [==============================] - 3s 5ms/step - loss: 5.8411e-04 - accuracy: 0.9969 - mse: 5.8411e-04 - mae: 0.0141 - rmse: 0.0204 - val_loss: 5.8271e-04 - val_accuracy: 0.9971 - val_mse: 5.8271e-04 - val_mae: 0.0141 - val_rmse: 0.0203\n",
      "Epoch 265/300\n",
      "537/537 [==============================] - 3s 5ms/step - loss: 5.8407e-04 - accuracy: 0.9969 - mse: 5.8407e-04 - mae: 0.0141 - rmse: 0.0204 - val_loss: 5.8268e-04 - val_accuracy: 0.9971 - val_mse: 5.8268e-04 - val_mae: 0.0141 - val_rmse: 0.0203\n",
      "Epoch 266/300\n",
      "537/537 [==============================] - 3s 5ms/step - loss: 5.8403e-04 - accuracy: 0.9969 - mse: 5.8403e-04 - mae: 0.0141 - rmse: 0.0204 - val_loss: 5.8262e-04 - val_accuracy: 0.9971 - val_mse: 5.8262e-04 - val_mae: 0.0141 - val_rmse: 0.0203\n",
      "Epoch 267/300\n",
      "537/537 [==============================] - 3s 5ms/step - loss: 5.8399e-04 - accuracy: 0.9969 - mse: 5.8399e-04 - mae: 0.0141 - rmse: 0.0204 - val_loss: 5.8258e-04 - val_accuracy: 0.9971 - val_mse: 5.8258e-04 - val_mae: 0.0141 - val_rmse: 0.0203\n",
      "Epoch 268/300\n",
      "537/537 [==============================] - 3s 5ms/step - loss: 5.8395e-04 - accuracy: 0.9969 - mse: 5.8395e-04 - mae: 0.0141 - rmse: 0.0204 - val_loss: 5.8255e-04 - val_accuracy: 0.9971 - val_mse: 5.8255e-04 - val_mae: 0.0141 - val_rmse: 0.0203\n",
      "Epoch 269/300\n",
      "537/537 [==============================] - 3s 5ms/step - loss: 5.8391e-04 - accuracy: 0.9969 - mse: 5.8391e-04 - mae: 0.0141 - rmse: 0.0204 - val_loss: 5.8252e-04 - val_accuracy: 0.9971 - val_mse: 5.8252e-04 - val_mae: 0.0141 - val_rmse: 0.0203\n",
      "Epoch 270/300\n",
      "537/537 [==============================] - 3s 5ms/step - loss: 5.8387e-04 - accuracy: 0.9969 - mse: 5.8387e-04 - mae: 0.0141 - rmse: 0.0204 - val_loss: 5.8250e-04 - val_accuracy: 0.9971 - val_mse: 5.8250e-04 - val_mae: 0.0141 - val_rmse: 0.0203\n",
      "Epoch 271/300\n",
      "537/537 [==============================] - 3s 5ms/step - loss: 5.8383e-04 - accuracy: 0.9969 - mse: 5.8383e-04 - mae: 0.0141 - rmse: 0.0204 - val_loss: 5.8244e-04 - val_accuracy: 0.9971 - val_mse: 5.8244e-04 - val_mae: 0.0141 - val_rmse: 0.0203\n",
      "Epoch 272/300\n",
      "537/537 [==============================] - 3s 5ms/step - loss: 5.8380e-04 - accuracy: 0.9969 - mse: 5.8380e-04 - mae: 0.0141 - rmse: 0.0204 - val_loss: 5.8241e-04 - val_accuracy: 0.9971 - val_mse: 5.8241e-04 - val_mae: 0.0141 - val_rmse: 0.0203\n",
      "Epoch 273/300\n",
      "537/537 [==============================] - 3s 5ms/step - loss: 5.8376e-04 - accuracy: 0.9969 - mse: 5.8376e-04 - mae: 0.0141 - rmse: 0.0204 - val_loss: 5.8238e-04 - val_accuracy: 0.9971 - val_mse: 5.8238e-04 - val_mae: 0.0141 - val_rmse: 0.0203\n",
      "Epoch 274/300\n",
      "537/537 [==============================] - 3s 5ms/step - loss: 5.8373e-04 - accuracy: 0.9969 - mse: 5.8373e-04 - mae: 0.0141 - rmse: 0.0204 - val_loss: 5.8233e-04 - val_accuracy: 0.9971 - val_mse: 5.8233e-04 - val_mae: 0.0141 - val_rmse: 0.0203\n",
      "Epoch 275/300\n",
      "537/537 [==============================] - 3s 5ms/step - loss: 5.8369e-04 - accuracy: 0.9969 - mse: 5.8369e-04 - mae: 0.0141 - rmse: 0.0203 - val_loss: 5.8230e-04 - val_accuracy: 0.9971 - val_mse: 5.8230e-04 - val_mae: 0.0141 - val_rmse: 0.0203\n",
      "Epoch 276/300\n",
      "537/537 [==============================] - 3s 5ms/step - loss: 5.8366e-04 - accuracy: 0.9969 - mse: 5.8366e-04 - mae: 0.0141 - rmse: 0.0203 - val_loss: 5.8227e-04 - val_accuracy: 0.9971 - val_mse: 5.8227e-04 - val_mae: 0.0141 - val_rmse: 0.0203\n",
      "Epoch 277/300\n",
      "537/537 [==============================] - 3s 6ms/step - loss: 5.8362e-04 - accuracy: 0.9969 - mse: 5.8362e-04 - mae: 0.0141 - rmse: 0.0203 - val_loss: 5.8222e-04 - val_accuracy: 0.9971 - val_mse: 5.8222e-04 - val_mae: 0.0141 - val_rmse: 0.0203\n",
      "Epoch 278/300\n",
      "537/537 [==============================] - 3s 5ms/step - loss: 5.8358e-04 - accuracy: 0.9969 - mse: 5.8358e-04 - mae: 0.0141 - rmse: 0.0203 - val_loss: 5.8220e-04 - val_accuracy: 0.9971 - val_mse: 5.8220e-04 - val_mae: 0.0141 - val_rmse: 0.0203\n",
      "Epoch 279/300\n",
      "537/537 [==============================] - 2s 5ms/step - loss: 5.8355e-04 - accuracy: 0.9969 - mse: 5.8355e-04 - mae: 0.0141 - rmse: 0.0203 - val_loss: 5.8215e-04 - val_accuracy: 0.9971 - val_mse: 5.8215e-04 - val_mae: 0.0141 - val_rmse: 0.0203\n",
      "Epoch 280/300\n",
      "537/537 [==============================] - 3s 5ms/step - loss: 5.8352e-04 - accuracy: 0.9969 - mse: 5.8352e-04 - mae: 0.0141 - rmse: 0.0203 - val_loss: 5.8213e-04 - val_accuracy: 0.9971 - val_mse: 5.8213e-04 - val_mae: 0.0141 - val_rmse: 0.0203\n",
      "Epoch 281/300\n",
      "537/537 [==============================] - 3s 5ms/step - loss: 5.8348e-04 - accuracy: 0.9969 - mse: 5.8348e-04 - mae: 0.0141 - rmse: 0.0203 - val_loss: 5.8209e-04 - val_accuracy: 0.9971 - val_mse: 5.8209e-04 - val_mae: 0.0141 - val_rmse: 0.0203\n",
      "Epoch 282/300\n",
      "537/537 [==============================] - 3s 5ms/step - loss: 5.8345e-04 - accuracy: 0.9969 - mse: 5.8345e-04 - mae: 0.0141 - rmse: 0.0203 - val_loss: 5.8206e-04 - val_accuracy: 0.9971 - val_mse: 5.8206e-04 - val_mae: 0.0141 - val_rmse: 0.0203\n",
      "Epoch 283/300\n",
      "537/537 [==============================] - 3s 5ms/step - loss: 5.8342e-04 - accuracy: 0.9969 - mse: 5.8342e-04 - mae: 0.0141 - rmse: 0.0203 - val_loss: 5.8205e-04 - val_accuracy: 0.9971 - val_mse: 5.8205e-04 - val_mae: 0.0141 - val_rmse: 0.0203\n",
      "Epoch 284/300\n",
      "537/537 [==============================] - 3s 5ms/step - loss: 5.8339e-04 - accuracy: 0.9969 - mse: 5.8339e-04 - mae: 0.0141 - rmse: 0.0203 - val_loss: 5.8201e-04 - val_accuracy: 0.9971 - val_mse: 5.8201e-04 - val_mae: 0.0141 - val_rmse: 0.0203\n",
      "Epoch 285/300\n",
      "537/537 [==============================] - 3s 5ms/step - loss: 5.8335e-04 - accuracy: 0.9969 - mse: 5.8335e-04 - mae: 0.0141 - rmse: 0.0203 - val_loss: 5.8199e-04 - val_accuracy: 0.9971 - val_mse: 5.8199e-04 - val_mae: 0.0141 - val_rmse: 0.0203\n",
      "Epoch 286/300\n",
      "537/537 [==============================] - 3s 5ms/step - loss: 5.8332e-04 - accuracy: 0.9969 - mse: 5.8332e-04 - mae: 0.0141 - rmse: 0.0203 - val_loss: 5.8195e-04 - val_accuracy: 0.9971 - val_mse: 5.8195e-04 - val_mae: 0.0141 - val_rmse: 0.0203\n",
      "Epoch 287/300\n",
      "537/537 [==============================] - 3s 5ms/step - loss: 5.8329e-04 - accuracy: 0.9969 - mse: 5.8329e-04 - mae: 0.0141 - rmse: 0.0203 - val_loss: 5.8191e-04 - val_accuracy: 0.9971 - val_mse: 5.8191e-04 - val_mae: 0.0141 - val_rmse: 0.0203\n",
      "Epoch 288/300\n",
      "537/537 [==============================] - 2s 4ms/step - loss: 5.8326e-04 - accuracy: 0.9969 - mse: 5.8326e-04 - mae: 0.0141 - rmse: 0.0203 - val_loss: 5.8188e-04 - val_accuracy: 0.9971 - val_mse: 5.8188e-04 - val_mae: 0.0141 - val_rmse: 0.0203\n",
      "Epoch 289/300\n",
      "537/537 [==============================] - 3s 5ms/step - loss: 5.8323e-04 - accuracy: 0.9969 - mse: 5.8323e-04 - mae: 0.0141 - rmse: 0.0203 - val_loss: 5.8185e-04 - val_accuracy: 0.9971 - val_mse: 5.8185e-04 - val_mae: 0.0141 - val_rmse: 0.0203\n",
      "Epoch 290/300\n",
      "537/537 [==============================] - 3s 5ms/step - loss: 5.8320e-04 - accuracy: 0.9969 - mse: 5.8320e-04 - mae: 0.0141 - rmse: 0.0203 - val_loss: 5.8183e-04 - val_accuracy: 0.9971 - val_mse: 5.8183e-04 - val_mae: 0.0141 - val_rmse: 0.0203\n",
      "Epoch 291/300\n",
      "537/537 [==============================] - 3s 5ms/step - loss: 5.8317e-04 - accuracy: 0.9969 - mse: 5.8317e-04 - mae: 0.0141 - rmse: 0.0203 - val_loss: 5.8178e-04 - val_accuracy: 0.9971 - val_mse: 5.8178e-04 - val_mae: 0.0141 - val_rmse: 0.0203\n",
      "Epoch 292/300\n",
      "537/537 [==============================] - 3s 5ms/step - loss: 5.8314e-04 - accuracy: 0.9969 - mse: 5.8314e-04 - mae: 0.0141 - rmse: 0.0203 - val_loss: 5.8176e-04 - val_accuracy: 0.9971 - val_mse: 5.8176e-04 - val_mae: 0.0141 - val_rmse: 0.0203\n",
      "Epoch 293/300\n",
      "537/537 [==============================] - 3s 5ms/step - loss: 5.8311e-04 - accuracy: 0.9969 - mse: 5.8311e-04 - mae: 0.0141 - rmse: 0.0203 - val_loss: 5.8173e-04 - val_accuracy: 0.9971 - val_mse: 5.8173e-04 - val_mae: 0.0141 - val_rmse: 0.0203\n"
     ]
    },
    {
     "name": "stdout",
     "output_type": "stream",
     "text": [
      "Epoch 294/300\n",
      "537/537 [==============================] - 3s 5ms/step - loss: 5.8308e-04 - accuracy: 0.9969 - mse: 5.8308e-04 - mae: 0.0141 - rmse: 0.0203 - val_loss: 5.8171e-04 - val_accuracy: 0.9971 - val_mse: 5.8171e-04 - val_mae: 0.0141 - val_rmse: 0.0203\n",
      "Epoch 295/300\n",
      "537/537 [==============================] - 3s 5ms/step - loss: 5.8305e-04 - accuracy: 0.9969 - mse: 5.8305e-04 - mae: 0.0141 - rmse: 0.0203 - val_loss: 5.8170e-04 - val_accuracy: 0.9971 - val_mse: 5.8170e-04 - val_mae: 0.0141 - val_rmse: 0.0203\n",
      "Epoch 296/300\n",
      "537/537 [==============================] - 3s 5ms/step - loss: 5.8302e-04 - accuracy: 0.9969 - mse: 5.8302e-04 - mae: 0.0141 - rmse: 0.0203 - val_loss: 5.8165e-04 - val_accuracy: 0.9971 - val_mse: 5.8165e-04 - val_mae: 0.0141 - val_rmse: 0.0203\n",
      "Epoch 297/300\n",
      "537/537 [==============================] - 3s 5ms/step - loss: 5.8299e-04 - accuracy: 0.9969 - mse: 5.8299e-04 - mae: 0.0141 - rmse: 0.0203 - val_loss: 5.8161e-04 - val_accuracy: 0.9971 - val_mse: 5.8161e-04 - val_mae: 0.0141 - val_rmse: 0.0203\n",
      "Epoch 298/300\n",
      "537/537 [==============================] - 3s 5ms/step - loss: 5.8297e-04 - accuracy: 0.9969 - mse: 5.8297e-04 - mae: 0.0141 - rmse: 0.0203 - val_loss: 5.8159e-04 - val_accuracy: 0.9971 - val_mse: 5.8159e-04 - val_mae: 0.0141 - val_rmse: 0.0203\n",
      "Epoch 299/300\n",
      "537/537 [==============================] - 3s 5ms/step - loss: 5.8294e-04 - accuracy: 0.9969 - mse: 5.8294e-04 - mae: 0.0141 - rmse: 0.0203 - val_loss: 5.8156e-04 - val_accuracy: 0.9971 - val_mse: 5.8156e-04 - val_mae: 0.0141 - val_rmse: 0.0203\n",
      "Epoch 300/300\n",
      "537/537 [==============================] - 3s 5ms/step - loss: 5.8291e-04 - accuracy: 0.9969 - mse: 5.8291e-04 - mae: 0.0141 - rmse: 0.0203 - val_loss: 5.8154e-04 - val_accuracy: 0.9971 - val_mse: 5.8154e-04 - val_mae: 0.0141 - val_rmse: 0.0203\n"
     ]
    }
   ],
   "source": [
    "from sklearn.model_selection import train_test_split\n",
    "x_train, x_test, y_train, y_test = train_test_split(X1, Y1, test_size=0.25, random_state=42)\n",
    "\n",
    "model_fit8 = model1.fit(x_train,y_train,batch_size=2048,epochs=300, validation_split=0.1)"
   ]
  },
  {
   "cell_type": "code",
   "execution_count": 16,
   "id": "9f2dd608",
   "metadata": {},
   "outputs": [
    {
     "name": "stdout",
     "output_type": "stream",
     "text": [
      "12716/12716 [==============================] - 15s 1ms/step - loss: 5.8197e-04 - accuracy: 0.9970 - mse: 5.8197e-04 - mae: 0.0141 - rmse: 0.0203\n"
     ]
    },
    {
     "data": {
      "text/plain": [
       "[0.0005819689249619842,\n",
       " 0.9970065355300903,\n",
       " 0.0005819689249619842,\n",
       " 0.014097596518695354,\n",
       " 0.020314402878284454]"
      ]
     },
     "execution_count": 16,
     "metadata": {},
     "output_type": "execute_result"
    }
   ],
   "source": [
    "model1.evaluate(x_test,y_test)"
   ]
  },
  {
   "cell_type": "markdown",
   "id": "05c03bc9",
   "metadata": {},
   "source": [
    "# Saving Model as File"
   ]
  },
  {
   "cell_type": "code",
   "execution_count": 17,
   "id": "feb6fe5c",
   "metadata": {},
   "outputs": [
    {
     "name": "stdout",
     "output_type": "stream",
     "text": [
      "Saved model to disk\n"
     ]
    }
   ],
   "source": [
    "model_json = model1.to_json()\n",
    "with open(\"Model_File/cnnpj.json\", \"w\") as json_file:\n",
    "    json_file.write(model_json)\n",
    "# serialize weights to HDF5\n",
    "model1.save_weights(\"Model_File/cnnpj.h5\")\n",
    "print(\"Saved model to disk\")"
   ]
  },
  {
   "cell_type": "code",
   "execution_count": 18,
   "id": "85c18be3",
   "metadata": {},
   "outputs": [
    {
     "name": "stdout",
     "output_type": "stream",
     "text": [
      "Loaded model from disk\n"
     ]
    }
   ],
   "source": [
    "from sklearn.model_selection import train_test_split\n",
    "x_train, x_test, y_train, y_test = train_test_split(X1, Y1, test_size=0.25, random_state=42)\n",
    "\n",
    "from keras.models import model_from_json\n",
    "json_file = open('Model_File/cnnpj.json', 'r')\n",
    "loaded_model_json = json_file.read()\n",
    "json_file.close()\n",
    "loaded_model = model_from_json(loaded_model_json)\n",
    "# load weights into new model\n",
    "loaded_model.load_weights(\"Model_File/cnnpj.h5\")\n",
    "print(\"Loaded model from disk\")\n",
    "loaded_model.compile(optimizer=keras.optimizers.Adam(learning_rate=1e-5),loss='mse',metrics=['accuracy','mse','mae',rmse])"
   ]
  },
  {
   "cell_type": "code",
   "execution_count": 20,
   "id": "121e708d",
   "metadata": {},
   "outputs": [
    {
     "name": "stdout",
     "output_type": "stream",
     "text": [
      "38146/38146 [==============================] - 46s 1ms/step - loss: 5.8275e-04 - accuracy: 0.9970 - mse: 5.8275e-04 - mae: 0.0141 - rmse: 0.0203\n"
     ]
    },
    {
     "data": {
      "text/plain": [
       "[0.0005827538552694023,\n",
       " 0.9969671964645386,\n",
       " 0.0005827538552694023,\n",
       " 0.014105264097452164,\n",
       " 0.020329130813479424]"
      ]
     },
     "execution_count": 20,
     "metadata": {},
     "output_type": "execute_result"
    }
   ],
   "source": [
    "loaded_model.evaluate(x_train, y_train)"
   ]
  },
  {
   "cell_type": "code",
   "execution_count": 21,
   "id": "316434d2",
   "metadata": {},
   "outputs": [
    {
     "name": "stdout",
     "output_type": "stream",
     "text": [
      "12716/12716 [==============================] - 15s 1ms/step - loss: 5.8197e-04 - accuracy: 0.9970 - mse: 5.8197e-04 - mae: 0.0141 - rmse: 0.0203\n"
     ]
    },
    {
     "data": {
      "text/plain": [
       "[0.0005819689249619842,\n",
       " 0.9970065355300903,\n",
       " 0.0005819689249619842,\n",
       " 0.014097596518695354,\n",
       " 0.020314402878284454]"
      ]
     },
     "execution_count": 21,
     "metadata": {},
     "output_type": "execute_result"
    }
   ],
   "source": [
    "loaded_model.evaluate(x_test, y_test)"
   ]
  },
  {
   "cell_type": "markdown",
   "id": "eb75d6b3",
   "metadata": {},
   "source": [
    "# Error Analysis"
   ]
  },
  {
   "cell_type": "code",
   "execution_count": 22,
   "id": "ff6190cf",
   "metadata": {},
   "outputs": [
    {
     "data": {
      "image/png": "[encoded data removed]",
      "text/plain": [
       "<Figure size 432x288 with 1 Axes>"
      ]
     },
     "metadata": {
      "needs_background": "light"
     },
     "output_type": "display_data"
    },
    {
     "data": {
      "text/plain": [
       "<matplotlib.legend.Legend at 0x7f09fcf15e80>"
      ]
     },
     "execution_count": 22,
     "metadata": {},
     "output_type": "execute_result"
    },
    {
     "data": {
      "image/png": "[encoded data removed]",
      "text/plain": [
       "<Figure size 432x288 with 1 Axes>"
      ]
     },
     "metadata": {
      "needs_background": "light"
     },
     "output_type": "display_data"
    }
   ],
   "source": [
    "# summarize history for loss\n",
    "plt.plot(model_fit8.history['loss'])\n",
    "plt.plot(model_fit8.history['val_loss'])\n",
    "plt.title('Model Loss',fontweight ='bold',fontsize = 15)\n",
    "plt.ylabel('Loss',fontweight ='bold',fontsize = 15)\n",
    "plt.xlabel('Epoch',fontweight ='bold',fontsize = 15)\n",
    "plt.legend(['Train', 'Test'], loc='upper left')\n",
    "plt.show()\n",
    "\n",
    "# summarize history for accuracy\n",
    "plt.plot(model_fit8.history['accuracy'])\n",
    "plt.plot(model_fit8.history['val_accuracy'])\n",
    "plt.title('Model accuracy',fontweight ='bold',fontsize = 15)\n",
    "plt.ylabel('Accuracy',fontweight ='bold',fontsize = 15)\n",
    "plt.xlabel('Epoch',fontweight ='bold',fontsize = 15)\n",
    "plt.legend(['Train', 'Test'], loc='upper left')\n"
   ]
  },
  {
   "cell_type": "code",
   "execution_count": 23,
   "id": "265bcbd2",
   "metadata": {},
   "outputs": [
    {
     "data": {
      "text/plain": [
       "array([[[0.4525625 , 0.57145804, 0.03766721, 0.00737923, 0.05041179,\n",
       "         0.00355402]],\n",
       "\n",
       "       [[0.41261363, 0.55229   , 0.03267696, 0.00800288, 0.04310289,\n",
       "         0.00338137]],\n",
       "\n",
       "       [[0.4659784 , 0.57535595, 0.04162768, 0.00785238, 0.05570194,\n",
       "         0.004049  ]],\n",
       "\n",
       "       ...,\n",
       "\n",
       "       [[0.40230873, 0.55303717, 0.03064063, 0.00778642, 0.03926936,\n",
       "         0.00301138]],\n",
       "\n",
       "       [[0.39737666, 0.5441218 , 0.03281525, 0.00908223, 0.04408705,\n",
       "         0.00380024]],\n",
       "\n",
       "       [[0.4423588 , 0.54866594, 0.0380438 , 0.00816682, 0.06486663,\n",
       "         0.00507674]]], dtype=float32)"
      ]
     },
     "execution_count": 23,
     "metadata": {},
     "output_type": "execute_result"
    }
   ],
   "source": [
    "from sklearn.model_selection import train_test_split\n",
    "x_train, x_test, y_train, y_test = train_test_split(X1, Y1, test_size=0.25, random_state=42)\n",
    "\n",
    "y_test_pred=loaded_model.predict(x_test)\n",
    "y_test_pred"
   ]
  },
  {
   "cell_type": "code",
   "execution_count": 24,
   "id": "2b9807b3",
   "metadata": {},
   "outputs": [
    {
     "data": {
      "text/plain": [
       "array([[[0.49655172, 0.61261671, 0.04625328, 0.00839927, 0.07680226,\n",
       "         0.00349832]],\n",
       "\n",
       "       [[0.40689655, 0.56779311, 0.02503314, 0.00862807, 0.03923826,\n",
       "         0.00169898]],\n",
       "\n",
       "       [[0.48275862, 0.61261671, 0.05669757, 0.01000087, 0.12197674,\n",
       "         0.0061505 ]],\n",
       "\n",
       "       ...,\n",
       "\n",
       "       [[0.4       , 0.53897794, 0.02967504, 0.01022967, 0.04172884,\n",
       "         0.01677347]],\n",
       "\n",
       "       [[0.4137931 , 0.56779311, 0.03514586, 0.01114488, 0.06885241,\n",
       "         0.003031  ]],\n",
       "\n",
       "       [[0.48275862, 0.57739817, 0.06051056, 0.00908567, 0.10450044,\n",
       "         0.00542992]]])"
      ]
     },
     "execution_count": 24,
     "metadata": {},
     "output_type": "execute_result"
    }
   ],
   "source": [
    "y_test"
   ]
  },
  {
   "cell_type": "code",
   "execution_count": 25,
   "id": "b9371a30",
   "metadata": {},
   "outputs": [],
   "source": [
    "y_test=y_test[:,0]\n",
    "y_test_pred=y_test_pred[:,0]"
   ]
  },
  {
   "cell_type": "code",
   "execution_count": 26,
   "id": "a6219bb9",
   "metadata": {},
   "outputs": [],
   "source": [
    "from numpy import savetxt\n",
    "savetxt('ARRAY_DATA/cnn_y_test_pred.csv', y_test_pred[:1001], delimiter=',')"
   ]
  },
  {
   "cell_type": "code",
   "execution_count": 27,
   "id": "33bb831b",
   "metadata": {},
   "outputs": [],
   "source": [
    "from numpy import savetxt\n",
    "savetxt('ARRAY_DATA/cnn_y_test.csv', y_test[:1001], delimiter=',')"
   ]
  },
  {
   "cell_type": "code",
   "execution_count": null,
   "id": "f4f5b874",
   "metadata": {},
   "outputs": [],
   "source": [
    "#completed"
   ]
  }
 ],
 "metadata": {
  "kernelspec": {
   "display_name": "Python 3",
   "language": "python",
   "name": "python3"
  },
  "language_info": {
   "codemirror_mode": {
    "name": "ipython",
    "version": 3
   },
   "file_extension": ".py",
   "mimetype": "text/x-python",
   "name": "python",
   "nbconvert_exporter": "python",
   "pygments_lexer": "ipython3",
   "version": "3.6.15"
  }
 },
 "nbformat": 4,
 "nbformat_minor": 5
}
