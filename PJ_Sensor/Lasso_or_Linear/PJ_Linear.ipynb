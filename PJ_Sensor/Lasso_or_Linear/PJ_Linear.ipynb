{
 "cells": [
  {
   "cell_type": "code",
   "execution_count": 1,
   "id": "fa8ab11c",
   "metadata": {},
   "outputs": [],
   "source": [
    "import numpy as np\n",
    "import pandas as pd\n",
    "from matplotlib import pyplot as plt\n",
    "import os.path as op\n",
    "import pickle\n",
    "import tensorflow as tf\n",
    "from tensorflow import keras\n",
    "from keras.models import Model,Sequential,load_model\n",
    "from keras.layers import Input, Embedding\n",
    "from keras.layers import Dense, Bidirectional\n",
    "from keras.layers.recurrent import LSTM\n",
    "import keras.metrics as metrics\n",
    "import itertools\n",
    "from tensorflow.python.keras.utils.data_utils import Sequence\n",
    "from decimal import Decimal\n",
    "from keras import backend as K\n",
    "from keras.layers import Conv1D,MaxPooling1D,Flatten,Dense"
   ]
  },
  {
   "cell_type": "code",
   "execution_count": 2,
   "id": "54e8339c",
   "metadata": {},
   "outputs": [],
   "source": [
    "inp=pd.read_csv(\"../PJ sensor.csv\",usecols=[6,7,10,11])\n",
    "out=pd.read_csv(\"../PJ sensor.csv\",usecols=[2,3,4,5,8,9])"
   ]
  },
  {
   "cell_type": "code",
   "execution_count": 3,
   "id": "204fd93f",
   "metadata": {},
   "outputs": [
    {
     "data": {
      "text/html": [
       "<div>\n",
       "<style scoped>\n",
       "    .dataframe tbody tr th:only-of-type {\n",
       "        vertical-align: middle;\n",
       "    }\n",
       "\n",
       "    .dataframe tbody tr th {\n",
       "        vertical-align: top;\n",
       "    }\n",
       "\n",
       "    .dataframe thead th {\n",
       "        text-align: right;\n",
       "    }\n",
       "</style>\n",
       "<table border=\"1\" class=\"dataframe\">\n",
       "  <thead>\n",
       "    <tr style=\"text-align: right;\">\n",
       "      <th></th>\n",
       "      <th>Temperature</th>\n",
       "      <th>Relative Humidity</th>\n",
       "      <th>date</th>\n",
       "      <th>Time</th>\n",
       "    </tr>\n",
       "  </thead>\n",
       "  <tbody>\n",
       "    <tr>\n",
       "      <th>0</th>\n",
       "      <td>31</td>\n",
       "      <td>65</td>\n",
       "      <td>191213</td>\n",
       "      <td>175844</td>\n",
       "    </tr>\n",
       "    <tr>\n",
       "      <th>1</th>\n",
       "      <td>31</td>\n",
       "      <td>65</td>\n",
       "      <td>191213</td>\n",
       "      <td>175904</td>\n",
       "    </tr>\n",
       "    <tr>\n",
       "      <th>2</th>\n",
       "      <td>31</td>\n",
       "      <td>65</td>\n",
       "      <td>191213</td>\n",
       "      <td>175924</td>\n",
       "    </tr>\n",
       "    <tr>\n",
       "      <th>3</th>\n",
       "      <td>31</td>\n",
       "      <td>65</td>\n",
       "      <td>191213</td>\n",
       "      <td>175944</td>\n",
       "    </tr>\n",
       "    <tr>\n",
       "      <th>4</th>\n",
       "      <td>31</td>\n",
       "      <td>66</td>\n",
       "      <td>191213</td>\n",
       "      <td>180004</td>\n",
       "    </tr>\n",
       "  </tbody>\n",
       "</table>\n",
       "</div>"
      ],
      "text/plain": [
       "   Temperature  Relative Humidity    date    Time\n",
       "0           31                 65  191213  175844\n",
       "1           31                 65  191213  175904\n",
       "2           31                 65  191213  175924\n",
       "3           31                 65  191213  175944\n",
       "4           31                 66  191213  180004"
      ]
     },
     "execution_count": 3,
     "metadata": {},
     "output_type": "execute_result"
    }
   ],
   "source": [
    "inp.head(5)"
   ]
  },
  {
   "cell_type": "code",
   "execution_count": 4,
   "id": "b230be14",
   "metadata": {},
   "outputs": [
    {
     "data": {
      "text/html": [
       "<div>\n",
       "<style scoped>\n",
       "    .dataframe tbody tr th:only-of-type {\n",
       "        vertical-align: middle;\n",
       "    }\n",
       "\n",
       "    .dataframe tbody tr th {\n",
       "        vertical-align: top;\n",
       "    }\n",
       "\n",
       "    .dataframe thead th {\n",
       "        text-align: right;\n",
       "    }\n",
       "</style>\n",
       "<table border=\"1\" class=\"dataframe\">\n",
       "  <thead>\n",
       "    <tr style=\"text-align: right;\">\n",
       "      <th></th>\n",
       "      <th>NO2</th>\n",
       "      <th>O3</th>\n",
       "      <th>CO</th>\n",
       "      <th>SO2</th>\n",
       "      <th>PM2.5</th>\n",
       "      <th>PM10</th>\n",
       "    </tr>\n",
       "  </thead>\n",
       "  <tbody>\n",
       "    <tr>\n",
       "      <th>0</th>\n",
       "      <td>-15.075377</td>\n",
       "      <td>35.714286</td>\n",
       "      <td>1766.233766</td>\n",
       "      <td>148.484848</td>\n",
       "      <td>11.229150</td>\n",
       "      <td>17.323938</td>\n",
       "    </tr>\n",
       "    <tr>\n",
       "      <th>1</th>\n",
       "      <td>-20.100503</td>\n",
       "      <td>41.208791</td>\n",
       "      <td>1733.766234</td>\n",
       "      <td>142.424242</td>\n",
       "      <td>9.413914</td>\n",
       "      <td>24.967407</td>\n",
       "    </tr>\n",
       "    <tr>\n",
       "      <th>2</th>\n",
       "      <td>-15.075377</td>\n",
       "      <td>43.956044</td>\n",
       "      <td>1711.038961</td>\n",
       "      <td>136.363636</td>\n",
       "      <td>10.350110</td>\n",
       "      <td>56.781536</td>\n",
       "    </tr>\n",
       "    <tr>\n",
       "      <th>3</th>\n",
       "      <td>0.000000</td>\n",
       "      <td>57.692308</td>\n",
       "      <td>1688.311688</td>\n",
       "      <td>139.393939</td>\n",
       "      <td>10.488765</td>\n",
       "      <td>30.371115</td>\n",
       "    </tr>\n",
       "    <tr>\n",
       "      <th>4</th>\n",
       "      <td>-20.100503</td>\n",
       "      <td>54.945055</td>\n",
       "      <td>1681.818182</td>\n",
       "      <td>130.303030</td>\n",
       "      <td>12.353048</td>\n",
       "      <td>188.026886</td>\n",
       "    </tr>\n",
       "  </tbody>\n",
       "</table>\n",
       "</div>"
      ],
      "text/plain": [
       "         NO2         O3           CO         SO2      PM2.5        PM10\n",
       "0 -15.075377  35.714286  1766.233766  148.484848  11.229150   17.323938\n",
       "1 -20.100503  41.208791  1733.766234  142.424242   9.413914   24.967407\n",
       "2 -15.075377  43.956044  1711.038961  136.363636  10.350110   56.781536\n",
       "3   0.000000  57.692308  1688.311688  139.393939  10.488765   30.371115\n",
       "4 -20.100503  54.945055  1681.818182  130.303030  12.353048  188.026886"
      ]
     },
     "execution_count": 4,
     "metadata": {},
     "output_type": "execute_result"
    }
   ],
   "source": [
    "out.head(5)"
   ]
  },
  {
   "cell_type": "code",
   "execution_count": 5,
   "id": "59dde6b8",
   "metadata": {},
   "outputs": [
    {
     "data": {
      "text/html": [
       "<div>\n",
       "<style scoped>\n",
       "    .dataframe tbody tr th:only-of-type {\n",
       "        vertical-align: middle;\n",
       "    }\n",
       "\n",
       "    .dataframe tbody tr th {\n",
       "        vertical-align: top;\n",
       "    }\n",
       "\n",
       "    .dataframe thead th {\n",
       "        text-align: right;\n",
       "    }\n",
       "</style>\n",
       "<table border=\"1\" class=\"dataframe\">\n",
       "  <thead>\n",
       "    <tr style=\"text-align: right;\">\n",
       "      <th></th>\n",
       "      <th>Temperature</th>\n",
       "      <th>Relative Humidity</th>\n",
       "      <th>date</th>\n",
       "      <th>Time</th>\n",
       "    </tr>\n",
       "  </thead>\n",
       "  <tbody>\n",
       "    <tr>\n",
       "      <th>1627523</th>\n",
       "      <td>34</td>\n",
       "      <td>60</td>\n",
       "      <td>211111</td>\n",
       "      <td>160531</td>\n",
       "    </tr>\n",
       "    <tr>\n",
       "      <th>1627524</th>\n",
       "      <td>34</td>\n",
       "      <td>60</td>\n",
       "      <td>211111</td>\n",
       "      <td>160551</td>\n",
       "    </tr>\n",
       "    <tr>\n",
       "      <th>1627525</th>\n",
       "      <td>34</td>\n",
       "      <td>60</td>\n",
       "      <td>211111</td>\n",
       "      <td>160611</td>\n",
       "    </tr>\n",
       "    <tr>\n",
       "      <th>1627526</th>\n",
       "      <td>34</td>\n",
       "      <td>60</td>\n",
       "      <td>211111</td>\n",
       "      <td>160631</td>\n",
       "    </tr>\n",
       "    <tr>\n",
       "      <th>1627527</th>\n",
       "      <td>34</td>\n",
       "      <td>60</td>\n",
       "      <td>211111</td>\n",
       "      <td>160651</td>\n",
       "    </tr>\n",
       "    <tr>\n",
       "      <th>1627528</th>\n",
       "      <td>34</td>\n",
       "      <td>60</td>\n",
       "      <td>211111</td>\n",
       "      <td>160711</td>\n",
       "    </tr>\n",
       "    <tr>\n",
       "      <th>1627529</th>\n",
       "      <td>34</td>\n",
       "      <td>60</td>\n",
       "      <td>211111</td>\n",
       "      <td>160731</td>\n",
       "    </tr>\n",
       "    <tr>\n",
       "      <th>1627530</th>\n",
       "      <td>34</td>\n",
       "      <td>60</td>\n",
       "      <td>211111</td>\n",
       "      <td>160751</td>\n",
       "    </tr>\n",
       "    <tr>\n",
       "      <th>1627531</th>\n",
       "      <td>34</td>\n",
       "      <td>60</td>\n",
       "      <td>211111</td>\n",
       "      <td>160811</td>\n",
       "    </tr>\n",
       "    <tr>\n",
       "      <th>1627532</th>\n",
       "      <td>34</td>\n",
       "      <td>60</td>\n",
       "      <td>211111</td>\n",
       "      <td>160831</td>\n",
       "    </tr>\n",
       "  </tbody>\n",
       "</table>\n",
       "</div>"
      ],
      "text/plain": [
       "         Temperature  Relative Humidity    date    Time\n",
       "1627523           34                 60  211111  160531\n",
       "1627524           34                 60  211111  160551\n",
       "1627525           34                 60  211111  160611\n",
       "1627526           34                 60  211111  160631\n",
       "1627527           34                 60  211111  160651\n",
       "1627528           34                 60  211111  160711\n",
       "1627529           34                 60  211111  160731\n",
       "1627530           34                 60  211111  160751\n",
       "1627531           34                 60  211111  160811\n",
       "1627532           34                 60  211111  160831"
      ]
     },
     "execution_count": 5,
     "metadata": {},
     "output_type": "execute_result"
    }
   ],
   "source": [
    "inp.tail(10)"
   ]
  },
  {
   "cell_type": "code",
   "execution_count": 6,
   "id": "9087e6a6",
   "metadata": {},
   "outputs": [
    {
     "data": {
      "text/plain": [
       "(1627533, 6)"
      ]
     },
     "execution_count": 6,
     "metadata": {},
     "output_type": "execute_result"
    }
   ],
   "source": [
    "inp.shape\n",
    "out.shape"
   ]
  },
  {
   "cell_type": "code",
   "execution_count": 7,
   "id": "0fca6ff3",
   "metadata": {},
   "outputs": [],
   "source": [
    "inp=np.array(inp)\n",
    "out=np.array(out)"
   ]
  },
  {
   "cell_type": "code",
   "execution_count": 8,
   "id": "5b7e6b4a",
   "metadata": {},
   "outputs": [],
   "source": [
    "from sklearn.preprocessing import MinMaxScaler\n",
    "import warnings\n",
    "scaler_obj=MinMaxScaler()\n",
    "X1=scaler_obj.fit_transform(inp)\n",
    "Y1=scaler_obj.fit_transform(out)\n",
    "\n",
    "warnings.filterwarnings(action='ignore', category=UserWarning)"
   ]
  },
  {
   "cell_type": "code",
   "execution_count": 7,
   "id": "ce9fc304",
   "metadata": {},
   "outputs": [
    {
     "name": "stdout",
     "output_type": "stream",
     "text": [
      "Wall time: 0 ns\n",
      "Model training is Done!!\n"
     ]
    }
   ],
   "source": [
    "# Splitting Data into training and testing dataset\n",
    "from sklearn.model_selection import train_test_split\n",
    "x_train,x_test,y_train,y_test=train_test_split(X1,Y1,test_size=0.2,random_state=42)\n",
    "\n",
    "from sklearn.multioutput import MultiOutputRegressor\n",
    "from sklearn.linear_model import LinearRegression\n",
    "\n",
    "#creating object of sgboostregressor\n",
    "model1=MultiOutputRegressor(LinearRegression())\n",
    "\n",
    "model_fit1=model1.fit(x_train, y_train)\n",
    "%time model_fit1\n",
    "print(\"Model training is Done!!\")\n",
    "\n",
    "filename1 = 'linearregression.sav'\n",
    "pickle.dump(model_fit1, open(filename1, 'wb'))"
   ]
  },
  {
   "cell_type": "code",
   "execution_count": 8,
   "id": "ccd289c9",
   "metadata": {},
   "outputs": [
    {
     "name": "stdout",
     "output_type": "stream",
     "text": [
      "r2 score on train data 0.2948116798857159\n",
      "r2 score on test data 0.2929796878382063\n",
      "Mean Absolute Error: 0.01391719554120551\n",
      "Mean Squared Error: 0.0005747420137439317\n",
      "Root Mean Squared Error: 0.023973777627731757\n",
      " \n",
      "\n"
     ]
    }
   ],
   "source": [
    "from sklearn.metrics import r2_score\n",
    "from sklearn import metrics\n",
    "train_sizes=['NO2','O3','NO','CO','PM1','PM2.5','PM10']\n",
    "\n",
    "#finding out the r2 score\n",
    "y_train_pred1=model1.predict(x_train)\n",
    "r2_train1=r2_score(y_train,y_train_pred1,multioutput='variance_weighted')\n",
    "\n",
    "y_test_pred1=model1.predict(x_test)\n",
    "r2_test1=r2_score(y_test,y_test_pred1,multioutput='variance_weighted')\n",
    "\n",
    "print('r2 score on train data '+str(r2_train1))\n",
    "print('r2 score on test data '+ str(r2_test1))\n",
    "\n",
    "xgboost_mae=metrics.mean_absolute_error(y_test, y_test_pred1)\n",
    "xgboost_mse=metrics.mean_squared_error(y_test, y_test_pred1)\n",
    "xgboost_rmse=np.sqrt(xgboost_mse)\n",
    "print('Mean Absolute Error:',xgboost_mae)\n",
    "print('Mean Squared Error:',xgboost_mse )\n",
    "print('Root Mean Squared Error:',xgboost_rmse)\n",
    "print(' \\n')\n"
   ]
  },
  {
   "cell_type": "code",
   "execution_count": 9,
   "id": "077c7452",
   "metadata": {},
   "outputs": [
    {
     "name": "stdout",
     "output_type": "stream",
     "text": [
      "Predicted :\n",
      " [[0.45424568 0.57100102 0.04166631 0.00847074 0.05707396 0.00425943]\n",
      " [0.41350837 0.55205009 0.03457935 0.00853196 0.04844683 0.00387805]\n",
      " [0.46630211 0.57537136 0.04236458 0.00834588 0.05742094 0.0044362 ]\n",
      " ...\n",
      " [0.40383026 0.55251122 0.03414557 0.00872219 0.04674389 0.00365964]\n",
      " [0.39652864 0.54442455 0.03096275 0.00863495 0.04512389 0.00395007]\n",
      " [0.4430619  0.5484787  0.0391053  0.00851174 0.06721492 0.00531713]]\n",
      "\n",
      "\n",
      "R2 Score :  0.2932843874660527\n"
     ]
    }
   ],
   "source": [
    "import pickle\n",
    "from sklearn.metrics import r2_score\n",
    "from sklearn import metrics\n",
    "from sklearn.model_selection import train_test_split\n",
    "x_train,x_test,y_train,y_test=train_test_split(X1,Y1,test_size=0.25,random_state=42)\n",
    "loaded_model_fit7 = pickle.load(open(\"linearregression.sav\", 'rb'))\n",
    "y_test_pred=loaded_model_fit7.predict(x_test)\n",
    "print(\"Predicted :\\n\",y_test_pred)\n",
    "print(\"\\n\")\n",
    "r2_test=r2_score(y_test,y_test_pred,multioutput='variance_weighted')\n",
    "print(\"R2 Score : \",r2_test)"
   ]
  },
  {
   "cell_type": "code",
   "execution_count": null,
   "id": "7c133b7c",
   "metadata": {},
   "outputs": [],
   "source": [
    "#completed"
   ]
  }
 ],
 "metadata": {
  "kernelspec": {
   "display_name": "Python 3 (ipykernel)",
   "language": "python",
   "name": "python3"
  },
  "language_info": {
   "codemirror_mode": {
    "name": "ipython",
    "version": 3
   },
   "file_extension": ".py",
   "mimetype": "text/x-python",
   "name": "python",
   "nbconvert_exporter": "python",
   "pygments_lexer": "ipython3",
   "version": "3.9.5"
  }
 },
 "nbformat": 4,
 "nbformat_minor": 5
}
