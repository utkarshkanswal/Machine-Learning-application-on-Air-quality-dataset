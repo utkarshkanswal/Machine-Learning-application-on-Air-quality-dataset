{
 "cells": [
  {
   "cell_type": "code",
   "execution_count": 2,
   "id": "877c2677",
   "metadata": {},
   "outputs": [
    {
     "data": {
      "text/plain": [
       "[PhysicalDevice(name='/physical_device:CPU:0', device_type='CPU'),\n",
       " PhysicalDevice(name='/physical_device:GPU:0', device_type='GPU')]"
      ]
     },
     "execution_count": 2,
     "metadata": {},
     "output_type": "execute_result"
    }
   ],
   "source": [
    "import tensorflow as tf\n",
    "tf.config.experimental.list_physical_devices()"
   ]
  },
  {
   "cell_type": "code",
   "execution_count": 3,
   "id": "1c059e76",
   "metadata": {},
   "outputs": [
    {
     "data": {
      "text/plain": [
       "True"
      ]
     },
     "execution_count": 3,
     "metadata": {},
     "output_type": "execute_result"
    }
   ],
   "source": [
    "tf.test.is_built_with_cuda()"
   ]
  },
  {
   "cell_type": "markdown",
   "id": "96739d01",
   "metadata": {},
   "source": [
    "# Importing Libraries"
   ]
  },
  {
   "cell_type": "code",
   "execution_count": 1,
   "id": "a0397420",
   "metadata": {},
   "outputs": [],
   "source": [
    "import numpy as np\n",
    "import pandas as pd\n",
    "from matplotlib import pyplot as plt\n",
    "import os.path as op\n",
    "import pickle"
   ]
  },
  {
   "cell_type": "code",
   "execution_count": 2,
   "id": "e8cc09ab",
   "metadata": {},
   "outputs": [],
   "source": [
    "import tensorflow as tf\n",
    "from tensorflow import keras\n",
    "from keras.models import Model,Sequential,load_model\n",
    "from keras.layers import Input, Embedding\n",
    "from keras.layers import Dense, Bidirectional\n",
    "from keras.layers.recurrent import LSTM\n",
    "import keras.metrics as metrics\n",
    "import itertools\n",
    "from tensorflow.python.keras.utils.data_utils import Sequence\n",
    "from decimal import Decimal\n",
    "from keras import backend as K\n",
    "from keras.layers import Conv1D,MaxPooling1D,Flatten,Dense"
   ]
  },
  {
   "cell_type": "markdown",
   "id": "b7f9474e",
   "metadata": {},
   "source": [
    "# Data Fetching"
   ]
  },
  {
   "cell_type": "code",
   "execution_count": 3,
   "id": "cc06c8d1",
   "metadata": {},
   "outputs": [],
   "source": [
    "inp=pd.read_csv(\"PJ sensor.csv\",usecols=[6,7,10,11])\n",
    "out=pd.read_csv(\"PJ sensor.csv\",usecols=[2,3,4,5,8,9])"
   ]
  },
  {
   "cell_type": "code",
   "execution_count": 4,
   "id": "010d86fc",
   "metadata": {},
   "outputs": [
    {
     "data": {
      "text/html": [
       "<div>\n",
       "<style scoped>\n",
       "    .dataframe tbody tr th:only-of-type {\n",
       "        vertical-align: middle;\n",
       "    }\n",
       "\n",
       "    .dataframe tbody tr th {\n",
       "        vertical-align: top;\n",
       "    }\n",
       "\n",
       "    .dataframe thead th {\n",
       "        text-align: right;\n",
       "    }\n",
       "</style>\n",
       "<table border=\"1\" class=\"dataframe\">\n",
       "  <thead>\n",
       "    <tr style=\"text-align: right;\">\n",
       "      <th></th>\n",
       "      <th>Temperature</th>\n",
       "      <th>Relative Humidity</th>\n",
       "      <th>date</th>\n",
       "      <th>Time</th>\n",
       "    </tr>\n",
       "  </thead>\n",
       "  <tbody>\n",
       "    <tr>\n",
       "      <th>0</th>\n",
       "      <td>31</td>\n",
       "      <td>65</td>\n",
       "      <td>191213</td>\n",
       "      <td>175844</td>\n",
       "    </tr>\n",
       "    <tr>\n",
       "      <th>1</th>\n",
       "      <td>31</td>\n",
       "      <td>65</td>\n",
       "      <td>191213</td>\n",
       "      <td>175904</td>\n",
       "    </tr>\n",
       "    <tr>\n",
       "      <th>2</th>\n",
       "      <td>31</td>\n",
       "      <td>65</td>\n",
       "      <td>191213</td>\n",
       "      <td>175924</td>\n",
       "    </tr>\n",
       "    <tr>\n",
       "      <th>3</th>\n",
       "      <td>31</td>\n",
       "      <td>65</td>\n",
       "      <td>191213</td>\n",
       "      <td>175944</td>\n",
       "    </tr>\n",
       "    <tr>\n",
       "      <th>4</th>\n",
       "      <td>31</td>\n",
       "      <td>66</td>\n",
       "      <td>191213</td>\n",
       "      <td>180004</td>\n",
       "    </tr>\n",
       "  </tbody>\n",
       "</table>\n",
       "</div>"
      ],
      "text/plain": [
       "   Temperature  Relative Humidity    date    Time\n",
       "0           31                 65  191213  175844\n",
       "1           31                 65  191213  175904\n",
       "2           31                 65  191213  175924\n",
       "3           31                 65  191213  175944\n",
       "4           31                 66  191213  180004"
      ]
     },
     "execution_count": 4,
     "metadata": {},
     "output_type": "execute_result"
    }
   ],
   "source": [
    "inp.head(5)"
   ]
  },
  {
   "cell_type": "code",
   "execution_count": 5,
   "id": "b391fbf9",
   "metadata": {},
   "outputs": [
    {
     "data": {
      "text/html": [
       "<div>\n",
       "<style scoped>\n",
       "    .dataframe tbody tr th:only-of-type {\n",
       "        vertical-align: middle;\n",
       "    }\n",
       "\n",
       "    .dataframe tbody tr th {\n",
       "        vertical-align: top;\n",
       "    }\n",
       "\n",
       "    .dataframe thead th {\n",
       "        text-align: right;\n",
       "    }\n",
       "</style>\n",
       "<table border=\"1\" class=\"dataframe\">\n",
       "  <thead>\n",
       "    <tr style=\"text-align: right;\">\n",
       "      <th></th>\n",
       "      <th>NO2</th>\n",
       "      <th>O3</th>\n",
       "      <th>CO</th>\n",
       "      <th>SO2</th>\n",
       "      <th>PM2.5</th>\n",
       "      <th>PM10</th>\n",
       "    </tr>\n",
       "  </thead>\n",
       "  <tbody>\n",
       "    <tr>\n",
       "      <th>0</th>\n",
       "      <td>-15.075377</td>\n",
       "      <td>35.714286</td>\n",
       "      <td>1766.233766</td>\n",
       "      <td>148.484848</td>\n",
       "      <td>11.229150</td>\n",
       "      <td>17.323938</td>\n",
       "    </tr>\n",
       "    <tr>\n",
       "      <th>1</th>\n",
       "      <td>-20.100503</td>\n",
       "      <td>41.208791</td>\n",
       "      <td>1733.766234</td>\n",
       "      <td>142.424242</td>\n",
       "      <td>9.413914</td>\n",
       "      <td>24.967407</td>\n",
       "    </tr>\n",
       "    <tr>\n",
       "      <th>2</th>\n",
       "      <td>-15.075377</td>\n",
       "      <td>43.956044</td>\n",
       "      <td>1711.038961</td>\n",
       "      <td>136.363636</td>\n",
       "      <td>10.350110</td>\n",
       "      <td>56.781536</td>\n",
       "    </tr>\n",
       "    <tr>\n",
       "      <th>3</th>\n",
       "      <td>0.000000</td>\n",
       "      <td>57.692308</td>\n",
       "      <td>1688.311688</td>\n",
       "      <td>139.393939</td>\n",
       "      <td>10.488765</td>\n",
       "      <td>30.371115</td>\n",
       "    </tr>\n",
       "    <tr>\n",
       "      <th>4</th>\n",
       "      <td>-20.100503</td>\n",
       "      <td>54.945055</td>\n",
       "      <td>1681.818182</td>\n",
       "      <td>130.303030</td>\n",
       "      <td>12.353048</td>\n",
       "      <td>188.026886</td>\n",
       "    </tr>\n",
       "  </tbody>\n",
       "</table>\n",
       "</div>"
      ],
      "text/plain": [
       "         NO2         O3           CO         SO2      PM2.5        PM10\n",
       "0 -15.075377  35.714286  1766.233766  148.484848  11.229150   17.323938\n",
       "1 -20.100503  41.208791  1733.766234  142.424242   9.413914   24.967407\n",
       "2 -15.075377  43.956044  1711.038961  136.363636  10.350110   56.781536\n",
       "3   0.000000  57.692308  1688.311688  139.393939  10.488765   30.371115\n",
       "4 -20.100503  54.945055  1681.818182  130.303030  12.353048  188.026886"
      ]
     },
     "execution_count": 5,
     "metadata": {},
     "output_type": "execute_result"
    }
   ],
   "source": [
    "out.head(5)"
   ]
  },
  {
   "cell_type": "code",
   "execution_count": 6,
   "id": "444880a7",
   "metadata": {},
   "outputs": [],
   "source": [
    "inp=np.array(inp)\n",
    "out=np.array(out)"
   ]
  },
  {
   "cell_type": "markdown",
   "id": "78ca5e86",
   "metadata": {},
   "source": [
    "# Min Max Scaler"
   ]
  },
  {
   "cell_type": "code",
   "execution_count": 7,
   "id": "41ae9a8a",
   "metadata": {},
   "outputs": [],
   "source": [
    "from sklearn.preprocessing import MinMaxScaler\n",
    "import warnings\n",
    "scaler_obj=MinMaxScaler()\n",
    "X1=scaler_obj.fit_transform(inp)\n",
    "Y1=scaler_obj.fit_transform(out)\n",
    "\n",
    "warnings.filterwarnings(action='ignore', category=UserWarning)\n",
    "\n",
    "X1=X1[:,np.newaxis,:]\n",
    "Y1=Y1[:,np.newaxis,:]"
   ]
  },
  {
   "cell_type": "code",
   "execution_count": 8,
   "id": "da37491b",
   "metadata": {},
   "outputs": [],
   "source": [
    "def rmse(y_true, y_pred):\n",
    "    return K.sqrt(K.mean(K.square(y_pred - y_true), axis=-1))\n",
    "\n",
    "def coeff_determination(y_true, y_pred):\n",
    "    SS_res =  K.sum(K.square( y_true-y_pred )) \n",
    "    SS_tot = K.sum(K.square( y_true - K.mean(y_true) ) ) \n",
    "    return ( 1 - SS_res/(SS_tot + K.epsilon()) )"
   ]
  },
  {
   "cell_type": "code",
   "execution_count": 9,
   "id": "5baa529e",
   "metadata": {},
   "outputs": [
    {
     "data": {
      "text/plain": [
       "(1627533, 1, 6)"
      ]
     },
     "execution_count": 9,
     "metadata": {},
     "output_type": "execute_result"
    }
   ],
   "source": [
    "Y1.shape"
   ]
  },
  {
   "cell_type": "markdown",
   "id": "b1edf627",
   "metadata": {},
   "source": [
    "# Model"
   ]
  },
  {
   "cell_type": "code",
   "execution_count": 10,
   "id": "d05d8053",
   "metadata": {},
   "outputs": [
    {
     "name": "stdout",
     "output_type": "stream",
     "text": [
      "Model: \"sequential\"\n",
      "_________________________________________________________________\n",
      "Layer (type)                 Output Shape              Param #   \n",
      "=================================================================\n",
      "gru (GRU)                    (None, 6)                 216       \n",
      "_________________________________________________________________\n",
      "dropout (Dropout)            (None, 6)                 0         \n",
      "_________________________________________________________________\n",
      "dense (Dense)                (None, 6)                 42        \n",
      "_________________________________________________________________\n",
      "batch_normalization (BatchNo (None, 6)                 24        \n",
      "_________________________________________________________________\n",
      "re_lu (ReLU)                 (None, 6)                 0         \n",
      "=================================================================\n",
      "Total params: 282\n",
      "Trainable params: 270\n",
      "Non-trainable params: 12\n",
      "_________________________________________________________________\n"
     ]
    }
   ],
   "source": [
    "model1 = Sequential()\n",
    "model1.add(keras.Input(shape=(1,4)))\n",
    "model1.add(tf.keras.layers.GRU(6,activation=\"relu\",use_bias=True,kernel_initializer=\"glorot_uniform\",bias_initializer=\"zeros\", \n",
    "                                kernel_regularizer=keras.regularizers.l1_l2(l1=1e-5, l2=1e-4),\n",
    "                                bias_regularizer=keras.regularizers.l2(1e-4),\n",
    "                                activity_regularizer=keras.regularizers.l2(1e-5)))\n",
    "model1.add(keras.layers.Dropout(.1))\n",
    "model1.add(Dense(6))\n",
    "model1.add(keras.layers.BatchNormalization(axis=-1,momentum=0.99,epsilon=0.001,center=True,scale=True,\n",
    "                                beta_initializer=\"zeros\",gamma_initializer=\"ones\",\n",
    "                                moving_mean_initializer=\"zeros\",moving_variance_initializer=\"ones\",trainable=True))\n",
    "model1.add(keras.layers.ReLU())\n",
    "model1.compile(optimizer=keras.optimizers.Adam(learning_rate=1e-5),loss='mse',metrics=['accuracy','mse','mae',rmse])\n",
    "model1.summary()"
   ]
  },
  {
   "cell_type": "code",
   "execution_count": 11,
   "id": "fb37916d",
   "metadata": {},
   "outputs": [
    {
     "name": "stdout",
     "output_type": "stream",
     "text": [
      "Epoch 1/300\n",
      "537/537 [==============================] - 186s 344ms/step - loss: 0.2518 - accuracy: 0.3080 - mse: 0.2510 - mae: 0.3229 - rmse: 0.4384 - val_loss: 0.0986 - val_accuracy: 0.2587 - val_mse: 0.0979 - val_mae: 0.2315 - val_rmse: 0.2996\n",
      "Epoch 2/300\n",
      "537/537 [==============================] - 193s 359ms/step - loss: 0.2284 - accuracy: 0.3130 - mse: 0.2277 - mae: 0.3128 - rmse: 0.4215 - val_loss: 0.1360 - val_accuracy: 0.2291 - val_mse: 0.1352 - val_mae: 0.2635 - val_rmse: 0.3457\n",
      "Epoch 3/300\n",
      "537/537 [==============================] - 202s 377ms/step - loss: 0.2079 - accuracy: 0.3216 - mse: 0.2072 - mae: 0.3032 - rmse: 0.4055 - val_loss: 0.1248 - val_accuracy: 0.2360 - val_mse: 0.1241 - val_mae: 0.2569 - val_rmse: 0.3342\n",
      "Epoch 4/300\n",
      "537/537 [==============================] - 155s 288ms/step - loss: 0.1906 - accuracy: 0.3377 - mse: 0.1899 - mae: 0.2942 - rmse: 0.3908 - val_loss: 0.1156 - val_accuracy: 0.2461 - val_mse: 0.1149 - val_mae: 0.2507 - val_rmse: 0.3240\n",
      "Epoch 5/300\n",
      "537/537 [==============================] - 170s 316ms/step - loss: 0.1760 - accuracy: 0.3548 - mse: 0.1753 - mae: 0.2858 - rmse: 0.3779 - val_loss: 0.1090 - val_accuracy: 0.2568 - val_mse: 0.1083 - val_mae: 0.2458 - val_rmse: 0.3161\n",
      "Epoch 6/300\n",
      "537/537 [==============================] - 171s 318ms/step - loss: 0.1636 - accuracy: 0.3709 - mse: 0.1629 - mae: 0.2778 - rmse: 0.3663 - val_loss: 0.1025 - val_accuracy: 0.2706 - val_mse: 0.1018 - val_mae: 0.2398 - val_rmse: 0.3079\n",
      "Epoch 7/300\n",
      "537/537 [==============================] - 151s 281ms/step - loss: 0.1525 - accuracy: 0.3859 - mse: 0.1518 - mae: 0.2698 - rmse: 0.3554 - val_loss: 0.0971 - val_accuracy: 0.2926 - val_mse: 0.0964 - val_mae: 0.2341 - val_rmse: 0.3007\n",
      "Epoch 8/300\n",
      "537/537 [==============================] - 148s 275ms/step - loss: 0.1428 - accuracy: 0.4033 - mse: 0.1421 - mae: 0.2620 - rmse: 0.3454 - val_loss: 0.0921 - val_accuracy: 0.3210 - val_mse: 0.0914 - val_mae: 0.2283 - val_rmse: 0.2939\n",
      "Epoch 9/300\n",
      "537/537 [==============================] - 148s 276ms/step - loss: 0.1334 - accuracy: 0.4208 - mse: 0.1327 - mae: 0.2535 - rmse: 0.3352 - val_loss: 0.0874 - val_accuracy: 0.3495 - val_mse: 0.0867 - val_mae: 0.2220 - val_rmse: 0.2871\n",
      "Epoch 10/300\n",
      "537/537 [==============================] - 148s 276ms/step - loss: 0.1247 - accuracy: 0.4387 - mse: 0.1241 - mae: 0.2444 - rmse: 0.3251 - val_loss: 0.0828 - val_accuracy: 0.3763 - val_mse: 0.0821 - val_mae: 0.2153 - val_rmse: 0.2803\n",
      "Epoch 11/300\n",
      "537/537 [==============================] - 149s 277ms/step - loss: 0.1166 - accuracy: 0.4568 - mse: 0.1159 - mae: 0.2349 - rmse: 0.3150 - val_loss: 0.0782 - val_accuracy: 0.3969 - val_mse: 0.0775 - val_mae: 0.2078 - val_rmse: 0.2729\n",
      "Epoch 12/300\n",
      "537/537 [==============================] - 149s 277ms/step - loss: 0.1090 - accuracy: 0.4741 - mse: 0.1083 - mae: 0.2253 - rmse: 0.3052 - val_loss: 0.0740 - val_accuracy: 0.4165 - val_mse: 0.0733 - val_mae: 0.2002 - val_rmse: 0.2657\n",
      "Epoch 13/300\n",
      "537/537 [==============================] - 148s 276ms/step - loss: 0.1021 - accuracy: 0.4897 - mse: 0.1015 - mae: 0.2161 - rmse: 0.2962 - val_loss: 0.0702 - val_accuracy: 0.4324 - val_mse: 0.0695 - val_mae: 0.1927 - val_rmse: 0.2589\n",
      "Epoch 14/300\n",
      "537/537 [==============================] - 148s 276ms/step - loss: 0.0958 - accuracy: 0.5036 - mse: 0.0951 - mae: 0.2075 - rmse: 0.2877 - val_loss: 0.0670 - val_accuracy: 0.4480 - val_mse: 0.0663 - val_mae: 0.1861 - val_rmse: 0.2530\n",
      "Epoch 15/300\n",
      "537/537 [==============================] - 148s 276ms/step - loss: 0.0899 - accuracy: 0.5163 - mse: 0.0892 - mae: 0.1995 - rmse: 0.2798 - val_loss: 0.0639 - val_accuracy: 0.4611 - val_mse: 0.0632 - val_mae: 0.1790 - val_rmse: 0.2471\n",
      "Epoch 16/300\n",
      "537/537 [==============================] - 149s 277ms/step - loss: 0.0845 - accuracy: 0.5269 - mse: 0.0838 - mae: 0.1918 - rmse: 0.2723 - val_loss: 0.0611 - val_accuracy: 0.4741 - val_mse: 0.0605 - val_mae: 0.1723 - val_rmse: 0.2417\n",
      "Epoch 17/300\n",
      "537/537 [==============================] - 148s 276ms/step - loss: 0.0796 - accuracy: 0.5353 - mse: 0.0790 - mae: 0.1847 - rmse: 0.2654 - val_loss: 0.0587 - val_accuracy: 0.4861 - val_mse: 0.0580 - val_mae: 0.1658 - val_rmse: 0.2367\n",
      "Epoch 18/300\n",
      "537/537 [==============================] - 149s 277ms/step - loss: 0.0751 - accuracy: 0.5423 - mse: 0.0744 - mae: 0.1779 - rmse: 0.2588 - val_loss: 0.0565 - val_accuracy: 0.5023 - val_mse: 0.0558 - val_mae: 0.1600 - val_rmse: 0.2321\n",
      "Epoch 19/300\n",
      "537/537 [==============================] - 148s 276ms/step - loss: 0.0710 - accuracy: 0.5485 - mse: 0.0703 - mae: 0.1714 - rmse: 0.2526 - val_loss: 0.0546 - val_accuracy: 0.5141 - val_mse: 0.0540 - val_mae: 0.1547 - val_rmse: 0.2281\n",
      "Epoch 20/300\n",
      "537/537 [==============================] - 148s 276ms/step - loss: 0.0674 - accuracy: 0.5545 - mse: 0.0667 - mae: 0.1656 - rmse: 0.2470 - val_loss: 0.0529 - val_accuracy: 0.5283 - val_mse: 0.0523 - val_mae: 0.1497 - val_rmse: 0.2243\n",
      "Epoch 21/300\n",
      "537/537 [==============================] - 148s 276ms/step - loss: 0.0642 - accuracy: 0.5598 - mse: 0.0636 - mae: 0.1603 - rmse: 0.2418 - val_loss: 0.0515 - val_accuracy: 0.5440 - val_mse: 0.0508 - val_mae: 0.1456 - val_rmse: 0.2210\n",
      "Epoch 22/300\n",
      "537/537 [==============================] - 148s 276ms/step - loss: 0.0613 - accuracy: 0.5648 - mse: 0.0607 - mae: 0.1555 - rmse: 0.2371 - val_loss: 0.0501 - val_accuracy: 0.5588 - val_mse: 0.0495 - val_mae: 0.1414 - val_rmse: 0.2179\n",
      "Epoch 23/300\n",
      "537/537 [==============================] - 148s 276ms/step - loss: 0.0588 - accuracy: 0.5707 - mse: 0.0582 - mae: 0.1511 - rmse: 0.2327 - val_loss: 0.0491 - val_accuracy: 0.5694 - val_mse: 0.0484 - val_mae: 0.1379 - val_rmse: 0.2155\n",
      "Epoch 24/300\n",
      "537/537 [==============================] - 148s 276ms/step - loss: 0.0565 - accuracy: 0.5767 - mse: 0.0559 - mae: 0.1470 - rmse: 0.2285 - val_loss: 0.0479 - val_accuracy: 0.5805 - val_mse: 0.0472 - val_mae: 0.1345 - val_rmse: 0.2127\n",
      "Epoch 25/300\n",
      "537/537 [==============================] - 148s 276ms/step - loss: 0.0545 - accuracy: 0.5826 - mse: 0.0539 - mae: 0.1433 - rmse: 0.2249 - val_loss: 0.0469 - val_accuracy: 0.5938 - val_mse: 0.0463 - val_mae: 0.1313 - val_rmse: 0.2105\n",
      "Epoch 26/300\n",
      "537/537 [==============================] - 148s 276ms/step - loss: 0.0527 - accuracy: 0.5887 - mse: 0.0521 - mae: 0.1399 - rmse: 0.2214 - val_loss: 0.0461 - val_accuracy: 0.6039 - val_mse: 0.0455 - val_mae: 0.1290 - val_rmse: 0.2088\n",
      "Epoch 27/300\n",
      "537/537 [==============================] - 148s 275ms/step - loss: 0.0511 - accuracy: 0.5932 - mse: 0.0505 - mae: 0.1370 - rmse: 0.2185 - val_loss: 0.0452 - val_accuracy: 0.6144 - val_mse: 0.0446 - val_mae: 0.1266 - val_rmse: 0.2067\n",
      "Epoch 28/300\n",
      "537/537 [==============================] - 147s 274ms/step - loss: 0.0497 - accuracy: 0.5973 - mse: 0.0491 - mae: 0.1341 - rmse: 0.2156 - val_loss: 0.0444 - val_accuracy: 0.6246 - val_mse: 0.0438 - val_mae: 0.1242 - val_rmse: 0.2049\n",
      "Epoch 29/300\n",
      "537/537 [==============================] - 147s 274ms/step - loss: 0.0484 - accuracy: 0.6010 - mse: 0.0478 - mae: 0.1314 - rmse: 0.2130 - val_loss: 0.0438 - val_accuracy: 0.6334 - val_mse: 0.0432 - val_mae: 0.1222 - val_rmse: 0.2034\n",
      "Epoch 30/300\n",
      "537/537 [==============================] - 147s 274ms/step - loss: 0.0473 - accuracy: 0.6048 - mse: 0.0467 - mae: 0.1288 - rmse: 0.2106 - val_loss: 0.0431 - val_accuracy: 0.6436 - val_mse: 0.0425 - val_mae: 0.1204 - val_rmse: 0.2018\n",
      "Epoch 31/300\n",
      "537/537 [==============================] - 147s 275ms/step - loss: 0.0463 - accuracy: 0.6078 - mse: 0.0457 - mae: 0.1266 - rmse: 0.2084 - val_loss: 0.0422 - val_accuracy: 0.6493 - val_mse: 0.0417 - val_mae: 0.1186 - val_rmse: 0.1997\n",
      "Epoch 32/300\n",
      "537/537 [==============================] - 147s 274ms/step - loss: 0.0453 - accuracy: 0.6123 - mse: 0.0447 - mae: 0.1245 - rmse: 0.2062 - val_loss: 0.0416 - val_accuracy: 0.6598 - val_mse: 0.0411 - val_mae: 0.1174 - val_rmse: 0.1983\n",
      "Epoch 33/300\n",
      "537/537 [==============================] - 147s 274ms/step - loss: 0.0443 - accuracy: 0.6174 - mse: 0.0438 - mae: 0.1226 - rmse: 0.2040 - val_loss: 0.0406 - val_accuracy: 0.6662 - val_mse: 0.0400 - val_mae: 0.1154 - val_rmse: 0.1956\n",
      "Epoch 34/300\n"
     ]
    },
    {
     "name": "stdout",
     "output_type": "stream",
     "text": [
      "537/537 [==============================] - 146s 272ms/step - loss: 0.0433 - accuracy: 0.6236 - mse: 0.0428 - mae: 0.1207 - rmse: 0.2018 - val_loss: 0.0397 - val_accuracy: 0.6776 - val_mse: 0.0392 - val_mae: 0.1141 - val_rmse: 0.1935\n",
      "Epoch 35/300\n",
      "537/537 [==============================] - 146s 272ms/step - loss: 0.0424 - accuracy: 0.6293 - mse: 0.0418 - mae: 0.1190 - rmse: 0.1995 - val_loss: 0.0388 - val_accuracy: 0.6828 - val_mse: 0.0383 - val_mae: 0.1128 - val_rmse: 0.1912\n",
      "Epoch 36/300\n",
      "537/537 [==============================] - 146s 272ms/step - loss: 0.0414 - accuracy: 0.6341 - mse: 0.0409 - mae: 0.1172 - rmse: 0.1971 - val_loss: 0.0378 - val_accuracy: 0.6886 - val_mse: 0.0373 - val_mae: 0.1114 - val_rmse: 0.1885\n",
      "Epoch 37/300\n",
      "537/537 [==============================] - 146s 272ms/step - loss: 0.0399 - accuracy: 0.6286 - mse: 0.0394 - mae: 0.1148 - rmse: 0.1933 - val_loss: 0.0366 - val_accuracy: 0.6720 - val_mse: 0.0361 - val_mae: 0.1094 - val_rmse: 0.1846\n",
      "Epoch 38/300\n",
      "537/537 [==============================] - 146s 271ms/step - loss: 0.0382 - accuracy: 0.6201 - mse: 0.0377 - mae: 0.1125 - rmse: 0.1888 - val_loss: 0.0360 - val_accuracy: 0.6743 - val_mse: 0.0355 - val_mae: 0.1088 - val_rmse: 0.1826\n",
      "Epoch 39/300\n",
      "537/537 [==============================] - 146s 271ms/step - loss: 0.0366 - accuracy: 0.6165 - mse: 0.0361 - mae: 0.1105 - rmse: 0.1842 - val_loss: 0.0348 - val_accuracy: 0.6746 - val_mse: 0.0343 - val_mae: 0.1074 - val_rmse: 0.1787\n",
      "Epoch 40/300\n",
      "537/537 [==============================] - 146s 271ms/step - loss: 0.0351 - accuracy: 0.6370 - mse: 0.0345 - mae: 0.1085 - rmse: 0.1793 - val_loss: 0.0331 - val_accuracy: 0.6784 - val_mse: 0.0326 - val_mae: 0.1052 - val_rmse: 0.1729\n",
      "Epoch 41/300\n",
      "537/537 [==============================] - 145s 271ms/step - loss: 0.0334 - accuracy: 0.7012 - mse: 0.0329 - mae: 0.1066 - rmse: 0.1740 - val_loss: 0.0322 - val_accuracy: 0.6993 - val_mse: 0.0317 - val_mae: 0.1048 - val_rmse: 0.1699\n",
      "Epoch 42/300\n",
      "537/537 [==============================] - 145s 271ms/step - loss: 0.0317 - accuracy: 0.7251 - mse: 0.0312 - mae: 0.1046 - rmse: 0.1683 - val_loss: 0.0304 - val_accuracy: 0.7169 - val_mse: 0.0299 - val_mae: 0.1026 - val_rmse: 0.1639\n",
      "Epoch 43/300\n",
      "537/537 [==============================] - 146s 271ms/step - loss: 0.0301 - accuracy: 0.7417 - mse: 0.0295 - mae: 0.1028 - rmse: 0.1628 - val_loss: 0.0282 - val_accuracy: 0.7383 - val_mse: 0.0277 - val_mae: 0.0993 - val_rmse: 0.1564\n",
      "Epoch 44/300\n",
      "537/537 [==============================] - 145s 271ms/step - loss: 0.0285 - accuracy: 0.7574 - mse: 0.0280 - mae: 0.1006 - rmse: 0.1580 - val_loss: 0.0276 - val_accuracy: 0.7511 - val_mse: 0.0271 - val_mae: 0.0987 - val_rmse: 0.1548\n",
      "Epoch 45/300\n",
      "537/537 [==============================] - 145s 270ms/step - loss: 0.0272 - accuracy: 0.7657 - mse: 0.0267 - mae: 0.0982 - rmse: 0.1537 - val_loss: 0.0265 - val_accuracy: 0.7611 - val_mse: 0.0260 - val_mae: 0.0967 - val_rmse: 0.1511\n",
      "Epoch 46/300\n",
      "537/537 [==============================] - 145s 270ms/step - loss: 0.0260 - accuracy: 0.7764 - mse: 0.0255 - mae: 0.0959 - rmse: 0.1499 - val_loss: 0.0255 - val_accuracy: 0.7734 - val_mse: 0.0250 - val_mae: 0.0945 - val_rmse: 0.1476\n",
      "Epoch 47/300\n",
      "537/537 [==============================] - 145s 270ms/step - loss: 0.0250 - accuracy: 0.7865 - mse: 0.0245 - mae: 0.0938 - rmse: 0.1463 - val_loss: 0.0244 - val_accuracy: 0.7801 - val_mse: 0.0239 - val_mae: 0.0922 - val_rmse: 0.1439\n",
      "Epoch 48/300\n",
      "537/537 [==============================] - 145s 270ms/step - loss: 0.0240 - accuracy: 0.7939 - mse: 0.0235 - mae: 0.0918 - rmse: 0.1429 - val_loss: 0.0237 - val_accuracy: 0.7877 - val_mse: 0.0232 - val_mae: 0.0909 - val_rmse: 0.1417\n",
      "Epoch 49/300\n",
      "537/537 [==============================] - 145s 270ms/step - loss: 0.0230 - accuracy: 0.8011 - mse: 0.0225 - mae: 0.0899 - rmse: 0.1396 - val_loss: 0.0231 - val_accuracy: 0.7951 - val_mse: 0.0226 - val_mae: 0.0898 - val_rmse: 0.1396\n",
      "Epoch 50/300\n",
      "537/537 [==============================] - 145s 270ms/step - loss: 0.0222 - accuracy: 0.8081 - mse: 0.0217 - mae: 0.0881 - rmse: 0.1365 - val_loss: 0.0222 - val_accuracy: 0.8032 - val_mse: 0.0217 - val_mae: 0.0877 - val_rmse: 0.1362\n",
      "Epoch 51/300\n",
      "537/537 [==============================] - 145s 270ms/step - loss: 0.0213 - accuracy: 0.8156 - mse: 0.0208 - mae: 0.0863 - rmse: 0.1334 - val_loss: 0.0212 - val_accuracy: 0.8085 - val_mse: 0.0207 - val_mae: 0.0859 - val_rmse: 0.1326\n",
      "Epoch 52/300\n",
      "537/537 [==============================] - 145s 270ms/step - loss: 0.0205 - accuracy: 0.8215 - mse: 0.0201 - mae: 0.0846 - rmse: 0.1305 - val_loss: 0.0205 - val_accuracy: 0.8173 - val_mse: 0.0200 - val_mae: 0.0842 - val_rmse: 0.1301\n",
      "Epoch 53/300\n",
      "537/537 [==============================] - 145s 270ms/step - loss: 0.0198 - accuracy: 0.8282 - mse: 0.0193 - mae: 0.0830 - rmse: 0.1276 - val_loss: 0.0195 - val_accuracy: 0.8242 - val_mse: 0.0190 - val_mae: 0.0813 - val_rmse: 0.1262\n",
      "Epoch 54/300\n",
      "537/537 [==============================] - 145s 270ms/step - loss: 0.0189 - accuracy: 0.8360 - mse: 0.0184 - mae: 0.0802 - rmse: 0.1245 - val_loss: 0.0184 - val_accuracy: 0.8329 - val_mse: 0.0179 - val_mae: 0.0785 - val_rmse: 0.1220\n",
      "Epoch 55/300\n",
      "537/537 [==============================] - 145s 270ms/step - loss: 0.0181 - accuracy: 0.8449 - mse: 0.0176 - mae: 0.0785 - rmse: 0.1218 - val_loss: 0.0180 - val_accuracy: 0.8417 - val_mse: 0.0175 - val_mae: 0.0777 - val_rmse: 0.1212\n",
      "Epoch 56/300\n",
      "537/537 [==============================] - 145s 270ms/step - loss: 0.0173 - accuracy: 0.8514 - mse: 0.0169 - mae: 0.0768 - rmse: 0.1190 - val_loss: 0.0173 - val_accuracy: 0.8495 - val_mse: 0.0168 - val_mae: 0.0762 - val_rmse: 0.1186\n",
      "Epoch 57/300\n",
      "537/537 [==============================] - 146s 271ms/step - loss: 0.0166 - accuracy: 0.8578 - mse: 0.0162 - mae: 0.0752 - rmse: 0.1163 - val_loss: 0.0163 - val_accuracy: 0.8563 - val_mse: 0.0159 - val_mae: 0.0740 - val_rmse: 0.1147\n",
      "Epoch 58/300\n",
      "537/537 [==============================] - 146s 272ms/step - loss: 0.0159 - accuracy: 0.8653 - mse: 0.0155 - mae: 0.0736 - rmse: 0.1136 - val_loss: 0.0156 - val_accuracy: 0.8661 - val_mse: 0.0152 - val_mae: 0.0725 - val_rmse: 0.1119\n",
      "Epoch 59/300\n",
      "537/537 [==============================] - 146s 273ms/step - loss: 0.0153 - accuracy: 0.8761 - mse: 0.0148 - mae: 0.0725 - rmse: 0.1113 - val_loss: 0.0150 - val_accuracy: 0.8784 - val_mse: 0.0145 - val_mae: 0.0719 - val_rmse: 0.1102\n",
      "Epoch 60/300\n",
      "537/537 [==============================] - 147s 273ms/step - loss: 0.0146 - accuracy: 0.8877 - mse: 0.0141 - mae: 0.0718 - rmse: 0.1093 - val_loss: 0.0144 - val_accuracy: 0.8877 - val_mse: 0.0140 - val_mae: 0.0713 - val_rmse: 0.1086\n",
      "Epoch 61/300\n",
      "537/537 [==============================] - 147s 275ms/step - loss: 0.0139 - accuracy: 0.8937 - mse: 0.0135 - mae: 0.0705 - rmse: 0.1068 - val_loss: 0.0136 - val_accuracy: 0.8951 - val_mse: 0.0132 - val_mae: 0.0694 - val_rmse: 0.1053\n",
      "Epoch 62/300\n",
      "537/537 [==============================] - 147s 274ms/step - loss: 0.0133 - accuracy: 0.9009 - mse: 0.0129 - mae: 0.0691 - rmse: 0.1042 - val_loss: 0.0131 - val_accuracy: 0.9026 - val_mse: 0.0126 - val_mae: 0.0682 - val_rmse: 0.1029\n",
      "Epoch 63/300\n",
      "537/537 [==============================] - 147s 273ms/step - loss: 0.0127 - accuracy: 0.9086 - mse: 0.0123 - mae: 0.0677 - rmse: 0.1016 - val_loss: 0.0126 - val_accuracy: 0.9102 - val_mse: 0.0122 - val_mae: 0.0675 - val_rmse: 0.1013\n",
      "Epoch 64/300\n",
      "537/537 [==============================] - 147s 273ms/step - loss: 0.0121 - accuracy: 0.9177 - mse: 0.0117 - mae: 0.0666 - rmse: 0.0995 - val_loss: 0.0119 - val_accuracy: 0.9215 - val_mse: 0.0115 - val_mae: 0.0665 - val_rmse: 0.0991\n",
      "Epoch 65/300\n",
      "537/537 [==============================] - 147s 273ms/step - loss: 0.0115 - accuracy: 0.9303 - mse: 0.0111 - mae: 0.0659 - rmse: 0.0977 - val_loss: 0.0110 - val_accuracy: 0.9327 - val_mse: 0.0106 - val_mae: 0.0644 - val_rmse: 0.0952\n",
      "Epoch 66/300\n",
      "537/537 [==============================] - 147s 273ms/step - loss: 0.0109 - accuracy: 0.9367 - mse: 0.0105 - mae: 0.0644 - rmse: 0.0952 - val_loss: 0.0105 - val_accuracy: 0.9370 - val_mse: 0.0101 - val_mae: 0.0629 - val_rmse: 0.0927\n",
      "Epoch 67/300\n"
     ]
    },
    {
     "name": "stdout",
     "output_type": "stream",
     "text": [
      "537/537 [==============================] - 146s 273ms/step - loss: 0.0103 - accuracy: 0.9402 - mse: 0.0099 - mae: 0.0628 - rmse: 0.0924 - val_loss: 0.0102 - val_accuracy: 0.9411 - val_mse: 0.0098 - val_mae: 0.0623 - val_rmse: 0.0916\n",
      "Epoch 68/300\n",
      "537/537 [==============================] - 147s 273ms/step - loss: 0.0098 - accuracy: 0.9443 - mse: 0.0094 - mae: 0.0613 - rmse: 0.0898 - val_loss: 0.0096 - val_accuracy: 0.9455 - val_mse: 0.0092 - val_mae: 0.0603 - val_rmse: 0.0883\n",
      "Epoch 69/300\n",
      "537/537 [==============================] - 146s 271ms/step - loss: 0.0093 - accuracy: 0.9487 - mse: 0.0089 - mae: 0.0598 - rmse: 0.0873 - val_loss: 0.0090 - val_accuracy: 0.9500 - val_mse: 0.0086 - val_mae: 0.0588 - val_rmse: 0.0857\n",
      "Epoch 70/300\n",
      "537/537 [==============================] - 146s 272ms/step - loss: 0.0088 - accuracy: 0.9548 - mse: 0.0084 - mae: 0.0586 - rmse: 0.0851 - val_loss: 0.0087 - val_accuracy: 0.9563 - val_mse: 0.0084 - val_mae: 0.0584 - val_rmse: 0.0849\n",
      "Epoch 71/300\n",
      "537/537 [==============================] - 146s 272ms/step - loss: 0.0083 - accuracy: 0.9594 - mse: 0.0079 - mae: 0.0572 - rmse: 0.0827 - val_loss: 0.0080 - val_accuracy: 0.9590 - val_mse: 0.0077 - val_mae: 0.0561 - val_rmse: 0.0809\n",
      "Epoch 72/300\n",
      "537/537 [==============================] - 146s 272ms/step - loss: 0.0078 - accuracy: 0.9607 - mse: 0.0075 - mae: 0.0555 - rmse: 0.0799 - val_loss: 0.0076 - val_accuracy: 0.9603 - val_mse: 0.0073 - val_mae: 0.0545 - val_rmse: 0.0783\n",
      "Epoch 73/300\n",
      "537/537 [==============================] - 149s 277ms/step - loss: 0.0074 - accuracy: 0.9623 - mse: 0.0070 - mae: 0.0539 - rmse: 0.0772 - val_loss: 0.0074 - val_accuracy: 0.9623 - val_mse: 0.0070 - val_mae: 0.0537 - val_rmse: 0.0769\n",
      "Epoch 74/300\n",
      "537/537 [==============================] - 152s 282ms/step - loss: 0.0070 - accuracy: 0.9640 - mse: 0.0066 - mae: 0.0522 - rmse: 0.0746 - val_loss: 0.0069 - val_accuracy: 0.9642 - val_mse: 0.0066 - val_mae: 0.0518 - val_rmse: 0.0739\n",
      "Epoch 75/300\n",
      "537/537 [==============================] - 153s 284ms/step - loss: 0.0066 - accuracy: 0.9660 - mse: 0.0062 - mae: 0.0507 - rmse: 0.0720 - val_loss: 0.0063 - val_accuracy: 0.9665 - val_mse: 0.0060 - val_mae: 0.0493 - val_rmse: 0.0698\n",
      "Epoch 76/300\n",
      "537/537 [==============================] - 166s 309ms/step - loss: 0.0062 - accuracy: 0.9687 - mse: 0.0059 - mae: 0.0492 - rmse: 0.0696 - val_loss: 0.0060 - val_accuracy: 0.9693 - val_mse: 0.0057 - val_mae: 0.0483 - val_rmse: 0.0681\n",
      "Epoch 77/300\n",
      "537/537 [==============================] - 177s 329ms/step - loss: 0.0058 - accuracy: 0.9715 - mse: 0.0055 - mae: 0.0479 - rmse: 0.0674 - val_loss: 0.0056 - val_accuracy: 0.9715 - val_mse: 0.0053 - val_mae: 0.0471 - val_rmse: 0.0661\n",
      "Epoch 78/300\n",
      "537/537 [==============================] - 173s 322ms/step - loss: 0.0054 - accuracy: 0.9728 - mse: 0.0051 - mae: 0.0464 - rmse: 0.0649 - val_loss: 0.0054 - val_accuracy: 0.9723 - val_mse: 0.0050 - val_mae: 0.0458 - val_rmse: 0.0642\n",
      "Epoch 79/300\n",
      "537/537 [==============================] - 173s 322ms/step - loss: 0.0051 - accuracy: 0.9734 - mse: 0.0048 - mae: 0.0448 - rmse: 0.0624 - val_loss: 0.0049 - val_accuracy: 0.9725 - val_mse: 0.0046 - val_mae: 0.0434 - val_rmse: 0.0602\n",
      "Epoch 80/300\n",
      "537/537 [==============================] - 173s 322ms/step - loss: 0.0048 - accuracy: 0.9738 - mse: 0.0045 - mae: 0.0432 - rmse: 0.0599 - val_loss: 0.0047 - val_accuracy: 0.9732 - val_mse: 0.0044 - val_mae: 0.0426 - val_rmse: 0.0590\n",
      "Epoch 81/300\n",
      "537/537 [==============================] - 173s 322ms/step - loss: 0.0045 - accuracy: 0.9747 - mse: 0.0042 - mae: 0.0417 - rmse: 0.0575 - val_loss: 0.0045 - val_accuracy: 0.9747 - val_mse: 0.0042 - val_mae: 0.0414 - val_rmse: 0.0571\n",
      "Epoch 82/300\n",
      "537/537 [==============================] - 172s 320ms/step - loss: 0.0042 - accuracy: 0.9759 - mse: 0.0039 - mae: 0.0402 - rmse: 0.0552 - val_loss: 0.0042 - val_accuracy: 0.9765 - val_mse: 0.0040 - val_mae: 0.0403 - val_rmse: 0.0554\n",
      "Epoch 83/300\n",
      "537/537 [==============================] - 172s 320ms/step - loss: 0.0039 - accuracy: 0.9783 - mse: 0.0036 - mae: 0.0390 - rmse: 0.0533 - val_loss: 0.0038 - val_accuracy: 0.9787 - val_mse: 0.0035 - val_mae: 0.0385 - val_rmse: 0.0526\n",
      "Epoch 84/300\n",
      "537/537 [==============================] - 172s 320ms/step - loss: 0.0037 - accuracy: 0.9799 - mse: 0.0034 - mae: 0.0378 - rmse: 0.0514 - val_loss: 0.0036 - val_accuracy: 0.9803 - val_mse: 0.0034 - val_mae: 0.0375 - val_rmse: 0.0509\n",
      "Epoch 85/300\n",
      "537/537 [==============================] - 172s 320ms/step - loss: 0.0034 - accuracy: 0.9810 - mse: 0.0032 - mae: 0.0365 - rmse: 0.0493 - val_loss: 0.0034 - val_accuracy: 0.9813 - val_mse: 0.0031 - val_mae: 0.0359 - val_rmse: 0.0484\n",
      "Epoch 86/300\n",
      "537/537 [==============================] - 172s 320ms/step - loss: 0.0032 - accuracy: 0.9820 - mse: 0.0030 - mae: 0.0352 - rmse: 0.0473 - val_loss: 0.0031 - val_accuracy: 0.9825 - val_mse: 0.0029 - val_mae: 0.0348 - val_rmse: 0.0467\n",
      "Epoch 87/300\n",
      "537/537 [==============================] - 172s 320ms/step - loss: 0.0030 - accuracy: 0.9833 - mse: 0.0027 - mae: 0.0342 - rmse: 0.0457 - val_loss: 0.0030 - val_accuracy: 0.9833 - val_mse: 0.0027 - val_mae: 0.0339 - val_rmse: 0.0452\n",
      "Epoch 88/300\n",
      "537/537 [==============================] - 172s 320ms/step - loss: 0.0028 - accuracy: 0.9839 - mse: 0.0026 - mae: 0.0330 - rmse: 0.0440 - val_loss: 0.0027 - val_accuracy: 0.9839 - val_mse: 0.0025 - val_mae: 0.0323 - val_rmse: 0.0428\n",
      "Epoch 89/300\n",
      "537/537 [==============================] - 172s 321ms/step - loss: 0.0026 - accuracy: 0.9844 - mse: 0.0024 - mae: 0.0319 - rmse: 0.0422 - val_loss: 0.0025 - val_accuracy: 0.9845 - val_mse: 0.0023 - val_mae: 0.0308 - val_rmse: 0.0406\n",
      "Epoch 90/300\n",
      "537/537 [==============================] - 172s 320ms/step - loss: 0.0025 - accuracy: 0.9850 - mse: 0.0023 - mae: 0.0308 - rmse: 0.0406 - val_loss: 0.0025 - val_accuracy: 0.9849 - val_mse: 0.0022 - val_mae: 0.0303 - val_rmse: 0.0399\n",
      "Epoch 91/300\n",
      "537/537 [==============================] - 172s 321ms/step - loss: 0.0024 - accuracy: 0.9854 - mse: 0.0021 - mae: 0.0298 - rmse: 0.0392 - val_loss: 0.0024 - val_accuracy: 0.9853 - val_mse: 0.0021 - val_mae: 0.0298 - val_rmse: 0.0392\n",
      "Epoch 92/300\n",
      "537/537 [==============================] - 172s 321ms/step - loss: 0.0022 - accuracy: 0.9861 - mse: 0.0020 - mae: 0.0290 - rmse: 0.0380 - val_loss: 0.0022 - val_accuracy: 0.9862 - val_mse: 0.0019 - val_mae: 0.0283 - val_rmse: 0.0370\n",
      "Epoch 93/300\n",
      "537/537 [==============================] - 172s 320ms/step - loss: 0.0021 - accuracy: 0.9873 - mse: 0.0019 - mae: 0.0282 - rmse: 0.0370 - val_loss: 0.0020 - val_accuracy: 0.9876 - val_mse: 0.0018 - val_mae: 0.0276 - val_rmse: 0.0361\n",
      "Epoch 94/300\n",
      "537/537 [==============================] - 172s 321ms/step - loss: 0.0019 - accuracy: 0.9889 - mse: 0.0017 - mae: 0.0276 - rmse: 0.0359 - val_loss: 0.0018 - val_accuracy: 0.9896 - val_mse: 0.0016 - val_mae: 0.0267 - val_rmse: 0.0347\n",
      "Epoch 95/300\n",
      "537/537 [==============================] - 172s 321ms/step - loss: 0.0018 - accuracy: 0.9910 - mse: 0.0016 - mae: 0.0268 - rmse: 0.0349 - val_loss: 0.0017 - val_accuracy: 0.9913 - val_mse: 0.0015 - val_mae: 0.0266 - val_rmse: 0.0345\n",
      "Epoch 96/300\n",
      "537/537 [==============================] - 172s 320ms/step - loss: 0.0017 - accuracy: 0.9926 - mse: 0.0014 - mae: 0.0261 - rmse: 0.0338 - val_loss: 0.0016 - val_accuracy: 0.9931 - val_mse: 0.0014 - val_mae: 0.0258 - val_rmse: 0.0333\n",
      "Epoch 97/300\n",
      "537/537 [==============================] - 171s 319ms/step - loss: 0.0016 - accuracy: 0.9938 - mse: 0.0014 - mae: 0.0254 - rmse: 0.0328 - val_loss: 0.0015 - val_accuracy: 0.9944 - val_mse: 0.0013 - val_mae: 0.0250 - val_rmse: 0.0322\n",
      "Epoch 98/300\n",
      "537/537 [==============================] - 172s 320ms/step - loss: 0.0015 - accuracy: 0.9947 - mse: 0.0013 - mae: 0.0248 - rmse: 0.0320 - val_loss: 0.0014 - val_accuracy: 0.9951 - val_mse: 0.0012 - val_mae: 0.0245 - val_rmse: 0.0316\n",
      "Epoch 99/300\n",
      "537/537 [==============================] - 172s 321ms/step - loss: 0.0014 - accuracy: 0.9953 - mse: 0.0012 - mae: 0.0242 - rmse: 0.0312 - val_loss: 0.0014 - val_accuracy: 0.9958 - val_mse: 0.0012 - val_mae: 0.0239 - val_rmse: 0.0308\n",
      "Epoch 100/300\n"
     ]
    },
    {
     "name": "stdout",
     "output_type": "stream",
     "text": [
      "537/537 [==============================] - 173s 321ms/step - loss: 0.0013 - accuracy: 0.9959 - mse: 0.0011 - mae: 0.0238 - rmse: 0.0306 - val_loss: 0.0013 - val_accuracy: 0.9964 - val_mse: 0.0011 - val_mae: 0.0238 - val_rmse: 0.0307\n",
      "Epoch 101/300\n",
      "537/537 [==============================] - 172s 321ms/step - loss: 0.0013 - accuracy: 0.9963 - mse: 0.0011 - mae: 0.0233 - rmse: 0.0301 - val_loss: 0.0013 - val_accuracy: 0.9966 - val_mse: 0.0011 - val_mae: 0.0232 - val_rmse: 0.0299\n",
      "Epoch 102/300\n",
      "537/537 [==============================] - 172s 321ms/step - loss: 0.0013 - accuracy: 0.9965 - mse: 0.0011 - mae: 0.0230 - rmse: 0.0297 - val_loss: 0.0013 - val_accuracy: 0.9967 - val_mse: 0.0011 - val_mae: 0.0229 - val_rmse: 0.0297\n",
      "Epoch 103/300\n",
      "537/537 [==============================] - 172s 320ms/step - loss: 0.0012 - accuracy: 0.9966 - mse: 0.0011 - mae: 0.0228 - rmse: 0.0295 - val_loss: 0.0012 - val_accuracy: 0.9968 - val_mse: 0.0011 - val_mae: 0.0228 - val_rmse: 0.0295\n",
      "Epoch 104/300\n",
      "537/537 [==============================] - 172s 320ms/step - loss: 0.0012 - accuracy: 0.9968 - mse: 0.0011 - mae: 0.0226 - rmse: 0.0293 - val_loss: 0.0012 - val_accuracy: 0.9970 - val_mse: 0.0011 - val_mae: 0.0227 - val_rmse: 0.0294\n",
      "Epoch 105/300\n",
      "537/537 [==============================] - 172s 321ms/step - loss: 0.0012 - accuracy: 0.9969 - mse: 0.0011 - mae: 0.0225 - rmse: 0.0292 - val_loss: 0.0012 - val_accuracy: 0.9971 - val_mse: 0.0011 - val_mae: 0.0224 - val_rmse: 0.0291\n",
      "Epoch 106/300\n",
      "537/537 [==============================] - 172s 321ms/step - loss: 0.0012 - accuracy: 0.9969 - mse: 0.0010 - mae: 0.0224 - rmse: 0.0291 - val_loss: 0.0012 - val_accuracy: 0.9971 - val_mse: 0.0010 - val_mae: 0.0224 - val_rmse: 0.0291\n",
      "Epoch 107/300\n",
      "537/537 [==============================] - 172s 320ms/step - loss: 0.0012 - accuracy: 0.9969 - mse: 0.0010 - mae: 0.0223 - rmse: 0.0290 - val_loss: 0.0012 - val_accuracy: 0.9971 - val_mse: 0.0010 - val_mae: 0.0223 - val_rmse: 0.0290\n",
      "Epoch 108/300\n",
      "537/537 [==============================] - 173s 322ms/step - loss: 0.0012 - accuracy: 0.9969 - mse: 0.0010 - mae: 0.0223 - rmse: 0.0290 - val_loss: 0.0012 - val_accuracy: 0.9971 - val_mse: 0.0010 - val_mae: 0.0223 - val_rmse: 0.0290\n",
      "Epoch 109/300\n",
      "537/537 [==============================] - 172s 321ms/step - loss: 0.0012 - accuracy: 0.9969 - mse: 0.0010 - mae: 0.0223 - rmse: 0.0290 - val_loss: 0.0012 - val_accuracy: 0.9971 - val_mse: 0.0010 - val_mae: 0.0223 - val_rmse: 0.0290\n",
      "Epoch 110/300\n",
      "537/537 [==============================] - 173s 321ms/step - loss: 0.0012 - accuracy: 0.9969 - mse: 0.0010 - mae: 0.0223 - rmse: 0.0290 - val_loss: 0.0012 - val_accuracy: 0.9971 - val_mse: 0.0010 - val_mae: 0.0224 - val_rmse: 0.0291\n",
      "Epoch 111/300\n",
      "537/537 [==============================] - 172s 321ms/step - loss: 0.0012 - accuracy: 0.9969 - mse: 0.0010 - mae: 0.0223 - rmse: 0.0290 - val_loss: 0.0012 - val_accuracy: 0.9971 - val_mse: 0.0010 - val_mae: 0.0223 - val_rmse: 0.0290\n",
      "Epoch 112/300\n",
      "537/537 [==============================] - 172s 321ms/step - loss: 0.0012 - accuracy: 0.9969 - mse: 0.0010 - mae: 0.0223 - rmse: 0.0290 - val_loss: 0.0012 - val_accuracy: 0.9971 - val_mse: 0.0010 - val_mae: 0.0224 - val_rmse: 0.0291\n",
      "Epoch 113/300\n",
      "537/537 [==============================] - 173s 321ms/step - loss: 0.0012 - accuracy: 0.9969 - mse: 0.0010 - mae: 0.0223 - rmse: 0.0290 - val_loss: 0.0012 - val_accuracy: 0.9971 - val_mse: 0.0010 - val_mae: 0.0224 - val_rmse: 0.0291\n",
      "Epoch 114/300\n",
      "537/537 [==============================] - 172s 321ms/step - loss: 0.0012 - accuracy: 0.9969 - mse: 0.0010 - mae: 0.0223 - rmse: 0.0290 - val_loss: 0.0012 - val_accuracy: 0.9971 - val_mse: 0.0010 - val_mae: 0.0223 - val_rmse: 0.0290\n",
      "Epoch 115/300\n",
      "537/537 [==============================] - 173s 321ms/step - loss: 0.0012 - accuracy: 0.9969 - mse: 0.0010 - mae: 0.0223 - rmse: 0.0290 - val_loss: 0.0012 - val_accuracy: 0.9971 - val_mse: 0.0010 - val_mae: 0.0223 - val_rmse: 0.0290\n",
      "Epoch 116/300\n",
      "537/537 [==============================] - 173s 322ms/step - loss: 0.0012 - accuracy: 0.9969 - mse: 0.0010 - mae: 0.0223 - rmse: 0.0290 - val_loss: 0.0012 - val_accuracy: 0.9971 - val_mse: 0.0010 - val_mae: 0.0224 - val_rmse: 0.0291\n",
      "Epoch 117/300\n",
      "537/537 [==============================] - 173s 322ms/step - loss: 0.0012 - accuracy: 0.9969 - mse: 0.0010 - mae: 0.0223 - rmse: 0.0290 - val_loss: 0.0012 - val_accuracy: 0.9971 - val_mse: 0.0010 - val_mae: 0.0223 - val_rmse: 0.0290\n",
      "Epoch 118/300\n",
      "537/537 [==============================] - 172s 321ms/step - loss: 0.0011 - accuracy: 0.9969 - mse: 0.0010 - mae: 0.0223 - rmse: 0.0290 - val_loss: 0.0011 - val_accuracy: 0.9971 - val_mse: 0.0010 - val_mae: 0.0224 - val_rmse: 0.0291\n",
      "Epoch 119/300\n",
      "537/537 [==============================] - 173s 322ms/step - loss: 0.0011 - accuracy: 0.9969 - mse: 0.0010 - mae: 0.0223 - rmse: 0.0290 - val_loss: 0.0011 - val_accuracy: 0.9971 - val_mse: 0.0010 - val_mae: 0.0224 - val_rmse: 0.0291\n",
      "Epoch 120/300\n",
      "537/537 [==============================] - 173s 322ms/step - loss: 0.0011 - accuracy: 0.9969 - mse: 0.0010 - mae: 0.0223 - rmse: 0.0290 - val_loss: 0.0011 - val_accuracy: 0.9971 - val_mse: 0.0010 - val_mae: 0.0224 - val_rmse: 0.0291\n",
      "Epoch 121/300\n",
      "537/537 [==============================] - 173s 323ms/step - loss: 0.0011 - accuracy: 0.9969 - mse: 0.0010 - mae: 0.0223 - rmse: 0.0290 - val_loss: 0.0011 - val_accuracy: 0.9971 - val_mse: 0.0010 - val_mae: 0.0223 - val_rmse: 0.0290\n",
      "Epoch 122/300\n",
      "537/537 [==============================] - 173s 323ms/step - loss: 0.0011 - accuracy: 0.9969 - mse: 0.0010 - mae: 0.0223 - rmse: 0.0290 - val_loss: 0.0011 - val_accuracy: 0.9971 - val_mse: 0.0010 - val_mae: 0.0223 - val_rmse: 0.0290\n",
      "Epoch 123/300\n",
      "537/537 [==============================] - 173s 322ms/step - loss: 0.0011 - accuracy: 0.9969 - mse: 0.0010 - mae: 0.0223 - rmse: 0.0290 - val_loss: 0.0011 - val_accuracy: 0.9971 - val_mse: 0.0010 - val_mae: 0.0224 - val_rmse: 0.0291\n",
      "Epoch 124/300\n",
      "537/537 [==============================] - 172s 321ms/step - loss: 0.0011 - accuracy: 0.9969 - mse: 0.0010 - mae: 0.0223 - rmse: 0.0290 - val_loss: 0.0011 - val_accuracy: 0.9971 - val_mse: 0.0010 - val_mae: 0.0223 - val_rmse: 0.0290\n",
      "Epoch 125/300\n",
      "537/537 [==============================] - 173s 322ms/step - loss: 0.0011 - accuracy: 0.9969 - mse: 0.0010 - mae: 0.0223 - rmse: 0.0290 - val_loss: 0.0011 - val_accuracy: 0.9971 - val_mse: 0.0010 - val_mae: 0.0223 - val_rmse: 0.0291\n",
      "Epoch 126/300\n",
      "537/537 [==============================] - 173s 323ms/step - loss: 0.0011 - accuracy: 0.9969 - mse: 0.0010 - mae: 0.0223 - rmse: 0.0290 - val_loss: 0.0011 - val_accuracy: 0.9971 - val_mse: 0.0010 - val_mae: 0.0224 - val_rmse: 0.0291\n",
      "Epoch 127/300\n",
      "537/537 [==============================] - 173s 323ms/step - loss: 0.0011 - accuracy: 0.9969 - mse: 0.0010 - mae: 0.0223 - rmse: 0.0290 - val_loss: 0.0011 - val_accuracy: 0.9971 - val_mse: 0.0010 - val_mae: 0.0223 - val_rmse: 0.0291\n",
      "Epoch 128/300\n",
      "537/537 [==============================] - 174s 323ms/step - loss: 0.0011 - accuracy: 0.9969 - mse: 0.0010 - mae: 0.0223 - rmse: 0.0290 - val_loss: 0.0011 - val_accuracy: 0.9971 - val_mse: 0.0010 - val_mae: 0.0224 - val_rmse: 0.0291\n",
      "Epoch 129/300\n",
      "537/537 [==============================] - 173s 323ms/step - loss: 0.0011 - accuracy: 0.9969 - mse: 0.0010 - mae: 0.0223 - rmse: 0.0290 - val_loss: 0.0011 - val_accuracy: 0.9971 - val_mse: 0.0010 - val_mae: 0.0224 - val_rmse: 0.0291\n",
      "Epoch 130/300\n",
      "537/537 [==============================] - 173s 322ms/step - loss: 0.0011 - accuracy: 0.9969 - mse: 0.0010 - mae: 0.0223 - rmse: 0.0290 - val_loss: 0.0011 - val_accuracy: 0.9971 - val_mse: 0.0010 - val_mae: 0.0223 - val_rmse: 0.0291\n",
      "Epoch 131/300\n",
      "537/537 [==============================] - 174s 323ms/step - loss: 0.0011 - accuracy: 0.9969 - mse: 0.0010 - mae: 0.0223 - rmse: 0.0290 - val_loss: 0.0011 - val_accuracy: 0.9971 - val_mse: 0.0010 - val_mae: 0.0223 - val_rmse: 0.0291\n",
      "Epoch 132/300\n",
      "537/537 [==============================] - 173s 323ms/step - loss: 0.0011 - accuracy: 0.9969 - mse: 0.0010 - mae: 0.0223 - rmse: 0.0290 - val_loss: 0.0011 - val_accuracy: 0.9971 - val_mse: 0.0010 - val_mae: 0.0223 - val_rmse: 0.0290\n",
      "Epoch 133/300\n"
     ]
    },
    {
     "name": "stdout",
     "output_type": "stream",
     "text": [
      "537/537 [==============================] - 173s 323ms/step - loss: 0.0011 - accuracy: 0.9969 - mse: 0.0010 - mae: 0.0223 - rmse: 0.0290 - val_loss: 0.0011 - val_accuracy: 0.9971 - val_mse: 0.0010 - val_mae: 0.0223 - val_rmse: 0.0290\n",
      "Epoch 134/300\n",
      "537/537 [==============================] - 173s 323ms/step - loss: 0.0011 - accuracy: 0.9969 - mse: 0.0010 - mae: 0.0223 - rmse: 0.0290 - val_loss: 0.0011 - val_accuracy: 0.9971 - val_mse: 0.0010 - val_mae: 0.0223 - val_rmse: 0.0290\n",
      "Epoch 135/300\n",
      "537/537 [==============================] - 174s 323ms/step - loss: 0.0011 - accuracy: 0.9969 - mse: 0.0010 - mae: 0.0223 - rmse: 0.0290 - val_loss: 0.0011 - val_accuracy: 0.9971 - val_mse: 0.0010 - val_mae: 0.0224 - val_rmse: 0.0291\n",
      "Epoch 136/300\n",
      "537/537 [==============================] - 173s 323ms/step - loss: 0.0011 - accuracy: 0.9969 - mse: 0.0010 - mae: 0.0223 - rmse: 0.0290 - val_loss: 0.0011 - val_accuracy: 0.9971 - val_mse: 0.0010 - val_mae: 0.0223 - val_rmse: 0.0290\n",
      "Epoch 137/300\n",
      "537/537 [==============================] - 173s 323ms/step - loss: 0.0011 - accuracy: 0.9969 - mse: 0.0010 - mae: 0.0223 - rmse: 0.0290 - val_loss: 0.0011 - val_accuracy: 0.9971 - val_mse: 0.0010 - val_mae: 0.0223 - val_rmse: 0.0290\n",
      "Epoch 138/300\n",
      "537/537 [==============================] - 173s 322ms/step - loss: 0.0011 - accuracy: 0.9969 - mse: 0.0010 - mae: 0.0223 - rmse: 0.0290 - val_loss: 0.0011 - val_accuracy: 0.9971 - val_mse: 0.0010 - val_mae: 0.0224 - val_rmse: 0.0291\n",
      "Epoch 139/300\n",
      "537/537 [==============================] - 173s 322ms/step - loss: 0.0011 - accuracy: 0.9969 - mse: 0.0010 - mae: 0.0223 - rmse: 0.0290 - val_loss: 0.0011 - val_accuracy: 0.9971 - val_mse: 0.0010 - val_mae: 0.0223 - val_rmse: 0.0290\n",
      "Epoch 140/300\n",
      "537/537 [==============================] - 173s 323ms/step - loss: 0.0011 - accuracy: 0.9969 - mse: 0.0010 - mae: 0.0223 - rmse: 0.0290 - val_loss: 0.0011 - val_accuracy: 0.9971 - val_mse: 0.0010 - val_mae: 0.0224 - val_rmse: 0.0291\n",
      "Epoch 141/300\n",
      "537/537 [==============================] - 174s 324ms/step - loss: 0.0011 - accuracy: 0.9969 - mse: 0.0010 - mae: 0.0223 - rmse: 0.0290 - val_loss: 0.0011 - val_accuracy: 0.9971 - val_mse: 0.0010 - val_mae: 0.0223 - val_rmse: 0.0291\n",
      "Epoch 142/300\n",
      "537/537 [==============================] - 173s 321ms/step - loss: 0.0011 - accuracy: 0.9969 - mse: 0.0010 - mae: 0.0223 - rmse: 0.0290 - val_loss: 0.0011 - val_accuracy: 0.9971 - val_mse: 0.0010 - val_mae: 0.0224 - val_rmse: 0.0291\n",
      "Epoch 143/300\n",
      "537/537 [==============================] - 174s 323ms/step - loss: 0.0011 - accuracy: 0.9969 - mse: 0.0010 - mae: 0.0223 - rmse: 0.0290 - val_loss: 0.0011 - val_accuracy: 0.9971 - val_mse: 0.0010 - val_mae: 0.0223 - val_rmse: 0.0290\n",
      "Epoch 144/300\n",
      "537/537 [==============================] - 151s 280ms/step - loss: 0.0011 - accuracy: 0.9970 - mse: 0.0010 - mae: 0.0223 - rmse: 0.0290 - val_loss: 0.0011 - val_accuracy: 0.9971 - val_mse: 0.0010 - val_mae: 0.0224 - val_rmse: 0.0291\n",
      "Epoch 145/300\n",
      "537/537 [==============================] - 149s 277ms/step - loss: 0.0011 - accuracy: 0.9969 - mse: 0.0010 - mae: 0.0223 - rmse: 0.0290 - val_loss: 0.0011 - val_accuracy: 0.9971 - val_mse: 0.0010 - val_mae: 0.0225 - val_rmse: 0.0291\n",
      "Epoch 146/300\n",
      "537/537 [==============================] - 148s 276ms/step - loss: 0.0011 - accuracy: 0.9970 - mse: 0.0010 - mae: 0.0223 - rmse: 0.0290 - val_loss: 0.0011 - val_accuracy: 0.9971 - val_mse: 0.0010 - val_mae: 0.0224 - val_rmse: 0.0291\n",
      "Epoch 147/300\n",
      "537/537 [==============================] - 148s 275ms/step - loss: 0.0011 - accuracy: 0.9969 - mse: 0.0010 - mae: 0.0223 - rmse: 0.0290 - val_loss: 0.0011 - val_accuracy: 0.9971 - val_mse: 0.0010 - val_mae: 0.0224 - val_rmse: 0.0291\n",
      "Epoch 148/300\n",
      "537/537 [==============================] - 148s 275ms/step - loss: 0.0011 - accuracy: 0.9969 - mse: 0.0010 - mae: 0.0223 - rmse: 0.0290 - val_loss: 0.0011 - val_accuracy: 0.9971 - val_mse: 0.0010 - val_mae: 0.0223 - val_rmse: 0.0290\n",
      "Epoch 149/300\n",
      "537/537 [==============================] - 148s 276ms/step - loss: 0.0011 - accuracy: 0.9969 - mse: 0.0010 - mae: 0.0223 - rmse: 0.0290 - val_loss: 0.0011 - val_accuracy: 0.9971 - val_mse: 0.0010 - val_mae: 0.0224 - val_rmse: 0.0291\n",
      "Epoch 150/300\n",
      "537/537 [==============================] - 148s 276ms/step - loss: 0.0011 - accuracy: 0.9970 - mse: 0.0010 - mae: 0.0223 - rmse: 0.0290 - val_loss: 0.0011 - val_accuracy: 0.9971 - val_mse: 0.0010 - val_mae: 0.0223 - val_rmse: 0.0291\n",
      "Epoch 151/300\n",
      "537/537 [==============================] - 148s 275ms/step - loss: 0.0011 - accuracy: 0.9969 - mse: 0.0010 - mae: 0.0223 - rmse: 0.0290 - val_loss: 0.0011 - val_accuracy: 0.9971 - val_mse: 0.0010 - val_mae: 0.0225 - val_rmse: 0.0291\n",
      "Epoch 152/300\n",
      "537/537 [==============================] - 148s 276ms/step - loss: 0.0011 - accuracy: 0.9970 - mse: 0.0010 - mae: 0.0223 - rmse: 0.0290 - val_loss: 0.0011 - val_accuracy: 0.9971 - val_mse: 0.0010 - val_mae: 0.0224 - val_rmse: 0.0291\n",
      "Epoch 153/300\n",
      "537/537 [==============================] - 148s 276ms/step - loss: 0.0011 - accuracy: 0.9970 - mse: 0.0010 - mae: 0.0223 - rmse: 0.0290 - val_loss: 0.0011 - val_accuracy: 0.9971 - val_mse: 0.0010 - val_mae: 0.0224 - val_rmse: 0.0291\n",
      "Epoch 154/300\n",
      "537/537 [==============================] - 147s 275ms/step - loss: 0.0011 - accuracy: 0.9969 - mse: 0.0010 - mae: 0.0223 - rmse: 0.0290 - val_loss: 0.0011 - val_accuracy: 0.9971 - val_mse: 0.0010 - val_mae: 0.0224 - val_rmse: 0.0291\n",
      "Epoch 155/300\n",
      "537/537 [==============================] - 148s 275ms/step - loss: 0.0011 - accuracy: 0.9969 - mse: 0.0010 - mae: 0.0223 - rmse: 0.0290 - val_loss: 0.0011 - val_accuracy: 0.9971 - val_mse: 0.0010 - val_mae: 0.0224 - val_rmse: 0.0291\n",
      "Epoch 156/300\n",
      "537/537 [==============================] - 148s 275ms/step - loss: 0.0011 - accuracy: 0.9969 - mse: 0.0010 - mae: 0.0223 - rmse: 0.0290 - val_loss: 0.0011 - val_accuracy: 0.9971 - val_mse: 0.0010 - val_mae: 0.0223 - val_rmse: 0.0290\n",
      "Epoch 157/300\n",
      "537/537 [==============================] - 148s 275ms/step - loss: 0.0011 - accuracy: 0.9970 - mse: 0.0010 - mae: 0.0223 - rmse: 0.0290 - val_loss: 0.0011 - val_accuracy: 0.9971 - val_mse: 0.0010 - val_mae: 0.0223 - val_rmse: 0.0290\n",
      "Epoch 158/300\n",
      "537/537 [==============================] - 148s 275ms/step - loss: 0.0011 - accuracy: 0.9969 - mse: 0.0010 - mae: 0.0223 - rmse: 0.0290 - val_loss: 0.0011 - val_accuracy: 0.9971 - val_mse: 0.0010 - val_mae: 0.0223 - val_rmse: 0.0290\n",
      "Epoch 159/300\n",
      "537/537 [==============================] - 147s 274ms/step - loss: 0.0011 - accuracy: 0.9969 - mse: 0.0010 - mae: 0.0223 - rmse: 0.0290 - val_loss: 0.0011 - val_accuracy: 0.9971 - val_mse: 0.0010 - val_mae: 0.0223 - val_rmse: 0.0290\n",
      "Epoch 160/300\n",
      "537/537 [==============================] - 147s 275ms/step - loss: 0.0011 - accuracy: 0.9969 - mse: 0.0010 - mae: 0.0223 - rmse: 0.0290 - val_loss: 0.0011 - val_accuracy: 0.9971 - val_mse: 0.0010 - val_mae: 0.0223 - val_rmse: 0.0290\n",
      "Epoch 161/300\n",
      "537/537 [==============================] - 147s 275ms/step - loss: 0.0011 - accuracy: 0.9969 - mse: 0.0010 - mae: 0.0223 - rmse: 0.0290 - val_loss: 0.0011 - val_accuracy: 0.9971 - val_mse: 0.0010 - val_mae: 0.0224 - val_rmse: 0.0291\n",
      "Epoch 162/300\n",
      "537/537 [==============================] - 148s 275ms/step - loss: 0.0011 - accuracy: 0.9970 - mse: 0.0010 - mae: 0.0223 - rmse: 0.0290 - val_loss: 0.0011 - val_accuracy: 0.9971 - val_mse: 0.0010 - val_mae: 0.0224 - val_rmse: 0.0291\n",
      "Epoch 163/300\n",
      "537/537 [==============================] - 148s 275ms/step - loss: 0.0011 - accuracy: 0.9969 - mse: 0.0010 - mae: 0.0223 - rmse: 0.0290 - val_loss: 0.0011 - val_accuracy: 0.9971 - val_mse: 0.0010 - val_mae: 0.0223 - val_rmse: 0.0290\n",
      "Epoch 164/300\n",
      "537/537 [==============================] - 148s 275ms/step - loss: 0.0011 - accuracy: 0.9969 - mse: 0.0010 - mae: 0.0223 - rmse: 0.0290 - val_loss: 0.0011 - val_accuracy: 0.9971 - val_mse: 0.0010 - val_mae: 0.0224 - val_rmse: 0.0291\n",
      "Epoch 165/300\n",
      "537/537 [==============================] - 148s 275ms/step - loss: 0.0011 - accuracy: 0.9969 - mse: 0.0010 - mae: 0.0223 - rmse: 0.0290 - val_loss: 0.0011 - val_accuracy: 0.9971 - val_mse: 0.0010 - val_mae: 0.0224 - val_rmse: 0.0291\n",
      "Epoch 166/300\n"
     ]
    },
    {
     "name": "stdout",
     "output_type": "stream",
     "text": [
      "537/537 [==============================] - 148s 275ms/step - loss: 0.0011 - accuracy: 0.9969 - mse: 0.0010 - mae: 0.0223 - rmse: 0.0290 - val_loss: 0.0011 - val_accuracy: 0.9971 - val_mse: 0.0010 - val_mae: 0.0223 - val_rmse: 0.0290\n",
      "Epoch 167/300\n",
      "537/537 [==============================] - 147s 275ms/step - loss: 0.0011 - accuracy: 0.9969 - mse: 0.0010 - mae: 0.0223 - rmse: 0.0290 - val_loss: 0.0011 - val_accuracy: 0.9971 - val_mse: 0.0010 - val_mae: 0.0224 - val_rmse: 0.0291\n",
      "Epoch 168/300\n",
      "537/537 [==============================] - 148s 275ms/step - loss: 0.0011 - accuracy: 0.9969 - mse: 0.0010 - mae: 0.0223 - rmse: 0.0290 - val_loss: 0.0011 - val_accuracy: 0.9971 - val_mse: 0.0010 - val_mae: 0.0224 - val_rmse: 0.0291\n",
      "Epoch 169/300\n",
      "537/537 [==============================] - 148s 275ms/step - loss: 0.0011 - accuracy: 0.9970 - mse: 0.0010 - mae: 0.0223 - rmse: 0.0290 - val_loss: 0.0011 - val_accuracy: 0.9971 - val_mse: 0.0010 - val_mae: 0.0224 - val_rmse: 0.0291\n",
      "Epoch 170/300\n",
      "537/537 [==============================] - 148s 276ms/step - loss: 0.0011 - accuracy: 0.9970 - mse: 0.0010 - mae: 0.0223 - rmse: 0.0290 - val_loss: 0.0011 - val_accuracy: 0.9971 - val_mse: 0.0010 - val_mae: 0.0224 - val_rmse: 0.0291\n",
      "Epoch 171/300\n",
      "537/537 [==============================] - 148s 275ms/step - loss: 0.0011 - accuracy: 0.9969 - mse: 0.0010 - mae: 0.0223 - rmse: 0.0290 - val_loss: 0.0011 - val_accuracy: 0.9971 - val_mse: 0.0010 - val_mae: 0.0223 - val_rmse: 0.0290\n",
      "Epoch 172/300\n",
      "537/537 [==============================] - 148s 275ms/step - loss: 0.0011 - accuracy: 0.9969 - mse: 0.0010 - mae: 0.0223 - rmse: 0.0290 - val_loss: 0.0011 - val_accuracy: 0.9971 - val_mse: 0.0010 - val_mae: 0.0223 - val_rmse: 0.0290\n",
      "Epoch 173/300\n",
      "537/537 [==============================] - 148s 276ms/step - loss: 0.0011 - accuracy: 0.9969 - mse: 0.0010 - mae: 0.0223 - rmse: 0.0290 - val_loss: 0.0011 - val_accuracy: 0.9971 - val_mse: 0.0010 - val_mae: 0.0223 - val_rmse: 0.0290\n",
      "Epoch 174/300\n",
      "537/537 [==============================] - 148s 275ms/step - loss: 0.0011 - accuracy: 0.9969 - mse: 0.0010 - mae: 0.0223 - rmse: 0.0290 - val_loss: 0.0011 - val_accuracy: 0.9971 - val_mse: 0.0010 - val_mae: 0.0223 - val_rmse: 0.0291\n",
      "Epoch 175/300\n",
      "537/537 [==============================] - 147s 275ms/step - loss: 0.0010 - accuracy: 0.9969 - mse: 0.0010 - mae: 0.0223 - rmse: 0.0290 - val_loss: 0.0011 - val_accuracy: 0.9971 - val_mse: 0.0010 - val_mae: 0.0223 - val_rmse: 0.0290\n",
      "Epoch 176/300\n",
      "537/537 [==============================] - 148s 275ms/step - loss: 0.0010 - accuracy: 0.9969 - mse: 0.0010 - mae: 0.0223 - rmse: 0.0290 - val_loss: 0.0011 - val_accuracy: 0.9971 - val_mse: 0.0010 - val_mae: 0.0225 - val_rmse: 0.0291\n",
      "Epoch 177/300\n",
      "537/537 [==============================] - 148s 275ms/step - loss: 0.0010 - accuracy: 0.9969 - mse: 0.0010 - mae: 0.0223 - rmse: 0.0290 - val_loss: 0.0011 - val_accuracy: 0.9971 - val_mse: 0.0010 - val_mae: 0.0224 - val_rmse: 0.0291\n",
      "Epoch 178/300\n",
      "537/537 [==============================] - 148s 275ms/step - loss: 0.0010 - accuracy: 0.9969 - mse: 0.0010 - mae: 0.0223 - rmse: 0.0290 - val_loss: 0.0011 - val_accuracy: 0.9971 - val_mse: 0.0010 - val_mae: 0.0223 - val_rmse: 0.0290\n",
      "Epoch 179/300\n",
      "537/537 [==============================] - 148s 275ms/step - loss: 0.0010 - accuracy: 0.9969 - mse: 0.0010 - mae: 0.0223 - rmse: 0.0290 - val_loss: 0.0011 - val_accuracy: 0.9971 - val_mse: 0.0010 - val_mae: 0.0223 - val_rmse: 0.0290\n",
      "Epoch 180/300\n",
      "537/537 [==============================] - 147s 274ms/step - loss: 0.0010 - accuracy: 0.9969 - mse: 0.0010 - mae: 0.0223 - rmse: 0.0290 - val_loss: 0.0011 - val_accuracy: 0.9971 - val_mse: 0.0010 - val_mae: 0.0224 - val_rmse: 0.0291\n",
      "Epoch 181/300\n",
      "537/537 [==============================] - 147s 274ms/step - loss: 0.0010 - accuracy: 0.9969 - mse: 0.0010 - mae: 0.0223 - rmse: 0.0290 - val_loss: 0.0010 - val_accuracy: 0.9971 - val_mse: 0.0010 - val_mae: 0.0223 - val_rmse: 0.0290\n",
      "Epoch 182/300\n",
      "537/537 [==============================] - 147s 274ms/step - loss: 0.0010 - accuracy: 0.9970 - mse: 0.0010 - mae: 0.0223 - rmse: 0.0290 - val_loss: 0.0010 - val_accuracy: 0.9971 - val_mse: 0.0010 - val_mae: 0.0224 - val_rmse: 0.0291\n",
      "Epoch 183/300\n",
      "537/537 [==============================] - 147s 274ms/step - loss: 0.0010 - accuracy: 0.9969 - mse: 0.0010 - mae: 0.0223 - rmse: 0.0290 - val_loss: 0.0011 - val_accuracy: 0.9971 - val_mse: 0.0010 - val_mae: 0.0224 - val_rmse: 0.0291\n",
      "Epoch 184/300\n",
      "537/537 [==============================] - 147s 274ms/step - loss: 0.0010 - accuracy: 0.9969 - mse: 0.0010 - mae: 0.0223 - rmse: 0.0290 - val_loss: 0.0010 - val_accuracy: 0.9971 - val_mse: 0.0010 - val_mae: 0.0224 - val_rmse: 0.0291\n",
      "Epoch 185/300\n",
      "537/537 [==============================] - 147s 274ms/step - loss: 0.0010 - accuracy: 0.9969 - mse: 0.0010 - mae: 0.0223 - rmse: 0.0290 - val_loss: 0.0010 - val_accuracy: 0.9971 - val_mse: 0.0010 - val_mae: 0.0224 - val_rmse: 0.0291\n",
      "Epoch 186/300\n",
      "537/537 [==============================] - 147s 274ms/step - loss: 0.0010 - accuracy: 0.9969 - mse: 0.0010 - mae: 0.0223 - rmse: 0.0290 - val_loss: 0.0010 - val_accuracy: 0.9971 - val_mse: 0.0010 - val_mae: 0.0224 - val_rmse: 0.0291\n",
      "Epoch 187/300\n",
      "537/537 [==============================] - 147s 274ms/step - loss: 0.0010 - accuracy: 0.9970 - mse: 0.0010 - mae: 0.0223 - rmse: 0.0290 - val_loss: 0.0010 - val_accuracy: 0.9971 - val_mse: 0.0010 - val_mae: 0.0224 - val_rmse: 0.0291\n",
      "Epoch 188/300\n",
      "537/537 [==============================] - 147s 273ms/step - loss: 0.0010 - accuracy: 0.9969 - mse: 0.0010 - mae: 0.0223 - rmse: 0.0290 - val_loss: 0.0010 - val_accuracy: 0.9971 - val_mse: 0.0010 - val_mae: 0.0224 - val_rmse: 0.0291\n",
      "Epoch 189/300\n",
      "537/537 [==============================] - 147s 274ms/step - loss: 0.0010 - accuracy: 0.9969 - mse: 0.0010 - mae: 0.0223 - rmse: 0.0290 - val_loss: 0.0010 - val_accuracy: 0.9971 - val_mse: 0.0010 - val_mae: 0.0223 - val_rmse: 0.0290\n",
      "Epoch 190/300\n",
      "537/537 [==============================] - 147s 274ms/step - loss: 0.0010 - accuracy: 0.9969 - mse: 0.0010 - mae: 0.0223 - rmse: 0.0290 - val_loss: 0.0010 - val_accuracy: 0.9971 - val_mse: 0.0010 - val_mae: 0.0224 - val_rmse: 0.0291\n",
      "Epoch 191/300\n",
      "537/537 [==============================] - 147s 273ms/step - loss: 0.0010 - accuracy: 0.9970 - mse: 0.0010 - mae: 0.0223 - rmse: 0.0290 - val_loss: 0.0010 - val_accuracy: 0.9971 - val_mse: 0.0010 - val_mae: 0.0223 - val_rmse: 0.0290\n",
      "Epoch 192/300\n",
      "537/537 [==============================] - 147s 274ms/step - loss: 0.0010 - accuracy: 0.9969 - mse: 0.0010 - mae: 0.0223 - rmse: 0.0290 - val_loss: 0.0010 - val_accuracy: 0.9971 - val_mse: 0.0010 - val_mae: 0.0224 - val_rmse: 0.0291\n",
      "Epoch 193/300\n",
      "537/537 [==============================] - 147s 274ms/step - loss: 0.0010 - accuracy: 0.9970 - mse: 0.0010 - mae: 0.0223 - rmse: 0.0290 - val_loss: 0.0010 - val_accuracy: 0.9971 - val_mse: 0.0010 - val_mae: 0.0223 - val_rmse: 0.0290\n",
      "Epoch 194/300\n",
      "537/537 [==============================] - 147s 274ms/step - loss: 0.0010 - accuracy: 0.9969 - mse: 0.0010 - mae: 0.0223 - rmse: 0.0290 - val_loss: 0.0010 - val_accuracy: 0.9971 - val_mse: 0.0010 - val_mae: 0.0223 - val_rmse: 0.0290\n",
      "Epoch 195/300\n",
      "537/537 [==============================] - 147s 274ms/step - loss: 0.0010 - accuracy: 0.9969 - mse: 0.0010 - mae: 0.0223 - rmse: 0.0290 - val_loss: 0.0010 - val_accuracy: 0.9971 - val_mse: 0.0010 - val_mae: 0.0224 - val_rmse: 0.0291\n",
      "Epoch 196/300\n",
      "537/537 [==============================] - 147s 274ms/step - loss: 0.0010 - accuracy: 0.9969 - mse: 0.0010 - mae: 0.0223 - rmse: 0.0290 - val_loss: 0.0010 - val_accuracy: 0.9971 - val_mse: 0.0010 - val_mae: 0.0224 - val_rmse: 0.0291\n",
      "Epoch 197/300\n",
      "537/537 [==============================] - 147s 274ms/step - loss: 0.0010 - accuracy: 0.9969 - mse: 0.0010 - mae: 0.0223 - rmse: 0.0290 - val_loss: 0.0010 - val_accuracy: 0.9971 - val_mse: 0.0010 - val_mae: 0.0223 - val_rmse: 0.0290\n",
      "Epoch 198/300\n",
      "537/537 [==============================] - 147s 274ms/step - loss: 0.0010 - accuracy: 0.9969 - mse: 0.0010 - mae: 0.0223 - rmse: 0.0290 - val_loss: 0.0010 - val_accuracy: 0.9971 - val_mse: 0.0010 - val_mae: 0.0223 - val_rmse: 0.0290\n",
      "Epoch 199/300\n"
     ]
    },
    {
     "name": "stdout",
     "output_type": "stream",
     "text": [
      "537/537 [==============================] - 147s 274ms/step - loss: 0.0010 - accuracy: 0.9969 - mse: 0.0010 - mae: 0.0223 - rmse: 0.0290 - val_loss: 0.0010 - val_accuracy: 0.9971 - val_mse: 0.0010 - val_mae: 0.0224 - val_rmse: 0.0291\n",
      "Epoch 200/300\n",
      "537/537 [==============================] - 147s 274ms/step - loss: 0.0010 - accuracy: 0.9970 - mse: 0.0010 - mae: 0.0223 - rmse: 0.0290 - val_loss: 0.0010 - val_accuracy: 0.9971 - val_mse: 0.0010 - val_mae: 0.0223 - val_rmse: 0.0290\n",
      "Epoch 201/300\n",
      "537/537 [==============================] - 147s 274ms/step - loss: 0.0010 - accuracy: 0.9969 - mse: 0.0010 - mae: 0.0223 - rmse: 0.0290 - val_loss: 0.0010 - val_accuracy: 0.9971 - val_mse: 0.0010 - val_mae: 0.0224 - val_rmse: 0.0291\n",
      "Epoch 202/300\n",
      "537/537 [==============================] - 147s 274ms/step - loss: 0.0010 - accuracy: 0.9969 - mse: 0.0010 - mae: 0.0223 - rmse: 0.0290 - val_loss: 0.0010 - val_accuracy: 0.9971 - val_mse: 0.0010 - val_mae: 0.0223 - val_rmse: 0.0291\n",
      "Epoch 203/300\n",
      "537/537 [==============================] - 147s 274ms/step - loss: 0.0010 - accuracy: 0.9969 - mse: 0.0010 - mae: 0.0223 - rmse: 0.0290 - val_loss: 0.0010 - val_accuracy: 0.9971 - val_mse: 0.0010 - val_mae: 0.0223 - val_rmse: 0.0290\n",
      "Epoch 204/300\n",
      "537/537 [==============================] - 147s 273ms/step - loss: 0.0010 - accuracy: 0.9969 - mse: 0.0010 - mae: 0.0223 - rmse: 0.0290 - val_loss: 0.0010 - val_accuracy: 0.9971 - val_mse: 0.0010 - val_mae: 0.0224 - val_rmse: 0.0291\n",
      "Epoch 205/300\n",
      "537/537 [==============================] - 147s 273ms/step - loss: 0.0010 - accuracy: 0.9969 - mse: 0.0010 - mae: 0.0223 - rmse: 0.0290 - val_loss: 0.0010 - val_accuracy: 0.9971 - val_mse: 0.0010 - val_mae: 0.0224 - val_rmse: 0.0290\n",
      "Epoch 206/300\n",
      "537/537 [==============================] - 147s 273ms/step - loss: 0.0010 - accuracy: 0.9970 - mse: 0.0010 - mae: 0.0223 - rmse: 0.0290 - val_loss: 0.0010 - val_accuracy: 0.9971 - val_mse: 0.0010 - val_mae: 0.0224 - val_rmse: 0.0291\n",
      "Epoch 207/300\n",
      "537/537 [==============================] - 147s 273ms/step - loss: 0.0010 - accuracy: 0.9969 - mse: 0.0010 - mae: 0.0223 - rmse: 0.0290 - val_loss: 0.0010 - val_accuracy: 0.9971 - val_mse: 0.0010 - val_mae: 0.0223 - val_rmse: 0.0291\n",
      "Epoch 208/300\n",
      "537/537 [==============================] - 147s 273ms/step - loss: 0.0010 - accuracy: 0.9969 - mse: 0.0010 - mae: 0.0223 - rmse: 0.0290 - val_loss: 0.0010 - val_accuracy: 0.9971 - val_mse: 0.0010 - val_mae: 0.0223 - val_rmse: 0.0290\n",
      "Epoch 209/300\n",
      "537/537 [==============================] - 147s 273ms/step - loss: 0.0010 - accuracy: 0.9969 - mse: 0.0010 - mae: 0.0223 - rmse: 0.0290 - val_loss: 0.0010 - val_accuracy: 0.9971 - val_mse: 0.0010 - val_mae: 0.0223 - val_rmse: 0.0290\n",
      "Epoch 210/300\n",
      "537/537 [==============================] - 147s 274ms/step - loss: 0.0010 - accuracy: 0.9969 - mse: 0.0010 - mae: 0.0223 - rmse: 0.0290 - val_loss: 0.0010 - val_accuracy: 0.9971 - val_mse: 0.0010 - val_mae: 0.0223 - val_rmse: 0.0290\n",
      "Epoch 211/300\n",
      "537/537 [==============================] - 147s 274ms/step - loss: 0.0010 - accuracy: 0.9969 - mse: 0.0010 - mae: 0.0223 - rmse: 0.0290 - val_loss: 0.0010 - val_accuracy: 0.9971 - val_mse: 0.0010 - val_mae: 0.0224 - val_rmse: 0.0291\n",
      "Epoch 212/300\n",
      "537/537 [==============================] - 147s 274ms/step - loss: 0.0010 - accuracy: 0.9969 - mse: 0.0010 - mae: 0.0223 - rmse: 0.0290 - val_loss: 0.0010 - val_accuracy: 0.9971 - val_mse: 0.0010 - val_mae: 0.0224 - val_rmse: 0.0291\n",
      "Epoch 213/300\n",
      "537/537 [==============================] - 148s 275ms/step - loss: 0.0010 - accuracy: 0.9969 - mse: 0.0010 - mae: 0.0223 - rmse: 0.0290 - val_loss: 0.0010 - val_accuracy: 0.9971 - val_mse: 0.0010 - val_mae: 0.0223 - val_rmse: 0.0290\n",
      "Epoch 214/300\n",
      "537/537 [==============================] - 148s 276ms/step - loss: 0.0010 - accuracy: 0.9970 - mse: 0.0010 - mae: 0.0223 - rmse: 0.0290 - val_loss: 0.0010 - val_accuracy: 0.9971 - val_mse: 0.0010 - val_mae: 0.0224 - val_rmse: 0.0291\n",
      "Epoch 215/300\n",
      "537/537 [==============================] - 147s 274ms/step - loss: 0.0010 - accuracy: 0.9969 - mse: 0.0010 - mae: 0.0223 - rmse: 0.0290 - val_loss: 0.0010 - val_accuracy: 0.9971 - val_mse: 0.0010 - val_mae: 0.0224 - val_rmse: 0.0290\n",
      "Epoch 216/300\n",
      "537/537 [==============================] - 147s 274ms/step - loss: 0.0010 - accuracy: 0.9969 - mse: 0.0010 - mae: 0.0223 - rmse: 0.0290 - val_loss: 0.0010 - val_accuracy: 0.9971 - val_mse: 0.0010 - val_mae: 0.0224 - val_rmse: 0.0291\n",
      "Epoch 217/300\n",
      "537/537 [==============================] - 148s 275ms/step - loss: 0.0010 - accuracy: 0.9969 - mse: 0.0010 - mae: 0.0223 - rmse: 0.0290 - val_loss: 0.0010 - val_accuracy: 0.9971 - val_mse: 0.0010 - val_mae: 0.0224 - val_rmse: 0.0291\n",
      "Epoch 218/300\n",
      "537/537 [==============================] - 148s 275ms/step - loss: 0.0010 - accuracy: 0.9969 - mse: 0.0010 - mae: 0.0223 - rmse: 0.0290 - val_loss: 0.0010 - val_accuracy: 0.9971 - val_mse: 0.0010 - val_mae: 0.0223 - val_rmse: 0.0290\n",
      "Epoch 219/300\n",
      "537/537 [==============================] - 148s 275ms/step - loss: 0.0010 - accuracy: 0.9969 - mse: 0.0010 - mae: 0.0223 - rmse: 0.0290 - val_loss: 0.0010 - val_accuracy: 0.9971 - val_mse: 0.0010 - val_mae: 0.0224 - val_rmse: 0.0291\n",
      "Epoch 220/300\n",
      "537/537 [==============================] - 148s 275ms/step - loss: 0.0010 - accuracy: 0.9969 - mse: 0.0010 - mae: 0.0223 - rmse: 0.0290 - val_loss: 0.0010 - val_accuracy: 0.9971 - val_mse: 0.0010 - val_mae: 0.0224 - val_rmse: 0.0291\n",
      "Epoch 221/300\n",
      "537/537 [==============================] - 148s 275ms/step - loss: 0.0010 - accuracy: 0.9970 - mse: 0.0010 - mae: 0.0223 - rmse: 0.0290 - val_loss: 0.0010 - val_accuracy: 0.9971 - val_mse: 0.0010 - val_mae: 0.0224 - val_rmse: 0.0291\n",
      "Epoch 222/300\n",
      "537/537 [==============================] - 148s 275ms/step - loss: 0.0010 - accuracy: 0.9970 - mse: 0.0010 - mae: 0.0223 - rmse: 0.0290 - val_loss: 0.0010 - val_accuracy: 0.9971 - val_mse: 0.0010 - val_mae: 0.0223 - val_rmse: 0.0290\n",
      "Epoch 223/300\n",
      "537/537 [==============================] - 147s 274ms/step - loss: 0.0010 - accuracy: 0.9970 - mse: 0.0010 - mae: 0.0223 - rmse: 0.0290 - val_loss: 0.0010 - val_accuracy: 0.9971 - val_mse: 0.0010 - val_mae: 0.0224 - val_rmse: 0.0291\n",
      "Epoch 224/300\n",
      "537/537 [==============================] - 147s 274ms/step - loss: 0.0010 - accuracy: 0.9969 - mse: 0.0010 - mae: 0.0223 - rmse: 0.0290 - val_loss: 0.0010 - val_accuracy: 0.9971 - val_mse: 0.0010 - val_mae: 0.0223 - val_rmse: 0.0290\n",
      "Epoch 225/300\n",
      "537/537 [==============================] - 147s 274ms/step - loss: 0.0010 - accuracy: 0.9969 - mse: 0.0010 - mae: 0.0223 - rmse: 0.0290 - val_loss: 0.0010 - val_accuracy: 0.9971 - val_mse: 0.0010 - val_mae: 0.0224 - val_rmse: 0.0291\n",
      "Epoch 226/300\n",
      "537/537 [==============================] - 148s 275ms/step - loss: 0.0010 - accuracy: 0.9969 - mse: 0.0010 - mae: 0.0223 - rmse: 0.0290 - val_loss: 0.0010 - val_accuracy: 0.9971 - val_mse: 0.0010 - val_mae: 0.0224 - val_rmse: 0.0291\n",
      "Epoch 227/300\n",
      "537/537 [==============================] - 147s 274ms/step - loss: 0.0010 - accuracy: 0.9969 - mse: 0.0010 - mae: 0.0223 - rmse: 0.0290 - val_loss: 0.0010 - val_accuracy: 0.9971 - val_mse: 0.0010 - val_mae: 0.0224 - val_rmse: 0.0291\n",
      "Epoch 228/300\n",
      "537/537 [==============================] - 147s 274ms/step - loss: 0.0010 - accuracy: 0.9969 - mse: 0.0010 - mae: 0.0223 - rmse: 0.0290 - val_loss: 0.0010 - val_accuracy: 0.9971 - val_mse: 0.0010 - val_mae: 0.0223 - val_rmse: 0.0290\n",
      "Epoch 229/300\n",
      "537/537 [==============================] - 147s 274ms/step - loss: 0.0010 - accuracy: 0.9969 - mse: 0.0010 - mae: 0.0223 - rmse: 0.0290 - val_loss: 0.0010 - val_accuracy: 0.9971 - val_mse: 0.0010 - val_mae: 0.0223 - val_rmse: 0.0290\n",
      "Epoch 230/300\n",
      "537/537 [==============================] - 147s 274ms/step - loss: 0.0010 - accuracy: 0.9970 - mse: 0.0010 - mae: 0.0223 - rmse: 0.0290 - val_loss: 0.0010 - val_accuracy: 0.9971 - val_mse: 0.0010 - val_mae: 0.0223 - val_rmse: 0.0291\n",
      "Epoch 231/300\n",
      "537/537 [==============================] - 147s 273ms/step - loss: 0.0010 - accuracy: 0.9969 - mse: 0.0010 - mae: 0.0223 - rmse: 0.0290 - val_loss: 0.0010 - val_accuracy: 0.9971 - val_mse: 0.0010 - val_mae: 0.0223 - val_rmse: 0.0290\n",
      "Epoch 232/300\n"
     ]
    },
    {
     "name": "stdout",
     "output_type": "stream",
     "text": [
      "537/537 [==============================] - 147s 273ms/step - loss: 0.0010 - accuracy: 0.9969 - mse: 0.0010 - mae: 0.0223 - rmse: 0.0290 - val_loss: 0.0010 - val_accuracy: 0.9971 - val_mse: 0.0010 - val_mae: 0.0224 - val_rmse: 0.0291\n",
      "Epoch 233/300\n",
      "537/537 [==============================] - 147s 273ms/step - loss: 0.0010 - accuracy: 0.9969 - mse: 0.0010 - mae: 0.0223 - rmse: 0.0290 - val_loss: 0.0010 - val_accuracy: 0.9971 - val_mse: 0.0010 - val_mae: 0.0224 - val_rmse: 0.0291\n",
      "Epoch 234/300\n",
      "537/537 [==============================] - 146s 273ms/step - loss: 0.0010 - accuracy: 0.9969 - mse: 0.0010 - mae: 0.0223 - rmse: 0.0290 - val_loss: 0.0010 - val_accuracy: 0.9971 - val_mse: 0.0010 - val_mae: 0.0223 - val_rmse: 0.0290\n",
      "Epoch 235/300\n",
      "537/537 [==============================] - 147s 273ms/step - loss: 0.0010 - accuracy: 0.9970 - mse: 0.0010 - mae: 0.0223 - rmse: 0.0290 - val_loss: 0.0010 - val_accuracy: 0.9971 - val_mse: 0.0010 - val_mae: 0.0223 - val_rmse: 0.0290\n",
      "Epoch 236/300\n",
      "537/537 [==============================] - 146s 273ms/step - loss: 0.0010 - accuracy: 0.9969 - mse: 0.0010 - mae: 0.0223 - rmse: 0.0290 - val_loss: 0.0010 - val_accuracy: 0.9971 - val_mse: 0.0010 - val_mae: 0.0223 - val_rmse: 0.0290\n",
      "Epoch 237/300\n",
      "537/537 [==============================] - 147s 273ms/step - loss: 0.0010 - accuracy: 0.9969 - mse: 0.0010 - mae: 0.0223 - rmse: 0.0290 - val_loss: 0.0011 - val_accuracy: 0.9971 - val_mse: 0.0011 - val_mae: 0.0224 - val_rmse: 0.0291\n",
      "Epoch 238/300\n",
      "537/537 [==============================] - 147s 274ms/step - loss: 0.0010 - accuracy: 0.9970 - mse: 0.0010 - mae: 0.0223 - rmse: 0.0290 - val_loss: 0.0010 - val_accuracy: 0.9971 - val_mse: 0.0010 - val_mae: 0.0225 - val_rmse: 0.0291\n",
      "Epoch 239/300\n",
      "537/537 [==============================] - 148s 276ms/step - loss: 0.0010 - accuracy: 0.9969 - mse: 0.0010 - mae: 0.0223 - rmse: 0.0290 - val_loss: 0.0010 - val_accuracy: 0.9971 - val_mse: 0.0010 - val_mae: 0.0223 - val_rmse: 0.0290\n",
      "Epoch 240/300\n",
      "537/537 [==============================] - 145s 271ms/step - loss: 0.0010 - accuracy: 0.9970 - mse: 0.0010 - mae: 0.0223 - rmse: 0.0290 - val_loss: 0.0010 - val_accuracy: 0.9971 - val_mse: 0.0010 - val_mae: 0.0224 - val_rmse: 0.0291\n",
      "Epoch 241/300\n",
      "537/537 [==============================] - 146s 272ms/step - loss: 0.0010 - accuracy: 0.9969 - mse: 0.0010 - mae: 0.0223 - rmse: 0.0290 - val_loss: 0.0010 - val_accuracy: 0.9971 - val_mse: 0.0010 - val_mae: 0.0223 - val_rmse: 0.0290\n",
      "Epoch 242/300\n",
      "537/537 [==============================] - 146s 272ms/step - loss: 0.0010 - accuracy: 0.9970 - mse: 0.0010 - mae: 0.0223 - rmse: 0.0290 - val_loss: 0.0010 - val_accuracy: 0.9971 - val_mse: 0.0010 - val_mae: 0.0223 - val_rmse: 0.0290\n",
      "Epoch 243/300\n",
      "537/537 [==============================] - 146s 272ms/step - loss: 0.0010 - accuracy: 0.9970 - mse: 0.0010 - mae: 0.0223 - rmse: 0.0290 - val_loss: 0.0010 - val_accuracy: 0.9971 - val_mse: 0.0010 - val_mae: 0.0224 - val_rmse: 0.0290\n",
      "Epoch 244/300\n",
      "537/537 [==============================] - 147s 273ms/step - loss: 0.0010 - accuracy: 0.9969 - mse: 0.0010 - mae: 0.0223 - rmse: 0.0290 - val_loss: 0.0010 - val_accuracy: 0.9971 - val_mse: 0.0010 - val_mae: 0.0224 - val_rmse: 0.0291\n",
      "Epoch 245/300\n",
      "537/537 [==============================] - 146s 272ms/step - loss: 0.0010 - accuracy: 0.9969 - mse: 0.0010 - mae: 0.0223 - rmse: 0.0290 - val_loss: 0.0010 - val_accuracy: 0.9971 - val_mse: 0.0010 - val_mae: 0.0224 - val_rmse: 0.0290\n",
      "Epoch 246/300\n",
      "537/537 [==============================] - 147s 273ms/step - loss: 0.0010 - accuracy: 0.9970 - mse: 0.0010 - mae: 0.0223 - rmse: 0.0290 - val_loss: 0.0010 - val_accuracy: 0.9971 - val_mse: 0.0010 - val_mae: 0.0223 - val_rmse: 0.0290\n",
      "Epoch 247/300\n",
      "537/537 [==============================] - 147s 274ms/step - loss: 0.0010 - accuracy: 0.9969 - mse: 0.0010 - mae: 0.0223 - rmse: 0.0290 - val_loss: 0.0010 - val_accuracy: 0.9971 - val_mse: 0.0010 - val_mae: 0.0223 - val_rmse: 0.0290\n",
      "Epoch 248/300\n",
      "537/537 [==============================] - 147s 273ms/step - loss: 0.0010 - accuracy: 0.9969 - mse: 0.0010 - mae: 0.0223 - rmse: 0.0290 - val_loss: 0.0010 - val_accuracy: 0.9971 - val_mse: 0.0010 - val_mae: 0.0224 - val_rmse: 0.0291\n",
      "Epoch 249/300\n",
      "537/537 [==============================] - 147s 273ms/step - loss: 0.0010 - accuracy: 0.9969 - mse: 0.0010 - mae: 0.0223 - rmse: 0.0290 - val_loss: 0.0010 - val_accuracy: 0.9971 - val_mse: 0.0010 - val_mae: 0.0224 - val_rmse: 0.0291\n",
      "Epoch 250/300\n",
      "537/537 [==============================] - 147s 273ms/step - loss: 0.0010 - accuracy: 0.9969 - mse: 0.0010 - mae: 0.0223 - rmse: 0.0290 - val_loss: 0.0010 - val_accuracy: 0.9971 - val_mse: 0.0010 - val_mae: 0.0224 - val_rmse: 0.0291\n",
      "Epoch 251/300\n",
      "537/537 [==============================] - 147s 273ms/step - loss: 0.0010 - accuracy: 0.9970 - mse: 0.0010 - mae: 0.0223 - rmse: 0.0290 - val_loss: 0.0010 - val_accuracy: 0.9971 - val_mse: 0.0010 - val_mae: 0.0223 - val_rmse: 0.0290\n",
      "Epoch 252/300\n",
      "537/537 [==============================] - 146s 273ms/step - loss: 0.0010 - accuracy: 0.9969 - mse: 0.0010 - mae: 0.0223 - rmse: 0.0290 - val_loss: 0.0010 - val_accuracy: 0.9971 - val_mse: 0.0010 - val_mae: 0.0223 - val_rmse: 0.0290\n",
      "Epoch 253/300\n",
      "537/537 [==============================] - 146s 273ms/step - loss: 0.0010 - accuracy: 0.9969 - mse: 0.0010 - mae: 0.0223 - rmse: 0.0290 - val_loss: 0.0010 - val_accuracy: 0.9971 - val_mse: 0.0010 - val_mae: 0.0223 - val_rmse: 0.0290\n",
      "Epoch 254/300\n",
      "537/537 [==============================] - 146s 272ms/step - loss: 0.0010 - accuracy: 0.9969 - mse: 0.0010 - mae: 0.0223 - rmse: 0.0290 - val_loss: 0.0010 - val_accuracy: 0.9971 - val_mse: 0.0010 - val_mae: 0.0224 - val_rmse: 0.0291\n",
      "Epoch 255/300\n",
      "537/537 [==============================] - 146s 272ms/step - loss: 0.0010 - accuracy: 0.9970 - mse: 0.0010 - mae: 0.0223 - rmse: 0.0290 - val_loss: 0.0010 - val_accuracy: 0.9971 - val_mse: 0.0010 - val_mae: 0.0223 - val_rmse: 0.0290\n",
      "Epoch 256/300\n",
      "537/537 [==============================] - 147s 273ms/step - loss: 0.0010 - accuracy: 0.9969 - mse: 0.0010 - mae: 0.0223 - rmse: 0.0290 - val_loss: 0.0010 - val_accuracy: 0.9971 - val_mse: 0.0010 - val_mae: 0.0224 - val_rmse: 0.0291\n",
      "Epoch 257/300\n",
      "537/537 [==============================] - 146s 273ms/step - loss: 0.0010 - accuracy: 0.9970 - mse: 0.0010 - mae: 0.0223 - rmse: 0.0290 - val_loss: 0.0010 - val_accuracy: 0.9971 - val_mse: 0.0010 - val_mae: 0.0223 - val_rmse: 0.0290\n",
      "Epoch 258/300\n",
      "537/537 [==============================] - 147s 273ms/step - loss: 0.0010 - accuracy: 0.9969 - mse: 0.0010 - mae: 0.0223 - rmse: 0.0290 - val_loss: 0.0010 - val_accuracy: 0.9971 - val_mse: 0.0010 - val_mae: 0.0224 - val_rmse: 0.0291\n",
      "Epoch 259/300\n",
      "537/537 [==============================] - 147s 273ms/step - loss: 0.0010 - accuracy: 0.9969 - mse: 0.0010 - mae: 0.0223 - rmse: 0.0290 - val_loss: 0.0010 - val_accuracy: 0.9971 - val_mse: 0.0010 - val_mae: 0.0223 - val_rmse: 0.0290\n",
      "Epoch 260/300\n",
      "537/537 [==============================] - 147s 273ms/step - loss: 0.0010 - accuracy: 0.9969 - mse: 0.0010 - mae: 0.0223 - rmse: 0.0290 - val_loss: 0.0010 - val_accuracy: 0.9971 - val_mse: 0.0010 - val_mae: 0.0223 - val_rmse: 0.0290\n",
      "Epoch 261/300\n",
      "537/537 [==============================] - 146s 273ms/step - loss: 0.0010 - accuracy: 0.9969 - mse: 0.0010 - mae: 0.0223 - rmse: 0.0290 - val_loss: 0.0010 - val_accuracy: 0.9971 - val_mse: 0.0010 - val_mae: 0.0223 - val_rmse: 0.0290\n",
      "Epoch 262/300\n",
      "537/537 [==============================] - 146s 273ms/step - loss: 0.0010 - accuracy: 0.9969 - mse: 0.0010 - mae: 0.0223 - rmse: 0.0290 - val_loss: 0.0010 - val_accuracy: 0.9971 - val_mse: 0.0010 - val_mae: 0.0223 - val_rmse: 0.0290\n",
      "Epoch 263/300\n",
      "537/537 [==============================] - 147s 274ms/step - loss: 0.0010 - accuracy: 0.9969 - mse: 0.0010 - mae: 0.0223 - rmse: 0.0290 - val_loss: 0.0010 - val_accuracy: 0.9971 - val_mse: 0.0010 - val_mae: 0.0224 - val_rmse: 0.0291\n",
      "Epoch 264/300\n",
      "537/537 [==============================] - 147s 273ms/step - loss: 0.0010 - accuracy: 0.9970 - mse: 0.0010 - mae: 0.0223 - rmse: 0.0290 - val_loss: 0.0010 - val_accuracy: 0.9971 - val_mse: 0.0010 - val_mae: 0.0223 - val_rmse: 0.0290\n",
      "Epoch 265/300\n"
     ]
    },
    {
     "name": "stdout",
     "output_type": "stream",
     "text": [
      "537/537 [==============================] - 146s 273ms/step - loss: 0.0010 - accuracy: 0.9970 - mse: 0.0010 - mae: 0.0223 - rmse: 0.0290 - val_loss: 0.0010 - val_accuracy: 0.9971 - val_mse: 0.0010 - val_mae: 0.0223 - val_rmse: 0.0291\n",
      "Epoch 266/300\n",
      "537/537 [==============================] - 147s 274ms/step - loss: 0.0010 - accuracy: 0.9969 - mse: 0.0010 - mae: 0.0223 - rmse: 0.0290 - val_loss: 0.0010 - val_accuracy: 0.9971 - val_mse: 0.0010 - val_mae: 0.0223 - val_rmse: 0.0290\n",
      "Epoch 267/300\n",
      "537/537 [==============================] - 147s 273ms/step - loss: 0.0010 - accuracy: 0.9970 - mse: 0.0010 - mae: 0.0223 - rmse: 0.0290 - val_loss: 0.0010 - val_accuracy: 0.9971 - val_mse: 0.0010 - val_mae: 0.0223 - val_rmse: 0.0290\n",
      "Epoch 268/300\n",
      "537/537 [==============================] - 147s 273ms/step - loss: 0.0010 - accuracy: 0.9969 - mse: 0.0010 - mae: 0.0223 - rmse: 0.0290 - val_loss: 0.0010 - val_accuracy: 0.9971 - val_mse: 0.0010 - val_mae: 0.0223 - val_rmse: 0.0290\n",
      "Epoch 269/300\n",
      "537/537 [==============================] - 147s 274ms/step - loss: 0.0010 - accuracy: 0.9969 - mse: 0.0010 - mae: 0.0223 - rmse: 0.0290 - val_loss: 0.0010 - val_accuracy: 0.9971 - val_mse: 0.0010 - val_mae: 0.0224 - val_rmse: 0.0291\n",
      "Epoch 270/300\n",
      "537/537 [==============================] - 148s 276ms/step - loss: 0.0010 - accuracy: 0.9969 - mse: 0.0010 - mae: 0.0223 - rmse: 0.0290 - val_loss: 0.0010 - val_accuracy: 0.9971 - val_mse: 0.0010 - val_mae: 0.0223 - val_rmse: 0.0290\n",
      "Epoch 271/300\n",
      "537/537 [==============================] - 149s 278ms/step - loss: 0.0010 - accuracy: 0.9969 - mse: 0.0010 - mae: 0.0223 - rmse: 0.0290 - val_loss: 0.0010 - val_accuracy: 0.9971 - val_mse: 0.0010 - val_mae: 0.0224 - val_rmse: 0.0291\n",
      "Epoch 272/300\n",
      "537/537 [==============================] - 149s 278ms/step - loss: 0.0010 - accuracy: 0.9969 - mse: 0.0010 - mae: 0.0223 - rmse: 0.0290 - val_loss: 0.0010 - val_accuracy: 0.9971 - val_mse: 0.0010 - val_mae: 0.0223 - val_rmse: 0.0290\n",
      "Epoch 273/300\n",
      "537/537 [==============================] - 149s 277ms/step - loss: 0.0010 - accuracy: 0.9969 - mse: 0.0010 - mae: 0.0223 - rmse: 0.0290 - val_loss: 0.0010 - val_accuracy: 0.9971 - val_mse: 0.0010 - val_mae: 0.0224 - val_rmse: 0.0291\n",
      "Epoch 274/300\n",
      "537/537 [==============================] - 149s 277ms/step - loss: 0.0010 - accuracy: 0.9970 - mse: 0.0010 - mae: 0.0223 - rmse: 0.0290 - val_loss: 0.0010 - val_accuracy: 0.9971 - val_mse: 0.0010 - val_mae: 0.0224 - val_rmse: 0.0290\n",
      "Epoch 275/300\n",
      "537/537 [==============================] - 151s 281ms/step - loss: 0.0010 - accuracy: 0.9969 - mse: 0.0010 - mae: 0.0223 - rmse: 0.0290 - val_loss: 0.0010 - val_accuracy: 0.9971 - val_mse: 0.0010 - val_mae: 0.0224 - val_rmse: 0.0291\n",
      "Epoch 276/300\n",
      "537/537 [==============================] - 150s 279ms/step - loss: 0.0010 - accuracy: 0.9970 - mse: 0.0010 - mae: 0.0223 - rmse: 0.0290 - val_loss: 0.0010 - val_accuracy: 0.9971 - val_mse: 0.0010 - val_mae: 0.0223 - val_rmse: 0.0290\n",
      "Epoch 277/300\n",
      "537/537 [==============================] - 154s 287ms/step - loss: 0.0010 - accuracy: 0.9970 - mse: 0.0010 - mae: 0.0223 - rmse: 0.0290 - val_loss: 0.0010 - val_accuracy: 0.9971 - val_mse: 0.0010 - val_mae: 0.0224 - val_rmse: 0.0291\n",
      "Epoch 278/300\n",
      "537/537 [==============================] - 146s 272ms/step - loss: 0.0010 - accuracy: 0.9969 - mse: 0.0010 - mae: 0.0223 - rmse: 0.0290 - val_loss: 0.0010 - val_accuracy: 0.9971 - val_mse: 0.0010 - val_mae: 0.0224 - val_rmse: 0.0291\n",
      "Epoch 279/300\n",
      "537/537 [==============================] - 146s 271ms/step - loss: 0.0010 - accuracy: 0.9969 - mse: 0.0010 - mae: 0.0223 - rmse: 0.0290 - val_loss: 0.0010 - val_accuracy: 0.9971 - val_mse: 0.0010 - val_mae: 0.0224 - val_rmse: 0.0291\n",
      "Epoch 280/300\n",
      "537/537 [==============================] - 146s 271ms/step - loss: 0.0010 - accuracy: 0.9969 - mse: 0.0010 - mae: 0.0223 - rmse: 0.0290 - val_loss: 0.0010 - val_accuracy: 0.9971 - val_mse: 0.0010 - val_mae: 0.0224 - val_rmse: 0.0291\n",
      "Epoch 281/300\n",
      "537/537 [==============================] - 145s 271ms/step - loss: 0.0010 - accuracy: 0.9969 - mse: 0.0010 - mae: 0.0223 - rmse: 0.0290 - val_loss: 0.0010 - val_accuracy: 0.9971 - val_mse: 0.0010 - val_mae: 0.0223 - val_rmse: 0.0290\n",
      "Epoch 282/300\n",
      "537/537 [==============================] - 146s 271ms/step - loss: 0.0010 - accuracy: 0.9969 - mse: 0.0010 - mae: 0.0223 - rmse: 0.0290 - val_loss: 0.0010 - val_accuracy: 0.9971 - val_mse: 0.0010 - val_mae: 0.0224 - val_rmse: 0.0290\n",
      "Epoch 283/300\n",
      "537/537 [==============================] - 145s 271ms/step - loss: 0.0010 - accuracy: 0.9969 - mse: 0.0010 - mae: 0.0223 - rmse: 0.0290 - val_loss: 0.0010 - val_accuracy: 0.9971 - val_mse: 0.0010 - val_mae: 0.0224 - val_rmse: 0.0291\n",
      "Epoch 284/300\n",
      "537/537 [==============================] - 145s 271ms/step - loss: 0.0010 - accuracy: 0.9969 - mse: 0.0010 - mae: 0.0223 - rmse: 0.0290 - val_loss: 0.0010 - val_accuracy: 0.9971 - val_mse: 0.0010 - val_mae: 0.0223 - val_rmse: 0.0290\n",
      "Epoch 285/300\n",
      "537/537 [==============================] - 145s 270ms/step - loss: 0.0010 - accuracy: 0.9970 - mse: 0.0010 - mae: 0.0223 - rmse: 0.0290 - val_loss: 0.0010 - val_accuracy: 0.9971 - val_mse: 0.0010 - val_mae: 0.0223 - val_rmse: 0.0290\n",
      "Epoch 286/300\n",
      "537/537 [==============================] - 145s 269ms/step - loss: 0.0010 - accuracy: 0.9969 - mse: 0.0010 - mae: 0.0223 - rmse: 0.0290 - val_loss: 0.0010 - val_accuracy: 0.9971 - val_mse: 0.0010 - val_mae: 0.0224 - val_rmse: 0.0291\n",
      "Epoch 287/300\n",
      "537/537 [==============================] - 145s 270ms/step - loss: 0.0010 - accuracy: 0.9969 - mse: 0.0010 - mae: 0.0223 - rmse: 0.0290 - val_loss: 0.0010 - val_accuracy: 0.9971 - val_mse: 0.0010 - val_mae: 0.0223 - val_rmse: 0.0291\n",
      "Epoch 288/300\n",
      "537/537 [==============================] - 145s 270ms/step - loss: 0.0010 - accuracy: 0.9970 - mse: 0.0010 - mae: 0.0223 - rmse: 0.0290 - val_loss: 0.0010 - val_accuracy: 0.9971 - val_mse: 0.0010 - val_mae: 0.0223 - val_rmse: 0.0290\n",
      "Epoch 289/300\n",
      "537/537 [==============================] - 146s 271ms/step - loss: 0.0010 - accuracy: 0.9969 - mse: 0.0010 - mae: 0.0223 - rmse: 0.0290 - val_loss: 0.0010 - val_accuracy: 0.9971 - val_mse: 0.0010 - val_mae: 0.0223 - val_rmse: 0.0290\n",
      "Epoch 290/300\n",
      "537/537 [==============================] - 146s 272ms/step - loss: 0.0010 - accuracy: 0.9969 - mse: 0.0010 - mae: 0.0223 - rmse: 0.0290 - val_loss: 0.0010 - val_accuracy: 0.9971 - val_mse: 0.0010 - val_mae: 0.0223 - val_rmse: 0.0290\n",
      "Epoch 291/300\n",
      "537/537 [==============================] - 146s 272ms/step - loss: 0.0010 - accuracy: 0.9969 - mse: 0.0010 - mae: 0.0223 - rmse: 0.0290 - val_loss: 0.0010 - val_accuracy: 0.9971 - val_mse: 0.0010 - val_mae: 0.0224 - val_rmse: 0.0291\n",
      "Epoch 292/300\n",
      "537/537 [==============================] - 146s 272ms/step - loss: 0.0010 - accuracy: 0.9969 - mse: 0.0010 - mae: 0.0223 - rmse: 0.0290 - val_loss: 0.0010 - val_accuracy: 0.9971 - val_mse: 0.0010 - val_mae: 0.0224 - val_rmse: 0.0291\n",
      "Epoch 293/300\n",
      "537/537 [==============================] - 146s 272ms/step - loss: 0.0010 - accuracy: 0.9969 - mse: 0.0010 - mae: 0.0223 - rmse: 0.0290 - val_loss: 0.0010 - val_accuracy: 0.9971 - val_mse: 0.0010 - val_mae: 0.0223 - val_rmse: 0.0290\n",
      "Epoch 294/300\n",
      "537/537 [==============================] - 146s 272ms/step - loss: 0.0010 - accuracy: 0.9969 - mse: 0.0010 - mae: 0.0223 - rmse: 0.0290 - val_loss: 0.0010 - val_accuracy: 0.9971 - val_mse: 0.0010 - val_mae: 0.0224 - val_rmse: 0.0291\n",
      "Epoch 295/300\n",
      "537/537 [==============================] - 146s 272ms/step - loss: 0.0010 - accuracy: 0.9970 - mse: 0.0010 - mae: 0.0223 - rmse: 0.0290 - val_loss: 0.0010 - val_accuracy: 0.9971 - val_mse: 0.0010 - val_mae: 0.0223 - val_rmse: 0.0291\n",
      "Epoch 296/300\n",
      "537/537 [==============================] - 145s 271ms/step - loss: 0.0010 - accuracy: 0.9969 - mse: 0.0010 - mae: 0.0223 - rmse: 0.0290 - val_loss: 0.0010 - val_accuracy: 0.9971 - val_mse: 0.0010 - val_mae: 0.0224 - val_rmse: 0.0291\n",
      "Epoch 297/300\n",
      "537/537 [==============================] - 146s 271ms/step - loss: 0.0010 - accuracy: 0.9969 - mse: 0.0010 - mae: 0.0223 - rmse: 0.0290 - val_loss: 0.0010 - val_accuracy: 0.9971 - val_mse: 0.0010 - val_mae: 0.0224 - val_rmse: 0.0291\n",
      "Epoch 298/300\n"
     ]
    },
    {
     "name": "stdout",
     "output_type": "stream",
     "text": [
      "537/537 [==============================] - 146s 272ms/step - loss: 0.0010 - accuracy: 0.9969 - mse: 0.0010 - mae: 0.0223 - rmse: 0.0290 - val_loss: 0.0010 - val_accuracy: 0.9971 - val_mse: 0.0010 - val_mae: 0.0225 - val_rmse: 0.0291\n",
      "Epoch 299/300\n",
      "537/537 [==============================] - 147s 274ms/step - loss: 0.0010 - accuracy: 0.9969 - mse: 0.0010 - mae: 0.0223 - rmse: 0.0290 - val_loss: 0.0010 - val_accuracy: 0.9971 - val_mse: 0.0010 - val_mae: 0.0223 - val_rmse: 0.0291\n",
      "Epoch 300/300\n",
      "537/537 [==============================] - 158s 295ms/step - loss: 0.0010 - accuracy: 0.9969 - mse: 0.0010 - mae: 0.0223 - rmse: 0.0290 - val_loss: 0.0010 - val_accuracy: 0.9971 - val_mse: 0.0010 - val_mae: 0.0223 - val_rmse: 0.0290\n"
     ]
    }
   ],
   "source": [
    "from sklearn.model_selection import train_test_split\n",
    "x_train, x_test, y_train, y_test = train_test_split(X1, Y1, test_size=0.25, random_state=42)\n",
    "\n",
    "model_fit8 = model1.fit(x_train,y_train,batch_size=2048,epochs=300, validation_split=0.1)"
   ]
  },
  {
   "cell_type": "markdown",
   "id": "05c03bc9",
   "metadata": {},
   "source": [
    "# Saving Model as File"
   ]
  },
  {
   "cell_type": "code",
   "execution_count": 23,
   "id": "feb6fe5c",
   "metadata": {},
   "outputs": [
    {
     "name": "stdout",
     "output_type": "stream",
     "text": [
      "Saved model to disk\n"
     ]
    }
   ],
   "source": [
    "model_json = model1.to_json()\n",
    "with open(\"Model_File/grupj.json\", \"w\") as json_file:\n",
    "    json_file.write(model_json)\n",
    "# serialize weights to HDF5\n",
    "model1.save_weights(\"Model_File/grupj.h5\")\n",
    "print(\"Saved model to disk\")"
   ]
  },
  {
   "cell_type": "code",
   "execution_count": 24,
   "id": "85c18be3",
   "metadata": {},
   "outputs": [
    {
     "name": "stdout",
     "output_type": "stream",
     "text": [
      "Loaded model from disk\n"
     ]
    }
   ],
   "source": [
    "from sklearn.model_selection import train_test_split\n",
    "x_train, x_test, y_train, y_test = train_test_split(X1, Y1, test_size=0.25, random_state=42)\n",
    "\n",
    "from keras.models import model_from_json\n",
    "json_file = open('Model_File/grupj.json', 'r')\n",
    "loaded_model_json = json_file.read()\n",
    "json_file.close()\n",
    "loaded_model = model_from_json(loaded_model_json)\n",
    "# load weights into new model\n",
    "loaded_model.load_weights(\"Model_File/grupj.h5\")\n",
    "print(\"Loaded model from disk\")\n",
    "loaded_model.compile(optimizer=keras.optimizers.Adam(learning_rate=1e-5),loss='mse',metrics=['accuracy','mse','mae',rmse])"
   ]
  },
  {
   "cell_type": "code",
   "execution_count": 25,
   "id": "48695d38",
   "metadata": {},
   "outputs": [
    {
     "name": "stdout",
     "output_type": "stream",
     "text": [
      "38146/38146 [==============================] - 66s 2ms/step - loss: 0.0010 - accuracy: 0.9970 - mse: 0.0010 - mae: 0.0223 - rmse: 0.0290\n"
     ]
    },
    {
     "data": {
      "text/plain": [
       "[0.0010464127408340573,\n",
       " 0.9969671964645386,\n",
       " 0.0010464090155437589,\n",
       " 0.02230764739215374,\n",
       " 0.029004961252212524]"
      ]
     },
     "execution_count": 25,
     "metadata": {},
     "output_type": "execute_result"
    }
   ],
   "source": [
    "loaded_model.evaluate(x_train, y_train)"
   ]
  },
  {
   "cell_type": "code",
   "execution_count": 26,
   "id": "52e60bae",
   "metadata": {},
   "outputs": [
    {
     "name": "stdout",
     "output_type": "stream",
     "text": [
      "12716/12716 [==============================] - 22s 2ms/step - loss: 0.0010 - accuracy: 0.9970 - mse: 0.0010 - mae: 0.0223 - rmse: 0.0290\n"
     ]
    },
    {
     "data": {
      "text/plain": [
       "[0.0010424680076539516,\n",
       " 0.9970064759254456,\n",
       " 0.0010424698702991009,\n",
       " 0.022266222164034843,\n",
       " 0.028956182301044464]"
      ]
     },
     "execution_count": 26,
     "metadata": {},
     "output_type": "execute_result"
    }
   ],
   "source": [
    "loaded_model.evaluate(x_test,y_test)"
   ]
  },
  {
   "cell_type": "markdown",
   "id": "eb75d6b3",
   "metadata": {},
   "source": [
    "# Error Analysis"
   ]
  },
  {
   "cell_type": "code",
   "execution_count": 27,
   "id": "ff6190cf",
   "metadata": {},
   "outputs": [
    {
     "data": {
      "image/png": "[encoded data removed]",
      "text/plain": [
       "<Figure size 432x288 with 1 Axes>"
      ]
     },
     "metadata": {
      "needs_background": "light"
     },
     "output_type": "display_data"
    },
    {
     "data": {
      "image/png": "[encoded data removed]",
      "text/plain": [
       "<Figure size 432x288 with 1 Axes>"
      ]
     },
     "metadata": {
      "needs_background": "light"
     },
     "output_type": "display_data"
    }
   ],
   "source": [
    "# summarize history for loss\n",
    "plt.plot(model_fit8.history['loss'])\n",
    "plt.plot(model_fit8.history['val_loss'])\n",
    "plt.title('Model Loss',fontweight ='bold',fontsize = 15)\n",
    "plt.ylabel('Loss',fontweight ='bold',fontsize = 15)\n",
    "plt.xlabel('Epoch',fontweight ='bold',fontsize = 15)\n",
    "plt.legend(['Train', 'Test'], loc='upper left')\n",
    "plt.show()\n",
    "\n",
    "# summarize history for accuracy\n",
    "plt.plot(model_fit8.history['accuracy'])\n",
    "plt.plot(model_fit8.history['val_accuracy'])\n",
    "plt.title('Model accuracy',fontweight ='bold',fontsize = 15)\n",
    "plt.ylabel('Accuracy',fontweight ='bold',fontsize = 15)\n",
    "plt.xlabel('Epoch',fontweight ='bold',fontsize = 15)\n",
    "plt.legend(['Train', 'Test'], loc='upper left')\n",
    "plt.show()"
   ]
  },
  {
   "cell_type": "code",
   "execution_count": 28,
   "id": "265bcbd2",
   "metadata": {},
   "outputs": [
    {
     "data": {
      "text/plain": [
       "array([[0.4334275, 0.5546785, 0.       , 0.       , 0.0479142, 0.       ],\n",
       "       [0.4334275, 0.5546785, 0.       , 0.       , 0.0479142, 0.       ],\n",
       "       [0.4334275, 0.5546785, 0.       , 0.       , 0.0479142, 0.       ],\n",
       "       ...,\n",
       "       [0.4334275, 0.5546785, 0.       , 0.       , 0.0479142, 0.       ],\n",
       "       [0.4334275, 0.5546785, 0.       , 0.       , 0.0479142, 0.       ],\n",
       "       [0.4334275, 0.5546785, 0.       , 0.       , 0.0479142, 0.       ]],\n",
       "      dtype=float32)"
      ]
     },
     "execution_count": 28,
     "metadata": {},
     "output_type": "execute_result"
    }
   ],
   "source": [
    "from sklearn.model_selection import train_test_split\n",
    "x_train, x_test, y_train, y_test = train_test_split(X1, Y1, test_size=0.25, random_state=42)\n",
    "\n",
    "y_test_pred=loaded_model.predict(x_test)\n",
    "y_test_pred"
   ]
  },
  {
   "cell_type": "code",
   "execution_count": 29,
   "id": "b0690bb0",
   "metadata": {},
   "outputs": [
    {
     "data": {
      "text/plain": [
       "array([[[0.49655172, 0.61261671, 0.04625328, 0.00839927, 0.07680226,\n",
       "         0.00349832]],\n",
       "\n",
       "       [[0.40689655, 0.56779311, 0.02503314, 0.00862807, 0.03923826,\n",
       "         0.00169898]],\n",
       "\n",
       "       [[0.48275862, 0.61261671, 0.05669757, 0.01000087, 0.12197674,\n",
       "         0.0061505 ]],\n",
       "\n",
       "       ...,\n",
       "\n",
       "       [[0.4       , 0.53897794, 0.02967504, 0.01022967, 0.04172884,\n",
       "         0.01677347]],\n",
       "\n",
       "       [[0.4137931 , 0.56779311, 0.03514586, 0.01114488, 0.06885241,\n",
       "         0.003031  ]],\n",
       "\n",
       "       [[0.48275862, 0.57739817, 0.06051056, 0.00908567, 0.10450044,\n",
       "         0.00542992]]])"
      ]
     },
     "execution_count": 29,
     "metadata": {},
     "output_type": "execute_result"
    }
   ],
   "source": [
    "y_test"
   ]
  },
  {
   "cell_type": "code",
   "execution_count": 30,
   "id": "9768432e",
   "metadata": {},
   "outputs": [],
   "source": [
    "y_test=y_test[:,0]"
   ]
  },
  {
   "cell_type": "code",
   "execution_count": 31,
   "id": "9a7a2caf",
   "metadata": {},
   "outputs": [],
   "source": [
    "from numpy import savetxt\n",
    "savetxt('ARRAY_DATA/gru_y_test_pred.csv', y_test_pred[:1001], delimiter=',')"
   ]
  },
  {
   "cell_type": "code",
   "execution_count": 32,
   "id": "bee4d848",
   "metadata": {},
   "outputs": [],
   "source": [
    "from numpy import savetxt\n",
    "savetxt('ARRAY_DATA/gru_y_test.csv', y_test[:1001], delimiter=',')"
   ]
  },
  {
   "cell_type": "code",
   "execution_count": null,
   "id": "c8ab74e5",
   "metadata": {},
   "outputs": [],
   "source": [
    "#completed"
   ]
  }
 ],
 "metadata": {
  "kernelspec": {
   "display_name": "Python 3",
   "language": "python",
   "name": "python3"
  },
  "language_info": {
   "codemirror_mode": {
    "name": "ipython",
    "version": 3
   },
   "file_extension": ".py",
   "mimetype": "text/x-python",
   "name": "python",
   "nbconvert_exporter": "python",
   "pygments_lexer": "ipython3",
   "version": "3.6.15"
  }
 },
 "nbformat": 4,
 "nbformat_minor": 5
}
