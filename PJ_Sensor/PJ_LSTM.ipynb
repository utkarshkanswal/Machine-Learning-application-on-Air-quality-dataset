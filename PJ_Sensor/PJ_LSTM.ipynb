{
 "cells": [
  {
   "cell_type": "code",
   "execution_count": 2,
   "id": "877c2677",
   "metadata": {},
   "outputs": [
    {
     "data": {
      "text/plain": [
       "[PhysicalDevice(name='/physical_device:CPU:0', device_type='CPU'),\n",
       " PhysicalDevice(name='/physical_device:GPU:0', device_type='GPU')]"
      ]
     },
     "execution_count": 2,
     "metadata": {},
     "output_type": "execute_result"
    }
   ],
   "source": [
    "import tensorflow as tf\n",
    "tf.config.experimental.list_physical_devices()"
   ]
  },
  {
   "cell_type": "code",
   "execution_count": 3,
   "id": "1c059e76",
   "metadata": {},
   "outputs": [
    {
     "data": {
      "text/plain": [
       "True"
      ]
     },
     "execution_count": 3,
     "metadata": {},
     "output_type": "execute_result"
    }
   ],
   "source": [
    "tf.test.is_built_with_cuda()"
   ]
  },
  {
   "cell_type": "markdown",
   "id": "96739d01",
   "metadata": {},
   "source": [
    "# Importing Libraries"
   ]
  },
  {
   "cell_type": "code",
   "execution_count": 1,
   "id": "a0397420",
   "metadata": {},
   "outputs": [],
   "source": [
    "import numpy as np\n",
    "import pandas as pd\n",
    "from matplotlib import pyplot as plt\n",
    "import os.path as op\n",
    "import pickle"
   ]
  },
  {
   "cell_type": "code",
   "execution_count": 2,
   "id": "e8cc09ab",
   "metadata": {},
   "outputs": [],
   "source": [
    "import tensorflow as tf\n",
    "from tensorflow import keras\n",
    "from keras.models import Model,Sequential,load_model\n",
    "from keras.layers import Input, Embedding\n",
    "from keras.layers import Dense, Bidirectional\n",
    "from keras.layers.recurrent import LSTM\n",
    "import keras.metrics as metrics\n",
    "import itertools\n",
    "from tensorflow.python.keras.utils.data_utils import Sequence\n",
    "from decimal import Decimal\n",
    "from keras import backend as K\n",
    "from keras.layers import Conv1D,MaxPooling1D,Flatten,Dense"
   ]
  },
  {
   "cell_type": "markdown",
   "id": "b7f9474e",
   "metadata": {},
   "source": [
    "# Data Fetching"
   ]
  },
  {
   "cell_type": "code",
   "execution_count": 3,
   "id": "cc06c8d1",
   "metadata": {},
   "outputs": [],
   "source": [
    "inp=pd.read_csv(\"PJ sensor.csv\",usecols=[6,7,10,11])\n",
    "out=pd.read_csv(\"PJ sensor.csv\",usecols=[2,3,4,5,8,9])"
   ]
  },
  {
   "cell_type": "code",
   "execution_count": 4,
   "id": "010d86fc",
   "metadata": {},
   "outputs": [
    {
     "data": {
      "text/html": [
       "<div>\n",
       "<style scoped>\n",
       "    .dataframe tbody tr th:only-of-type {\n",
       "        vertical-align: middle;\n",
       "    }\n",
       "\n",
       "    .dataframe tbody tr th {\n",
       "        vertical-align: top;\n",
       "    }\n",
       "\n",
       "    .dataframe thead th {\n",
       "        text-align: right;\n",
       "    }\n",
       "</style>\n",
       "<table border=\"1\" class=\"dataframe\">\n",
       "  <thead>\n",
       "    <tr style=\"text-align: right;\">\n",
       "      <th></th>\n",
       "      <th>Temperature</th>\n",
       "      <th>Relative Humidity</th>\n",
       "      <th>date</th>\n",
       "      <th>Time</th>\n",
       "    </tr>\n",
       "  </thead>\n",
       "  <tbody>\n",
       "    <tr>\n",
       "      <th>0</th>\n",
       "      <td>31</td>\n",
       "      <td>65</td>\n",
       "      <td>191213</td>\n",
       "      <td>175844</td>\n",
       "    </tr>\n",
       "    <tr>\n",
       "      <th>1</th>\n",
       "      <td>31</td>\n",
       "      <td>65</td>\n",
       "      <td>191213</td>\n",
       "      <td>175904</td>\n",
       "    </tr>\n",
       "    <tr>\n",
       "      <th>2</th>\n",
       "      <td>31</td>\n",
       "      <td>65</td>\n",
       "      <td>191213</td>\n",
       "      <td>175924</td>\n",
       "    </tr>\n",
       "    <tr>\n",
       "      <th>3</th>\n",
       "      <td>31</td>\n",
       "      <td>65</td>\n",
       "      <td>191213</td>\n",
       "      <td>175944</td>\n",
       "    </tr>\n",
       "    <tr>\n",
       "      <th>4</th>\n",
       "      <td>31</td>\n",
       "      <td>66</td>\n",
       "      <td>191213</td>\n",
       "      <td>180004</td>\n",
       "    </tr>\n",
       "  </tbody>\n",
       "</table>\n",
       "</div>"
      ],
      "text/plain": [
       "   Temperature  Relative Humidity    date    Time\n",
       "0           31                 65  191213  175844\n",
       "1           31                 65  191213  175904\n",
       "2           31                 65  191213  175924\n",
       "3           31                 65  191213  175944\n",
       "4           31                 66  191213  180004"
      ]
     },
     "execution_count": 4,
     "metadata": {},
     "output_type": "execute_result"
    }
   ],
   "source": [
    "inp.head(5)"
   ]
  },
  {
   "cell_type": "code",
   "execution_count": 5,
   "id": "b391fbf9",
   "metadata": {},
   "outputs": [
    {
     "data": {
      "text/html": [
       "<div>\n",
       "<style scoped>\n",
       "    .dataframe tbody tr th:only-of-type {\n",
       "        vertical-align: middle;\n",
       "    }\n",
       "\n",
       "    .dataframe tbody tr th {\n",
       "        vertical-align: top;\n",
       "    }\n",
       "\n",
       "    .dataframe thead th {\n",
       "        text-align: right;\n",
       "    }\n",
       "</style>\n",
       "<table border=\"1\" class=\"dataframe\">\n",
       "  <thead>\n",
       "    <tr style=\"text-align: right;\">\n",
       "      <th></th>\n",
       "      <th>NO2</th>\n",
       "      <th>O3</th>\n",
       "      <th>CO</th>\n",
       "      <th>SO2</th>\n",
       "      <th>PM2.5</th>\n",
       "      <th>PM10</th>\n",
       "    </tr>\n",
       "  </thead>\n",
       "  <tbody>\n",
       "    <tr>\n",
       "      <th>0</th>\n",
       "      <td>-15.075377</td>\n",
       "      <td>35.714286</td>\n",
       "      <td>1766.233766</td>\n",
       "      <td>148.484848</td>\n",
       "      <td>11.229150</td>\n",
       "      <td>17.323938</td>\n",
       "    </tr>\n",
       "    <tr>\n",
       "      <th>1</th>\n",
       "      <td>-20.100503</td>\n",
       "      <td>41.208791</td>\n",
       "      <td>1733.766234</td>\n",
       "      <td>142.424242</td>\n",
       "      <td>9.413914</td>\n",
       "      <td>24.967407</td>\n",
       "    </tr>\n",
       "    <tr>\n",
       "      <th>2</th>\n",
       "      <td>-15.075377</td>\n",
       "      <td>43.956044</td>\n",
       "      <td>1711.038961</td>\n",
       "      <td>136.363636</td>\n",
       "      <td>10.350110</td>\n",
       "      <td>56.781536</td>\n",
       "    </tr>\n",
       "    <tr>\n",
       "      <th>3</th>\n",
       "      <td>0.000000</td>\n",
       "      <td>57.692308</td>\n",
       "      <td>1688.311688</td>\n",
       "      <td>139.393939</td>\n",
       "      <td>10.488765</td>\n",
       "      <td>30.371115</td>\n",
       "    </tr>\n",
       "    <tr>\n",
       "      <th>4</th>\n",
       "      <td>-20.100503</td>\n",
       "      <td>54.945055</td>\n",
       "      <td>1681.818182</td>\n",
       "      <td>130.303030</td>\n",
       "      <td>12.353048</td>\n",
       "      <td>188.026886</td>\n",
       "    </tr>\n",
       "  </tbody>\n",
       "</table>\n",
       "</div>"
      ],
      "text/plain": [
       "         NO2         O3           CO         SO2      PM2.5        PM10\n",
       "0 -15.075377  35.714286  1766.233766  148.484848  11.229150   17.323938\n",
       "1 -20.100503  41.208791  1733.766234  142.424242   9.413914   24.967407\n",
       "2 -15.075377  43.956044  1711.038961  136.363636  10.350110   56.781536\n",
       "3   0.000000  57.692308  1688.311688  139.393939  10.488765   30.371115\n",
       "4 -20.100503  54.945055  1681.818182  130.303030  12.353048  188.026886"
      ]
     },
     "execution_count": 5,
     "metadata": {},
     "output_type": "execute_result"
    }
   ],
   "source": [
    "out.head(5)"
   ]
  },
  {
   "cell_type": "code",
   "execution_count": 6,
   "id": "444880a7",
   "metadata": {},
   "outputs": [],
   "source": [
    "inp=np.array(inp)\n",
    "out=np.array(out)"
   ]
  },
  {
   "cell_type": "markdown",
   "id": "78ca5e86",
   "metadata": {},
   "source": [
    "# Min Max Scaler"
   ]
  },
  {
   "cell_type": "code",
   "execution_count": 7,
   "id": "41ae9a8a",
   "metadata": {},
   "outputs": [],
   "source": [
    "from sklearn.preprocessing import MinMaxScaler\n",
    "import warnings\n",
    "scaler_obj=MinMaxScaler()\n",
    "X1=scaler_obj.fit_transform(inp)\n",
    "Y1=scaler_obj.fit_transform(out)\n",
    "\n",
    "warnings.filterwarnings(action='ignore', category=UserWarning)\n",
    "\n",
    "X1=X1[:,np.newaxis,:]\n",
    "Y1=Y1[:,np.newaxis,:]"
   ]
  },
  {
   "cell_type": "code",
   "execution_count": 8,
   "id": "da37491b",
   "metadata": {},
   "outputs": [],
   "source": [
    "def rmse(y_true, y_pred):\n",
    "    return K.sqrt(K.mean(K.square(y_pred - y_true), axis=-1))\n",
    "\n",
    "def coeff_determination(y_true, y_pred):\n",
    "    SS_res =  K.sum(K.square( y_true-y_pred )) \n",
    "    SS_tot = K.sum(K.square( y_true - K.mean(y_true) ) ) \n",
    "    return ( 1 - SS_res/(SS_tot + K.epsilon()) )"
   ]
  },
  {
   "cell_type": "code",
   "execution_count": 13,
   "id": "6ac3a277",
   "metadata": {},
   "outputs": [
    {
     "data": {
      "text/plain": [
       "(1627533, 1, 6)"
      ]
     },
     "execution_count": 13,
     "metadata": {},
     "output_type": "execute_result"
    }
   ],
   "source": [
    "Y1.shape"
   ]
  },
  {
   "cell_type": "markdown",
   "id": "b1edf627",
   "metadata": {},
   "source": [
    "# Model"
   ]
  },
  {
   "cell_type": "code",
   "execution_count": 14,
   "id": "d05d8053",
   "metadata": {},
   "outputs": [
    {
     "name": "stdout",
     "output_type": "stream",
     "text": [
      "Model: \"sequential_1\"\n",
      "_________________________________________________________________\n",
      "Layer (type)                 Output Shape              Param #   \n",
      "=================================================================\n",
      "lstm_1 (LSTM)                (None, 6)                 264       \n",
      "_________________________________________________________________\n",
      "dense_1 (Dense)              (None, 6)                 42        \n",
      "_________________________________________________________________\n",
      "batch_normalization_1 (Batch (None, 6)                 24        \n",
      "_________________________________________________________________\n",
      "re_lu_1 (ReLU)               (None, 6)                 0         \n",
      "=================================================================\n",
      "Total params: 330\n",
      "Trainable params: 318\n",
      "Non-trainable params: 12\n",
      "_________________________________________________________________\n"
     ]
    }
   ],
   "source": [
    "model1 = Sequential()\n",
    "model1.add(keras.Input(shape=(1,4)))\n",
    "model1.add(tf.keras.layers.LSTM(6,activation=\"tanh\",use_bias=True,kernel_initializer=\"glorot_uniform\",bias_initializer=\"zeros\"))\n",
    "model1.add(Dense(6))\n",
    "model1.add(keras.layers.BatchNormalization(axis=-1,momentum=0.99,epsilon=0.001,center=True,scale=True,\n",
    "                                beta_initializer=\"zeros\",gamma_initializer=\"ones\",\n",
    "                                moving_mean_initializer=\"zeros\",moving_variance_initializer=\"ones\",trainable=True))\n",
    "model1.add(keras.layers.ReLU())\n",
    "model1.compile(optimizer=keras.optimizers.Adam(learning_rate=1e-5), loss='binary_crossentropy',metrics=['accuracy','mse','mae',rmse])\n",
    "model1.summary()"
   ]
  },
  {
   "cell_type": "code",
   "execution_count": 15,
   "id": "fb37916d",
   "metadata": {},
   "outputs": [
    {
     "name": "stdout",
     "output_type": "stream",
     "text": [
      "Epoch 1/50\n",
      "537/537 [==============================] - 210s 388ms/step - loss: 1.9613 - accuracy: 0.2974 - mse: 0.1363 - mae: 0.2595 - rmse: 0.3432 - val_loss: 1.7148 - val_accuracy: 0.2882 - val_mse: 0.0826 - val_mae: 0.2064 - val_rmse: 0.2824\n",
      "Epoch 2/50\n",
      "537/537 [==============================] - 208s 387ms/step - loss: 1.9172 - accuracy: 0.3024 - mse: 0.1303 - mae: 0.2533 - rmse: 0.3370 - val_loss: 1.8967 - val_accuracy: 0.3055 - val_mse: 0.1274 - val_mae: 0.2507 - val_rmse: 0.3340\n",
      "Epoch 3/50\n",
      "537/537 [==============================] - 208s 388ms/step - loss: 1.8828 - accuracy: 0.3063 - mse: 0.1252 - mae: 0.2478 - rmse: 0.3315 - val_loss: 1.8690 - val_accuracy: 0.3089 - val_mse: 0.1234 - val_mae: 0.2460 - val_rmse: 0.3295\n",
      "Epoch 4/50\n",
      "537/537 [==============================] - 209s 389ms/step - loss: 1.8542 - accuracy: 0.3103 - mse: 0.1206 - mae: 0.2425 - rmse: 0.3263 - val_loss: 1.8501 - val_accuracy: 0.3131 - val_mse: 0.1194 - val_mae: 0.2412 - val_rmse: 0.3250\n",
      "Epoch 5/50\n",
      "537/537 [==============================] - 207s 386ms/step - loss: 1.8289 - accuracy: 0.3134 - mse: 0.1165 - mae: 0.2374 - rmse: 0.3215 - val_loss: 1.8143 - val_accuracy: 0.3176 - val_mse: 0.1149 - val_mae: 0.2356 - val_rmse: 0.3197\n",
      "Epoch 6/50\n",
      "537/537 [==============================] - 209s 390ms/step - loss: 1.8038 - accuracy: 0.3162 - mse: 0.1127 - mae: 0.2325 - rmse: 0.3170 - val_loss: 1.7918 - val_accuracy: 0.3177 - val_mse: 0.1115 - val_mae: 0.2310 - val_rmse: 0.3155\n",
      "Epoch 7/50\n",
      "537/537 [==============================] - 205s 382ms/step - loss: 1.7806 - accuracy: 0.3186 - mse: 0.1094 - mae: 0.2279 - rmse: 0.3128 - val_loss: 1.7693 - val_accuracy: 0.3190 - val_mse: 0.1082 - val_mae: 0.2262 - val_rmse: 0.3113\n",
      "Epoch 8/50\n",
      "537/537 [==============================] - 206s 384ms/step - loss: 1.7563 - accuracy: 0.3220 - mse: 0.1063 - mae: 0.2233 - rmse: 0.3087 - val_loss: 1.7438 - val_accuracy: 0.3251 - val_mse: 0.1055 - val_mae: 0.2219 - val_rmse: 0.3076\n",
      "Epoch 9/50\n",
      "537/537 [==============================] - 206s 384ms/step - loss: 1.7338 - accuracy: 0.3249 - mse: 0.1035 - mae: 0.2189 - rmse: 0.3051 - val_loss: 1.7268 - val_accuracy: 0.3250 - val_mse: 0.1026 - val_mae: 0.2172 - val_rmse: 0.3038\n",
      "Epoch 10/50\n",
      "537/537 [==============================] - 205s 383ms/step - loss: 1.7152 - accuracy: 0.3279 - mse: 0.1011 - mae: 0.2147 - rmse: 0.3017 - val_loss: 1.7029 - val_accuracy: 0.3323 - val_mse: 0.1003 - val_mae: 0.2131 - val_rmse: 0.3005\n",
      "Epoch 11/50\n",
      "537/537 [==============================] - 204s 381ms/step - loss: 1.6987 - accuracy: 0.3308 - mse: 0.0993 - mae: 0.2110 - rmse: 0.2991 - val_loss: 1.6860 - val_accuracy: 0.3355 - val_mse: 0.0984 - val_mae: 0.2096 - val_rmse: 0.2977\n",
      "Epoch 12/50\n",
      "537/537 [==============================] - 205s 381ms/step - loss: 1.6817 - accuracy: 0.3340 - mse: 0.0975 - mae: 0.2074 - rmse: 0.2965 - val_loss: 1.6815 - val_accuracy: 0.3316 - val_mse: 0.0975 - val_mae: 0.2067 - val_rmse: 0.2963\n",
      "Epoch 13/50\n",
      "537/537 [==============================] - 204s 381ms/step - loss: 1.6649 - accuracy: 0.3370 - mse: 0.0961 - mae: 0.2041 - rmse: 0.2941 - val_loss: 1.6585 - val_accuracy: 0.3387 - val_mse: 0.0957 - val_mae: 0.2031 - val_rmse: 0.2935\n",
      "Epoch 14/50\n",
      "537/537 [==============================] - 204s 381ms/step - loss: 1.6492 - accuracy: 0.3398 - mse: 0.0947 - mae: 0.2011 - rmse: 0.2920 - val_loss: 1.6454 - val_accuracy: 0.3420 - val_mse: 0.0947 - val_mae: 0.2003 - val_rmse: 0.2919\n",
      "Epoch 15/50\n",
      "537/537 [==============================] - 205s 382ms/step - loss: 1.6323 - accuracy: 0.3419 - mse: 0.0934 - mae: 0.1983 - rmse: 0.2899 - val_loss: 1.6265 - val_accuracy: 0.3421 - val_mse: 0.0930 - val_mae: 0.1974 - val_rmse: 0.2893\n",
      "Epoch 16/50\n",
      "537/537 [==============================] - 205s 381ms/step - loss: 1.6180 - accuracy: 0.3436 - mse: 0.0922 - mae: 0.1959 - rmse: 0.2880 - val_loss: 1.6150 - val_accuracy: 0.3410 - val_mse: 0.0919 - val_mae: 0.1949 - val_rmse: 0.2875\n",
      "Epoch 17/50\n",
      "537/537 [==============================] - 209s 389ms/step - loss: 1.6075 - accuracy: 0.3442 - mse: 0.0911 - mae: 0.1939 - rmse: 0.2864 - val_loss: 1.6031 - val_accuracy: 0.3448 - val_mse: 0.0911 - val_mae: 0.1934 - val_rmse: 0.2862\n",
      "Epoch 18/50\n",
      "537/537 [==============================] - 207s 386ms/step - loss: 1.5957 - accuracy: 0.3455 - mse: 0.0902 - mae: 0.1921 - rmse: 0.2849 - val_loss: 1.5920 - val_accuracy: 0.3455 - val_mse: 0.0903 - val_mae: 0.1920 - val_rmse: 0.2850\n",
      "Epoch 19/50\n",
      "537/537 [==============================] - 205s 381ms/step - loss: 1.5839 - accuracy: 0.3465 - mse: 0.0892 - mae: 0.1904 - rmse: 0.2833 - val_loss: 1.5806 - val_accuracy: 0.3471 - val_mse: 0.0892 - val_mae: 0.1902 - val_rmse: 0.2831\n",
      "Epoch 20/50\n",
      "537/537 [==============================] - 211s 393ms/step - loss: 1.5718 - accuracy: 0.3471 - mse: 0.0882 - mae: 0.1888 - rmse: 0.2816 - val_loss: 1.5682 - val_accuracy: 0.3481 - val_mse: 0.0883 - val_mae: 0.1887 - val_rmse: 0.2815\n",
      "Epoch 21/50\n",
      "537/537 [==============================] - 208s 388ms/step - loss: 1.5607 - accuracy: 0.3476 - mse: 0.0873 - mae: 0.1875 - rmse: 0.2801 - val_loss: 1.5574 - val_accuracy: 0.3486 - val_mse: 0.0871 - val_mae: 0.1869 - val_rmse: 0.2797\n",
      "Epoch 22/50\n",
      "537/537 [==============================] - 211s 394ms/step - loss: 1.5490 - accuracy: 0.3487 - mse: 0.0864 - mae: 0.1862 - rmse: 0.2786 - val_loss: 1.5443 - val_accuracy: 0.3490 - val_mse: 0.0865 - val_mae: 0.1861 - val_rmse: 0.2785\n",
      "Epoch 23/50\n",
      "537/537 [==============================] - 209s 389ms/step - loss: 1.5365 - accuracy: 0.3506 - mse: 0.0855 - mae: 0.1850 - rmse: 0.2770 - val_loss: 1.5343 - val_accuracy: 0.3505 - val_mse: 0.0856 - val_mae: 0.1850 - val_rmse: 0.2771\n",
      "Epoch 24/50\n",
      "537/537 [==============================] - 214s 398ms/step - loss: 1.5232 - accuracy: 0.3533 - mse: 0.0844 - mae: 0.1837 - rmse: 0.2752 - val_loss: 1.5243 - val_accuracy: 0.3508 - val_mse: 0.0844 - val_mae: 0.1838 - val_rmse: 0.2753\n",
      "Epoch 25/50\n",
      "537/537 [==============================] - 211s 393ms/step - loss: 1.5144 - accuracy: 0.3549 - mse: 0.0834 - mae: 0.1824 - rmse: 0.2737 - val_loss: 1.5107 - val_accuracy: 0.3545 - val_mse: 0.0833 - val_mae: 0.1820 - val_rmse: 0.2733\n",
      "Epoch 26/50\n",
      "537/537 [==============================] - 209s 388ms/step - loss: 1.5046 - accuracy: 0.3571 - mse: 0.0825 - mae: 0.1813 - rmse: 0.2722 - val_loss: 1.5021 - val_accuracy: 0.3578 - val_mse: 0.0825 - val_mae: 0.1812 - val_rmse: 0.2720\n",
      "Epoch 27/50\n",
      "537/537 [==============================] - 218s 406ms/step - loss: 1.4952 - accuracy: 0.3588 - mse: 0.0819 - mae: 0.1804 - rmse: 0.2711 - val_loss: 1.4939 - val_accuracy: 0.3588 - val_mse: 0.0821 - val_mae: 0.1806 - val_rmse: 0.2712\n",
      "Epoch 28/50\n",
      "537/537 [==============================] - 209s 388ms/step - loss: 1.4844 - accuracy: 0.3599 - mse: 0.0813 - mae: 0.1796 - rmse: 0.2699 - val_loss: 1.4797 - val_accuracy: 0.3598 - val_mse: 0.0814 - val_mae: 0.1793 - val_rmse: 0.2698\n",
      "Epoch 29/50\n",
      "537/537 [==============================] - 209s 388ms/step - loss: 1.4738 - accuracy: 0.3622 - mse: 0.0808 - mae: 0.1787 - rmse: 0.2689 - val_loss: 1.4656 - val_accuracy: 0.3649 - val_mse: 0.0810 - val_mae: 0.1788 - val_rmse: 0.2689\n",
      "Epoch 30/50\n",
      "537/537 [==============================] - 205s 381ms/step - loss: 1.4606 - accuracy: 0.3661 - mse: 0.0801 - mae: 0.1778 - rmse: 0.2676 - val_loss: 1.4538 - val_accuracy: 0.3666 - val_mse: 0.0801 - val_mae: 0.1774 - val_rmse: 0.2672\n",
      "Epoch 31/50\n",
      "537/537 [==============================] - 205s 382ms/step - loss: 1.4457 - accuracy: 0.3713 - mse: 0.0793 - mae: 0.1768 - rmse: 0.2662 - val_loss: 1.4492 - val_accuracy: 0.3664 - val_mse: 0.0795 - val_mae: 0.1769 - val_rmse: 0.2664\n",
      "Epoch 32/50\n",
      "537/537 [==============================] - 210s 392ms/step - loss: 1.4350 - accuracy: 0.3754 - mse: 0.0785 - mae: 0.1757 - rmse: 0.2648 - val_loss: 1.4344 - val_accuracy: 0.3767 - val_mse: 0.0788 - val_mae: 0.1760 - val_rmse: 0.2651\n",
      "Epoch 33/50\n",
      "537/537 [==============================] - 211s 392ms/step - loss: 1.4202 - accuracy: 0.3799 - mse: 0.0777 - mae: 0.1746 - rmse: 0.2632 - val_loss: 1.4118 - val_accuracy: 0.3825 - val_mse: 0.0772 - val_mae: 0.1740 - val_rmse: 0.2622\n",
      "Epoch 34/50\n"
     ]
    },
    {
     "name": "stdout",
     "output_type": "stream",
     "text": [
      "537/537 [==============================] - 208s 388ms/step - loss: 1.4013 - accuracy: 0.3864 - mse: 0.0767 - mae: 0.1734 - rmse: 0.2614 - val_loss: 1.3962 - val_accuracy: 0.3870 - val_mse: 0.0767 - val_mae: 0.1731 - val_rmse: 0.2611\n",
      "Epoch 35/50\n",
      "537/537 [==============================] - 204s 379ms/step - loss: 1.3846 - accuracy: 0.3925 - mse: 0.0759 - mae: 0.1724 - rmse: 0.2598 - val_loss: 1.3780 - val_accuracy: 0.3962 - val_mse: 0.0760 - val_mae: 0.1725 - val_rmse: 0.2599\n",
      "Epoch 36/50\n",
      "537/537 [==============================] - 204s 381ms/step - loss: 1.3694 - accuracy: 0.3975 - mse: 0.0753 - mae: 0.1715 - rmse: 0.2586 - val_loss: 1.3571 - val_accuracy: 0.4000 - val_mse: 0.0750 - val_mae: 0.1708 - val_rmse: 0.2578\n",
      "Epoch 37/50\n",
      "537/537 [==============================] - 209s 390ms/step - loss: 1.3531 - accuracy: 0.4053 - mse: 0.0745 - mae: 0.1706 - rmse: 0.2572 - val_loss: 1.3501 - val_accuracy: 0.4087 - val_mse: 0.0747 - val_mae: 0.1709 - val_rmse: 0.2574\n",
      "Epoch 38/50\n",
      "537/537 [==============================] - 207s 385ms/step - loss: 1.3370 - accuracy: 0.4138 - mse: 0.0738 - mae: 0.1697 - rmse: 0.2557 - val_loss: 1.3325 - val_accuracy: 0.4143 - val_mse: 0.0738 - val_mae: 0.1698 - val_rmse: 0.2556\n",
      "Epoch 39/50\n",
      "537/537 [==============================] - 204s 380ms/step - loss: 1.3230 - accuracy: 0.4220 - mse: 0.0731 - mae: 0.1689 - rmse: 0.2544 - val_loss: 1.3213 - val_accuracy: 0.4240 - val_mse: 0.0731 - val_mae: 0.1687 - val_rmse: 0.2543\n",
      "Epoch 40/50\n",
      "537/537 [==============================] - 205s 382ms/step - loss: 1.3099 - accuracy: 0.4295 - mse: 0.0722 - mae: 0.1679 - rmse: 0.2529 - val_loss: 1.3073 - val_accuracy: 0.4317 - val_mse: 0.0721 - val_mae: 0.1677 - val_rmse: 0.2525\n",
      "Epoch 41/50\n",
      "537/537 [==============================] - 205s 382ms/step - loss: 1.2941 - accuracy: 0.4388 - mse: 0.0714 - mae: 0.1669 - rmse: 0.2512 - val_loss: 1.2939 - val_accuracy: 0.4386 - val_mse: 0.0717 - val_mae: 0.1671 - val_rmse: 0.2515\n",
      "Epoch 42/50\n",
      "537/537 [==============================] - 204s 381ms/step - loss: 1.2781 - accuracy: 0.4476 - mse: 0.0706 - mae: 0.1659 - rmse: 0.2495 - val_loss: 1.2775 - val_accuracy: 0.4463 - val_mse: 0.0706 - val_mae: 0.1658 - val_rmse: 0.2494\n",
      "Epoch 43/50\n",
      "537/537 [==============================] - 205s 382ms/step - loss: 1.2648 - accuracy: 0.4553 - mse: 0.0698 - mae: 0.1649 - rmse: 0.2480 - val_loss: 1.2702 - val_accuracy: 0.4527 - val_mse: 0.0703 - val_mae: 0.1653 - val_rmse: 0.2488\n",
      "Epoch 44/50\n",
      "537/537 [==============================] - 206s 383ms/step - loss: 1.2558 - accuracy: 0.4598 - mse: 0.0690 - mae: 0.1640 - rmse: 0.2465 - val_loss: 1.2559 - val_accuracy: 0.4610 - val_mse: 0.0690 - val_mae: 0.1640 - val_rmse: 0.2463\n",
      "Epoch 45/50\n",
      "537/537 [==============================] - 205s 382ms/step - loss: 1.2485 - accuracy: 0.4625 - mse: 0.0681 - mae: 0.1631 - rmse: 0.2449 - val_loss: 1.2524 - val_accuracy: 0.4593 - val_mse: 0.0684 - val_mae: 0.1632 - val_rmse: 0.2454\n",
      "Epoch 46/50\n",
      "537/537 [==============================] - 205s 381ms/step - loss: 1.2422 - accuracy: 0.4652 - mse: 0.0673 - mae: 0.1621 - rmse: 0.2434 - val_loss: 1.2429 - val_accuracy: 0.4654 - val_mse: 0.0672 - val_mae: 0.1619 - val_rmse: 0.2432\n",
      "Epoch 47/50\n",
      "537/537 [==============================] - 205s 381ms/step - loss: 1.2363 - accuracy: 0.4682 - mse: 0.0665 - mae: 0.1612 - rmse: 0.2421 - val_loss: 1.2365 - val_accuracy: 0.4693 - val_mse: 0.0665 - val_mae: 0.1609 - val_rmse: 0.2419\n",
      "Epoch 48/50\n",
      "537/537 [==============================] - 205s 381ms/step - loss: 1.2309 - accuracy: 0.4697 - mse: 0.0659 - mae: 0.1604 - rmse: 0.2409 - val_loss: 1.2282 - val_accuracy: 0.4720 - val_mse: 0.0656 - val_mae: 0.1599 - val_rmse: 0.2402\n",
      "Epoch 49/50\n",
      "537/537 [==============================] - 205s 382ms/step - loss: 1.2260 - accuracy: 0.4699 - mse: 0.0651 - mae: 0.1595 - rmse: 0.2397 - val_loss: 1.2256 - val_accuracy: 0.4719 - val_mse: 0.0650 - val_mae: 0.1591 - val_rmse: 0.2392\n",
      "Epoch 50/50\n",
      "537/537 [==============================] - 205s 383ms/step - loss: 1.2214 - accuracy: 0.4733 - mse: 0.0645 - mae: 0.1587 - rmse: 0.2385 - val_loss: 1.2219 - val_accuracy: 0.4751 - val_mse: 0.0645 - val_mae: 0.1585 - val_rmse: 0.2383\n"
     ]
    }
   ],
   "source": [
    "from sklearn.model_selection import train_test_split\n",
    "x_train, x_test, y_train, y_test = train_test_split(X1, Y1, test_size=0.25, random_state=42)\n",
    "\n",
    "model_fit8 = model1.fit(x_train,y_train,batch_size=2048,epochs=50, validation_split=0.1)"
   ]
  },
  {
   "cell_type": "markdown",
   "id": "05c03bc9",
   "metadata": {},
   "source": [
    "# Saving Model as File"
   ]
  },
  {
   "cell_type": "code",
   "execution_count": 13,
   "id": "feb6fe5c",
   "metadata": {},
   "outputs": [
    {
     "name": "stdout",
     "output_type": "stream",
     "text": [
      "Saved model to disk\n"
     ]
    }
   ],
   "source": [
    "model_json = model1.to_json()\n",
    "with open(\"lstmpj.json\", \"w\") as json_file:\n",
    "    json_file.write(model_json)\n",
    "# serialize weights to HDF5\n",
    "model1.save_weights(\"lstmpj.h5\")\n",
    "print(\"Saved model to disk\")"
   ]
  },
  {
   "cell_type": "code",
   "execution_count": 14,
   "id": "85c18be3",
   "metadata": {},
   "outputs": [
    {
     "name": "stdout",
     "output_type": "stream",
     "text": [
      "Loaded model from disk\n",
      "[0.05459023267030716, 0.02124212495982647, 0.05459020659327507, 0.05129491165280342, 0.12296319007873535, -2923.8349609375]\n"
     ]
    }
   ],
   "source": [
    "from keras.models import model_from_json\n",
    "json_file = open('lstm.json', 'r')\n",
    "loaded_model_json = json_file.read()\n",
    "json_file.close()\n",
    "loaded_model = model_from_json(loaded_model_json)\n",
    "# load weights into new model\n",
    "loaded_model.load_weights(\"lstm.h5\")\n",
    "print(\"Loaded model from disk\")\n",
    "loaded_model.compile(optimizer=keras.optimizers.Adam(learning_rate=0.001), loss='mse',metrics=['accuracy','mse','mae',rmse,coeff_determination])\n",
    "print(loaded_model.evaluate(x_train, y_train, verbose=0))"
   ]
  },
  {
   "cell_type": "markdown",
   "id": "eb75d6b3",
   "metadata": {},
   "source": [
    "# Error Analysis"
   ]
  },
  {
   "cell_type": "code",
   "execution_count": 15,
   "id": "ff6190cf",
   "metadata": {},
   "outputs": [
    {
     "ename": "ValueError",
     "evalue": "too many values to unpack (expected 2)",
     "output_type": "error",
     "traceback": [
      "\u001b[0;31m---------------------------------------------------------------------------\u001b[0m",
      "\u001b[0;31mValueError\u001b[0m                                Traceback (most recent call last)",
      "\u001b[0;32m<ipython-input-15-65982dcd2f74>\u001b[0m in \u001b[0;36m<module>\u001b[0;34m\u001b[0m\n\u001b[0;32m----> 1\u001b[0;31m \u001b[0m_\u001b[0m\u001b[0;34m,\u001b[0m \u001b[0mtrain_acc\u001b[0m \u001b[0;34m=\u001b[0m \u001b[0mmodel1\u001b[0m\u001b[0;34m.\u001b[0m\u001b[0mevaluate\u001b[0m\u001b[0;34m(\u001b[0m\u001b[0mx_train\u001b[0m\u001b[0;34m,\u001b[0m \u001b[0my_train\u001b[0m\u001b[0;34m,\u001b[0m \u001b[0mverbose\u001b[0m\u001b[0;34m=\u001b[0m\u001b[0;36m0\u001b[0m\u001b[0;34m)\u001b[0m\u001b[0;34m\u001b[0m\u001b[0;34m\u001b[0m\u001b[0m\n\u001b[0m\u001b[1;32m      2\u001b[0m \u001b[0m_\u001b[0m\u001b[0;34m,\u001b[0m \u001b[0mtest_acc\u001b[0m \u001b[0;34m=\u001b[0m \u001b[0mmodel1\u001b[0m\u001b[0;34m.\u001b[0m\u001b[0mevaluate\u001b[0m\u001b[0;34m(\u001b[0m\u001b[0mx_test\u001b[0m\u001b[0;34m,\u001b[0m \u001b[0my_test\u001b[0m\u001b[0;34m,\u001b[0m \u001b[0mverbose\u001b[0m\u001b[0;34m=\u001b[0m\u001b[0;36m0\u001b[0m\u001b[0;34m)\u001b[0m\u001b[0;34m\u001b[0m\u001b[0;34m\u001b[0m\u001b[0m\n\u001b[1;32m      3\u001b[0m \u001b[0mprint\u001b[0m\u001b[0;34m(\u001b[0m\u001b[0;34m'Train: %.3f, Test: %.3f'\u001b[0m \u001b[0;34m%\u001b[0m \u001b[0;34m(\u001b[0m\u001b[0mtrain_acc\u001b[0m\u001b[0;34m,\u001b[0m \u001b[0mtest_acc\u001b[0m\u001b[0;34m)\u001b[0m\u001b[0;34m)\u001b[0m\u001b[0;34m\u001b[0m\u001b[0;34m\u001b[0m\u001b[0m\n\u001b[1;32m      4\u001b[0m \u001b[0;34m\u001b[0m\u001b[0m\n\u001b[1;32m      5\u001b[0m \u001b[0;31m# summarize history for loss\u001b[0m\u001b[0;34m\u001b[0m\u001b[0;34m\u001b[0m\u001b[0;34m\u001b[0m\u001b[0m\n",
      "\u001b[0;31mValueError\u001b[0m: too many values to unpack (expected 2)"
     ]
    }
   ],
   "source": [
    "_, train_acc = model1.evaluate(x_train, y_train, verbose=0)\n",
    "_, test_acc = model1.evaluate(x_test, y_test, verbose=0)\n",
    "print('Train: %.3f, Test: %.3f' % (train_acc, test_acc))\n",
    "\n",
    "# summarize history for loss\n",
    "plt.plot(model_fit8.history['loss'])\n",
    "plt.plot(model_fit8.history['val_loss'])\n",
    "plt.title('Model Loss',fontweight ='bold',fontsize = 15)\n",
    "plt.ylabel('Loss',fontweight ='bold',fontsize = 15)\n",
    "plt.xlabel('Epoch',fontweight ='bold',fontsize = 15)\n",
    "plt.legend(['Train', 'Test'], loc='upper left')\n",
    "plt.show()\n",
    "\n",
    "# summarize history for accuracy\n",
    "plt.plot(model_fit8.history['accuracy'])\n",
    "plt.plot(model_fit8.history['val_accuracy'])\n",
    "plt.title('Model accuracy',fontweight ='bold',fontsize = 15)\n",
    "plt.ylabel('Accuracy',fontweight ='bold',fontsize = 15)\n",
    "plt.xlabel('Epoch',fontweight ='bold',fontsize = 15)\n",
    "plt.legend(['Train', 'Test'], loc='upper left')\n",
    "plt.show()"
   ]
  },
  {
   "cell_type": "code",
   "execution_count": null,
   "id": "265bcbd2",
   "metadata": {},
   "outputs": [],
   "source": []
  }
 ],
 "metadata": {
  "kernelspec": {
   "display_name": "Python 3",
   "language": "python",
   "name": "python3"
  },
  "language_info": {
   "codemirror_mode": {
    "name": "ipython",
    "version": 3
   },
   "file_extension": ".py",
   "mimetype": "text/x-python",
   "name": "python",
   "nbconvert_exporter": "python",
   "pygments_lexer": "ipython3",
   "version": "3.6.15"
  }
 },
 "nbformat": 4,
 "nbformat_minor": 5
}
