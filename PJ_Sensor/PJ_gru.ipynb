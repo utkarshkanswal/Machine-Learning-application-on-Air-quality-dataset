{
 "cells": [
  {
   "cell_type": "code",
   "execution_count": 2,
   "id": "877c2677",
   "metadata": {},
   "outputs": [
    {
     "data": {
      "text/plain": [
       "[PhysicalDevice(name='/physical_device:CPU:0', device_type='CPU'),\n",
       " PhysicalDevice(name='/physical_device:GPU:0', device_type='GPU')]"
      ]
     },
     "execution_count": 2,
     "metadata": {},
     "output_type": "execute_result"
    }
   ],
   "source": [
    "import tensorflow as tf\n",
    "tf.config.experimental.list_physical_devices()"
   ]
  },
  {
   "cell_type": "code",
   "execution_count": 3,
   "id": "1c059e76",
   "metadata": {},
   "outputs": [
    {
     "data": {
      "text/plain": [
       "True"
      ]
     },
     "execution_count": 3,
     "metadata": {},
     "output_type": "execute_result"
    }
   ],
   "source": [
    "tf.test.is_built_with_cuda()"
   ]
  },
  {
   "cell_type": "markdown",
   "id": "96739d01",
   "metadata": {},
   "source": [
    "# Importing Libraries"
   ]
  },
  {
   "cell_type": "code",
   "execution_count": 1,
   "id": "a0397420",
   "metadata": {},
   "outputs": [],
   "source": [
    "import numpy as np\n",
    "import pandas as pd\n",
    "from matplotlib import pyplot as plt\n",
    "import os.path as op\n",
    "import pickle"
   ]
  },
  {
   "cell_type": "code",
   "execution_count": 2,
   "id": "e8cc09ab",
   "metadata": {},
   "outputs": [],
   "source": [
    "import tensorflow as tf\n",
    "from tensorflow import keras\n",
    "from keras.models import Model,Sequential,load_model\n",
    "from keras.layers import Input, Embedding\n",
    "from keras.layers import Dense, Bidirectional\n",
    "from keras.layers.recurrent import LSTM\n",
    "import keras.metrics as metrics\n",
    "import itertools\n",
    "from tensorflow.python.keras.utils.data_utils import Sequence\n",
    "from decimal import Decimal\n",
    "from keras import backend as K\n",
    "from keras.layers import Conv1D,MaxPooling1D,Flatten,Dense"
   ]
  },
  {
   "cell_type": "markdown",
   "id": "b7f9474e",
   "metadata": {},
   "source": [
    "# Data Fetching"
   ]
  },
  {
   "cell_type": "code",
   "execution_count": 3,
   "id": "cc06c8d1",
   "metadata": {},
   "outputs": [],
   "source": [
    "inp=pd.read_csv(\"PJ sensor.csv\",usecols=[6,7,10,11])\n",
    "out=pd.read_csv(\"PJ sensor.csv\",usecols=[2,3,4,5,8,9])"
   ]
  },
  {
   "cell_type": "code",
   "execution_count": 4,
   "id": "010d86fc",
   "metadata": {},
   "outputs": [
    {
     "data": {
      "text/html": [
       "<div>\n",
       "<style scoped>\n",
       "    .dataframe tbody tr th:only-of-type {\n",
       "        vertical-align: middle;\n",
       "    }\n",
       "\n",
       "    .dataframe tbody tr th {\n",
       "        vertical-align: top;\n",
       "    }\n",
       "\n",
       "    .dataframe thead th {\n",
       "        text-align: right;\n",
       "    }\n",
       "</style>\n",
       "<table border=\"1\" class=\"dataframe\">\n",
       "  <thead>\n",
       "    <tr style=\"text-align: right;\">\n",
       "      <th></th>\n",
       "      <th>Temperature</th>\n",
       "      <th>Relative Humidity</th>\n",
       "      <th>date</th>\n",
       "      <th>Time</th>\n",
       "    </tr>\n",
       "  </thead>\n",
       "  <tbody>\n",
       "    <tr>\n",
       "      <th>0</th>\n",
       "      <td>31</td>\n",
       "      <td>65</td>\n",
       "      <td>191213</td>\n",
       "      <td>175844</td>\n",
       "    </tr>\n",
       "    <tr>\n",
       "      <th>1</th>\n",
       "      <td>31</td>\n",
       "      <td>65</td>\n",
       "      <td>191213</td>\n",
       "      <td>175904</td>\n",
       "    </tr>\n",
       "    <tr>\n",
       "      <th>2</th>\n",
       "      <td>31</td>\n",
       "      <td>65</td>\n",
       "      <td>191213</td>\n",
       "      <td>175924</td>\n",
       "    </tr>\n",
       "    <tr>\n",
       "      <th>3</th>\n",
       "      <td>31</td>\n",
       "      <td>65</td>\n",
       "      <td>191213</td>\n",
       "      <td>175944</td>\n",
       "    </tr>\n",
       "    <tr>\n",
       "      <th>4</th>\n",
       "      <td>31</td>\n",
       "      <td>66</td>\n",
       "      <td>191213</td>\n",
       "      <td>180004</td>\n",
       "    </tr>\n",
       "  </tbody>\n",
       "</table>\n",
       "</div>"
      ],
      "text/plain": [
       "   Temperature  Relative Humidity    date    Time\n",
       "0           31                 65  191213  175844\n",
       "1           31                 65  191213  175904\n",
       "2           31                 65  191213  175924\n",
       "3           31                 65  191213  175944\n",
       "4           31                 66  191213  180004"
      ]
     },
     "execution_count": 4,
     "metadata": {},
     "output_type": "execute_result"
    }
   ],
   "source": [
    "inp.head(5)"
   ]
  },
  {
   "cell_type": "code",
   "execution_count": 5,
   "id": "b391fbf9",
   "metadata": {},
   "outputs": [
    {
     "data": {
      "text/html": [
       "<div>\n",
       "<style scoped>\n",
       "    .dataframe tbody tr th:only-of-type {\n",
       "        vertical-align: middle;\n",
       "    }\n",
       "\n",
       "    .dataframe tbody tr th {\n",
       "        vertical-align: top;\n",
       "    }\n",
       "\n",
       "    .dataframe thead th {\n",
       "        text-align: right;\n",
       "    }\n",
       "</style>\n",
       "<table border=\"1\" class=\"dataframe\">\n",
       "  <thead>\n",
       "    <tr style=\"text-align: right;\">\n",
       "      <th></th>\n",
       "      <th>NO2</th>\n",
       "      <th>O3</th>\n",
       "      <th>CO</th>\n",
       "      <th>SO2</th>\n",
       "      <th>PM2.5</th>\n",
       "      <th>PM10</th>\n",
       "    </tr>\n",
       "  </thead>\n",
       "  <tbody>\n",
       "    <tr>\n",
       "      <th>0</th>\n",
       "      <td>-15.075377</td>\n",
       "      <td>35.714286</td>\n",
       "      <td>1766.233766</td>\n",
       "      <td>148.484848</td>\n",
       "      <td>11.229150</td>\n",
       "      <td>17.323938</td>\n",
       "    </tr>\n",
       "    <tr>\n",
       "      <th>1</th>\n",
       "      <td>-20.100503</td>\n",
       "      <td>41.208791</td>\n",
       "      <td>1733.766234</td>\n",
       "      <td>142.424242</td>\n",
       "      <td>9.413914</td>\n",
       "      <td>24.967407</td>\n",
       "    </tr>\n",
       "    <tr>\n",
       "      <th>2</th>\n",
       "      <td>-15.075377</td>\n",
       "      <td>43.956044</td>\n",
       "      <td>1711.038961</td>\n",
       "      <td>136.363636</td>\n",
       "      <td>10.350110</td>\n",
       "      <td>56.781536</td>\n",
       "    </tr>\n",
       "    <tr>\n",
       "      <th>3</th>\n",
       "      <td>0.000000</td>\n",
       "      <td>57.692308</td>\n",
       "      <td>1688.311688</td>\n",
       "      <td>139.393939</td>\n",
       "      <td>10.488765</td>\n",
       "      <td>30.371115</td>\n",
       "    </tr>\n",
       "    <tr>\n",
       "      <th>4</th>\n",
       "      <td>-20.100503</td>\n",
       "      <td>54.945055</td>\n",
       "      <td>1681.818182</td>\n",
       "      <td>130.303030</td>\n",
       "      <td>12.353048</td>\n",
       "      <td>188.026886</td>\n",
       "    </tr>\n",
       "  </tbody>\n",
       "</table>\n",
       "</div>"
      ],
      "text/plain": [
       "         NO2         O3           CO         SO2      PM2.5        PM10\n",
       "0 -15.075377  35.714286  1766.233766  148.484848  11.229150   17.323938\n",
       "1 -20.100503  41.208791  1733.766234  142.424242   9.413914   24.967407\n",
       "2 -15.075377  43.956044  1711.038961  136.363636  10.350110   56.781536\n",
       "3   0.000000  57.692308  1688.311688  139.393939  10.488765   30.371115\n",
       "4 -20.100503  54.945055  1681.818182  130.303030  12.353048  188.026886"
      ]
     },
     "execution_count": 5,
     "metadata": {},
     "output_type": "execute_result"
    }
   ],
   "source": [
    "out.head(5)"
   ]
  },
  {
   "cell_type": "code",
   "execution_count": 6,
   "id": "444880a7",
   "metadata": {},
   "outputs": [],
   "source": [
    "inp=np.array(inp)\n",
    "out=np.array(out)"
   ]
  },
  {
   "cell_type": "markdown",
   "id": "78ca5e86",
   "metadata": {},
   "source": [
    "# Min Max Scaler"
   ]
  },
  {
   "cell_type": "code",
   "execution_count": 7,
   "id": "41ae9a8a",
   "metadata": {},
   "outputs": [],
   "source": [
    "from sklearn.preprocessing import MinMaxScaler\n",
    "import warnings\n",
    "scaler_obj=MinMaxScaler()\n",
    "X1=scaler_obj.fit_transform(inp)\n",
    "Y1=scaler_obj.fit_transform(out)\n",
    "\n",
    "warnings.filterwarnings(action='ignore', category=UserWarning)\n",
    "\n",
    "X1=X1[:,np.newaxis,:]\n",
    "Y1=Y1[:,np.newaxis,:]"
   ]
  },
  {
   "cell_type": "code",
   "execution_count": 8,
   "id": "da37491b",
   "metadata": {},
   "outputs": [],
   "source": [
    "def rmse(y_true, y_pred):\n",
    "    return K.sqrt(K.mean(K.square(y_pred - y_true), axis=-1))\n",
    "\n",
    "def coeff_determination(y_true, y_pred):\n",
    "    SS_res =  K.sum(K.square( y_true-y_pred )) \n",
    "    SS_tot = K.sum(K.square( y_true - K.mean(y_true) ) ) \n",
    "    return ( 1 - SS_res/(SS_tot + K.epsilon()) )"
   ]
  },
  {
   "cell_type": "code",
   "execution_count": 9,
   "id": "5baa529e",
   "metadata": {},
   "outputs": [
    {
     "data": {
      "text/plain": [
       "(1627533, 1, 6)"
      ]
     },
     "execution_count": 9,
     "metadata": {},
     "output_type": "execute_result"
    }
   ],
   "source": [
    "Y1.shape"
   ]
  },
  {
   "cell_type": "markdown",
   "id": "b1edf627",
   "metadata": {},
   "source": [
    "# Model"
   ]
  },
  {
   "cell_type": "code",
   "execution_count": 11,
   "id": "d05d8053",
   "metadata": {},
   "outputs": [
    {
     "name": "stdout",
     "output_type": "stream",
     "text": [
      "Model: \"sequential_1\"\n",
      "_________________________________________________________________\n",
      "Layer (type)                 Output Shape              Param #   \n",
      "=================================================================\n",
      "gru_1 (GRU)                  (None, 6)                 216       \n",
      "_________________________________________________________________\n",
      "dropout_1 (Dropout)          (None, 6)                 0         \n",
      "_________________________________________________________________\n",
      "dense_1 (Dense)              (None, 6)                 42        \n",
      "_________________________________________________________________\n",
      "batch_normalization_1 (Batch (None, 6)                 24        \n",
      "_________________________________________________________________\n",
      "re_lu_1 (ReLU)               (None, 6)                 0         \n",
      "=================================================================\n",
      "Total params: 282\n",
      "Trainable params: 270\n",
      "Non-trainable params: 12\n",
      "_________________________________________________________________\n"
     ]
    }
   ],
   "source": [
    "model1 = Sequential()\n",
    "model1.add(keras.Input(shape=(1,4)))\n",
    "model1.add(tf.keras.layers.GRU(6,activation=\"relu\",use_bias=True,kernel_initializer=\"glorot_uniform\",bias_initializer=\"zeros\", \n",
    "                                kernel_regularizer=keras.regularizers.l1_l2(l1=1e-5, l2=1e-4),\n",
    "                                bias_regularizer=keras.regularizers.l2(1e-4),\n",
    "                                activity_regularizer=keras.regularizers.l2(1e-5)))\n",
    "model1.add(keras.layers.Dropout(.1))\n",
    "model1.add(Dense(6))\n",
    "model1.add(keras.layers.BatchNormalization(axis=-1,momentum=0.99,epsilon=0.001,center=True,scale=True,\n",
    "                                beta_initializer=\"zeros\",gamma_initializer=\"ones\",\n",
    "                                moving_mean_initializer=\"zeros\",moving_variance_initializer=\"ones\",trainable=True))\n",
    "model1.add(keras.layers.ReLU())\n",
    "model1.compile(optimizer=keras.optimizers.Adam(learning_rate=1e-5),loss='mse',metrics=['accuracy','mse','mae',rmse])\n",
    "model1.summary()"
   ]
  },
  {
   "cell_type": "code",
   "execution_count": 12,
   "id": "fb37916d",
   "metadata": {},
   "outputs": [
    {
     "name": "stdout",
     "output_type": "stream",
     "text": [
      "Epoch 1/50\n",
      "537/537 [==============================] - 150s 278ms/step - loss: 0.2543 - accuracy: 0.0565 - mse: 0.2535 - mae: 0.3347 - rmse: 0.4476 - val_loss: 0.0868 - val_accuracy: 0.0992 - val_mse: 0.0860 - val_mae: 0.2113 - val_rmse: 0.2883\n",
      "Epoch 2/50\n",
      "537/537 [==============================] - 145s 269ms/step - loss: 0.2332 - accuracy: 0.0630 - mse: 0.2324 - mae: 0.3229 - rmse: 0.4334 - val_loss: 0.1265 - val_accuracy: 0.0913 - val_mse: 0.1257 - val_mae: 0.2559 - val_rmse: 0.3367\n",
      "Epoch 3/50\n",
      "537/537 [==============================] - 145s 270ms/step - loss: 0.2135 - accuracy: 0.0839 - mse: 0.2127 - mae: 0.3105 - rmse: 0.4189 - val_loss: 0.1206 - val_accuracy: 0.1064 - val_mse: 0.1198 - val_mae: 0.2512 - val_rmse: 0.3315\n",
      "Epoch 4/50\n",
      "537/537 [==============================] - 146s 271ms/step - loss: 0.1954 - accuracy: 0.1056 - mse: 0.1946 - mae: 0.2985 - rmse: 0.4043 - val_loss: 0.1142 - val_accuracy: 0.1315 - val_mse: 0.1134 - val_mae: 0.2452 - val_rmse: 0.3250\n",
      "Epoch 5/50\n",
      "537/537 [==============================] - 143s 267ms/step - loss: 0.1784 - accuracy: 0.1264 - mse: 0.1776 - mae: 0.2863 - rmse: 0.3890 - val_loss: 0.1071 - val_accuracy: 0.1511 - val_mse: 0.1063 - val_mae: 0.2375 - val_rmse: 0.3167\n",
      "Epoch 6/50\n",
      "537/537 [==============================] - 143s 267ms/step - loss: 0.1625 - accuracy: 0.1511 - mse: 0.1617 - mae: 0.2737 - rmse: 0.3731 - val_loss: 0.1000 - val_accuracy: 0.1697 - val_mse: 0.0993 - val_mae: 0.2300 - val_rmse: 0.3075\n",
      "Epoch 7/50\n",
      "537/537 [==============================] - 143s 267ms/step - loss: 0.1475 - accuracy: 0.1822 - mse: 0.1467 - mae: 0.2616 - rmse: 0.3563 - val_loss: 0.0924 - val_accuracy: 0.1926 - val_mse: 0.0916 - val_mae: 0.2220 - val_rmse: 0.2962\n",
      "Epoch 8/50\n",
      "537/537 [==============================] - 143s 267ms/step - loss: 0.1340 - accuracy: 0.2249 - mse: 0.1333 - mae: 0.2504 - rmse: 0.3400 - val_loss: 0.0861 - val_accuracy: 0.2253 - val_mse: 0.0853 - val_mae: 0.2152 - val_rmse: 0.2863\n",
      "Epoch 9/50\n",
      "537/537 [==============================] - 143s 266ms/step - loss: 0.1222 - accuracy: 0.2783 - mse: 0.1214 - mae: 0.2400 - rmse: 0.3250 - val_loss: 0.0803 - val_accuracy: 0.2769 - val_mse: 0.0795 - val_mae: 0.2076 - val_rmse: 0.2763\n",
      "Epoch 10/50\n",
      "537/537 [==============================] - 143s 267ms/step - loss: 0.1118 - accuracy: 0.3406 - mse: 0.1110 - mae: 0.2299 - rmse: 0.3112 - val_loss: 0.0753 - val_accuracy: 0.3593 - val_mse: 0.0745 - val_mae: 0.2000 - val_rmse: 0.2674\n",
      "Epoch 11/50\n",
      "537/537 [==============================] - 143s 266ms/step - loss: 0.1028 - accuracy: 0.3694 - mse: 0.1020 - mae: 0.2205 - rmse: 0.2989 - val_loss: 0.0707 - val_accuracy: 0.3803 - val_mse: 0.0700 - val_mae: 0.1926 - val_rmse: 0.2589\n",
      "Epoch 12/50\n",
      "537/537 [==============================] - 143s 266ms/step - loss: 0.0948 - accuracy: 0.3835 - mse: 0.0940 - mae: 0.2115 - rmse: 0.2879 - val_loss: 0.0673 - val_accuracy: 0.4024 - val_mse: 0.0665 - val_mae: 0.1864 - val_rmse: 0.2523\n",
      "Epoch 13/50\n",
      "537/537 [==============================] - 143s 266ms/step - loss: 0.0875 - accuracy: 0.3964 - mse: 0.0867 - mae: 0.2028 - rmse: 0.2775 - val_loss: 0.0635 - val_accuracy: 0.4260 - val_mse: 0.0627 - val_mae: 0.1792 - val_rmse: 0.2448\n",
      "Epoch 14/50\n",
      "537/537 [==============================] - 143s 266ms/step - loss: 0.0809 - accuracy: 0.4120 - mse: 0.0802 - mae: 0.1944 - rmse: 0.2678 - val_loss: 0.0607 - val_accuracy: 0.4449 - val_mse: 0.0600 - val_mae: 0.1738 - val_rmse: 0.2395\n",
      "Epoch 15/50\n",
      "537/537 [==============================] - 144s 267ms/step - loss: 0.0749 - accuracy: 0.4305 - mse: 0.0742 - mae: 0.1863 - rmse: 0.2584 - val_loss: 0.0569 - val_accuracy: 0.4825 - val_mse: 0.0562 - val_mae: 0.1659 - val_rmse: 0.2315\n",
      "Epoch 16/50\n",
      "537/537 [==============================] - 144s 268ms/step - loss: 0.0694 - accuracy: 0.4516 - mse: 0.0686 - mae: 0.1783 - rmse: 0.2492 - val_loss: 0.0540 - val_accuracy: 0.5137 - val_mse: 0.0532 - val_mae: 0.1596 - val_rmse: 0.2254\n",
      "Epoch 17/50\n",
      "537/537 [==============================] - 143s 266ms/step - loss: 0.0642 - accuracy: 0.4742 - mse: 0.0635 - mae: 0.1705 - rmse: 0.2402 - val_loss: 0.0513 - val_accuracy: 0.5318 - val_mse: 0.0506 - val_mae: 0.1540 - val_rmse: 0.2197\n",
      "Epoch 18/50\n",
      "537/537 [==============================] - 144s 267ms/step - loss: 0.0594 - accuracy: 0.4982 - mse: 0.0587 - mae: 0.1626 - rmse: 0.2311 - val_loss: 0.0480 - val_accuracy: 0.5647 - val_mse: 0.0473 - val_mae: 0.1465 - val_rmse: 0.2121\n",
      "Epoch 19/50\n",
      "537/537 [==============================] - 148s 275ms/step - loss: 0.0550 - accuracy: 0.5201 - mse: 0.0543 - mae: 0.1549 - rmse: 0.2221 - val_loss: 0.0453 - val_accuracy: 0.5836 - val_mse: 0.0446 - val_mae: 0.1405 - val_rmse: 0.2056\n",
      "Epoch 20/50\n",
      "537/537 [==============================] - 154s 287ms/step - loss: 0.0508 - accuracy: 0.5585 - mse: 0.0501 - mae: 0.1477 - rmse: 0.2130 - val_loss: 0.0429 - val_accuracy: 0.6047 - val_mse: 0.0422 - val_mae: 0.1353 - val_rmse: 0.1992\n",
      "Epoch 21/50\n",
      "537/537 [==============================] - 189s 353ms/step - loss: 0.0470 - accuracy: 0.7143 - mse: 0.0463 - mae: 0.1410 - rmse: 0.2038 - val_loss: 0.0407 - val_accuracy: 0.7360 - val_mse: 0.0400 - val_mae: 0.1310 - val_rmse: 0.1928\n",
      "Epoch 22/50\n",
      "537/537 [==============================] - 153s 286ms/step - loss: 0.0435 - accuracy: 0.7316 - mse: 0.0428 - mae: 0.1346 - rmse: 0.1945 - val_loss: 0.0382 - val_accuracy: 0.7464 - val_mse: 0.0375 - val_mae: 0.1249 - val_rmse: 0.1848\n",
      "Epoch 23/50\n",
      "537/537 [==============================] - 152s 283ms/step - loss: 0.0404 - accuracy: 0.7447 - mse: 0.0397 - mae: 0.1282 - rmse: 0.1855 - val_loss: 0.0361 - val_accuracy: 0.7529 - val_mse: 0.0354 - val_mae: 0.1202 - val_rmse: 0.1775\n",
      "Epoch 24/50\n",
      "537/537 [==============================] - 145s 269ms/step - loss: 0.0377 - accuracy: 0.7572 - mse: 0.0370 - mae: 0.1221 - rmse: 0.1772 - val_loss: 0.0344 - val_accuracy: 0.7627 - val_mse: 0.0337 - val_mae: 0.1151 - val_rmse: 0.1709\n",
      "Epoch 25/50\n",
      "537/537 [==============================] - 146s 271ms/step - loss: 0.0354 - accuracy: 0.7676 - mse: 0.0347 - mae: 0.1165 - rmse: 0.1696 - val_loss: 0.0329 - val_accuracy: 0.7703 - val_mse: 0.0322 - val_mae: 0.1108 - val_rmse: 0.1645\n",
      "Epoch 26/50\n",
      "537/537 [==============================] - 146s 272ms/step - loss: 0.0332 - accuracy: 0.7770 - mse: 0.0326 - mae: 0.1114 - rmse: 0.1616 - val_loss: 0.0316 - val_accuracy: 0.7783 - val_mse: 0.0310 - val_mae: 0.1072 - val_rmse: 0.1570\n",
      "Epoch 27/50\n",
      "537/537 [==============================] - 145s 271ms/step - loss: 0.0308 - accuracy: 0.7791 - mse: 0.0302 - mae: 0.1063 - rmse: 0.1522 - val_loss: 0.0301 - val_accuracy: 0.7733 - val_mse: 0.0295 - val_mae: 0.1028 - val_rmse: 0.1499\n",
      "Epoch 28/50\n",
      "537/537 [==============================] - 145s 270ms/step - loss: 0.0287 - accuracy: 0.7810 - mse: 0.0281 - mae: 0.1002 - rmse: 0.1437 - val_loss: 0.0280 - val_accuracy: 0.7715 - val_mse: 0.0274 - val_mae: 0.0967 - val_rmse: 0.1411\n",
      "Epoch 29/50\n",
      "537/537 [==============================] - 145s 270ms/step - loss: 0.0269 - accuracy: 0.7846 - mse: 0.0263 - mae: 0.0941 - rmse: 0.1366 - val_loss: 0.0271 - val_accuracy: 0.7726 - val_mse: 0.0265 - val_mae: 0.0926 - val_rmse: 0.1371\n",
      "Epoch 30/50\n",
      "537/537 [==============================] - 145s 271ms/step - loss: 0.0255 - accuracy: 0.7883 - mse: 0.0249 - mae: 0.0886 - rmse: 0.1306 - val_loss: 0.0256 - val_accuracy: 0.7742 - val_mse: 0.0250 - val_mae: 0.0868 - val_rmse: 0.1304\n",
      "Epoch 31/50\n",
      "537/537 [==============================] - 145s 271ms/step - loss: 0.0243 - accuracy: 0.7918 - mse: 0.0237 - mae: 0.0842 - rmse: 0.1257 - val_loss: 0.0247 - val_accuracy: 0.7767 - val_mse: 0.0241 - val_mae: 0.0834 - val_rmse: 0.1266\n",
      "Epoch 32/50\n",
      "537/537 [==============================] - 145s 271ms/step - loss: 0.0233 - accuracy: 0.7951 - mse: 0.0227 - mae: 0.0807 - rmse: 0.1216 - val_loss: 0.0235 - val_accuracy: 0.7785 - val_mse: 0.0229 - val_mae: 0.0794 - val_rmse: 0.1211\n",
      "Epoch 33/50\n",
      "537/537 [==============================] - 145s 270ms/step - loss: 0.0225 - accuracy: 0.7978 - mse: 0.0219 - mae: 0.0778 - rmse: 0.1178 - val_loss: 0.0231 - val_accuracy: 0.7827 - val_mse: 0.0225 - val_mae: 0.0780 - val_rmse: 0.1197\n",
      "Epoch 34/50\n"
     ]
    },
    {
     "name": "stdout",
     "output_type": "stream",
     "text": [
      "537/537 [==============================] - 144s 268ms/step - loss: 0.0217 - accuracy: 0.8008 - mse: 0.0211 - mae: 0.0751 - rmse: 0.1141 - val_loss: 0.0222 - val_accuracy: 0.7862 - val_mse: 0.0216 - val_mae: 0.0747 - val_rmse: 0.1149\n",
      "Epoch 35/50\n",
      "537/537 [==============================] - 144s 269ms/step - loss: 0.0209 - accuracy: 0.8046 - mse: 0.0203 - mae: 0.0727 - rmse: 0.1108 - val_loss: 0.0214 - val_accuracy: 0.7905 - val_mse: 0.0208 - val_mae: 0.0722 - val_rmse: 0.1112\n",
      "Epoch 36/50\n",
      "537/537 [==============================] - 144s 269ms/step - loss: 0.0202 - accuracy: 0.8086 - mse: 0.0196 - mae: 0.0705 - rmse: 0.1075 - val_loss: 0.0208 - val_accuracy: 0.7949 - val_mse: 0.0202 - val_mae: 0.0706 - val_rmse: 0.1087\n",
      "Epoch 37/50\n",
      "537/537 [==============================] - 145s 269ms/step - loss: 0.0195 - accuracy: 0.8133 - mse: 0.0189 - mae: 0.0685 - rmse: 0.1045 - val_loss: 0.0203 - val_accuracy: 0.7999 - val_mse: 0.0197 - val_mae: 0.0692 - val_rmse: 0.1067\n",
      "Epoch 38/50\n",
      "537/537 [==============================] - 144s 269ms/step - loss: 0.0188 - accuracy: 0.8175 - mse: 0.0183 - mae: 0.0664 - rmse: 0.1013 - val_loss: 0.0195 - val_accuracy: 0.8038 - val_mse: 0.0189 - val_mae: 0.0668 - val_rmse: 0.1027\n",
      "Epoch 39/50\n",
      "537/537 [==============================] - 144s 269ms/step - loss: 0.0182 - accuracy: 0.8223 - mse: 0.0176 - mae: 0.0646 - rmse: 0.0985 - val_loss: 0.0189 - val_accuracy: 0.8079 - val_mse: 0.0184 - val_mae: 0.0651 - val_rmse: 0.1000\n",
      "Epoch 40/50\n",
      "537/537 [==============================] - 144s 269ms/step - loss: 0.0176 - accuracy: 0.8265 - mse: 0.0170 - mae: 0.0628 - rmse: 0.0957 - val_loss: 0.0181 - val_accuracy: 0.8135 - val_mse: 0.0176 - val_mae: 0.0626 - val_rmse: 0.0961\n",
      "Epoch 41/50\n",
      "537/537 [==============================] - 145s 269ms/step - loss: 0.0170 - accuracy: 0.8314 - mse: 0.0165 - mae: 0.0612 - rmse: 0.0931 - val_loss: 0.0177 - val_accuracy: 0.8188 - val_mse: 0.0172 - val_mae: 0.0620 - val_rmse: 0.0950\n",
      "Epoch 42/50\n",
      "537/537 [==============================] - 144s 269ms/step - loss: 0.0164 - accuracy: 0.8361 - mse: 0.0159 - mae: 0.0596 - rmse: 0.0905 - val_loss: 0.0171 - val_accuracy: 0.8224 - val_mse: 0.0166 - val_mae: 0.0600 - val_rmse: 0.0915\n",
      "Epoch 43/50\n",
      "537/537 [==============================] - 144s 269ms/step - loss: 0.0159 - accuracy: 0.8400 - mse: 0.0154 - mae: 0.0580 - rmse: 0.0880 - val_loss: 0.0165 - val_accuracy: 0.8271 - val_mse: 0.0160 - val_mae: 0.0581 - val_rmse: 0.0886\n",
      "Epoch 44/50\n",
      "537/537 [==============================] - 144s 269ms/step - loss: 0.0154 - accuracy: 0.8440 - mse: 0.0149 - mae: 0.0565 - rmse: 0.0855 - val_loss: 0.0159 - val_accuracy: 0.8310 - val_mse: 0.0154 - val_mae: 0.0563 - val_rmse: 0.0856\n",
      "Epoch 45/50\n",
      "537/537 [==============================] - 144s 269ms/step - loss: 0.0149 - accuracy: 0.8479 - mse: 0.0144 - mae: 0.0551 - rmse: 0.0833 - val_loss: 0.0156 - val_accuracy: 0.8362 - val_mse: 0.0152 - val_mae: 0.0563 - val_rmse: 0.0855\n",
      "Epoch 46/50\n",
      "537/537 [==============================] - 144s 269ms/step - loss: 0.0144 - accuracy: 0.8529 - mse: 0.0139 - mae: 0.0542 - rmse: 0.0816 - val_loss: 0.0151 - val_accuracy: 0.8413 - val_mse: 0.0147 - val_mae: 0.0556 - val_rmse: 0.0841\n",
      "Epoch 47/50\n",
      "537/537 [==============================] - 145s 269ms/step - loss: 0.0139 - accuracy: 0.8578 - mse: 0.0134 - mae: 0.0530 - rmse: 0.0797 - val_loss: 0.0143 - val_accuracy: 0.8472 - val_mse: 0.0139 - val_mae: 0.0529 - val_rmse: 0.0799\n",
      "Epoch 48/50\n",
      "537/537 [==============================] - 144s 268ms/step - loss: 0.0134 - accuracy: 0.8630 - mse: 0.0129 - mae: 0.0518 - rmse: 0.0777 - val_loss: 0.0140 - val_accuracy: 0.8521 - val_mse: 0.0136 - val_mae: 0.0525 - val_rmse: 0.0793\n",
      "Epoch 49/50\n",
      "537/537 [==============================] - 144s 268ms/step - loss: 0.0129 - accuracy: 0.8677 - mse: 0.0125 - mae: 0.0504 - rmse: 0.0753 - val_loss: 0.0136 - val_accuracy: 0.8571 - val_mse: 0.0132 - val_mae: 0.0511 - val_rmse: 0.0769\n",
      "Epoch 50/50\n",
      "537/537 [==============================] - 145s 269ms/step - loss: 0.0125 - accuracy: 0.8715 - mse: 0.0121 - mae: 0.0489 - rmse: 0.0730 - val_loss: 0.0131 - val_accuracy: 0.8614 - val_mse: 0.0127 - val_mae: 0.0492 - val_rmse: 0.0739\n"
     ]
    }
   ],
   "source": [
    "from sklearn.model_selection import train_test_split\n",
    "x_train, x_test, y_train, y_test = train_test_split(X1, Y1, test_size=0.25, random_state=42)\n",
    "\n",
    "model_fit8 = model1.fit(x_train,y_train,batch_size=2048,epochs=50, validation_split=0.1)"
   ]
  },
  {
   "cell_type": "markdown",
   "id": "05c03bc9",
   "metadata": {},
   "source": [
    "# Saving Model as File"
   ]
  },
  {
   "cell_type": "code",
   "execution_count": 14,
   "id": "feb6fe5c",
   "metadata": {},
   "outputs": [
    {
     "name": "stdout",
     "output_type": "stream",
     "text": [
      "Saved model to disk\n"
     ]
    }
   ],
   "source": [
    "model_json = model1.to_json()\n",
    "with open(\"Model_File/grupj.json\", \"w\") as json_file:\n",
    "    json_file.write(model_json)\n",
    "# serialize weights to HDF5\n",
    "model1.save_weights(\"Model_File/grupj.h5\")\n",
    "print(\"Saved model to disk\")"
   ]
  },
  {
   "cell_type": "code",
   "execution_count": 14,
   "id": "85c18be3",
   "metadata": {},
   "outputs": [
    {
     "name": "stdout",
     "output_type": "stream",
     "text": [
      "Loaded model from disk\n",
      "[0.05459023267030716, 0.02124212495982647, 0.05459020659327507, 0.05129491165280342, 0.12296319007873535, -2923.8349609375]\n"
     ]
    }
   ],
   "source": [
    "from keras.models import model_from_json\n",
    "json_file = open('lstmpj.json', 'r')\n",
    "loaded_model_json = json_file.read()\n",
    "json_file.close()\n",
    "loaded_model = model_from_json(loaded_model_json)\n",
    "# load weights into new model\n",
    "loaded_model.load_weights(\"lstmpj.h5\")\n",
    "print(\"Loaded model from disk\")\n",
    "loaded_model.compile(optimizer=keras.optimizers.Adam(learning_rate=0.001), loss='mse',metrics=['accuracy','mse','mae',rmse,coeff_determination])\n",
    "print(loaded_model.evaluate(x_train, y_train, verbose=0))"
   ]
  },
  {
   "cell_type": "markdown",
   "id": "eb75d6b3",
   "metadata": {},
   "source": [
    "# Error Analysis"
   ]
  },
  {
   "cell_type": "code",
   "execution_count": 15,
   "id": "ff6190cf",
   "metadata": {},
   "outputs": [
    {
     "ename": "ValueError",
     "evalue": "too many values to unpack (expected 2)",
     "output_type": "error",
     "traceback": [
      "\u001b[0;31m---------------------------------------------------------------------------\u001b[0m",
      "\u001b[0;31mValueError\u001b[0m                                Traceback (most recent call last)",
      "\u001b[0;32m<ipython-input-15-65982dcd2f74>\u001b[0m in \u001b[0;36m<module>\u001b[0;34m\u001b[0m\n\u001b[0;32m----> 1\u001b[0;31m \u001b[0m_\u001b[0m\u001b[0;34m,\u001b[0m \u001b[0mtrain_acc\u001b[0m \u001b[0;34m=\u001b[0m \u001b[0mmodel1\u001b[0m\u001b[0;34m.\u001b[0m\u001b[0mevaluate\u001b[0m\u001b[0;34m(\u001b[0m\u001b[0mx_train\u001b[0m\u001b[0;34m,\u001b[0m \u001b[0my_train\u001b[0m\u001b[0;34m,\u001b[0m \u001b[0mverbose\u001b[0m\u001b[0;34m=\u001b[0m\u001b[0;36m0\u001b[0m\u001b[0;34m)\u001b[0m\u001b[0;34m\u001b[0m\u001b[0;34m\u001b[0m\u001b[0m\n\u001b[0m\u001b[1;32m      2\u001b[0m \u001b[0m_\u001b[0m\u001b[0;34m,\u001b[0m \u001b[0mtest_acc\u001b[0m \u001b[0;34m=\u001b[0m \u001b[0mmodel1\u001b[0m\u001b[0;34m.\u001b[0m\u001b[0mevaluate\u001b[0m\u001b[0;34m(\u001b[0m\u001b[0mx_test\u001b[0m\u001b[0;34m,\u001b[0m \u001b[0my_test\u001b[0m\u001b[0;34m,\u001b[0m \u001b[0mverbose\u001b[0m\u001b[0;34m=\u001b[0m\u001b[0;36m0\u001b[0m\u001b[0;34m)\u001b[0m\u001b[0;34m\u001b[0m\u001b[0;34m\u001b[0m\u001b[0m\n\u001b[1;32m      3\u001b[0m \u001b[0mprint\u001b[0m\u001b[0;34m(\u001b[0m\u001b[0;34m'Train: %.3f, Test: %.3f'\u001b[0m \u001b[0;34m%\u001b[0m \u001b[0;34m(\u001b[0m\u001b[0mtrain_acc\u001b[0m\u001b[0;34m,\u001b[0m \u001b[0mtest_acc\u001b[0m\u001b[0;34m)\u001b[0m\u001b[0;34m)\u001b[0m\u001b[0;34m\u001b[0m\u001b[0;34m\u001b[0m\u001b[0m\n\u001b[1;32m      4\u001b[0m \u001b[0;34m\u001b[0m\u001b[0m\n\u001b[1;32m      5\u001b[0m \u001b[0;31m# summarize history for loss\u001b[0m\u001b[0;34m\u001b[0m\u001b[0;34m\u001b[0m\u001b[0;34m\u001b[0m\u001b[0m\n",
      "\u001b[0;31mValueError\u001b[0m: too many values to unpack (expected 2)"
     ]
    }
   ],
   "source": [
    "# _, train_acc = model1.evaluate(x_train, y_train, verbose=0)\n",
    "# _, test_acc = model1.evaluate(x_test, y_test, verbose=0)\n",
    "# print('Train: %.3f, Test: %.3f' % (train_acc, test_acc))\n",
    "\n",
    "# summarize history for loss\n",
    "plt.plot(model_fit8.history['loss'])\n",
    "plt.plot(model_fit8.history['val_loss'])\n",
    "plt.title('Model Loss',fontweight ='bold',fontsize = 15)\n",
    "plt.ylabel('Loss',fontweight ='bold',fontsize = 15)\n",
    "plt.xlabel('Epoch',fontweight ='bold',fontsize = 15)\n",
    "plt.legend(['Train', 'Test'], loc='upper left')\n",
    "plt.show()\n",
    "\n",
    "# summarize history for accuracy\n",
    "plt.plot(model_fit8.history['accuracy'])\n",
    "plt.plot(model_fit8.history['val_accuracy'])\n",
    "plt.title('Model accuracy',fontweight ='bold',fontsize = 15)\n",
    "plt.ylabel('Accuracy',fontweight ='bold',fontsize = 15)\n",
    "plt.xlabel('Epoch',fontweight ='bold',fontsize = 15)\n",
    "plt.legend(['Train', 'Test'], loc='upper left')\n",
    "plt.show()"
   ]
  },
  {
   "cell_type": "code",
   "execution_count": null,
   "id": "265bcbd2",
   "metadata": {},
   "outputs": [],
   "source": []
  }
 ],
 "metadata": {
  "kernelspec": {
   "display_name": "Python 3",
   "language": "python",
   "name": "python3"
  },
  "language_info": {
   "codemirror_mode": {
    "name": "ipython",
    "version": 3
   },
   "file_extension": ".py",
   "mimetype": "text/x-python",
   "name": "python",
   "nbconvert_exporter": "python",
   "pygments_lexer": "ipython3",
   "version": "3.6.15"
  }
 },
 "nbformat": 4,
 "nbformat_minor": 5
}
